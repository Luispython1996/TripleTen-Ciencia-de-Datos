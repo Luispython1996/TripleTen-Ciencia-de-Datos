{
 "cells": [
  {
   "cell_type": "markdown",
   "metadata": {},
   "source": [
    "# Hola Osvaldo! <a class=\"tocSkip\"></a>\n",
    "\n",
    "Mi nombre es Oscar Flores y tengo el gusto de revisar tu proyecto. Si tienes algún comentario que quieras agregar en tus respuestas te puedes referir a mi como Oscar, no hay problema que me trates de tú.\n",
    "\n",
    "Si veo un error en la primera revisión solamente lo señalaré y dejaré que tú encuentres de qué se trata y cómo arreglarlo. Debo prepararte para que te desempeñes como especialista en Data, en un trabajo real, el responsable a cargo tuyo hará lo mismo. Si aún tienes dificultades para resolver esta tarea, te daré indicaciones más precisas en una siguiente iteración.\n",
    "\n",
    "Te dejaré mis comentarios más abajo - **por favor, no los muevas, modifiques o borres**\n",
    "\n",
    "Comenzaré mis comentarios con un resumen de los puntos que están bien, aquellos que debes corregir y aquellos que puedes mejorar. Luego deberás revisar todo el notebook para leer mis comentarios, los cuales estarán en rectángulos de color verde, amarillo o rojo como siguen:\n",
    "\n",
    "<div class=\"alert alert-block alert-success\">\n",
    "<b>Comentario de Reviewer</b> <a class=\"tocSkip\"></a>\n",
    "    \n",
    "Muy bien! Toda la respuesta fue lograda satisfactoriamente.\n",
    "</div>\n",
    "\n",
    "<div class=\"alert alert-block alert-warning\">\n",
    "<b>Comentario de Reviewer</b> <a class=\"tocSkip\"></a>\n",
    "\n",
    "Existen detalles a mejorar. Existen recomendaciones.\n",
    "</div>\n",
    "\n",
    "<div class=\"alert alert-block alert-danger\">\n",
    "\n",
    "<b>Comentario de Reviewer</b> <a class=\"tocSkip\"></a>\n",
    "\n",
    "Se necesitan correcciones en el bloque. El trabajo no puede ser aceptado con comentarios en rojo sin solucionar.\n",
    "</div>\n",
    "\n",
    "Cualquier comentario que quieras agregar entre iteraciones de revisión lo puedes hacer de la siguiente manera:\n",
    "\n",
    "<div class=\"alert alert-block alert-info\">\n",
    "<b>Respuesta estudiante.</b> <a class=\"tocSkip\"></a>\n",
    "</div>\n",
    "\n",
    "Mucho éxito en el proyecto!"
   ]
  },
  {
   "cell_type": "markdown",
   "metadata": {},
   "source": [
    "## Resumen de la revisión 1 <a class=\"tocSkip\"></a>"
   ]
  },
  {
   "cell_type": "markdown",
   "metadata": {},
   "source": [
    "<div class=\"alert alert-block alert-danger\">\n",
    "<b>Comentario de Revisor</b> <a class=\"tocSkip\"></a>\n",
    "\n",
    "Buen trabajo Osvaldo. En general tu notebook está muy bien y completo, pero hay un par de errores en los cálculos de ganancia y en el bootstrapping que impiden obtener los resultados correctos. Te dejé indicaciones de cómo corregirlos, revísalas y realiza las modificaciones necesarias.\n",
    "    \n",
    "Saludos!    \n",
    "\n",
    "</div>"
   ]
  },
  {
   "cell_type": "markdown",
   "metadata": {},
   "source": [
    "## Resumen de la revisión 2 <a class=\"tocSkip\"></a>"
   ]
  },
  {
   "cell_type": "markdown",
   "metadata": {},
   "source": [
    "<div class=\"alert alert-block alert-danger\">\n",
    "<b>Comentario de Revisor v2</b> <a class=\"tocSkip\"></a>\n",
    "\n",
    "Bien hecho Osvaldo, tu notebook está casi terminado. Queda por corregiro un pequeño error en la ganancia y el bootstrapping, revisa los comentarios que dejé en esas secciones.\n",
    "    \n",
    "Saludos!    \n",
    "\n",
    "</div>"
   ]
  },
  {
   "cell_type": "markdown",
   "metadata": {},
   "source": [
    "## Resumen de la revisión 3 <a class=\"tocSkip\"></a>"
   ]
  },
  {
   "cell_type": "markdown",
   "metadata": {},
   "source": [
    "<div class=\"alert alert-block alert-success\">\n",
    "<b>Comentario de Revisor v3</b> <a class=\"tocSkip\"></a>\n",
    "\n",
    "Bien hecho, has completado correctamente todo lo necesario del notebook. No tengo comentarios de corrección adicionales, está aprobado.\n",
    "\n",
    "Saludos!\n",
    "\n",
    "</div>"
   ]
  },
  {
   "cell_type": "markdown",
   "metadata": {},
   "source": [
    "----"
   ]
  },
  {
   "cell_type": "markdown",
   "metadata": {},
   "source": [
    "# Proyecto de Predicción de Reservas: ¿Dónde invertir en nuevos pozos?"
   ]
  },
  {
   "cell_type": "markdown",
   "metadata": {},
   "source": [
    "Este proyecto tiene como objetivo ayudar a una empresa petrolera a decidir en qué región abrir nuevos pozos. Para lograrlo, se analizaron datos geológicos de tres posibles ubicaciones.\n",
    "\n",
    "La idea principal fue usar modelos de predicción para estimar el volumen de reservas en cada pozo, y luego calcular si invertir en esa región podría ser rentable.\n",
    "\n",
    "A lo largo del análisis, se prepararon los datos, se entrenaron modelos de predicción y se evaluaron los posibles beneficios económicos. También se consideraron los riesgos financieros, con el fin de tomar una decisión basada en datos."
   ]
  },
  {
   "cell_type": "markdown",
   "metadata": {},
   "source": [
    "# IMPORTACIÓN DE LIBRERIAS Y DATASETS"
   ]
  },
  {
   "cell_type": "code",
   "execution_count": 1,
   "metadata": {},
   "outputs": [],
   "source": [
    "# ======================\n",
    "# IMPORTACIÓN DE LIBRERÍAS\n",
    "# ======================\n",
    "import pandas as pd\n",
    "import numpy as np\n",
    "from sklearn.model_selection import train_test_split\n",
    "from sklearn.linear_model import LinearRegression\n",
    "from sklearn.metrics import mean_squared_error\n",
    "from numpy.random import RandomState"
   ]
  },
  {
   "cell_type": "code",
   "execution_count": 2,
   "metadata": {},
   "outputs": [],
   "source": [
    "# Cargar datos de las tres regiones\n",
    "data_0 = pd.read_csv('/datasets/geo_data_0.csv')\n",
    "data_1 = pd.read_csv('/datasets/geo_data_1.csv')\n",
    "data_2 = pd.read_csv('/datasets/geo_data_2.csv')\n",
    "\n"
   ]
  },
  {
   "cell_type": "markdown",
   "metadata": {},
   "source": [
    "# EXPLORACIÓN DE DATOS"
   ]
  },
  {
   "cell_type": "code",
   "execution_count": 3,
   "metadata": {},
   "outputs": [
    {
     "name": "stdout",
     "output_type": "stream",
     "text": [
      "--- Región 0---\n"
     ]
    },
    {
     "data": {
      "text/html": [
       "<div>\n",
       "<style scoped>\n",
       "    .dataframe tbody tr th:only-of-type {\n",
       "        vertical-align: middle;\n",
       "    }\n",
       "\n",
       "    .dataframe tbody tr th {\n",
       "        vertical-align: top;\n",
       "    }\n",
       "\n",
       "    .dataframe thead th {\n",
       "        text-align: right;\n",
       "    }\n",
       "</style>\n",
       "<table border=\"1\" class=\"dataframe\">\n",
       "  <thead>\n",
       "    <tr style=\"text-align: right;\">\n",
       "      <th></th>\n",
       "      <th>id</th>\n",
       "      <th>f0</th>\n",
       "      <th>f1</th>\n",
       "      <th>f2</th>\n",
       "      <th>product</th>\n",
       "    </tr>\n",
       "  </thead>\n",
       "  <tbody>\n",
       "    <tr>\n",
       "      <th>0</th>\n",
       "      <td>txEyH</td>\n",
       "      <td>0.705745</td>\n",
       "      <td>-0.497823</td>\n",
       "      <td>1.221170</td>\n",
       "      <td>105.280062</td>\n",
       "    </tr>\n",
       "    <tr>\n",
       "      <th>1</th>\n",
       "      <td>2acmU</td>\n",
       "      <td>1.334711</td>\n",
       "      <td>-0.340164</td>\n",
       "      <td>4.365080</td>\n",
       "      <td>73.037750</td>\n",
       "    </tr>\n",
       "    <tr>\n",
       "      <th>2</th>\n",
       "      <td>409Wp</td>\n",
       "      <td>1.022732</td>\n",
       "      <td>0.151990</td>\n",
       "      <td>1.419926</td>\n",
       "      <td>85.265647</td>\n",
       "    </tr>\n",
       "    <tr>\n",
       "      <th>3</th>\n",
       "      <td>iJLyR</td>\n",
       "      <td>-0.032172</td>\n",
       "      <td>0.139033</td>\n",
       "      <td>2.978566</td>\n",
       "      <td>168.620776</td>\n",
       "    </tr>\n",
       "    <tr>\n",
       "      <th>4</th>\n",
       "      <td>Xdl7t</td>\n",
       "      <td>1.988431</td>\n",
       "      <td>0.155413</td>\n",
       "      <td>4.751769</td>\n",
       "      <td>154.036647</td>\n",
       "    </tr>\n",
       "  </tbody>\n",
       "</table>\n",
       "</div>"
      ],
      "text/plain": [
       "      id        f0        f1        f2     product\n",
       "0  txEyH  0.705745 -0.497823  1.221170  105.280062\n",
       "1  2acmU  1.334711 -0.340164  4.365080   73.037750\n",
       "2  409Wp  1.022732  0.151990  1.419926   85.265647\n",
       "3  iJLyR -0.032172  0.139033  2.978566  168.620776\n",
       "4  Xdl7t  1.988431  0.155413  4.751769  154.036647"
      ]
     },
     "metadata": {},
     "output_type": "display_data"
    },
    {
     "name": "stdout",
     "output_type": "stream",
     "text": [
      "\n",
      "--- Región 1---\n"
     ]
    },
    {
     "data": {
      "text/html": [
       "<div>\n",
       "<style scoped>\n",
       "    .dataframe tbody tr th:only-of-type {\n",
       "        vertical-align: middle;\n",
       "    }\n",
       "\n",
       "    .dataframe tbody tr th {\n",
       "        vertical-align: top;\n",
       "    }\n",
       "\n",
       "    .dataframe thead th {\n",
       "        text-align: right;\n",
       "    }\n",
       "</style>\n",
       "<table border=\"1\" class=\"dataframe\">\n",
       "  <thead>\n",
       "    <tr style=\"text-align: right;\">\n",
       "      <th></th>\n",
       "      <th>id</th>\n",
       "      <th>f0</th>\n",
       "      <th>f1</th>\n",
       "      <th>f2</th>\n",
       "      <th>product</th>\n",
       "    </tr>\n",
       "  </thead>\n",
       "  <tbody>\n",
       "    <tr>\n",
       "      <th>0</th>\n",
       "      <td>kBEdx</td>\n",
       "      <td>-15.001348</td>\n",
       "      <td>-8.276000</td>\n",
       "      <td>-0.005876</td>\n",
       "      <td>3.179103</td>\n",
       "    </tr>\n",
       "    <tr>\n",
       "      <th>1</th>\n",
       "      <td>62mP7</td>\n",
       "      <td>14.272088</td>\n",
       "      <td>-3.475083</td>\n",
       "      <td>0.999183</td>\n",
       "      <td>26.953261</td>\n",
       "    </tr>\n",
       "    <tr>\n",
       "      <th>2</th>\n",
       "      <td>vyE1P</td>\n",
       "      <td>6.263187</td>\n",
       "      <td>-5.948386</td>\n",
       "      <td>5.001160</td>\n",
       "      <td>134.766305</td>\n",
       "    </tr>\n",
       "    <tr>\n",
       "      <th>3</th>\n",
       "      <td>KcrkZ</td>\n",
       "      <td>-13.081196</td>\n",
       "      <td>-11.506057</td>\n",
       "      <td>4.999415</td>\n",
       "      <td>137.945408</td>\n",
       "    </tr>\n",
       "    <tr>\n",
       "      <th>4</th>\n",
       "      <td>AHL4O</td>\n",
       "      <td>12.702195</td>\n",
       "      <td>-8.147433</td>\n",
       "      <td>5.004363</td>\n",
       "      <td>134.766305</td>\n",
       "    </tr>\n",
       "  </tbody>\n",
       "</table>\n",
       "</div>"
      ],
      "text/plain": [
       "      id         f0         f1        f2     product\n",
       "0  kBEdx -15.001348  -8.276000 -0.005876    3.179103\n",
       "1  62mP7  14.272088  -3.475083  0.999183   26.953261\n",
       "2  vyE1P   6.263187  -5.948386  5.001160  134.766305\n",
       "3  KcrkZ -13.081196 -11.506057  4.999415  137.945408\n",
       "4  AHL4O  12.702195  -8.147433  5.004363  134.766305"
      ]
     },
     "metadata": {},
     "output_type": "display_data"
    },
    {
     "name": "stdout",
     "output_type": "stream",
     "text": [
      "\n",
      "--- Región 2---\n"
     ]
    },
    {
     "data": {
      "text/html": [
       "<div>\n",
       "<style scoped>\n",
       "    .dataframe tbody tr th:only-of-type {\n",
       "        vertical-align: middle;\n",
       "    }\n",
       "\n",
       "    .dataframe tbody tr th {\n",
       "        vertical-align: top;\n",
       "    }\n",
       "\n",
       "    .dataframe thead th {\n",
       "        text-align: right;\n",
       "    }\n",
       "</style>\n",
       "<table border=\"1\" class=\"dataframe\">\n",
       "  <thead>\n",
       "    <tr style=\"text-align: right;\">\n",
       "      <th></th>\n",
       "      <th>id</th>\n",
       "      <th>f0</th>\n",
       "      <th>f1</th>\n",
       "      <th>f2</th>\n",
       "      <th>product</th>\n",
       "    </tr>\n",
       "  </thead>\n",
       "  <tbody>\n",
       "    <tr>\n",
       "      <th>0</th>\n",
       "      <td>fwXo0</td>\n",
       "      <td>-1.146987</td>\n",
       "      <td>0.963328</td>\n",
       "      <td>-0.828965</td>\n",
       "      <td>27.758673</td>\n",
       "    </tr>\n",
       "    <tr>\n",
       "      <th>1</th>\n",
       "      <td>WJtFt</td>\n",
       "      <td>0.262778</td>\n",
       "      <td>0.269839</td>\n",
       "      <td>-2.530187</td>\n",
       "      <td>56.069697</td>\n",
       "    </tr>\n",
       "    <tr>\n",
       "      <th>2</th>\n",
       "      <td>ovLUW</td>\n",
       "      <td>0.194587</td>\n",
       "      <td>0.289035</td>\n",
       "      <td>-5.586433</td>\n",
       "      <td>62.871910</td>\n",
       "    </tr>\n",
       "    <tr>\n",
       "      <th>3</th>\n",
       "      <td>q6cA6</td>\n",
       "      <td>2.236060</td>\n",
       "      <td>-0.553760</td>\n",
       "      <td>0.930038</td>\n",
       "      <td>114.572842</td>\n",
       "    </tr>\n",
       "    <tr>\n",
       "      <th>4</th>\n",
       "      <td>WPMUX</td>\n",
       "      <td>-0.515993</td>\n",
       "      <td>1.716266</td>\n",
       "      <td>5.899011</td>\n",
       "      <td>149.600746</td>\n",
       "    </tr>\n",
       "  </tbody>\n",
       "</table>\n",
       "</div>"
      ],
      "text/plain": [
       "      id        f0        f1        f2     product\n",
       "0  fwXo0 -1.146987  0.963328 -0.828965   27.758673\n",
       "1  WJtFt  0.262778  0.269839 -2.530187   56.069697\n",
       "2  ovLUW  0.194587  0.289035 -5.586433   62.871910\n",
       "3  q6cA6  2.236060 -0.553760  0.930038  114.572842\n",
       "4  WPMUX -0.515993  1.716266  5.899011  149.600746"
      ]
     },
     "metadata": {},
     "output_type": "display_data"
    },
    {
     "name": "stdout",
     "output_type": "stream",
     "text": [
      "\n"
     ]
    }
   ],
   "source": [
    "for i, data in enumerate([data_0, data_1, data_2]):\n",
    "    print(f\"--- Región {i}---\")\n",
    "    display(data.head())\n",
    "    print()"
   ]
  },
  {
   "cell_type": "markdown",
   "metadata": {},
   "source": [
    "<div class=\"alert alert-block alert-success\">\n",
    "<b>Comentario de Revisor</b> <a class=\"tocSkip\"></a>\n",
    "\n",
    "Muy bien al mostrar parte de la data, pero te recomiendo usar `display()` para mostrar un dataframe, da mejor formato de output que `print()`. Por ejemplo, en vez de usar `print(df.head())`, usa `display(df.head())`.\n",
    "\n",
    "</div>"
   ]
  },
  {
   "cell_type": "markdown",
   "metadata": {},
   "source": [
    "Las observaciones clave fueron las siguientes:\n",
    "\n",
    "Estructura consistente en los tres datasets, cada uno con cinco columnas: id, f0, f1, f2, y product.\n",
    "\n",
    "La columna id contiene un identificador único para cada pozo petrolero, en formato alfanumérico. No se utiliza en el entrenamiento del modelo, pero es útil para rastrear observaciones.\n",
    "\n",
    "Las variables f0, f1 y f2 contienen valores numéricos continuos, que incluyen tanto números negativos como positivos, y parecen estar estandarizados o distribuidos alrededor de cero, lo cual es ideal para modelos de regresión lineal.\n",
    "\n",
    "La columna product representa el volumen de reservas de cada pozo petrolero, medido en miles de barriles. Este valor será la variable objetivo para el modelo.\n",
    "\n",
    "En resumen, los datos parecen estar correctamente formateados, no presentan problemas visibles de carga, y muestran una buena estructura inicial para proceder al análisis estadístico más profundo y la preparación del modelo."
   ]
  },
  {
   "cell_type": "code",
   "execution_count": 4,
   "metadata": {},
   "outputs": [
    {
     "name": "stdout",
     "output_type": "stream",
     "text": [
      "--- Región 0 ---\n",
      "<class 'pandas.core.frame.DataFrame'>\n",
      "RangeIndex: 100000 entries, 0 to 99999\n",
      "Data columns (total 5 columns):\n",
      " #   Column   Non-Null Count   Dtype  \n",
      "---  ------   --------------   -----  \n",
      " 0   id       100000 non-null  object \n",
      " 1   f0       100000 non-null  float64\n",
      " 2   f1       100000 non-null  float64\n",
      " 3   f2       100000 non-null  float64\n",
      " 4   product  100000 non-null  float64\n",
      "dtypes: float64(4), object(1)\n",
      "memory usage: 3.8+ MB\n",
      "None\n",
      "\n",
      "--- Región 1 ---\n",
      "<class 'pandas.core.frame.DataFrame'>\n",
      "RangeIndex: 100000 entries, 0 to 99999\n",
      "Data columns (total 5 columns):\n",
      " #   Column   Non-Null Count   Dtype  \n",
      "---  ------   --------------   -----  \n",
      " 0   id       100000 non-null  object \n",
      " 1   f0       100000 non-null  float64\n",
      " 2   f1       100000 non-null  float64\n",
      " 3   f2       100000 non-null  float64\n",
      " 4   product  100000 non-null  float64\n",
      "dtypes: float64(4), object(1)\n",
      "memory usage: 3.8+ MB\n",
      "None\n",
      "\n",
      "--- Región 2 ---\n",
      "<class 'pandas.core.frame.DataFrame'>\n",
      "RangeIndex: 100000 entries, 0 to 99999\n",
      "Data columns (total 5 columns):\n",
      " #   Column   Non-Null Count   Dtype  \n",
      "---  ------   --------------   -----  \n",
      " 0   id       100000 non-null  object \n",
      " 1   f0       100000 non-null  float64\n",
      " 2   f1       100000 non-null  float64\n",
      " 3   f2       100000 non-null  float64\n",
      " 4   product  100000 non-null  float64\n",
      "dtypes: float64(4), object(1)\n",
      "memory usage: 3.8+ MB\n",
      "None\n",
      "\n"
     ]
    }
   ],
   "source": [
    "# Verificar información general y estadísticas\n",
    "for i, data in enumerate([data_0, data_1, data_2]):\n",
    "    print(f\"--- Región {i} ---\")\n",
    "    print(data.info())\n",
    "    print()\n"
   ]
  },
  {
   "cell_type": "markdown",
   "metadata": {},
   "source": [
    "Observaciones generales:\n",
    "Cada conjunto contiene 100,000 filas y 5 columnas:\n",
    "\n",
    "id (tipo object)\n",
    "\n",
    "f0, f1, f2, product (tipo float64)\n",
    "\n",
    "No hay columnas con valores nulos (Non-Null Count = 100000 en todas).\n",
    "\n",
    "Los tres datasets presentan una estructura limpia y coherente, lo que permite avanzar directamente a la exploración estadística sin necesidad de limpieza de datos."
   ]
  },
  {
   "cell_type": "code",
   "execution_count": 5,
   "metadata": {},
   "outputs": [
    {
     "name": "stdout",
     "output_type": "stream",
     "text": [
      "--- Valores nulos en Región 0 ---\n",
      "id         0\n",
      "f0         0\n",
      "f1         0\n",
      "f2         0\n",
      "product    0\n",
      "dtype: int64\n",
      "\n",
      "--- Valores nulos en Región 1 ---\n",
      "id         0\n",
      "f0         0\n",
      "f1         0\n",
      "f2         0\n",
      "product    0\n",
      "dtype: int64\n",
      "\n",
      "--- Valores nulos en Región 2 ---\n",
      "id         0\n",
      "f0         0\n",
      "f1         0\n",
      "f2         0\n",
      "product    0\n",
      "dtype: int64\n",
      "\n"
     ]
    }
   ],
   "source": [
    "for i, data in enumerate([data_0, data_1, data_2]):\n",
    "    print(f\"--- Valores nulos en Región {i} ---\")\n",
    "    print(data.isna().sum())\n",
    "    print()\n"
   ]
  },
  {
   "cell_type": "markdown",
   "metadata": {},
   "source": [
    "Se utilizó esta función para contar la cantidad de valores faltantes por columna en cada uno de los tres conjuntos de datos.\n",
    "\n",
    "Todas las columnas en las tres regiones presentan 0 valores nulos.\n",
    "\n",
    "No se requiere aplicar técnicas de imputación o eliminación de registros incompletos.\n",
    "\n",
    "Los datasets están completos y listos para el entrenamiento del modelo sin necesidad de limpieza adicional en este aspecto."
   ]
  },
  {
   "cell_type": "code",
   "execution_count": 6,
   "metadata": {},
   "outputs": [
    {
     "name": "stdout",
     "output_type": "stream",
     "text": [
      "--- Duplicados en Región 0 ---\n",
      "Filas duplicadas: 0\n",
      "\n",
      "--- Duplicados en Región 1 ---\n",
      "Filas duplicadas: 0\n",
      "\n",
      "--- Duplicados en Región 2 ---\n",
      "Filas duplicadas: 0\n",
      "\n"
     ]
    }
   ],
   "source": [
    "for i, data in enumerate([data_0, data_1, data_2]):\n",
    "    print(f\"--- Duplicados en Región {i} ---\")\n",
    "    print(f\"Filas duplicadas: {data.duplicated().sum()}\")\n",
    "    print()\n"
   ]
  },
  {
   "cell_type": "markdown",
   "metadata": {},
   "source": [
    "Esta función ayuda a identificar si existen registros repetidos que podrían sesgar el entrenamiento del modelo.\n",
    "\n",
    "En las tres regiones, la cantidad de filas duplicadas fue 0.\n",
    "\n",
    "Cada fila representa una observación única.\n",
    "\n",
    "No se requiere depuración para eliminar duplicados, lo cual valida que los datos están limpios y correctamente preparados para el análisis."
   ]
  },
  {
   "cell_type": "markdown",
   "metadata": {},
   "source": [
    "En conjunto, el análisis con isna() y duplicated() confirma que los datos no necesitan ningún tratamiento por limpieza estructural. Este es un indicador positivo de calidad de datos desde el inicio del proyecto."
   ]
  },
  {
   "cell_type": "markdown",
   "metadata": {},
   "source": [
    "<div class=\"alert alert-block alert-success\">\n",
    "<b>Comentario de Revisor</b> <a class=\"tocSkip\"></a>\n",
    "\n",
    "Bien, correcto al mostrar un descripción inicial de la data\n",
    "\n",
    "</div>"
   ]
  },
  {
   "cell_type": "markdown",
   "metadata": {},
   "source": [
    "# ESTADÍSTICA PREDICTIVA "
   ]
  },
  {
   "cell_type": "code",
   "execution_count": 7,
   "metadata": {},
   "outputs": [
    {
     "name": "stdout",
     "output_type": "stream",
     "text": [
      "--- Estadísticas descriptivas de Región 0 ---\n",
      "                  f0             f1             f2        product\n",
      "count  100000.000000  100000.000000  100000.000000  100000.000000\n",
      "mean        0.500419       0.250143       2.502647      92.500000\n",
      "std         0.871832       0.504433       3.248248      44.288691\n",
      "min        -1.408605      -0.848218     -12.088328       0.000000\n",
      "25%        -0.072580      -0.200881       0.287748      56.497507\n",
      "50%         0.502360       0.250252       2.515969      91.849972\n",
      "75%         1.073581       0.700646       4.715088     128.564089\n",
      "max         2.362331       1.343769      16.003790     185.364347\n",
      "\n",
      "--- Estadísticas descriptivas de Región 1 ---\n",
      "                  f0             f1             f2        product\n",
      "count  100000.000000  100000.000000  100000.000000  100000.000000\n",
      "mean        1.141296      -4.796579       2.494541      68.825000\n",
      "std         8.965932       5.119872       1.703572      45.944423\n",
      "min       -31.609576     -26.358598      -0.018144       0.000000\n",
      "25%        -6.298551      -8.267985       1.000021      26.953261\n",
      "50%         1.153055      -4.813172       2.011479      57.085625\n",
      "75%         8.621015      -1.332816       3.999904     107.813044\n",
      "max        29.421755      18.734063       5.019721     137.945408\n",
      "\n",
      "--- Estadísticas descriptivas de Región 2 ---\n",
      "                  f0             f1             f2        product\n",
      "count  100000.000000  100000.000000  100000.000000  100000.000000\n",
      "mean        0.002023      -0.002081       2.495128      95.000000\n",
      "std         1.732045       1.730417       3.473445      44.749921\n",
      "min        -8.760004      -7.084020     -11.970335       0.000000\n",
      "25%        -1.162288      -1.174820       0.130359      59.450441\n",
      "50%         0.009424      -0.009482       2.484236      94.925613\n",
      "75%         1.158535       1.163678       4.858794     130.595027\n",
      "max         7.238262       7.844801      16.739402     190.029838\n",
      "\n"
     ]
    }
   ],
   "source": [
    "for i, data in enumerate([data_0, data_1, data_2]):\n",
    "    print(f\"--- Estadísticas descriptivas de Región {i} ---\")\n",
    "    print(data.describe())\n",
    "    print()\n"
   ]
  },
  {
   "cell_type": "markdown",
   "metadata": {},
   "source": [
    "Región 0\n",
    "product tiene una media de ~92.5 y un rango de valores entre 0 y 185.36.\n",
    "\n",
    "f0, f1 y f2 están distribuidas de forma relativamente simétrica con medias cercanas a 0 y desviaciones estándar moderadas.\n",
    "\n",
    "No se observan valores extremos evidentes.\n",
    "\n",
    "Región 1\n",
    "product tiene una media significativamente más baja (~68.25) con una desviación estándar de 45.94, indicando alta dispersión.\n",
    "\n",
    "f0 y f1 tienen rangos extremadamente amplios:\n",
    "\n",
    "f0: desde -31.7 hasta 29.4\n",
    "\n",
    "f1: desde -26.3 hasta 18.7\n",
    "\n",
    "Estos valores sugieren presencia de outliers y una distribución muy dispersa.\n",
    "\n",
    "Región 2\n",
    "product tiene el valor promedio más alto (~95.0) y una mediana de ~94.2, lo que indica que la mayoría de los pozos tienen altos volúmenes de reservas.\n",
    "\n",
    "f0, f1 y f2 tienen distribuciones más contenidas comparadas con la Región 1, aunque aún con presencia de algunos extremos.\n",
    "\n",
    "Las estadísticas muestran una distribución más estable y centrada en comparación con la Región 1."
   ]
  },
  {
   "cell_type": "markdown",
   "metadata": {},
   "source": [
    "En resumen, la Región 2 muestra el mayor volumen promedio de reservas con una distribución más consistente, mientras que la Región 1 destaca por su alta variabilidad y posibles riesgos por datos extremos. Esto sugiere que Región 2 podría ser más predecible y rentable, aunque se debe confirmar con el modelado y análisis de ganancias."
   ]
  },
  {
   "cell_type": "markdown",
   "metadata": {},
   "source": [
    "<div class=\"alert alert-block alert-success\">\n",
    "<b>Comentario de Revisor</b> <a class=\"tocSkip\"></a>\n",
    "\n",
    "Ok, bien con la descripción más en detalle\n",
    "\n",
    "</div>"
   ]
  },
  {
   "cell_type": "markdown",
   "metadata": {},
   "source": [
    "# PREPARACIÓN DEL MODELO PREDICTIVO"
   ]
  },
  {
   "cell_type": "code",
   "execution_count": 8,
   "metadata": {},
   "outputs": [],
   "source": [
    "# Esta función entrena un modelo de regresión lineal, predice y calcula el RMSE\n",
    "\n",
    "\n",
    "def train_and_validate(data):\n",
    "    X = data.drop(columns=['product', 'id'])\n",
    "    y = data['product']\n",
    "    \n",
    "    X_train, X_valid, y_train, y_valid = train_test_split(X, y, test_size=0.25, random_state=42)\n",
    "    \n",
    "    model = LinearRegression()\n",
    "    model.fit(X_train, y_train)\n",
    "    predictions = model.predict(X_valid)\n",
    "    \n",
    "    rmse = mean_squared_error(y_valid, predictions, squared=False)\n",
    "    mean_predicted_volume = predictions.mean()\n",
    "    \n",
    "    return model, predictions, y_valid.reset_index(drop=True), rmse, mean_predicted_volume\n"
   ]
  },
  {
   "cell_type": "markdown",
   "metadata": {},
   "source": [
    "Se definió una función personalizada llamada train_and_validate() para automatizar los siguientes pasos:\n",
    "\n",
    "Separación de variables:\n",
    "\n",
    "X: variables predictoras (f0, f1, f2)\n",
    "\n",
    "y: variable objetivo (product)\n",
    "\n",
    "Se excluyó la columna id por no aportar valor predictivo.\n",
    "\n",
    "División del conjunto de datos:\n",
    "\n",
    "Se dividieron los datos en entrenamiento (75%) y validación (25%) usando train_test_split con una semilla (random_state=42) para garantizar reproducibilidad."
   ]
  },
  {
   "cell_type": "code",
   "execution_count": 9,
   "metadata": {},
   "outputs": [
    {
     "name": "stdout",
     "output_type": "stream",
     "text": [
      "Región 0\n",
      " - RMSE: 37.76\n",
      " - Media de predicciones: 92.40\n",
      "\n",
      "Región 1\n",
      " - RMSE: 0.89\n",
      " - Media de predicciones: 68.71\n",
      "\n",
      "Región 2\n",
      " - RMSE: 40.15\n",
      " - Media de predicciones: 94.77\n",
      "\n"
     ]
    }
   ],
   "source": [
    "results = []\n",
    "for data in [data_0, data_1, data_2]:\n",
    "    model, predictions, y_valid, rmse, mean_pred = train_and_validate(data)\n",
    "    results.append((model, predictions, y_valid, rmse, mean_pred))\n",
    "\n",
    "for i, (model, predictions, y_valid, rmse, mean_pred) in enumerate(results):\n",
    "    print(f\"Región {i}\")\n",
    "    print(f\" - RMSE: {rmse:.2f}\")\n",
    "    print(f\" - Media de predicciones: {mean_pred:.2f}\\n\")"
   ]
  },
  {
   "cell_type": "markdown",
   "metadata": {},
   "source": [
    "Entrenamiento del modelo:\n",
    "\n",
    "Se utilizó el algoritmo de LinearRegression de sklearn para ajustar el modelo a los datos de entrenamiento.\n",
    "\n",
    "Predicciones y evaluación:\n",
    "\n",
    "Se generaron predicciones sobre el conjunto de validación.\n",
    "\n",
    "Se calculó el error cuadrático medio (RMSE) para evaluar el rendimiento.\n",
    "\n",
    "También se almacenó el promedio de las predicciones, útil para estimar ganancias potenciales.\n",
    "\n",
    "\n",
    "\n"
   ]
  },
  {
   "cell_type": "markdown",
   "metadata": {},
   "source": [
    "<div class=\"alert alert-block alert-danger\">\n",
    "<b>Comentario de Revisor</b> <a class=\"tocSkip\"></a>\n",
    "\n",
    "Por favor, muestra lo requerido, el RMSE y la media de los pozos predichos en cada región\n",
    "\n",
    "</div>"
   ]
  },
  {
   "cell_type": "markdown",
   "metadata": {},
   "source": [
    "<div class=\"alert alert-block alert-success\">\n",
    "<b>Comentario de Revisor v2</b> <a class=\"tocSkip\"></a>\n",
    "\n",
    "Muy bien, correcto\n",
    "\n",
    "</div>"
   ]
  },
  {
   "cell_type": "markdown",
   "metadata": {},
   "source": [
    "Métrica usada: RMSE\n",
    "El Root Mean Squared Error (RMSE) fue la métrica de evaluación elegida, ya que:\n",
    "\n",
    "Penaliza fuertemente los errores grandes.\n",
    "\n",
    "Se expresa en las mismas unidades que la variable objetivo (product, en miles de barriles).\n",
    "\n",
    "Permite comparar el desempeño entre las tres regiones.\n",
    "\n",
    "Ventajas del enfoque\n",
    "\n",
    "Al encapsular el proceso en una función, se facilitó aplicar el mismo modelo a los tres datasets.\n",
    "\n",
    "Este enfoque modular también permite reutilizar el código para modelos más complejos en el futuro."
   ]
  },
  {
   "cell_type": "code",
   "execution_count": 10,
   "metadata": {},
   "outputs": [
    {
     "name": "stdout",
     "output_type": "stream",
     "text": [
      "Región 0 - Media de reservas reales: 92.33\n",
      "❌ Esta región está por debajo del umbral.\n",
      "\n",
      "Región 1 - Media de reservas reales: 68.73\n",
      "❌ Esta región está por debajo del umbral.\n",
      "\n",
      "Región 2 - Media de reservas reales: 95.15\n",
      "❌ Esta región está por debajo del umbral.\n",
      "\n"
     ]
    }
   ],
   "source": [
    "threshold = 111.1\n",
    "\n",
    "for i, (_, _, y_valid, _, _) in enumerate(results):\n",
    "    mean_volume = y_valid.mean()\n",
    "    print(f\"Región {i} - Media de reservas reales: {mean_volume:.2f}\")\n",
    "    if mean_volume >= threshold:\n",
    "        print(\"✔️ Esta región supera el umbral de ganancia.\\n\")\n",
    "    else:\n",
    "        print(\"❌ Esta región está por debajo del umbral.\\n\")\n"
   ]
  },
  {
   "cell_type": "markdown",
   "metadata": {},
   "source": [
    "<div class=\"alert alert-block alert-success\">\n",
    "<b>Comentario de Revisor</b> <a class=\"tocSkip\"></a>\n",
    "\n",
    "Muy bien, ninguna región tiene un promedio superior al mínimo para tener ganancias. Si usaramos el pozo promedio, siempre tendríamos pérdidas.\n",
    "\n",
    "</div>  \n"
   ]
  },
  {
   "cell_type": "code",
   "execution_count": 11,
   "metadata": {},
   "outputs": [],
   "source": [
    "def calculate_profit(predictions, y_valid, price_per_barrel=4500, n_pozos=200, budget=100_000_000):\n",
    "    predictions = pd.Series(predictions, index=y_valid.index)\n",
    "\n",
    "    top_200_idx = predictions.sort_values(ascending=False).index[:n_pozos]\n",
    "    total_volume = y_valid.loc[top_200_idx].sum()\n",
    "    revenue = total_volume * price_per_barrel  # CORREGIDO: sin multiplicar por 1000\n",
    "    profit = revenue - budget\n",
    "\n",
    "    return profit\n",
    "\n"
   ]
  },
  {
   "cell_type": "code",
   "execution_count": 12,
   "metadata": {},
   "outputs": [
    {
     "name": "stdout",
     "output_type": "stream",
     "text": [
      "Región 0 - Ganancia estimada: $33,591,411.14 USD\n",
      "Región 1 - Ganancia estimada: $24,150,866.97 USD\n",
      "Región 2 - Ganancia estimada: $25,985,717.59 USD\n"
     ]
    }
   ],
   "source": [
    "for i, (_, predictions, y_valid, _, _) in enumerate(results):\n",
    "    profit = calculate_profit(predictions, y_valid)\n",
    "    print(f\"Región {i} - Ganancia estimada: ${profit:,.2f} USD\")\n"
   ]
  },
  {
   "cell_type": "markdown",
   "metadata": {},
   "source": [
    "<div class=\"alert alert-block alert-success\">\n",
    "<b>Comentario de Revisor v3</b> <a class=\"tocSkip\"></a>\n",
    "\n",
    "Bien, correcto!\n",
    "\n",
    "</div>"
   ]
  },
  {
   "cell_type": "markdown",
   "metadata": {},
   "source": [
    "<div class=\"alert alert-block alert-danger\">\n",
    "<b>Comentario de Revisor v2</b> <a class=\"tocSkip\"></a>\n",
    "\n",
    "La idea del cálculo de ganancia está bien, pero la función está sobreestimando el ingreso. El revenue es total_volume * 4500 solamente.\n",
    "\n",
    "</div>  \n"
   ]
  },
  {
   "cell_type": "markdown",
   "metadata": {},
   "source": [
    "<div class=\"alert alert-block alert-danger\">\n",
    "<b>Comentario de Revisor</b> <a class=\"tocSkip\"></a>\n",
    "\n",
    "Esta función es incorrecta. Para esta parte primero hay que comparar la media de los pozos de cada región contra el umbral de ganancia. Indica si hay ganancia o perdida en cada región\n",
    "\n",
    "</div>"
   ]
  },
  {
   "cell_type": "markdown",
   "metadata": {},
   "source": [
    "<div class=\"alert alert-block alert-danger\">\n",
    "<b>Comentario de Revisor</b> <a class=\"tocSkip\"></a>\n",
    "\n",
    "Luego, debes calcular el beneficio usando toda la data de validación de cada región. Para calcular el beneficio, es necesario ordenar los pozos según el valor de predicción pero se usa el valor real como volumen de cálculo. Es decir:\n",
    "    \n",
    "- Debes tener la data de predicción y real de todos los pozos usados para validación\n",
    "- Toma los mejores 200 pozos según el valor de predicción\n",
    "- Calcula el volumen según el valor real de esos pozos\n",
    "- La ganancia es ese volumen por 4500 menos los 100 millones de inversión\n",
    "</div>"
   ]
  },
  {
   "cell_type": "code",
   "execution_count": 13,
   "metadata": {},
   "outputs": [],
   "source": [
    "def bootstrap_profit(predictions, y_valid, n_samples=1000, sample_size=500, top_n=200, price_per_barrel=4500, budget=100_000_000):\n",
    "    import numpy as np\n",
    "    import pandas as pd\n",
    "\n",
    "    predictions = pd.Series(predictions, index=y_valid.index)\n",
    "\n",
    "    values = []\n",
    "    state = np.random.RandomState(42)\n",
    "\n",
    "    for _ in range(n_samples):\n",
    "        sample_indices = state.choice(predictions.index, size=sample_size, replace=True)\n",
    "        sample_preds = predictions.loc[sample_indices]\n",
    "        sample_actuals = y_valid.loc[sample_indices]\n",
    "\n",
    "        top_200_idx = sample_preds.sort_values(ascending=False).index[:top_n]\n",
    "        total_volume = sample_actuals.loc[top_200_idx].sum()\n",
    "        revenue = total_volume * price_per_barrel  # CORREGIDO: sin multiplicar por 1000\n",
    "        profit = revenue - budget\n",
    "\n",
    "        values.append(profit)\n",
    "\n",
    "    values = pd.Series(values)\n",
    "    lower = values.quantile(0.025)\n",
    "    upper = values.quantile(0.975)\n",
    "    mean_profit = values.mean()\n",
    "    risk_of_loss = (values < 0).mean() * 100\n",
    "\n",
    "    return mean_profit, (lower, upper), risk_of_loss\n",
    "\n",
    "\n",
    "\n"
   ]
  },
  {
   "cell_type": "markdown",
   "metadata": {},
   "source": [
    "<div class=\"alert alert-block alert-success\">\n",
    "<b>Comentario de Revisor v3</b> <a class=\"tocSkip\"></a>\n",
    "\n",
    "Muy bien, corregido\n",
    "\n",
    "</div>"
   ]
  },
  {
   "cell_type": "markdown",
   "metadata": {},
   "source": [
    "<div class=\"alert alert-block alert-danger\">\n",
    "<b>Comentario de Revisor v2</b> <a class=\"tocSkip\"></a>\n",
    "\n",
    "Buen trabajo, la implementación del bootstrapping es correcta, pero aquí aparece el mismo error que en la parte de ganancias. Solo debería multiplicarse por 4500. \n",
    "    \n",
    "El cálculo de las métricas es correcto, una vez corregido lo anterior se tendrá el resultado corregido.\n",
    "\n",
    "</div>  \n"
   ]
  },
  {
   "cell_type": "markdown",
   "metadata": {},
   "source": [
    "<div class=\"alert alert-block alert-danger\">\n",
    "<b>Comentario de Revisor</b> <a class=\"tocSkip\"></a>\n",
    "\n",
    "La idea del bootstrapping es incorrecta. Te dejo indicaciones de cómo implementarlo:\n",
    "    \n",
    " - Iterar 1000 veces\n",
    " - En cada iteración, tomar los pozos de validación (25000 pozos) y extraer una muestra aleatoria con reemplazo de 500\n",
    " - De esos 500, aplicar el método de cálculo de ganancia (top 200 por predicción, usar valor real)\n",
    " - Guarda el beneficio (volumen por ingreso menos inversión)\n",
    " - Con los 1000 beneficios obtenidos, se calculan las métricas.\n",
    "    \n",
    "La forma de cálculo de las métricas es correcta, excepto para el riesgo. Dado que en cada iteración se debe calcular el beneficio, el riesgo es el porcentaje de veces que los valores de las iteraciones del bootstrapping fueron menores que 0.\n",
    "</div>  \n"
   ]
  },
  {
   "cell_type": "markdown",
   "metadata": {},
   "source": [
    "# ANÁLISIS DEL RIESGO FINANCIERO"
   ]
  },
  {
   "cell_type": "code",
   "execution_count": 14,
   "metadata": {},
   "outputs": [
    {
     "name": "stdout",
     "output_type": "stream",
     "text": [
      "Región 0\n",
      " - Ganancia promedio: $6,061,226.32\n",
      " - Intervalo de confianza 95%: $100,894.12 a $12,463,709.81\n",
      " - Riesgo de pérdida: 2.50%\n",
      "\n",
      "Región 1\n",
      " - Ganancia promedio: $6,651,176.54\n",
      " - Intervalo de confianza 95%: $1,808,515.85 a $12,057,104.61\n",
      " - Riesgo de pérdida: 0.20%\n",
      "\n",
      "Región 2\n",
      " - Ganancia promedio: $5,851,036.38\n",
      " - Intervalo de confianza 95%: $-8,369.42 a $12,120,508.98\n",
      " - Riesgo de pérdida: 2.60%\n",
      "\n"
     ]
    }
   ],
   "source": [
    "for i, (_, predictions, y_valid, _, _) in enumerate(results):\n",
    "    mean_profit, (lower, upper), risk = bootstrap_profit(predictions, y_valid)\n",
    "    print(f\"Región {i}\")\n",
    "    print(f\" - Ganancia promedio: ${mean_profit:,.2f}\")\n",
    "    print(f\" - Intervalo de confianza 95%: ${lower:,.2f} a ${upper:,.2f}\")\n",
    "    print(f\" - Riesgo de pérdida: {risk:.2f}%\\n\")\n"
   ]
  },
  {
   "cell_type": "markdown",
   "metadata": {},
   "source": [
    "# CONCLUSIÓN GENERAL"
   ]
  },
  {
   "cell_type": "markdown",
   "metadata": {},
   "source": [
    "En este proyecto analizamos datos de tres regiones donde podrían abrirse nuevos pozos petroleros. El objetivo fue predecir el volumen de reservas en cada pozo y ayudar a decidir dónde sería más rentable invertir.\n",
    "\n",
    "Se entrenó un modelo simple que predice cuánto petróleo puede haber en un pozo, usando información técnica de cada uno. Luego, se eligieron los 200 pozos con mejores resultados en cada región para calcular las posibles ganancias.\n",
    "\n",
    "Después de analizar las predicciones, se encontró que ninguna región lograría superar los 100 millones de dólares en ganancias esperadas, que es lo mínimo necesario para cubrir la inversión. Es decir, el riesgo de pérdida fue del 100% en todos los casos.\n",
    "\n",
    "Se concluye que invertir en la **Región 1** es la opción más rentable y segura para la empresa.\n",
    "\n"
   ]
  },
  {
   "cell_type": "markdown",
   "metadata": {},
   "source": [
    "CIENTÍFICO DE DATOS: LUIS OSVALDO SILVA OROZCO."
   ]
  },
  {
   "cell_type": "markdown",
   "metadata": {},
   "source": [
    "<div class=\"alert alert-block alert-success\">\n",
    "<b>Comentario de Revisor</b> <a class=\"tocSkip\"></a>\n",
    "\n",
    "Muy bien con las conclusiones, el hallazgo final es que la distribución de la región 1, a pesar de tener una media inferior a las otras, es la mejor opción de acuerdo al procedimiento de exploración/explotación que se lleva a cabo. El bootstrapping nos permite \"simular\" la forma de obtener la ganancia y usar la distribución de la data.\n",
    "\n",
    "</div>"
   ]
  }
 ],
 "metadata": {
  "ExecuteTimeLog": [
   {
    "duration": 744,
    "start_time": "2025-04-23T16:10:03.515Z"
   },
   {
    "duration": 109,
    "start_time": "2025-04-23T16:10:14.596Z"
   },
   {
    "duration": 13,
    "start_time": "2025-04-23T16:10:21.785Z"
   },
   {
    "duration": 14,
    "start_time": "2025-04-23T16:10:32.029Z"
   },
   {
    "duration": 3,
    "start_time": "2025-04-23T16:10:40.224Z"
   },
   {
    "duration": 795,
    "start_time": "2025-04-24T20:46:17.626Z"
   },
   {
    "duration": 517,
    "start_time": "2025-04-24T20:46:18.423Z"
   },
   {
    "duration": 97,
    "start_time": "2025-04-24T20:46:18.942Z"
   },
   {
    "duration": 216,
    "start_time": "2025-04-24T20:46:19.041Z"
   },
   {
    "duration": 0,
    "start_time": "2025-04-24T20:46:19.259Z"
   },
   {
    "duration": 0,
    "start_time": "2025-04-24T20:46:19.260Z"
   },
   {
    "duration": 0,
    "start_time": "2025-04-24T20:46:19.262Z"
   },
   {
    "duration": 25,
    "start_time": "2025-04-24T20:48:01.072Z"
   },
   {
    "duration": 57,
    "start_time": "2025-04-24T20:48:16.407Z"
   },
   {
    "duration": 15,
    "start_time": "2025-04-24T20:48:46.451Z"
   },
   {
    "duration": 88,
    "start_time": "2025-04-24T20:49:11.972Z"
   },
   {
    "duration": 60,
    "start_time": "2025-04-24T20:50:13.497Z"
   },
   {
    "duration": 4,
    "start_time": "2025-04-24T20:50:32.516Z"
   },
   {
    "duration": 130,
    "start_time": "2025-04-24T20:50:47.889Z"
   },
   {
    "duration": 3,
    "start_time": "2025-04-24T20:50:58.449Z"
   },
   {
    "duration": 4,
    "start_time": "2025-04-24T20:51:06.613Z"
   },
   {
    "duration": 546,
    "start_time": "2025-04-24T20:51:13.194Z"
   },
   {
    "duration": 793,
    "start_time": "2025-04-24T20:54:56.010Z"
   },
   {
    "duration": 218,
    "start_time": "2025-04-24T20:54:56.806Z"
   },
   {
    "duration": 29,
    "start_time": "2025-04-24T20:54:57.026Z"
   },
   {
    "duration": 75,
    "start_time": "2025-04-24T20:54:57.057Z"
   },
   {
    "duration": 14,
    "start_time": "2025-04-24T20:54:57.135Z"
   },
   {
    "duration": 103,
    "start_time": "2025-04-24T20:54:57.151Z"
   },
   {
    "duration": 75,
    "start_time": "2025-04-24T20:54:57.256Z"
   },
   {
    "duration": 4,
    "start_time": "2025-04-24T20:54:57.333Z"
   },
   {
    "duration": 169,
    "start_time": "2025-04-24T20:54:57.338Z"
   },
   {
    "duration": 3,
    "start_time": "2025-04-24T20:54:57.509Z"
   },
   {
    "duration": 6,
    "start_time": "2025-04-24T20:54:57.513Z"
   },
   {
    "duration": 413,
    "start_time": "2025-04-24T20:54:57.521Z"
   },
   {
    "duration": 131,
    "start_time": "2025-04-24T20:58:24.031Z"
   },
   {
    "duration": 9,
    "start_time": "2025-04-24T20:58:39.082Z"
   },
   {
    "duration": 728,
    "start_time": "2025-04-24T21:08:55.079Z"
   },
   {
    "duration": 216,
    "start_time": "2025-04-24T21:08:55.809Z"
   },
   {
    "duration": 11,
    "start_time": "2025-04-24T21:08:56.027Z"
   },
   {
    "duration": 25,
    "start_time": "2025-04-24T21:08:56.040Z"
   },
   {
    "duration": 79,
    "start_time": "2025-04-24T21:08:56.068Z"
   },
   {
    "duration": 15,
    "start_time": "2025-04-24T21:08:56.149Z"
   },
   {
    "duration": 98,
    "start_time": "2025-04-24T21:08:56.166Z"
   },
   {
    "duration": 3,
    "start_time": "2025-04-24T21:08:56.266Z"
   },
   {
    "duration": 141,
    "start_time": "2025-04-24T21:08:56.271Z"
   },
   {
    "duration": 3,
    "start_time": "2025-04-24T21:08:56.414Z"
   },
   {
    "duration": 6,
    "start_time": "2025-04-24T21:08:56.419Z"
   },
   {
    "duration": 315,
    "start_time": "2025-04-24T21:08:56.429Z"
   },
   {
    "duration": 755,
    "start_time": "2025-04-24T21:09:12.773Z"
   },
   {
    "duration": 214,
    "start_time": "2025-04-24T21:09:13.530Z"
   },
   {
    "duration": 11,
    "start_time": "2025-04-24T21:09:13.746Z"
   },
   {
    "duration": 25,
    "start_time": "2025-04-24T21:09:13.759Z"
   },
   {
    "duration": 73,
    "start_time": "2025-04-24T21:09:13.787Z"
   },
   {
    "duration": 14,
    "start_time": "2025-04-24T21:09:13.862Z"
   },
   {
    "duration": 99,
    "start_time": "2025-04-24T21:09:13.877Z"
   },
   {
    "duration": 3,
    "start_time": "2025-04-24T21:09:13.978Z"
   },
   {
    "duration": 134,
    "start_time": "2025-04-24T21:09:13.983Z"
   },
   {
    "duration": 3,
    "start_time": "2025-04-24T21:09:14.118Z"
   },
   {
    "duration": 4,
    "start_time": "2025-04-24T21:09:14.123Z"
   },
   {
    "duration": 493,
    "start_time": "2025-04-24T21:09:14.128Z"
   },
   {
    "duration": 9,
    "start_time": "2025-04-24T23:15:58.229Z"
   },
   {
    "duration": 1322,
    "start_time": "2025-04-25T11:24:03.237Z"
   },
   {
    "duration": 512,
    "start_time": "2025-04-25T11:24:04.561Z"
   },
   {
    "duration": 60,
    "start_time": "2025-04-25T11:24:05.075Z"
   },
   {
    "duration": 86,
    "start_time": "2025-04-25T11:24:05.138Z"
   },
   {
    "duration": 20,
    "start_time": "2025-04-25T11:24:05.226Z"
   },
   {
    "duration": 207,
    "start_time": "2025-04-25T11:24:05.248Z"
   },
   {
    "duration": 168,
    "start_time": "2025-04-25T11:24:05.456Z"
   },
   {
    "duration": 5,
    "start_time": "2025-04-25T11:24:05.626Z"
   },
   {
    "duration": 199,
    "start_time": "2025-04-25T11:24:05.633Z"
   },
   {
    "duration": 4,
    "start_time": "2025-04-25T11:24:05.834Z"
   },
   {
    "duration": 5,
    "start_time": "2025-04-25T11:24:05.839Z"
   },
   {
    "duration": 985,
    "start_time": "2025-04-25T11:24:05.846Z"
   },
   {
    "duration": 780,
    "start_time": "2025-04-25T21:15:30.377Z"
   },
   {
    "duration": 301,
    "start_time": "2025-04-25T21:15:31.159Z"
   },
   {
    "duration": 10,
    "start_time": "2025-04-25T21:15:31.462Z"
   },
   {
    "duration": 25,
    "start_time": "2025-04-25T21:15:31.474Z"
   },
   {
    "duration": 14,
    "start_time": "2025-04-25T21:15:31.503Z"
   },
   {
    "duration": 108,
    "start_time": "2025-04-25T21:15:31.519Z"
   },
   {
    "duration": 66,
    "start_time": "2025-04-25T21:15:31.629Z"
   },
   {
    "duration": 5,
    "start_time": "2025-04-25T21:15:31.697Z"
   },
   {
    "duration": 141,
    "start_time": "2025-04-25T21:15:31.704Z"
   },
   {
    "duration": 6,
    "start_time": "2025-04-25T21:15:31.847Z"
   },
   {
    "duration": 5,
    "start_time": "2025-04-25T21:15:31.855Z"
   },
   {
    "duration": 423,
    "start_time": "2025-04-25T21:15:31.862Z"
   },
   {
    "duration": 177,
    "start_time": "2025-04-25T22:24:12.614Z"
   },
   {
    "duration": 798,
    "start_time": "2025-04-25T22:24:17.779Z"
   },
   {
    "duration": 329,
    "start_time": "2025-04-25T22:24:19.321Z"
   },
   {
    "duration": 29,
    "start_time": "2025-04-25T22:24:21.350Z"
   },
   {
    "duration": 36,
    "start_time": "2025-04-25T22:24:37.189Z"
   },
   {
    "duration": 25,
    "start_time": "2025-04-25T22:24:46.909Z"
   },
   {
    "duration": 115,
    "start_time": "2025-04-25T22:25:19.701Z"
   },
   {
    "duration": 771,
    "start_time": "2025-04-25T22:35:55.302Z"
   },
   {
    "duration": 230,
    "start_time": "2025-04-25T22:35:56.075Z"
   },
   {
    "duration": 29,
    "start_time": "2025-04-25T22:35:56.307Z"
   },
   {
    "duration": 43,
    "start_time": "2025-04-25T22:35:56.339Z"
   },
   {
    "duration": 16,
    "start_time": "2025-04-25T22:35:56.385Z"
   },
   {
    "duration": 97,
    "start_time": "2025-04-25T22:35:56.403Z"
   },
   {
    "duration": 74,
    "start_time": "2025-04-25T22:35:56.502Z"
   },
   {
    "duration": 4,
    "start_time": "2025-04-25T22:35:56.578Z"
   },
   {
    "duration": 157,
    "start_time": "2025-04-25T22:35:56.583Z"
   },
   {
    "duration": 5,
    "start_time": "2025-04-25T22:35:56.743Z"
   },
   {
    "duration": 4,
    "start_time": "2025-04-25T22:35:56.750Z"
   },
   {
    "duration": 313,
    "start_time": "2025-04-25T22:35:56.756Z"
   },
   {
    "duration": 0,
    "start_time": "2025-04-25T22:35:57.071Z"
   },
   {
    "duration": 0,
    "start_time": "2025-04-25T22:35:57.073Z"
   },
   {
    "duration": 0,
    "start_time": "2025-04-25T22:35:57.074Z"
   },
   {
    "duration": 756,
    "start_time": "2025-04-25T22:36:59.923Z"
   },
   {
    "duration": 215,
    "start_time": "2025-04-25T22:37:00.681Z"
   },
   {
    "duration": 23,
    "start_time": "2025-04-25T22:37:00.897Z"
   },
   {
    "duration": 34,
    "start_time": "2025-04-25T22:37:00.922Z"
   },
   {
    "duration": 14,
    "start_time": "2025-04-25T22:37:00.959Z"
   },
   {
    "duration": 106,
    "start_time": "2025-04-25T22:37:00.975Z"
   },
   {
    "duration": 71,
    "start_time": "2025-04-25T22:37:01.083Z"
   },
   {
    "duration": 4,
    "start_time": "2025-04-25T22:37:01.155Z"
   },
   {
    "duration": 171,
    "start_time": "2025-04-25T22:37:01.161Z"
   },
   {
    "duration": 5,
    "start_time": "2025-04-25T22:37:01.334Z"
   },
   {
    "duration": 4,
    "start_time": "2025-04-25T22:37:01.340Z"
   },
   {
    "duration": 14,
    "start_time": "2025-04-25T22:37:01.345Z"
   },
   {
    "duration": 74,
    "start_time": "2025-04-25T22:37:01.361Z"
   },
   {
    "duration": 238,
    "start_time": "2025-04-25T22:37:01.438Z"
   },
   {
    "duration": 0,
    "start_time": "2025-04-25T22:37:01.678Z"
   },
   {
    "duration": 4,
    "start_time": "2025-04-25T22:38:35.844Z"
   },
   {
    "duration": 2494,
    "start_time": "2025-04-25T22:38:37.371Z"
   },
   {
    "duration": 839,
    "start_time": "2025-04-26T10:15:47.495Z"
   },
   {
    "duration": 1396,
    "start_time": "2025-04-26T10:15:48.337Z"
   },
   {
    "duration": 29,
    "start_time": "2025-04-26T10:15:49.736Z"
   },
   {
    "duration": 31,
    "start_time": "2025-04-26T10:15:49.768Z"
   },
   {
    "duration": 32,
    "start_time": "2025-04-26T10:15:49.801Z"
   },
   {
    "duration": 98,
    "start_time": "2025-04-26T10:15:49.835Z"
   },
   {
    "duration": 66,
    "start_time": "2025-04-26T10:15:49.936Z"
   },
   {
    "duration": 5,
    "start_time": "2025-04-26T10:15:50.004Z"
   },
   {
    "duration": 144,
    "start_time": "2025-04-26T10:15:50.010Z"
   },
   {
    "duration": 76,
    "start_time": "2025-04-26T10:15:50.157Z"
   },
   {
    "duration": 7,
    "start_time": "2025-04-26T10:15:50.235Z"
   },
   {
    "duration": 13,
    "start_time": "2025-04-26T10:15:50.244Z"
   },
   {
    "duration": 5,
    "start_time": "2025-04-26T10:15:50.258Z"
   },
   {
    "duration": 2554,
    "start_time": "2025-04-26T10:15:50.265Z"
   },
   {
    "duration": 8,
    "start_time": "2025-04-26T10:16:12.513Z"
   },
   {
    "duration": 6,
    "start_time": "2025-04-26T10:16:14.713Z"
   },
   {
    "duration": 6,
    "start_time": "2025-04-26T10:16:17.937Z"
   },
   {
    "duration": 5,
    "start_time": "2025-04-26T10:16:21.177Z"
   },
   {
    "duration": 4,
    "start_time": "2025-04-26T10:16:34.937Z"
   },
   {
    "duration": 4,
    "start_time": "2025-04-26T10:16:37.681Z"
   },
   {
    "duration": 5,
    "start_time": "2025-04-26T10:17:08.178Z"
   },
   {
    "duration": 2450,
    "start_time": "2025-04-26T10:17:10.234Z"
   },
   {
    "duration": 5,
    "start_time": "2025-04-26T10:19:10.635Z"
   },
   {
    "duration": 2518,
    "start_time": "2025-04-26T10:19:13.201Z"
   },
   {
    "duration": 3,
    "start_time": "2025-04-26T10:20:22.636Z"
   },
   {
    "duration": 134,
    "start_time": "2025-04-26T10:20:23.907Z"
   },
   {
    "duration": 766,
    "start_time": "2025-04-26T10:21:36.904Z"
   },
   {
    "duration": 234,
    "start_time": "2025-04-26T10:21:37.673Z"
   },
   {
    "duration": 29,
    "start_time": "2025-04-26T10:21:37.909Z"
   },
   {
    "duration": 28,
    "start_time": "2025-04-26T10:21:37.940Z"
   },
   {
    "duration": 14,
    "start_time": "2025-04-26T10:21:37.971Z"
   },
   {
    "duration": 116,
    "start_time": "2025-04-26T10:21:37.987Z"
   },
   {
    "duration": 74,
    "start_time": "2025-04-26T10:21:38.104Z"
   },
   {
    "duration": 3,
    "start_time": "2025-04-26T10:21:38.180Z"
   },
   {
    "duration": 155,
    "start_time": "2025-04-26T10:21:38.185Z"
   },
   {
    "duration": 5,
    "start_time": "2025-04-26T10:21:38.342Z"
   },
   {
    "duration": 5,
    "start_time": "2025-04-26T10:21:38.349Z"
   },
   {
    "duration": 13,
    "start_time": "2025-04-26T10:21:38.432Z"
   },
   {
    "duration": 5,
    "start_time": "2025-04-26T10:21:38.446Z"
   },
   {
    "duration": 2461,
    "start_time": "2025-04-26T10:21:38.453Z"
   },
   {
    "duration": 808,
    "start_time": "2025-04-27T01:10:22.804Z"
   },
   {
    "duration": 321,
    "start_time": "2025-04-27T01:10:23.615Z"
   },
   {
    "duration": 23,
    "start_time": "2025-04-27T01:10:23.938Z"
   },
   {
    "duration": 37,
    "start_time": "2025-04-27T01:10:23.963Z"
   },
   {
    "duration": 14,
    "start_time": "2025-04-27T01:10:24.003Z"
   },
   {
    "duration": 99,
    "start_time": "2025-04-27T01:10:24.019Z"
   },
   {
    "duration": 68,
    "start_time": "2025-04-27T01:10:24.120Z"
   },
   {
    "duration": 6,
    "start_time": "2025-04-27T01:10:24.190Z"
   },
   {
    "duration": 109,
    "start_time": "2025-04-27T01:10:24.198Z"
   },
   {
    "duration": 88,
    "start_time": "2025-04-27T01:10:24.308Z"
   },
   {
    "duration": 4,
    "start_time": "2025-04-27T01:10:24.401Z"
   },
   {
    "duration": 11,
    "start_time": "2025-04-27T01:10:24.408Z"
   },
   {
    "duration": 66,
    "start_time": "2025-04-27T01:10:24.421Z"
   },
   {
    "duration": 2438,
    "start_time": "2025-04-27T01:10:24.490Z"
   }
  ],
  "kernelspec": {
   "display_name": "Python 3 (ipykernel)",
   "language": "python",
   "name": "python3"
  },
  "language_info": {
   "codemirror_mode": {
    "name": "ipython",
    "version": 3
   },
   "file_extension": ".py",
   "mimetype": "text/x-python",
   "name": "python",
   "nbconvert_exporter": "python",
   "pygments_lexer": "ipython3",
   "version": "3.9.19"
  },
  "toc": {
   "base_numbering": 1,
   "nav_menu": {},
   "number_sections": true,
   "sideBar": true,
   "skip_h1_title": true,
   "title_cell": "Table of Contents",
   "title_sidebar": "Contents",
   "toc_cell": false,
   "toc_position": {},
   "toc_section_display": true,
   "toc_window_display": false
  }
 },
 "nbformat": 4,
 "nbformat_minor": 2
}
