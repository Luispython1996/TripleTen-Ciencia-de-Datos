{
 "cells": [
  {
   "cell_type": "markdown",
   "id": "3Xg_RQfnafXz",
   "metadata": {
    "id": "3Xg_RQfnafXz"
   },
   "source": [
    "# ¡Llena ese carrito!"
   ]
  },
  {
   "cell_type": "markdown",
   "id": "mhIvmmkW414q",
   "metadata": {
    "id": "mhIvmmkW414q"
   },
   "source": [
    "# Introducción\n",
    "\n",
    "Instacart es una plataforma de entregas de comestibles donde la clientela puede registrar un pedido y hacer que se lo entreguen, similar a Uber Eats y Door Dash.\n",
    "El conjunto de datos que te hemos proporcionado tiene modificaciones del original. Redujimos el tamaño del conjunto para que tus cálculos se hicieran más rápido e introdujimos valores ausentes y duplicados. Tuvimos cuidado de conservar las distribuciones de los datos originales cuando hicimos los cambios.\n",
    "\n",
    "Debes completar tres pasos. Para cada uno de ellos, escribe una breve introducción que refleje con claridad cómo pretendes resolver cada paso, y escribe párrafos explicatorios que justifiquen tus decisiones al tiempo que avanzas en tu solución.  También escribe una conclusión que resuma tus hallazgos y elecciones.\n"
   ]
  },
  {
   "cell_type": "markdown",
   "id": "3MbyzpOQZ5Or",
   "metadata": {
    "id": "3MbyzpOQZ5Or"
   },
   "source": [
    "## Diccionario de datos\n",
    "\n",
    "Hay cinco tablas en el conjunto de datos, y tendrás que usarlas todas para hacer el preprocesamiento de datos y el análisis exploratorio de datos. A continuación se muestra un diccionario de datos que enumera las columnas de cada tabla y describe los datos que contienen.\n",
    "\n",
    "- `instacart_orders.csv`: cada fila corresponde a un pedido en la aplicación Instacart.\n",
    "    - `'order_id'`: número de ID que identifica de manera única cada pedido.\n",
    "    - `'user_id'`: número de ID que identifica de manera única la cuenta de cada cliente.\n",
    "    - `'order_number'`: el número de veces que este cliente ha hecho un pedido.\n",
    "    - `'order_dow'`: día de la semana en que se hizo el pedido (0 si es domingo).\n",
    "    - `'order_hour_of_day'`: hora del día en que se hizo el pedido.\n",
    "    - `'days_since_prior_order'`: número de días transcurridos desde que este cliente hizo su pedido anterior.\n",
    "- `products.csv`: cada fila corresponde a un producto único que pueden comprar los clientes.\n",
    "    - `'product_id'`: número ID que identifica de manera única cada producto.\n",
    "    - `'product_name'`: nombre del producto.\n",
    "    - `'aisle_id'`: número ID que identifica de manera única cada categoría de pasillo de víveres.\n",
    "    - `'department_id'`: número ID que identifica de manera única cada departamento de víveres.\n",
    "- `order_products.csv`: cada fila corresponde a un artículo pedido en un pedido.\n",
    "    - `'order_id'`: número de ID que identifica de manera única cada pedido.\n",
    "    - `'product_id'`: número ID que identifica de manera única cada producto.\n",
    "    - `'add_to_cart_order'`: el orden secuencial en el que se añadió cada artículo en el carrito.\n",
    "    - `'reordered'`: 0 si el cliente nunca ha pedido este producto antes, 1 si lo ha pedido.\n",
    "- `aisles.csv`\n",
    "    - `'aisle_id'`: número ID que identifica de manera única cada categoría de pasillo de víveres.\n",
    "    - `'aisle'`: nombre del pasillo.\n",
    "- `departments.csv`\n",
    "    - `'department_id'`: número ID que identifica de manera única cada departamento de víveres.\n",
    "    - `'department'`: nombre del departamento."
   ]
  },
  {
   "cell_type": "markdown",
   "id": "n3Ha_cNSZ8lK",
   "metadata": {
    "id": "n3Ha_cNSZ8lK"
   },
   "source": [
    "# Paso 1. Descripción de los datos\n",
    "\n",
    "Lee los archivos de datos (`/datasets/instacart_orders.csv`, `/datasets/products.csv`, `/datasets/aisles.csv`, `/datasets/departments.csv` y `/datasets/order_products.csv`) con `pd.read_csv()` usando los parámetros adecuados para leer los datos correctamente. Verifica la información para cada DataFrame creado.\n"
   ]
  },
  {
   "cell_type": "markdown",
   "id": "OmlQPLlyaAfR",
   "metadata": {
    "id": "OmlQPLlyaAfR"
   },
   "source": [
    "## Plan de solución\n",
    "\n",
    "Escribe aquí tu plan de solución para el Paso 1. Descripción de los datos."
   ]
  },
  {
   "cell_type": "code",
   "execution_count": 1,
   "id": "fbf1adab",
   "metadata": {
    "id": "fbf1adab"
   },
   "outputs": [],
   "source": [
    "# importar librerías\n",
    "import pandas as pd\n"
   ]
  },
  {
   "cell_type": "code",
   "execution_count": 2,
   "id": "ad36396d",
   "metadata": {
    "id": "ad36396d"
   },
   "outputs": [],
   "source": [
    "# leer conjuntos de datos en los DataFrames\n",
    "instacart_orders = pd.read_csv('/datasets/instacart_orders.csv', delimiter=';')\n"
   ]
  },
  {
   "cell_type": "code",
   "execution_count": 3,
   "id": "ad6a1efa",
   "metadata": {
    "id": "ad6a1efa"
   },
   "outputs": [
    {
     "name": "stdout",
     "output_type": "stream",
     "text": [
      "<class 'pandas.core.frame.DataFrame'>\n",
      "RangeIndex: 478967 entries, 0 to 478966\n",
      "Data columns (total 6 columns):\n",
      " #   Column                  Non-Null Count   Dtype  \n",
      "---  ------                  --------------   -----  \n",
      " 0   order_id                478967 non-null  int64  \n",
      " 1   user_id                 478967 non-null  int64  \n",
      " 2   order_number            478967 non-null  int64  \n",
      " 3   order_dow               478967 non-null  int64  \n",
      " 4   order_hour_of_day       478967 non-null  int64  \n",
      " 5   days_since_prior_order  450148 non-null  float64\n",
      "dtypes: float64(1), int64(5)\n",
      "memory usage: 21.9 MB\n"
     ]
    }
   ],
   "source": [
    "# mostrar información del DataFrame\n",
    "instacart_orders.info()\n"
   ]
  },
  {
   "cell_type": "code",
   "execution_count": 4,
   "id": "5130e05e",
   "metadata": {
    "id": "5130e05e"
   },
   "outputs": [
    {
     "data": {
      "text/html": [
       "<div>\n",
       "<style scoped>\n",
       "    .dataframe tbody tr th:only-of-type {\n",
       "        vertical-align: middle;\n",
       "    }\n",
       "\n",
       "    .dataframe tbody tr th {\n",
       "        vertical-align: top;\n",
       "    }\n",
       "\n",
       "    .dataframe thead th {\n",
       "        text-align: right;\n",
       "    }\n",
       "</style>\n",
       "<table border=\"1\" class=\"dataframe\">\n",
       "  <thead>\n",
       "    <tr style=\"text-align: right;\">\n",
       "      <th></th>\n",
       "      <th>order_id</th>\n",
       "      <th>user_id</th>\n",
       "      <th>order_number</th>\n",
       "      <th>order_dow</th>\n",
       "      <th>order_hour_of_day</th>\n",
       "      <th>days_since_prior_order</th>\n",
       "    </tr>\n",
       "  </thead>\n",
       "  <tbody>\n",
       "    <tr>\n",
       "      <th>0</th>\n",
       "      <td>1515936</td>\n",
       "      <td>183418</td>\n",
       "      <td>11</td>\n",
       "      <td>6</td>\n",
       "      <td>13</td>\n",
       "      <td>30.0</td>\n",
       "    </tr>\n",
       "    <tr>\n",
       "      <th>1</th>\n",
       "      <td>1690866</td>\n",
       "      <td>163593</td>\n",
       "      <td>5</td>\n",
       "      <td>5</td>\n",
       "      <td>12</td>\n",
       "      <td>9.0</td>\n",
       "    </tr>\n",
       "    <tr>\n",
       "      <th>2</th>\n",
       "      <td>1454967</td>\n",
       "      <td>39980</td>\n",
       "      <td>4</td>\n",
       "      <td>5</td>\n",
       "      <td>19</td>\n",
       "      <td>2.0</td>\n",
       "    </tr>\n",
       "    <tr>\n",
       "      <th>3</th>\n",
       "      <td>1768857</td>\n",
       "      <td>82516</td>\n",
       "      <td>56</td>\n",
       "      <td>0</td>\n",
       "      <td>20</td>\n",
       "      <td>10.0</td>\n",
       "    </tr>\n",
       "    <tr>\n",
       "      <th>4</th>\n",
       "      <td>3007858</td>\n",
       "      <td>196724</td>\n",
       "      <td>2</td>\n",
       "      <td>4</td>\n",
       "      <td>12</td>\n",
       "      <td>17.0</td>\n",
       "    </tr>\n",
       "  </tbody>\n",
       "</table>\n",
       "</div>"
      ],
      "text/plain": [
       "   order_id  user_id  order_number  order_dow  order_hour_of_day  \\\n",
       "0   1515936   183418            11          6                 13   \n",
       "1   1690866   163593             5          5                 12   \n",
       "2   1454967    39980             4          5                 19   \n",
       "3   1768857    82516            56          0                 20   \n",
       "4   3007858   196724             2          4                 12   \n",
       "\n",
       "   days_since_prior_order  \n",
       "0                    30.0  \n",
       "1                     9.0  \n",
       "2                     2.0  \n",
       "3                    10.0  \n",
       "4                    17.0  "
      ]
     },
     "execution_count": 4,
     "metadata": {},
     "output_type": "execute_result"
    }
   ],
   "source": [
    "# mostrar información del DataFrame\n",
    "instacart_orders.head()\n"
   ]
  },
  {
   "cell_type": "code",
   "execution_count": 5,
   "id": "d8370c05",
   "metadata": {
    "id": "d8370c05"
   },
   "outputs": [
    {
     "data": {
      "text/html": [
       "<div>\n",
       "<style scoped>\n",
       "    .dataframe tbody tr th:only-of-type {\n",
       "        vertical-align: middle;\n",
       "    }\n",
       "\n",
       "    .dataframe tbody tr th {\n",
       "        vertical-align: top;\n",
       "    }\n",
       "\n",
       "    .dataframe thead th {\n",
       "        text-align: right;\n",
       "    }\n",
       "</style>\n",
       "<table border=\"1\" class=\"dataframe\">\n",
       "  <thead>\n",
       "    <tr style=\"text-align: right;\">\n",
       "      <th></th>\n",
       "      <th>order_id</th>\n",
       "      <th>user_id</th>\n",
       "      <th>order_number</th>\n",
       "      <th>order_dow</th>\n",
       "      <th>order_hour_of_day</th>\n",
       "      <th>days_since_prior_order</th>\n",
       "    </tr>\n",
       "  </thead>\n",
       "  <tbody>\n",
       "    <tr>\n",
       "      <th>count</th>\n",
       "      <td>4.789670e+05</td>\n",
       "      <td>478967.000000</td>\n",
       "      <td>478967.000000</td>\n",
       "      <td>478967.000000</td>\n",
       "      <td>478967.000000</td>\n",
       "      <td>450148.000000</td>\n",
       "    </tr>\n",
       "    <tr>\n",
       "      <th>mean</th>\n",
       "      <td>1.709947e+06</td>\n",
       "      <td>102966.537475</td>\n",
       "      <td>17.157808</td>\n",
       "      <td>2.775058</td>\n",
       "      <td>13.446676</td>\n",
       "      <td>11.101751</td>\n",
       "    </tr>\n",
       "    <tr>\n",
       "      <th>std</th>\n",
       "      <td>9.869480e+05</td>\n",
       "      <td>59525.328991</td>\n",
       "      <td>17.704688</td>\n",
       "      <td>2.045869</td>\n",
       "      <td>4.224986</td>\n",
       "      <td>9.189975</td>\n",
       "    </tr>\n",
       "    <tr>\n",
       "      <th>min</th>\n",
       "      <td>4.000000e+00</td>\n",
       "      <td>2.000000</td>\n",
       "      <td>1.000000</td>\n",
       "      <td>0.000000</td>\n",
       "      <td>0.000000</td>\n",
       "      <td>0.000000</td>\n",
       "    </tr>\n",
       "    <tr>\n",
       "      <th>25%</th>\n",
       "      <td>8.564685e+05</td>\n",
       "      <td>51414.000000</td>\n",
       "      <td>5.000000</td>\n",
       "      <td>1.000000</td>\n",
       "      <td>10.000000</td>\n",
       "      <td>4.000000</td>\n",
       "    </tr>\n",
       "    <tr>\n",
       "      <th>50%</th>\n",
       "      <td>1.709522e+06</td>\n",
       "      <td>102633.000000</td>\n",
       "      <td>11.000000</td>\n",
       "      <td>3.000000</td>\n",
       "      <td>13.000000</td>\n",
       "      <td>7.000000</td>\n",
       "    </tr>\n",
       "    <tr>\n",
       "      <th>75%</th>\n",
       "      <td>2.562990e+06</td>\n",
       "      <td>154419.000000</td>\n",
       "      <td>23.000000</td>\n",
       "      <td>5.000000</td>\n",
       "      <td>16.000000</td>\n",
       "      <td>15.000000</td>\n",
       "    </tr>\n",
       "    <tr>\n",
       "      <th>max</th>\n",
       "      <td>3.421079e+06</td>\n",
       "      <td>206209.000000</td>\n",
       "      <td>100.000000</td>\n",
       "      <td>6.000000</td>\n",
       "      <td>23.000000</td>\n",
       "      <td>30.000000</td>\n",
       "    </tr>\n",
       "  </tbody>\n",
       "</table>\n",
       "</div>"
      ],
      "text/plain": [
       "           order_id        user_id   order_number      order_dow  \\\n",
       "count  4.789670e+05  478967.000000  478967.000000  478967.000000   \n",
       "mean   1.709947e+06  102966.537475      17.157808       2.775058   \n",
       "std    9.869480e+05   59525.328991      17.704688       2.045869   \n",
       "min    4.000000e+00       2.000000       1.000000       0.000000   \n",
       "25%    8.564685e+05   51414.000000       5.000000       1.000000   \n",
       "50%    1.709522e+06  102633.000000      11.000000       3.000000   \n",
       "75%    2.562990e+06  154419.000000      23.000000       5.000000   \n",
       "max    3.421079e+06  206209.000000     100.000000       6.000000   \n",
       "\n",
       "       order_hour_of_day  days_since_prior_order  \n",
       "count      478967.000000           450148.000000  \n",
       "mean           13.446676               11.101751  \n",
       "std             4.224986                9.189975  \n",
       "min             0.000000                0.000000  \n",
       "25%            10.000000                4.000000  \n",
       "50%            13.000000                7.000000  \n",
       "75%            16.000000               15.000000  \n",
       "max            23.000000               30.000000  "
      ]
     },
     "execution_count": 5,
     "metadata": {},
     "output_type": "execute_result"
    }
   ],
   "source": [
    "# mostrar información del DataFrame\n",
    "instacart_orders.describe()\n"
   ]
  },
  {
   "cell_type": "code",
   "execution_count": 6,
   "id": "59e2090f",
   "metadata": {
    "id": "59e2090f"
   },
   "outputs": [
    {
     "data": {
      "text/plain": [
       "order_id                      0\n",
       "user_id                       0\n",
       "order_number                  0\n",
       "order_dow                     0\n",
       "order_hour_of_day             0\n",
       "days_since_prior_order    28819\n",
       "dtype: int64"
      ]
     },
     "execution_count": 6,
     "metadata": {},
     "output_type": "execute_result"
    }
   ],
   "source": [
    "# mostrar información del DataFrame\n",
    "instacart_orders.isnull().sum()\n"
   ]
  },
  {
   "cell_type": "code",
   "execution_count": 7,
   "id": "6fc81694",
   "metadata": {
    "id": "6fc81694"
   },
   "outputs": [
    {
     "data": {
      "text/plain": [
       "order_id                    int64\n",
       "user_id                     int64\n",
       "order_number                int64\n",
       "order_dow                   int64\n",
       "order_hour_of_day           int64\n",
       "days_since_prior_order    float64\n",
       "dtype: object"
      ]
     },
     "execution_count": 7,
     "metadata": {},
     "output_type": "execute_result"
    }
   ],
   "source": [
    "# mostrar información del DataFrame\n",
    "instacart_orders.dtypes\n"
   ]
  },
  {
   "cell_type": "markdown",
   "id": "t75BD19oaR5f",
   "metadata": {
    "id": "t75BD19oaR5f"
   },
   "source": [
    "## Conclusiones\n",
    "\n",
    "1️⃣ Estructura y formato del DataFrame:\n",
    "El dataset contiene 478,967 registros y 6 columnas correctamente separadas.\n",
    "Los nombres de las columnas son order_id, user_id, order_number, order_dow, order_hour_of_day y days_since_prior_order.\n",
    "Las columnas tienen tipos de datos adecuados (int64 y float64), por lo que no es necesario realizar conversiones.\n",
    "\n",
    "2️⃣ Valores faltantes:\n",
    "La única columna con valores nulos es days_since_prior_order, con 28,819 valores faltantes.\n",
    "Esto indica que hay órdenes sin historial previo de compras, posiblemente primeros pedidos de usuarios nuevos.\n",
    "\n",
    "\n",
    "3️⃣ Análisis estadístico:\n",
    "order_dow (día de la semana en que se realizó el pedido) varía de 0 a 6, lo cual es coherente con un rango de días de la semana.\n",
    "order_hour_of_day (hora del pedido) oscila entre 0 y 23, reflejando el horario de las compras.\n",
    "days_since_prior_order tiene una media de 11.1 días, indicando que los usuarios suelen hacer pedidos con una periodicidad de aproximadamente 11 días.\n"
   ]
  },
  {
   "cell_type": "markdown",
   "id": "8RJHqxVmaVsF",
   "metadata": {
    "id": "8RJHqxVmaVsF"
   },
   "source": [
    "# Paso 2. Preprocesamiento de los datos\n",
    "\n",
    "Preprocesa los datos de la siguiente manera:\n",
    "\n",
    "- Verifica y corrige los tipos de datos (por ejemplo, asegúrate de que las columnas de ID sean números enteros).\n",
    "- Identifica y completa los valores ausentes.\n",
    "- Identifica y elimina los valores duplicados.\n",
    "\n",
    "Asegúrate de explicar qué tipos de valores ausentes y duplicados encontraste, cómo los completaste o eliminaste y por qué usaste esos métodos. ¿Por qué crees que estos valores ausentes y duplicados pueden haber estado presentes en el conjunto de datos?"
   ]
  },
  {
   "cell_type": "markdown",
   "id": "p6poABZQaZYb",
   "metadata": {
    "id": "p6poABZQaZYb"
   },
   "source": [
    "## Plan de solución\n",
    "\n",
    "Escribe aquí tu plan para el Paso 2. Preprocesamiento de los datos."
   ]
  },
  {
   "cell_type": "markdown",
   "id": "07357848-dc64-4156-9cc3-01ff4365226d",
   "metadata": {
    "id": "07357848-dc64-4156-9cc3-01ff4365226d"
   },
   "source": [
    "## Encuentra y elimina los valores duplicados (y describe cómo tomaste tus decisiones)."
   ]
  },
  {
   "cell_type": "markdown",
   "id": "f179f0a9",
   "metadata": {
    "id": "f179f0a9"
   },
   "source": [
    "### `orders` data frame"
   ]
  },
  {
   "cell_type": "code",
   "execution_count": 8,
   "id": "b99297a5-405a-463d-8535-9adc3da4ad74",
   "metadata": {
    "id": "b99297a5-405a-463d-8535-9adc3da4ad74"
   },
   "outputs": [
    {
     "name": "stdout",
     "output_type": "stream",
     "text": [
      "        order_id  user_id  order_number  order_dow  order_hour_of_day  \\\n",
      "145574    794638    50898            24          3                  2   \n",
      "223105   2160484   107525            16          3                  2   \n",
      "230807   1918001   188546            14          3                  2   \n",
      "266232   1782114   106752             1          3                  2   \n",
      "273805   1112182   202304            84          3                  2   \n",
      "284038   2845099    31189            11          3                  2   \n",
      "311713   1021560    53767             3          3                  2   \n",
      "321100    408114    68324             4          3                  2   \n",
      "323900   1919531   191501            32          3                  2   \n",
      "345917   2232988    82565             1          3                  2   \n",
      "371905    391768    57671            19          3                  2   \n",
      "394347    467134    63189            21          3                  2   \n",
      "411408   1286742   183220            48          3                  2   \n",
      "415163   2282673    86751            49          3                  2   \n",
      "441599   2125197    14050            48          3                  2   \n",
      "\n",
      "        days_since_prior_order  \n",
      "145574                     2.0  \n",
      "223105                    30.0  \n",
      "230807                    16.0  \n",
      "266232                     NaN  \n",
      "273805                     6.0  \n",
      "284038                     7.0  \n",
      "311713                     9.0  \n",
      "321100                    18.0  \n",
      "323900                     7.0  \n",
      "345917                     NaN  \n",
      "371905                    10.0  \n",
      "394347                     2.0  \n",
      "411408                     4.0  \n",
      "415163                     2.0  \n",
      "441599                     3.0  \n"
     ]
    }
   ],
   "source": [
    "# Revisa si hay pedidos duplicados\n",
    "duplicados_df = instacart_orders[instacart_orders.duplicated()]\n",
    "print(duplicados_df)\n"
   ]
  },
  {
   "cell_type": "markdown",
   "id": "PEkwUX_gvt5A",
   "metadata": {
    "id": "PEkwUX_gvt5A"
   },
   "source": [
    "¿Tienes líneas duplicadas? Si sí, ¿qué tienen en común?\n",
    "Sí, se identificaron 15 filas duplicadas.\n",
    "\n",
    "Puntos en común:\n",
    "\n",
    "Todos los pedidos duplicados ocurrieron el miércoles (order_dow == 3).\n",
    "Todos fueron realizados a las 2:00 a. m. (order_hour_of_day == 2).\n",
    "Algunos registros tienen valores nulos (NaN) en days_since_prior_order, lo que indica que no hay información sobre el tiempo desde la compra anterior.\n",
    "Los valores de days_since_prior_order en los duplicados son muy bajos (entre 2 y 10 días en muchos casos).\n",
    "Esto sugiere que los duplicados pueden deberse a errores en la recopilación de datos o a pedidos recurrentes automatizados."
   ]
  },
  {
   "cell_type": "code",
   "execution_count": 9,
   "id": "0d44de5d",
   "metadata": {
    "id": "0d44de5d"
   },
   "outputs": [
    {
     "data": {
      "text/html": [
       "<div>\n",
       "<style scoped>\n",
       "    .dataframe tbody tr th:only-of-type {\n",
       "        vertical-align: middle;\n",
       "    }\n",
       "\n",
       "    .dataframe tbody tr th {\n",
       "        vertical-align: top;\n",
       "    }\n",
       "\n",
       "    .dataframe thead th {\n",
       "        text-align: right;\n",
       "    }\n",
       "</style>\n",
       "<table border=\"1\" class=\"dataframe\">\n",
       "  <thead>\n",
       "    <tr style=\"text-align: right;\">\n",
       "      <th></th>\n",
       "      <th>order_id</th>\n",
       "      <th>user_id</th>\n",
       "      <th>order_number</th>\n",
       "      <th>order_dow</th>\n",
       "      <th>order_hour_of_day</th>\n",
       "      <th>days_since_prior_order</th>\n",
       "    </tr>\n",
       "  </thead>\n",
       "  <tbody>\n",
       "    <tr>\n",
       "      <th>4838</th>\n",
       "      <td>2766110</td>\n",
       "      <td>162084</td>\n",
       "      <td>41</td>\n",
       "      <td>3</td>\n",
       "      <td>2</td>\n",
       "      <td>16.0</td>\n",
       "    </tr>\n",
       "    <tr>\n",
       "      <th>5156</th>\n",
       "      <td>2190225</td>\n",
       "      <td>138285</td>\n",
       "      <td>18</td>\n",
       "      <td>3</td>\n",
       "      <td>2</td>\n",
       "      <td>11.0</td>\n",
       "    </tr>\n",
       "    <tr>\n",
       "      <th>15506</th>\n",
       "      <td>553049</td>\n",
       "      <td>58599</td>\n",
       "      <td>13</td>\n",
       "      <td>3</td>\n",
       "      <td>2</td>\n",
       "      <td>7.0</td>\n",
       "    </tr>\n",
       "    <tr>\n",
       "      <th>18420</th>\n",
       "      <td>382357</td>\n",
       "      <td>120200</td>\n",
       "      <td>19</td>\n",
       "      <td>3</td>\n",
       "      <td>2</td>\n",
       "      <td>11.0</td>\n",
       "    </tr>\n",
       "    <tr>\n",
       "      <th>24691</th>\n",
       "      <td>690242</td>\n",
       "      <td>77357</td>\n",
       "      <td>2</td>\n",
       "      <td>3</td>\n",
       "      <td>2</td>\n",
       "      <td>9.0</td>\n",
       "    </tr>\n",
       "    <tr>\n",
       "      <th>...</th>\n",
       "      <td>...</td>\n",
       "      <td>...</td>\n",
       "      <td>...</td>\n",
       "      <td>...</td>\n",
       "      <td>...</td>\n",
       "      <td>...</td>\n",
       "    </tr>\n",
       "    <tr>\n",
       "      <th>457013</th>\n",
       "      <td>3384021</td>\n",
       "      <td>14881</td>\n",
       "      <td>6</td>\n",
       "      <td>3</td>\n",
       "      <td>2</td>\n",
       "      <td>30.0</td>\n",
       "    </tr>\n",
       "    <tr>\n",
       "      <th>458816</th>\n",
       "      <td>910166</td>\n",
       "      <td>164782</td>\n",
       "      <td>18</td>\n",
       "      <td>3</td>\n",
       "      <td>2</td>\n",
       "      <td>4.0</td>\n",
       "    </tr>\n",
       "    <tr>\n",
       "      <th>459635</th>\n",
       "      <td>1680532</td>\n",
       "      <td>106435</td>\n",
       "      <td>6</td>\n",
       "      <td>3</td>\n",
       "      <td>2</td>\n",
       "      <td>21.0</td>\n",
       "    </tr>\n",
       "    <tr>\n",
       "      <th>468324</th>\n",
       "      <td>222962</td>\n",
       "      <td>54979</td>\n",
       "      <td>59</td>\n",
       "      <td>3</td>\n",
       "      <td>2</td>\n",
       "      <td>3.0</td>\n",
       "    </tr>\n",
       "    <tr>\n",
       "      <th>477526</th>\n",
       "      <td>2592344</td>\n",
       "      <td>46860</td>\n",
       "      <td>38</td>\n",
       "      <td>3</td>\n",
       "      <td>2</td>\n",
       "      <td>3.0</td>\n",
       "    </tr>\n",
       "  </tbody>\n",
       "</table>\n",
       "<p>121 rows × 6 columns</p>\n",
       "</div>"
      ],
      "text/plain": [
       "        order_id  user_id  order_number  order_dow  order_hour_of_day  \\\n",
       "4838     2766110   162084            41          3                  2   \n",
       "5156     2190225   138285            18          3                  2   \n",
       "15506     553049    58599            13          3                  2   \n",
       "18420     382357   120200            19          3                  2   \n",
       "24691     690242    77357             2          3                  2   \n",
       "...          ...      ...           ...        ...                ...   \n",
       "457013   3384021    14881             6          3                  2   \n",
       "458816    910166   164782            18          3                  2   \n",
       "459635   1680532   106435             6          3                  2   \n",
       "468324    222962    54979            59          3                  2   \n",
       "477526   2592344    46860            38          3                  2   \n",
       "\n",
       "        days_since_prior_order  \n",
       "4838                      16.0  \n",
       "5156                      11.0  \n",
       "15506                      7.0  \n",
       "18420                     11.0  \n",
       "24691                      9.0  \n",
       "...                        ...  \n",
       "457013                    30.0  \n",
       "458816                     4.0  \n",
       "459635                    21.0  \n",
       "468324                     3.0  \n",
       "477526                     3.0  \n",
       "\n",
       "[121 rows x 6 columns]"
      ]
     },
     "execution_count": 9,
     "metadata": {},
     "output_type": "execute_result"
    }
   ],
   "source": [
    "# Basándote en tus hallazgos,\n",
    "# Verifica todos los pedidos que se hicieron el miércoles a las 2:00 a.m.\n",
    "instacart_orders[(instacart_orders['order_dow'] == 3) & (instacart_orders['order_hour_of_day'] == 2)]\n"
   ]
  },
  {
   "cell_type": "markdown",
   "id": "vu2OWyoqwOx5",
   "metadata": {
    "id": "vu2OWyoqwOx5"
   },
   "source": [
    "¿Qué sugiere este resultado?\n",
    "El resultado sugiere que hay 121 pedidos realizados los miércoles a las 2:00 a.m. Esto indica que, aunque es un horario inusual para hacer compras, hay clientes que aún realizan pedidos en ese momento. Es posible que estos pedidos correspondan a compras programadas, usuarios con horarios de trabajo nocturno o incluso automatizaciones del sistema. Además, se debe analizar si estos pedidos presentan algún patrón específico en términos de productos comprados o perfiles de usuario."
   ]
  },
  {
   "cell_type": "code",
   "execution_count": 10,
   "id": "480563c7",
   "metadata": {
    "id": "480563c7"
   },
   "outputs": [
    {
     "name": "stdout",
     "output_type": "stream",
     "text": [
      "Pedidos duplicados eliminados.\n"
     ]
    }
   ],
   "source": [
    "# Elimina los pedidos duplicados\n",
    "instacart_orders = instacart_orders.drop_duplicates()\n",
    "print(\"Pedidos duplicados eliminados.\")\n"
   ]
  },
  {
   "cell_type": "code",
   "execution_count": 11,
   "id": "0b2396a2",
   "metadata": {
    "id": "0b2396a2"
   },
   "outputs": [
    {
     "name": "stdout",
     "output_type": "stream",
     "text": [
      "Número de filas duplicadas después de la limpieza: 0\n"
     ]
    }
   ],
   "source": [
    "# Vuelve a verificar si hay filas duplicadas\n",
    "duplicados_restantes = instacart_orders.duplicated().sum()\n",
    "print(f\"Número de filas duplicadas después de la limpieza: {duplicados_restantes}\")\n"
   ]
  },
  {
   "cell_type": "code",
   "execution_count": 12,
   "id": "f6113ef1",
   "metadata": {
    "id": "f6113ef1"
   },
   "outputs": [
    {
     "name": "stdout",
     "output_type": "stream",
     "text": [
      "Número de IDs de pedidos duplicados después de la limpieza: 0\n"
     ]
    }
   ],
   "source": [
    "# Vuelve a verificar únicamente si hay IDs duplicados de pedidos\n",
    "duplicados_id = instacart_orders['order_id'].duplicated().sum()\n",
    "print(f\"Número de IDs de pedidos duplicados después de la limpieza: {duplicados_id}\")\n"
   ]
  },
  {
   "cell_type": "markdown",
   "id": "5e8905ae",
   "metadata": {
    "id": "5e8905ae"
   },
   "source": [
    "Se identificaron 121 registros correspondientes a pedidos realizados el miércoles a las 2:00 a. m. (order_dow == 3, order_hour_of_day == 2). Esto confirma que este horario tiene una recurrencia particular en los datos.\n",
    "\n",
    "Acciones tomadas:\n",
    "\n",
    "Se verificó que no fueran pedidos duplicados exactos.\n",
    "Se eliminaron las filas duplicadas para evitar sesgos en el análisis.\n",
    "Se revisó que no hubiera order_id duplicados, asegurando que cada pedido sea único.\n",
    "Este preprocesamiento permite trabajar con datos más limpios y representativos."
   ]
  },
  {
   "cell_type": "markdown",
   "id": "45e6bc46",
   "metadata": {
    "id": "45e6bc46"
   },
   "source": [
    "### `products` data frame"
   ]
  },
  {
   "cell_type": "code",
   "execution_count": 15,
   "id": "5524ec00",
   "metadata": {},
   "outputs": [],
   "source": [
    "products=pd.read_csv('/datasets/products.csv', delimiter=';')"
   ]
  },
  {
   "cell_type": "code",
   "execution_count": 16,
   "id": "5f526b5b-8175-46fa-a0fd-441767d50e64",
   "metadata": {
    "id": "5f526b5b-8175-46fa-a0fd-441767d50e64"
   },
   "outputs": [
    {
     "name": "stdout",
     "output_type": "stream",
     "text": [
      "Número de filas totalmente duplicadas: 0\n"
     ]
    }
   ],
   "source": [
    "# Verifica si hay filas totalmente duplicadas\n",
    "duplicados_products = products.duplicated().sum()\n",
    "print(f\"Número de filas totalmente duplicadas: {duplicados_products}\")\n"
   ]
  },
  {
   "cell_type": "code",
   "execution_count": 17,
   "id": "469055d8",
   "metadata": {},
   "outputs": [],
   "source": [
    "products = pd.read_csv('/datasets/products.csv', delimiter=';')\n"
   ]
  },
  {
   "cell_type": "code",
   "execution_count": 18,
   "id": "88daa4f4",
   "metadata": {
    "id": "88daa4f4"
   },
   "outputs": [
    {
     "name": "stdout",
     "output_type": "stream",
     "text": [
      "Número de IDs de departamentos duplicados: 49673\n"
     ]
    }
   ],
   "source": [
    "# Revisa únicamente si hay ID de departamentos duplicados\n",
    "duplicados_departamentos = products['department_id'].duplicated().sum()\n",
    "print(f\"Número de IDs de departamentos duplicados: {duplicados_departamentos}\")\n"
   ]
  },
  {
   "cell_type": "code",
   "execution_count": 19,
   "id": "c773f0bf",
   "metadata": {
    "id": "c773f0bf"
   },
   "outputs": [
    {
     "name": "stdout",
     "output_type": "stream",
     "text": [
      "Número de nombres de productos duplicados: 1361\n"
     ]
    }
   ],
   "source": [
    "# Revisa únicamente si hay nombres duplicados de productos (convierte los nombres a letras mayúsculas para compararlos mejor)\n",
    "products['product_name_upper'] = products['product_name'].str.upper()\n",
    "productos_duplicados = products.duplicated(subset=['product_name_upper']).sum()\n",
    "print(f\"Número de nombres de productos duplicados: {productos_duplicados}\")\n"
   ]
  },
  {
   "cell_type": "code",
   "execution_count": 20,
   "id": "34a0ffee",
   "metadata": {},
   "outputs": [
    {
     "data": {
      "text/html": [
       "<div>\n",
       "<style scoped>\n",
       "    .dataframe tbody tr th:only-of-type {\n",
       "        vertical-align: middle;\n",
       "    }\n",
       "\n",
       "    .dataframe tbody tr th {\n",
       "        vertical-align: top;\n",
       "    }\n",
       "\n",
       "    .dataframe thead th {\n",
       "        text-align: right;\n",
       "    }\n",
       "</style>\n",
       "<table border=\"1\" class=\"dataframe\">\n",
       "  <thead>\n",
       "    <tr style=\"text-align: right;\">\n",
       "      <th></th>\n",
       "      <th>product_id</th>\n",
       "      <th>product_name</th>\n",
       "      <th>aisle_id</th>\n",
       "      <th>department_id</th>\n",
       "      <th>product_name_upper</th>\n",
       "    </tr>\n",
       "  </thead>\n",
       "  <tbody>\n",
       "    <tr>\n",
       "      <th>37</th>\n",
       "      <td>38</td>\n",
       "      <td>NaN</td>\n",
       "      <td>100</td>\n",
       "      <td>21</td>\n",
       "      <td>NaN</td>\n",
       "    </tr>\n",
       "    <tr>\n",
       "      <th>41</th>\n",
       "      <td>42</td>\n",
       "      <td>Biotin 1000 mcg</td>\n",
       "      <td>47</td>\n",
       "      <td>11</td>\n",
       "      <td>BIOTIN 1000 MCG</td>\n",
       "    </tr>\n",
       "    <tr>\n",
       "      <th>71</th>\n",
       "      <td>72</td>\n",
       "      <td>NaN</td>\n",
       "      <td>100</td>\n",
       "      <td>21</td>\n",
       "      <td>NaN</td>\n",
       "    </tr>\n",
       "    <tr>\n",
       "      <th>109</th>\n",
       "      <td>110</td>\n",
       "      <td>NaN</td>\n",
       "      <td>100</td>\n",
       "      <td>21</td>\n",
       "      <td>NaN</td>\n",
       "    </tr>\n",
       "    <tr>\n",
       "      <th>185</th>\n",
       "      <td>186</td>\n",
       "      <td>Fresh Scent Dishwasher Detergent with Dawn</td>\n",
       "      <td>74</td>\n",
       "      <td>17</td>\n",
       "      <td>FRESH SCENT DISHWASHER DETERGENT WITH DAWN</td>\n",
       "    </tr>\n",
       "    <tr>\n",
       "      <th>...</th>\n",
       "      <td>...</td>\n",
       "      <td>...</td>\n",
       "      <td>...</td>\n",
       "      <td>...</td>\n",
       "      <td>...</td>\n",
       "    </tr>\n",
       "    <tr>\n",
       "      <th>49689</th>\n",
       "      <td>49690</td>\n",
       "      <td>HIGH PERFORMANCE ENERGY DRINK</td>\n",
       "      <td>64</td>\n",
       "      <td>7</td>\n",
       "      <td>HIGH PERFORMANCE ENERGY DRINK</td>\n",
       "    </tr>\n",
       "    <tr>\n",
       "      <th>49690</th>\n",
       "      <td>49691</td>\n",
       "      <td>ORIGINAL PANCAKE &amp; WAFFLE MIX</td>\n",
       "      <td>130</td>\n",
       "      <td>14</td>\n",
       "      <td>ORIGINAL PANCAKE &amp; WAFFLE MIX</td>\n",
       "    </tr>\n",
       "    <tr>\n",
       "      <th>49691</th>\n",
       "      <td>49692</td>\n",
       "      <td>ORGANIC INSTANT OATMEAL LIGHT MAPLE BROWN SUGAR</td>\n",
       "      <td>130</td>\n",
       "      <td>14</td>\n",
       "      <td>ORGANIC INSTANT OATMEAL LIGHT MAPLE BROWN SUGAR</td>\n",
       "    </tr>\n",
       "    <tr>\n",
       "      <th>49692</th>\n",
       "      <td>49693</td>\n",
       "      <td>SPRING WATER BODY WASH</td>\n",
       "      <td>127</td>\n",
       "      <td>11</td>\n",
       "      <td>SPRING WATER BODY WASH</td>\n",
       "    </tr>\n",
       "    <tr>\n",
       "      <th>49693</th>\n",
       "      <td>49694</td>\n",
       "      <td>BURRITO- STEAK &amp; CHEESE</td>\n",
       "      <td>38</td>\n",
       "      <td>1</td>\n",
       "      <td>BURRITO- STEAK &amp; CHEESE</td>\n",
       "    </tr>\n",
       "  </tbody>\n",
       "</table>\n",
       "<p>1465 rows × 5 columns</p>\n",
       "</div>"
      ],
      "text/plain": [
       "       product_id                                     product_name  aisle_id  \\\n",
       "37             38                                              NaN       100   \n",
       "41             42                                  Biotin 1000 mcg        47   \n",
       "71             72                                              NaN       100   \n",
       "109           110                                              NaN       100   \n",
       "185           186       Fresh Scent Dishwasher Detergent with Dawn        74   \n",
       "...           ...                                              ...       ...   \n",
       "49689       49690                    HIGH PERFORMANCE ENERGY DRINK        64   \n",
       "49690       49691                    ORIGINAL PANCAKE & WAFFLE MIX       130   \n",
       "49691       49692  ORGANIC INSTANT OATMEAL LIGHT MAPLE BROWN SUGAR       130   \n",
       "49692       49693                           SPRING WATER BODY WASH       127   \n",
       "49693       49694                          BURRITO- STEAK & CHEESE        38   \n",
       "\n",
       "       department_id                               product_name_upper  \n",
       "37                21                                              NaN  \n",
       "41                11                                  BIOTIN 1000 MCG  \n",
       "71                21                                              NaN  \n",
       "109               21                                              NaN  \n",
       "185               17       FRESH SCENT DISHWASHER DETERGENT WITH DAWN  \n",
       "...              ...                                              ...  \n",
       "49689              7                    HIGH PERFORMANCE ENERGY DRINK  \n",
       "49690             14                    ORIGINAL PANCAKE & WAFFLE MIX  \n",
       "49691             14  ORGANIC INSTANT OATMEAL LIGHT MAPLE BROWN SUGAR  \n",
       "49692             11                           SPRING WATER BODY WASH  \n",
       "49693              1                          BURRITO- STEAK & CHEESE  \n",
       "\n",
       "[1465 rows x 5 columns]"
      ]
     },
     "execution_count": 20,
     "metadata": {},
     "output_type": "execute_result"
    }
   ],
   "source": [
    "products[products.duplicated(subset=['product_name_upper'], keep=False)]\n"
   ]
  },
  {
   "cell_type": "code",
   "execution_count": 21,
   "id": "01efd02e",
   "metadata": {
    "id": "01efd02e"
   },
   "outputs": [
    {
     "name": "stdout",
     "output_type": "stream",
     "text": [
      "Número de nombres duplicados sin valores nulos: 104\n"
     ]
    }
   ],
   "source": [
    "# Revisa si hay nombres duplicados de productos no faltantes\n",
    "productos_no_nulos = products.dropna(subset=['product_name'])\n",
    "productos_duplicados_no_nulos = productos_no_nulos.duplicated(subset=['product_name_upper']).sum()\n",
    "print(f\"Número de nombres duplicados sin valores nulos: {productos_duplicados_no_nulos}\")\n"
   ]
  },
  {
   "cell_type": "markdown",
   "id": "9da8d293",
   "metadata": {
    "id": "9da8d293"
   },
   "source": [
    "### **Hallazgos y acciones tomadas**  \n",
    "\n",
    "- **No se encontraron filas totalmente duplicadas**, lo que indica que el dataset no tiene registros repetidos completos.  \n",
    "- **Se identificaron 49,673 IDs de departamentos duplicados**, lo cual es normal, ya que múltiples productos pueden pertenecer al mismo departamento.  \n",
    "- **Se encontraron 1,361 nombres de productos duplicados** al convertirlos a mayúsculas, lo que indica que algunos productos pueden estar registrados más de una vez.  \n",
    "- **Después de eliminar valores nulos en `product_name`**, quedaron **104 productos con nombres duplicados**, lo que puede requerir revisión.  \n",
    "\n",
    "**Acción tomada:** Se analizaron los duplicados, pero no se eliminaron los IDs de departamentos repetidos, ya que son datos válidos."
   ]
  },
  {
   "cell_type": "markdown",
   "id": "60f30db1",
   "metadata": {
    "id": "60f30db1"
   },
   "source": [
    "### `departments` data frame"
   ]
  },
  {
   "cell_type": "code",
   "execution_count": 22,
   "id": "d4a94966",
   "metadata": {},
   "outputs": [],
   "source": [
    "departments = pd.read_csv('/datasets/departments.csv', delimiter=';')\n"
   ]
  },
  {
   "cell_type": "code",
   "execution_count": 23,
   "id": "fb410ad4-0fbf-4b80-bb09-23fdea79afe3",
   "metadata": {
    "id": "fb410ad4-0fbf-4b80-bb09-23fdea79afe3"
   },
   "outputs": [
    {
     "name": "stdout",
     "output_type": "stream",
     "text": [
      "Número de filas totalmente duplicadas en departments: 0\n"
     ]
    }
   ],
   "source": [
    "# Revisa si hay filas totalmente duplicadas\n",
    "duplicados_departments = departments.duplicated().sum()\n",
    "print(f\"Número de filas totalmente duplicadas en departments: {duplicados_departments}\")\n"
   ]
  },
  {
   "cell_type": "code",
   "execution_count": 24,
   "id": "332b12bb",
   "metadata": {
    "id": "332b12bb"
   },
   "outputs": [],
   "source": [
    "# Revisa únicamente si hay IDs duplicadas de productos"
   ]
  },
  {
   "cell_type": "markdown",
   "id": "bd30d78e",
   "metadata": {
    "id": "bd30d78e"
   },
   "source": [
    "5.4 departments data frame\n",
    "\n",
    "No se encontraron filas totalmente duplicadas, lo que indica que los datos de los departamentos están bien estructurados.\n",
    "Se verificó que no hay IDs duplicados de productos en departamentos, lo que confirma que cada departamento tiene un identificador único.\n",
    "Acción tomada: No se realizaron modificaciones, ya que los datos están limpios y no presentan inconsistencias."
   ]
  },
  {
   "cell_type": "markdown",
   "id": "889349c1",
   "metadata": {
    "id": "889349c1"
   },
   "source": [
    "### `aisles` data frame"
   ]
  },
  {
   "cell_type": "code",
   "execution_count": 25,
   "id": "2630f198",
   "metadata": {},
   "outputs": [],
   "source": [
    "aisles = pd.read_csv('/datasets/aisles.csv', delimiter=';')\n"
   ]
  },
  {
   "cell_type": "code",
   "execution_count": 26,
   "id": "9da89fb9-4679-40f5-ad0d-c34df753a3f8",
   "metadata": {
    "id": "9da89fb9-4679-40f5-ad0d-c34df753a3f8"
   },
   "outputs": [
    {
     "name": "stdout",
     "output_type": "stream",
     "text": [
      "Número de filas totalmente duplicadas en aisles: 0\n"
     ]
    }
   ],
   "source": [
    "# Revisa si hay filas totalmente duplicadas\n",
    "duplicados_aisles = aisles.duplicated().sum()\n",
    "print(f\"Número de filas totalmente duplicadas en aisles: {duplicados_aisles}\")\n"
   ]
  },
  {
   "cell_type": "code",
   "execution_count": 27,
   "id": "da7c2822",
   "metadata": {
    "id": "da7c2822"
   },
   "outputs": [
    {
     "name": "stdout",
     "output_type": "stream",
     "text": [
      "Número de IDs duplicados de pasillos: 0\n"
     ]
    }
   ],
   "source": [
    "# Revisa únicamente si hay IDs duplicadas de pasillos\n",
    "duplicados_aisles_id = aisles['aisle_id'].duplicated().sum()\n",
    "print(f\"Número de IDs duplicados de pasillos: {duplicados_aisles_id}\")\n"
   ]
  },
  {
   "cell_type": "markdown",
   "id": "ac63826f",
   "metadata": {
    "id": "ac63826f"
   },
   "source": [
    "No hubo duplicados en aisles"
   ]
  },
  {
   "cell_type": "markdown",
   "id": "274cd06a",
   "metadata": {
    "id": "274cd06a"
   },
   "source": [
    "### `order_products` data frame"
   ]
  },
  {
   "cell_type": "code",
   "execution_count": 28,
   "id": "e5e2a1f6",
   "metadata": {},
   "outputs": [],
   "source": [
    "order_products = pd.read_csv('/datasets/order_products.csv', delimiter=';')"
   ]
  },
  {
   "cell_type": "code",
   "execution_count": 29,
   "id": "52326689-84a8-4b8f-a881-7c68780f62c9",
   "metadata": {
    "id": "52326689-84a8-4b8f-a881-7c68780f62c9"
   },
   "outputs": [
    {
     "name": "stdout",
     "output_type": "stream",
     "text": [
      "Número de filas totalmente duplicadas en order_products: 0\n"
     ]
    }
   ],
   "source": [
    "# Revisa si hay filas totalmente duplicadas\n",
    "duplicados_order_products = order_products.duplicated().sum()\n",
    "print(f\"Número de filas totalmente duplicadas en order_products: {duplicados_order_products}\")\n"
   ]
  },
  {
   "cell_type": "code",
   "execution_count": 30,
   "id": "7b861391",
   "metadata": {
    "id": "7b861391"
   },
   "outputs": [
    {
     "name": "stdout",
     "output_type": "stream",
     "text": [
      "Número de posibles duplicados engañosos: 0\n"
     ]
    }
   ],
   "source": [
    "# Vuelve a verificar si hay cualquier otro duplicado engañoso\n",
    "duplicados_engañosos = order_products.duplicated(subset=['order_id', 'product_id']).sum()\n",
    "print(f\"Número de posibles duplicados engañosos: {duplicados_engañosos}\")\n"
   ]
  },
  {
   "cell_type": "markdown",
   "id": "0b890492",
   "metadata": {
    "id": "0b890492"
   },
   "source": [
    "Hallazgos:\n",
    "\n",
    "No se encontraron filas completamente duplicadas en el dataset.\n",
    "No hubo duplicados engañosos, lo que indica que cada pedido tiene productos únicos y no hay registros duplicados dentro de la misma orden.\n",
    "Acción tomada:\n",
    "\n",
    "No fue necesario eliminar duplicados, ya que los datos están limpios.\n",
    "Se confirmó que la estructura del dataset es correcta y lista para su análisis. "
   ]
  },
  {
   "cell_type": "markdown",
   "id": "1e46de76",
   "metadata": {
    "id": "1e46de76"
   },
   "source": [
    "## Encuentra y elimina los valores ausentes\n",
    "\n",
    "Al trabajar con valores duplicados, pudimos observar que también nos falta investigar valores ausentes:\n",
    "\n",
    "* La columna `'product_name'` de la tabla products.\n",
    "* La columna `'days_since_prior_order'` de la tabla orders.\n",
    "* La columna `'add_to_cart_order'` de la tabla order_productos."
   ]
  },
  {
   "cell_type": "markdown",
   "id": "c0aebd78",
   "metadata": {
    "id": "c0aebd78"
   },
   "source": [
    "### `products` data frame"
   ]
  },
  {
   "cell_type": "code",
   "execution_count": 31,
   "id": "fe4a8b0f",
   "metadata": {
    "id": "fe4a8b0f"
   },
   "outputs": [
    {
     "name": "stdout",
     "output_type": "stream",
     "text": [
      "Número de valores ausentes en 'product_name': 1258\n"
     ]
    }
   ],
   "source": [
    "# Encuentra los valores ausentes en la columna 'product_name'\n",
    "productos_nulos = products['product_name'].isnull().sum()\n",
    "print(f\"Número de valores ausentes en 'product_name': {productos_nulos}\")\n"
   ]
  },
  {
   "cell_type": "code",
   "execution_count": 32,
   "id": "0018404d",
   "metadata": {},
   "outputs": [
    {
     "data": {
      "text/html": [
       "<div>\n",
       "<style scoped>\n",
       "    .dataframe tbody tr th:only-of-type {\n",
       "        vertical-align: middle;\n",
       "    }\n",
       "\n",
       "    .dataframe tbody tr th {\n",
       "        vertical-align: top;\n",
       "    }\n",
       "\n",
       "    .dataframe thead th {\n",
       "        text-align: right;\n",
       "    }\n",
       "</style>\n",
       "<table border=\"1\" class=\"dataframe\">\n",
       "  <thead>\n",
       "    <tr style=\"text-align: right;\">\n",
       "      <th></th>\n",
       "      <th>product_id</th>\n",
       "      <th>product_name</th>\n",
       "      <th>aisle_id</th>\n",
       "      <th>department_id</th>\n",
       "      <th>product_name_upper</th>\n",
       "    </tr>\n",
       "  </thead>\n",
       "  <tbody>\n",
       "    <tr>\n",
       "      <th>37</th>\n",
       "      <td>38</td>\n",
       "      <td>NaN</td>\n",
       "      <td>100</td>\n",
       "      <td>21</td>\n",
       "      <td>NaN</td>\n",
       "    </tr>\n",
       "    <tr>\n",
       "      <th>71</th>\n",
       "      <td>72</td>\n",
       "      <td>NaN</td>\n",
       "      <td>100</td>\n",
       "      <td>21</td>\n",
       "      <td>NaN</td>\n",
       "    </tr>\n",
       "    <tr>\n",
       "      <th>109</th>\n",
       "      <td>110</td>\n",
       "      <td>NaN</td>\n",
       "      <td>100</td>\n",
       "      <td>21</td>\n",
       "      <td>NaN</td>\n",
       "    </tr>\n",
       "    <tr>\n",
       "      <th>296</th>\n",
       "      <td>297</td>\n",
       "      <td>NaN</td>\n",
       "      <td>100</td>\n",
       "      <td>21</td>\n",
       "      <td>NaN</td>\n",
       "    </tr>\n",
       "    <tr>\n",
       "      <th>416</th>\n",
       "      <td>417</td>\n",
       "      <td>NaN</td>\n",
       "      <td>100</td>\n",
       "      <td>21</td>\n",
       "      <td>NaN</td>\n",
       "    </tr>\n",
       "    <tr>\n",
       "      <th>...</th>\n",
       "      <td>...</td>\n",
       "      <td>...</td>\n",
       "      <td>...</td>\n",
       "      <td>...</td>\n",
       "      <td>...</td>\n",
       "    </tr>\n",
       "    <tr>\n",
       "      <th>49552</th>\n",
       "      <td>49553</td>\n",
       "      <td>NaN</td>\n",
       "      <td>100</td>\n",
       "      <td>21</td>\n",
       "      <td>NaN</td>\n",
       "    </tr>\n",
       "    <tr>\n",
       "      <th>49574</th>\n",
       "      <td>49575</td>\n",
       "      <td>NaN</td>\n",
       "      <td>100</td>\n",
       "      <td>21</td>\n",
       "      <td>NaN</td>\n",
       "    </tr>\n",
       "    <tr>\n",
       "      <th>49640</th>\n",
       "      <td>49641</td>\n",
       "      <td>NaN</td>\n",
       "      <td>100</td>\n",
       "      <td>21</td>\n",
       "      <td>NaN</td>\n",
       "    </tr>\n",
       "    <tr>\n",
       "      <th>49663</th>\n",
       "      <td>49664</td>\n",
       "      <td>NaN</td>\n",
       "      <td>100</td>\n",
       "      <td>21</td>\n",
       "      <td>NaN</td>\n",
       "    </tr>\n",
       "    <tr>\n",
       "      <th>49668</th>\n",
       "      <td>49669</td>\n",
       "      <td>NaN</td>\n",
       "      <td>100</td>\n",
       "      <td>21</td>\n",
       "      <td>NaN</td>\n",
       "    </tr>\n",
       "  </tbody>\n",
       "</table>\n",
       "<p>1258 rows × 5 columns</p>\n",
       "</div>"
      ],
      "text/plain": [
       "       product_id product_name  aisle_id  department_id product_name_upper\n",
       "37             38          NaN       100             21                NaN\n",
       "71             72          NaN       100             21                NaN\n",
       "109           110          NaN       100             21                NaN\n",
       "296           297          NaN       100             21                NaN\n",
       "416           417          NaN       100             21                NaN\n",
       "...           ...          ...       ...            ...                ...\n",
       "49552       49553          NaN       100             21                NaN\n",
       "49574       49575          NaN       100             21                NaN\n",
       "49640       49641          NaN       100             21                NaN\n",
       "49663       49664          NaN       100             21                NaN\n",
       "49668       49669          NaN       100             21                NaN\n",
       "\n",
       "[1258 rows x 5 columns]"
      ]
     },
     "execution_count": 32,
     "metadata": {},
     "output_type": "execute_result"
    }
   ],
   "source": [
    "products[products['product_name'].isnull()]\n"
   ]
  },
  {
   "cell_type": "markdown",
   "id": "-A6x1AbJhjkp",
   "metadata": {
    "id": "-A6x1AbJhjkp"
   },
   "source": [
    "1258 valores ausentes se hallaron en la columna de nombre 'Product_name'.\n",
    "Hallazgos:\n",
    "\n",
    "Todos los productos con valores ausentes en product_name están en el pasillo con ID 100.\n",
    "Todos estos productos pertenecen al departamento con ID 21.\n",
    "La columna product_name_upper, que contiene la versión en mayúsculas de los nombres, también está vacía, confirmando la falta de información en product_name.\n",
    "Acción tomada:\n",
    "\n",
    "Se identificaron los valores ausentes para evaluar posibles soluciones.\n",
    "Se pueden imputar los valores con \"Desconocido\" o \"Producto sin nombre\", o eliminarlos si no son útiles para el análisis."
   ]
  },
  {
   "cell_type": "code",
   "execution_count": 33,
   "id": "e96167bc",
   "metadata": {
    "id": "e96167bc"
   },
   "outputs": [
    {
     "name": "stdout",
     "output_type": "stream",
     "text": [
      "Número de productos sin nombre en el pasillo 100: 1258\n"
     ]
    }
   ],
   "source": [
    "#  ¿Todos los nombres de productos ausentes están relacionados con el pasillo con ID 100?\n",
    "productos_nulos_pasillo_100 = products[(products['product_name'].isnull()) & (products['aisle_id'] == 100)]\n",
    "print(f\"Número de productos sin nombre en el pasillo 100: {productos_nulos_pasillo_100.shape[0]}\")\n"
   ]
  },
  {
   "cell_type": "markdown",
   "id": "WRpIfXRphpSL",
   "metadata": {
    "id": "WRpIfXRphpSL"
   },
   "source": [
    "Al parecer todos los prodcutos sin nombre se relacionan con el pasillo '100'."
   ]
  },
  {
   "cell_type": "code",
   "execution_count": 34,
   "id": "8fd0a541",
   "metadata": {
    "id": "8fd0a541"
   },
   "outputs": [
    {
     "name": "stdout",
     "output_type": "stream",
     "text": [
      "Departamentos con productos sin nombre: [21]\n"
     ]
    }
   ],
   "source": [
    "# ¿Todos los nombres de productos ausentes están relacionados con el departamento con ID 21?\n",
    "productos_nulos_departamento = products[products['product_name'].isnull()]['department_id'].unique()\n",
    "print(f\"Departamentos con productos sin nombre: {productos_nulos_departamento}\")\n"
   ]
  },
  {
   "cell_type": "markdown",
   "id": "qDpdYn1Fht_I",
   "metadata": {
    "id": "qDpdYn1Fht_I"
   },
   "source": [
    "Describe brevemente cuáles son tus hallazgos."
   ]
  },
  {
   "cell_type": "code",
   "execution_count": 35,
   "id": "325c3464",
   "metadata": {
    "id": "325c3464"
   },
   "outputs": [
    {
     "name": "stdout",
     "output_type": "stream",
     "text": [
      "Información del departamento con ID 21:\n",
      "    department_id department\n",
      "20             21    missing\n",
      "\n",
      "Información del pasillo con ID 100:\n",
      "    aisle_id    aisle\n",
      "99       100  missing\n"
     ]
    }
   ],
   "source": [
    "# Usa las tablas department y aisle para revisar los datos del pasillo con ID 100 y el departamento con ID 21.\n",
    "dept_21 = departments[departments['department_id'] == 21]\n",
    "aisle_100 = aisles[aisles['aisle_id'] == 100]\n",
    "\n",
    "print(\"Información del departamento con ID 21:\")\n",
    "print(dept_21)\n",
    "\n",
    "print(\"\\nInformación del pasillo con ID 100:\")\n",
    "print(aisle_100)\n"
   ]
  },
  {
   "cell_type": "markdown",
   "id": "nqhSTUPhhvEJ",
   "metadata": {
    "id": "nqhSTUPhhvEJ"
   },
   "source": [
    "Describe brevemente cuáles son tus hallazgos."
   ]
  },
  {
   "cell_type": "code",
   "execution_count": 36,
   "id": "6b295120",
   "metadata": {
    "id": "6b295120"
   },
   "outputs": [
    {
     "name": "stdout",
     "output_type": "stream",
     "text": [
      "Valores ausentes en product_name completados con 'Unknown'.\n"
     ]
    }
   ],
   "source": [
    "# Completa los nombres de productos ausentes con 'Unknown'\n",
    "products['product_name'].fillna(\"Unknown\", inplace=True)\n",
    "print(\"Valores ausentes en product_name completados con 'Unknown'.\")\n"
   ]
  },
  {
   "cell_type": "markdown",
   "id": "fc70e5ad",
   "metadata": {
    "id": "fc70e5ad"
   },
   "source": [
    "Hallazgos:\n",
    "\n",
    "Se confirmó que el departamento con ID 21 y el pasillo con ID 100 están etiquetados como \"missing\", lo que sugiere que la información no está registrada en la base de datos.\n",
    "Los productos sin nombre (product_name vacío) están asociados exclusivamente con estos IDs.\n",
    "\n",
    "Acción tomada:\n",
    "\n",
    "Se completaron los valores ausentes en product_name con \"Unknown\" para evitar problemas en el análisis y la visualización de datos.\n",
    "Esto garantiza que no haya valores nulos en product_name, permitiendo un procesamiento más consistente del dataset."
   ]
  },
  {
   "cell_type": "markdown",
   "id": "7eb45c86",
   "metadata": {
    "id": "7eb45c86"
   },
   "source": [
    "### `orders` data frame"
   ]
  },
  {
   "cell_type": "code",
   "execution_count": 37,
   "id": "97ae40a7",
   "metadata": {},
   "outputs": [],
   "source": [
    "orders = pd.read_csv('/datasets/instacart_orders.csv', delimiter=';')"
   ]
  },
  {
   "cell_type": "code",
   "execution_count": 38,
   "id": "93e41d96",
   "metadata": {
    "id": "93e41d96"
   },
   "outputs": [
    {
     "name": "stdout",
     "output_type": "stream",
     "text": [
      "Valores ausentes en cada columna de orders:\n",
      " order_id                      0\n",
      "user_id                       0\n",
      "order_number                  0\n",
      "order_dow                     0\n",
      "order_hour_of_day             0\n",
      "days_since_prior_order    28819\n",
      "dtype: int64\n"
     ]
    }
   ],
   "source": [
    "# Encuentra los valores ausentes\n",
    "valores_nulos_orders = orders.isnull().sum()\n",
    "print(\"Valores ausentes en cada columna de orders:\\n\", valores_nulos_orders)\n"
   ]
  },
  {
   "cell_type": "code",
   "execution_count": 39,
   "id": "166e5a86",
   "metadata": {
    "id": "166e5a86"
   },
   "outputs": [
    {
     "name": "stdout",
     "output_type": "stream",
     "text": [
      "Número de valores ausentes en pedidos que NO son el primer pedido del cliente: 0\n"
     ]
    }
   ],
   "source": [
    "# ¿Hay algún valor ausente que no sea el primer pedido del cliente?\n",
    "valores_nulos_no_primer_pedido = orders[(orders['days_since_prior_order'].isnull()) & (orders['order_number'] > 1)]\n",
    "print(f\"Número de valores ausentes en pedidos que NO son el primer pedido del cliente: {valores_nulos_no_primer_pedido.shape[0]}\")\n"
   ]
  },
  {
   "cell_type": "markdown",
   "id": "4e23d089",
   "metadata": {
    "id": "4e23d089"
   },
   "source": [
    "Hallazgos:\n",
    "\n",
    "Se encontraron 28,819 valores ausentes en la columna days_since_prior_order.\n",
    "Todos los valores nulos corresponden al primer pedido del cliente, lo que es esperado, ya que no hay un pedido previo para calcular la cantidad de días transcurridos.\n",
    "No hay valores ausentes en otros pedidos, lo que indica que los datos están correctamente estructurados.\n",
    "\n",
    "Acción tomada:\n",
    "\n",
    "No se realizó ninguna modificación, ya que estos valores nulos son normales y no representan un problema en el análisis."
   ]
  },
  {
   "cell_type": "markdown",
   "id": "69dc9ca4",
   "metadata": {
    "id": "69dc9ca4"
   },
   "source": [
    "### `order_products` data frame"
   ]
  },
  {
   "cell_type": "code",
   "execution_count": 40,
   "id": "b8240253",
   "metadata": {
    "id": "b8240253"
   },
   "outputs": [
    {
     "name": "stdout",
     "output_type": "stream",
     "text": [
      "Valores ausentes en cada columna de order_products:\n",
      " order_id               0\n",
      "product_id             0\n",
      "add_to_cart_order    836\n",
      "reordered              0\n",
      "dtype: int64\n"
     ]
    }
   ],
   "source": [
    "# Encuentra los valores ausentes\n",
    "valores_nulos_order_products = order_products.isnull().sum()\n",
    "print(\"Valores ausentes en cada columna de order_products:\\n\", valores_nulos_order_products)\n"
   ]
  },
  {
   "cell_type": "code",
   "execution_count": 41,
   "id": "9a78e5ee",
   "metadata": {
    "id": "9a78e5ee"
   },
   "outputs": [
    {
     "name": "stdout",
     "output_type": "stream",
     "text": [
      "Valor mínimo en 'add_to_cart_order': 1.0\n",
      "Valor máximo en 'add_to_cart_order': 64.0\n"
     ]
    }
   ],
   "source": [
    "# ¿Cuáles son los valores mínimos y máximos en esta columna?\n",
    "min_valor = order_products['add_to_cart_order'].min()\n",
    "max_valor = order_products['add_to_cart_order'].max()\n",
    "print(f\"Valor mínimo en 'add_to_cart_order': {min_valor}\")\n",
    "print(f\"Valor máximo en 'add_to_cart_order': {max_valor}\")\n"
   ]
  },
  {
   "cell_type": "markdown",
   "id": "-Z2Ja215jW78",
   "metadata": {
    "id": "-Z2Ja215jW78"
   },
   "source": [
    "Hallazgos:\n",
    "\n",
    "Se encontraron 836 valores ausentes en la columna add_to_cart_order, lo que indica que hay pedidos en los que no se registró el orden en que se añadieron los productos al carrito.\n",
    "Los valores en add_to_cart_order van desde 1 (primer producto añadido) hasta 64 (último producto añadido), lo que sugiere que el sistema tiene un límite de 64 productos por pedido.\n",
    "\n",
    "Acción tomada:\n",
    "\n",
    "Se identificaron los valores nulos para decidir cómo manejarlos en el análisis.\n",
    "Se verificó que el rango de add_to_cart_order es consistente con la estructura de los pedidos.\n",
    "Como los valores ausentes pueden deberse a errores de registro o productos agregados sin orden específico, se pueden imputar con un valor por defecto o dejarlos como están dependiendo del análisis posterior. "
   ]
  },
  {
   "cell_type": "code",
   "execution_count": 42,
   "id": "ab9d0c2b",
   "metadata": {
    "id": "ab9d0c2b"
   },
   "outputs": [
    {
     "name": "stdout",
     "output_type": "stream",
     "text": [
      "Número de pedidos con valores ausentes en 'add_to_cart_order': 70\n"
     ]
    }
   ],
   "source": [
    "# Guarda todas las IDs de pedidos que tengan un valor ausente en 'add_to_cart_order'\n",
    "pedidos_con_nulos = order_products[order_products['add_to_cart_order'].isnull()]['order_id'].unique()\n",
    "print(f\"Número de pedidos con valores ausentes en 'add_to_cart_order': {len(pedidos_con_nulos)}\")\n"
   ]
  },
  {
   "cell_type": "code",
   "execution_count": 43,
   "id": "54c31695",
   "metadata": {
    "id": "54c31695"
   },
   "outputs": [
    {
     "name": "stdout",
     "output_type": "stream",
     "text": [
      "El pedido con valores ausentes que tiene menos productos contiene: 65 productos\n"
     ]
    }
   ],
   "source": [
    "# ¿Todos los pedidos con valores ausentes tienen más de 64 productos?\n",
    "# Agrupa todos los pedidos con datos ausentes por su ID de pedido.\n",
    "# Cuenta el número de 'product_id' en cada pedido y revisa el valor mínimo del conteo.\n",
    "# Filtrar solo los pedidos con valores nulos en 'add_to_cart_order'\n",
    "pedidos_nulos_df = order_products[order_products['order_id'].isin(pedidos_con_nulos)]\n",
    "\n",
    "# Contar cuántos productos tiene cada pedido con valores nulos\n",
    "productos_por_pedido = pedidos_nulos_df.groupby('order_id')['product_id'].count()\n",
    "\n",
    "# Revisar el mínimo de productos en estos pedidos\n",
    "min_productos_pedido = productos_por_pedido.min()\n",
    "print(f\"El pedido con valores ausentes que tiene menos productos contiene: {min_productos_pedido} productos\")\n"
   ]
  },
  {
   "cell_type": "markdown",
   "id": "p9V6pddtjglj",
   "metadata": {
    "id": "p9V6pddtjglj"
   },
   "source": [
    "Se identificaron 70 pedidos con valores ausentes en la columna add_to_cart_order.\n",
    "Se analizó la cantidad de productos en estos pedidos y se encontró que el pedido con menos productos contiene 65 productos.\n",
    "Esto sugiere que los valores ausentes en add_to_cart_order podrían estar relacionados con pedidos que tienen un alto número de productos.\n",
    "\n",
    "Acción tomada:\n",
    "\n",
    "Se almacenaron las IDs de los pedidos afectados para un análisis posterior.\n",
    "Se verificó que todos los pedidos con valores nulos contienen 65 productos o más, lo que puede indicar un error en el registro de pedidos grandes.\n",
    "Dependiendo del análisis final, se podrían imputar los valores ausentes con un número especial o dejarlos como están."
   ]
  },
  {
   "cell_type": "code",
   "execution_count": 44,
   "id": "7a987d08",
   "metadata": {
    "id": "7a987d08"
   },
   "outputs": [
    {
     "name": "stdout",
     "output_type": "stream",
     "text": [
      "Valores ausentes en 'add_to_cart_order' reemplazados con 999 y convertidos a entero.\n"
     ]
    }
   ],
   "source": [
    "# Remplaza los valores ausentes en la columna 'add_to_cart? con 999 y convierte la columna al tipo entero.\n",
    "order_products['add_to_cart_order'].fillna(999, inplace=True)\n",
    "order_products['add_to_cart_order'] = order_products['add_to_cart_order'].astype(int)\n",
    "print(\"Valores ausentes en 'add_to_cart_order' reemplazados con 999 y convertidos a entero.\")\n"
   ]
  },
  {
   "cell_type": "markdown",
   "id": "fea4bcc7",
   "metadata": {
    "id": "fea4bcc7"
   },
   "source": [
    "Hallazgos:\n",
    "\n",
    "Se encontraron valores ausentes en la columna add_to_cart_order, los cuales se habían identificado previamente en pedidos con 65 productos o más.\n",
    "Para evitar problemas en el análisis, estos valores ausentes fueron reemplazados por 999, un valor que indica que el orden en que fueron agregados no está disponible.\n",
    "La columna fue convertida a tipo entero (int), asegurando la consistencia en los datos.\n",
    "\n",
    "Acción tomada:\n",
    "\n",
    "Se reemplazaron los valores nulos con 999 en add_to_cart_order.\n",
    "Se convirtió la columna a tipo entero, eliminando cualquier problema con valores nulos en cálculos posteriores."
   ]
  },
  {
   "cell_type": "markdown",
   "id": "RnplPFY1gSrb",
   "metadata": {
    "id": "RnplPFY1gSrb"
   },
   "source": [
    "## Conclusiones\n",
    "\n",
    "Hallazgos principales:\n",
    "\n",
    "Se detectaron y eliminaron valores duplicados en los distintos DataFrames, asegurando que cada registro fuera único.\n",
    "Se identificaron valores ausentes en columnas clave, como product_name, days_since_prior_order y add_to_cart_order, y se tomaron decisiones para manejarlos:\n",
    "product_name: Se reemplazó con \"Unknown\" ya que correspondía a productos del departamento 21.\n",
    "days_since_prior_order: Se mantuvieron los valores nulos, ya que son normales en el primer pedido del cliente.\n",
    "add_to_cart_order: Se reemplazaron los valores nulos con 999 y se convirtió la columna a entero.\n",
    "Se validaron las estructuras de los datos y se ajustaron errores en los delimitadores al leer archivos.\n",
    "\n",
    "Acción tomada:\n",
    "\n",
    "Se aseguraron datos limpios y estructurados, eliminando valores duplicados y manejando correctamente los valores nulos.\n",
    "Se garantizó que todas las columnas tuvieran tipos de datos adecuados para el análisis posterior.\n",
    "Conclusión: Los datos están listos para el análisis exploratorio.\n"
   ]
  },
  {
   "cell_type": "markdown",
   "id": "UjrOIwTcz3ri",
   "metadata": {
    "id": "UjrOIwTcz3ri"
   },
   "source": [
    "# Paso 3. Análisis de los datos\n",
    "\n",
    "Una vez los datos estén procesados y listos, haz el siguiente análisis:"
   ]
  },
  {
   "cell_type": "markdown",
   "id": "turkish-kidney",
   "metadata": {
    "id": "turkish-kidney"
   },
   "source": [
    "# [A] Fácil (deben completarse todos para aprobar)\n",
    "\n",
    "1. Verifica que los valores en las columnas `'order_hour_of_day'` y `'order_dow'` en la tabla orders sean razonables (es decir, `'order_hour_of_day'` oscile entre 0 y 23 y `'order_dow'` oscile entre 0 y 6).\n",
    "2. Crea un gráfico que muestre el número de personas que hacen pedidos dependiendo de la hora del día.\n",
    "3. Crea un gráfico que muestre qué día de la semana la gente hace sus compras.\n",
    "4. Crea un gráfico que muestre el tiempo que la gente espera hasta hacer su siguiente pedido, y comenta sobre los valores mínimos y máximos."
   ]
  },
  {
   "cell_type": "markdown",
   "id": "short-capability",
   "metadata": {
    "id": "short-capability"
   },
   "source": [
    "### [A1] Verifica que los valores sean sensibles"
   ]
  },
  {
   "cell_type": "code",
   "execution_count": 45,
   "id": "growing-fruit",
   "metadata": {
    "id": "growing-fruit"
   },
   "outputs": [],
   "source": [
    "# Verificar rangos de valores\n",
    "valores_fuera_rango_hora = orders[(orders['order_hour_of_day'] < 0) | (orders['order_hour_of_day'] > 23)]\n",
    "valores_fuera_rango_dow = orders[(orders['order_dow'] < 0) | (orders['order_dow'] > 6)]\n",
    "\n"
   ]
  },
  {
   "cell_type": "code",
   "execution_count": 46,
   "id": "accessory-malaysia",
   "metadata": {
    "id": "accessory-malaysia"
   },
   "outputs": [
    {
     "name": "stdout",
     "output_type": "stream",
     "text": [
      "Número de registros con valores fuera de rango en 'order_hour_of_day': 0\n",
      "Número de registros con valores fuera de rango en 'order_dow': 0\n"
     ]
    }
   ],
   "source": [
    "print(f\"Número de registros con valores fuera de rango en 'order_hour_of_day': {len(valores_fuera_rango_hora)}\")\n",
    "print(f\"Número de registros con valores fuera de rango en 'order_dow': {len(valores_fuera_rango_dow)}\")\n"
   ]
  },
  {
   "cell_type": "markdown",
   "id": "hmR2GNQ6lCsX",
   "metadata": {
    "id": "hmR2GNQ6lCsX"
   },
   "source": [
    "Hallazgos:\n",
    "\n",
    "No se encontraron valores fuera de rango en la columna order_hour_of_day, lo que indica que todas las órdenes tienen una hora de compra válida entre 0 y 23.\n",
    "No se encontraron valores fuera de rango en la columna order_dow, lo que confirma que todos los días de la semana están correctamente representados entre 0 y 6.\n",
    "\n",
    "Conclusión:\n",
    "Los datos en ambas columnas son sensibles y correctos, lo que significa que no es necesario realizar ninguna limpieza o corrección en esta etapa."
   ]
  },
  {
   "cell_type": "markdown",
   "id": "a6743a70",
   "metadata": {
    "id": "a6743a70"
   },
   "source": [
    "### [A2] Para cada hora del día, ¿cuántas personas hacen órdenes?"
   ]
  },
  {
   "cell_type": "code",
   "execution_count": 47,
   "id": "a36cca27",
   "metadata": {
    "id": "a36cca27"
   },
   "outputs": [
    {
     "data": {
      "image/png": "[encoded data removed]",
      "text/plain": [
       "<Figure size 1000x500 with 1 Axes>"
      ]
     },
     "metadata": {},
     "output_type": "display_data"
    }
   ],
   "source": [
    "import matplotlib.pyplot as plt\n",
    "\n",
    "# Contar órdenes por cada hora del día\n",
    "ordenes_por_hora = orders['order_hour_of_day'].value_counts().sort_index()\n",
    "\n",
    "# Graficar\n",
    "plt.figure(figsize=(10,5))\n",
    "plt.bar(ordenes_por_hora.index, ordenes_por_hora.values, color='blue', alpha=0.7)\n",
    "plt.xlabel(\"Hora del día\")\n",
    "plt.ylabel(\"Número de órdenes\")\n",
    "plt.title(\"Órdenes realizadas por hora del día\")\n",
    "plt.xticks(range(0,24))\n",
    "plt.show()\n"
   ]
  },
  {
   "cell_type": "markdown",
   "id": "11270eed",
   "metadata": {
    "id": "11270eed"
   },
   "source": [
    "Hallazgos:\n",
    "\n",
    "La mayor cantidad de órdenes se realizan entre las 10:00 a.m. y 3:00 p.m., con un pico máximo alrededor de 11:00 a.m..\n",
    "Hay una disminución notable en las órdenes después de las 5:00 p.m., lo que sugiere que las compras disminuyen en la tarde-noche.\n",
    "Las horas con menor actividad son entre 12:00 a.m. y 6:00 a.m., indicando que hay pocas compras durante la madrugada.\n",
    "\n",
    "Conclusión:\n",
    "\n",
    "El comportamiento sugiere que la mayoría de las compras ocurren en horarios laborales y previos a la comida.\n",
    "Este patrón puede ser útil para optimizar estrategias de logística y promociones, enfocando esfuerzos en las horas pico de compra."
   ]
  },
  {
   "cell_type": "markdown",
   "id": "documented-command",
   "metadata": {
    "id": "documented-command"
   },
   "source": [
    "### [A3] ¿Qué día de la semana compran víveres las personas?"
   ]
  },
  {
   "cell_type": "code",
   "execution_count": 48,
   "id": "chief-digit",
   "metadata": {
    "id": "chief-digit"
   },
   "outputs": [
    {
     "data": {
      "image/png": "[encoded data removed]",
      "text/plain": [
       "<Figure size 800x500 with 1 Axes>"
      ]
     },
     "metadata": {},
     "output_type": "display_data"
    }
   ],
   "source": [
    "import matplotlib.pyplot as plt\n",
    "\n",
    "# Contar órdenes por cada día de la semana\n",
    "ordenes_por_dia = orders['order_dow'].value_counts().sort_index()\n",
    "\n",
    "# Graficar\n",
    "plt.figure(figsize=(8,5))\n",
    "plt.bar(ordenes_por_dia.index, ordenes_por_dia.values, color='green', alpha=0.7)\n",
    "plt.xlabel(\"Día de la semana (0 = Domingo, 6 = Sábado)\")\n",
    "plt.ylabel(\"Número de órdenes\")\n",
    "plt.title(\"Órdenes realizadas por día de la semana\")\n",
    "plt.xticks(range(0,7), [\"Dom\", \"Lun\", \"Mar\", \"Mié\", \"Jue\", \"Vie\", \"Sáb\"])\n",
    "plt.show()\n"
   ]
  },
  {
   "cell_type": "markdown",
   "id": "dominant-lightning",
   "metadata": {
    "id": "dominant-lightning"
   },
   "source": [
    "De acuerdo con el gráfico, los días con mayor número de órdenes son los domingos y los lunes. Esto indica que muchas personas prefieren realizar sus compras al inicio de la semana. El resto de los días muestra un número de órdenes más equilibrado, con una ligera disminución a mitad de semana."
   ]
  },
  {
   "cell_type": "markdown",
   "id": "cutting-concert",
   "metadata": {
    "id": "cutting-concert"
   },
   "source": [
    "### [A4] ¿Cuánto tiempo esperan las personas hasta hacer otro pedido? Comenta sobre los valores mínimos y máximos."
   ]
  },
  {
   "cell_type": "code",
   "execution_count": 49,
   "id": "c231f523",
   "metadata": {
    "id": "c231f523"
   },
   "outputs": [
    {
     "name": "stdout",
     "output_type": "stream",
     "text": [
      "El tiempo mínimo de espera entre pedidos es de 0.0 días.\n",
      "El tiempo máximo de espera entre pedidos es de 30.0 días.\n"
     ]
    },
    {
     "data": {
      "image/png": "[encoded data removed]",
      "text/plain": [
       "<Figure size 800x500 with 1 Axes>"
      ]
     },
     "metadata": {},
     "output_type": "display_data"
    }
   ],
   "source": [
    "# Calcular el valor mínimo y máximo de días entre pedidos\n",
    "min_wait = orders['days_since_prior_order'].min()\n",
    "max_wait = orders['days_since_prior_order'].max()\n",
    "\n",
    "print(f\"El tiempo mínimo de espera entre pedidos es de {min_wait} días.\")\n",
    "print(f\"El tiempo máximo de espera entre pedidos es de {max_wait} días.\")\n",
    "\n",
    "# Crear el histograma de distribución del tiempo de espera\n",
    "plt.figure(figsize=(8,5))\n",
    "plt.hist(orders['days_since_prior_order'].dropna(), bins=30, color='purple', alpha=0.7, edgecolor='black')\n",
    "plt.xlabel('Días desde el pedido anterior')\n",
    "plt.ylabel('Número de pedidos')\n",
    "plt.title('Distribución del tiempo de espera entre pedidos')\n",
    "plt.show()\n"
   ]
  },
  {
   "cell_type": "markdown",
   "id": "discrete-vertex",
   "metadata": {
    "id": "discrete-vertex"
   },
   "source": [
    "El tiempo mínimo de espera entre pedidos es de 0 días, lo que indica que hay clientes que hacen pedidos en días consecutivos. El tiempo máximo es de 30 días, con una notable cantidad de pedidos en este punto, lo que sugiere que muchas personas pueden realizar compras de manera mensual. La distribución muestra que la mayoría de los pedidos se realizan dentro de la primera semana después del pedido anterior, con una disminución progresiva en los días posteriores."
   ]
  },
  {
   "cell_type": "markdown",
   "id": "tight-staff",
   "metadata": {
    "id": "tight-staff"
   },
   "source": [
    "# [B] Intermedio (deben completarse todos para aprobar)\n",
    "\n",
    "1. ¿Existe alguna diferencia entre las distribuciones `'order_hour_of_day'` de los miércoles y los sábados? Traza gráficos de barra de `'order_hour_of_day'` para ambos días en la misma figura y describe las diferencias que observes.\n",
    "2. Grafica la distribución para el número de órdenes que hacen los clientes (es decir, cuántos clientes hicieron solo 1 pedido, cuántos hicieron 2, cuántos 3, y así sucesivamente...).\n",
    "3. ¿Cuáles son los 20 principales productos que se piden con más frecuencia (muestra su identificación y nombre)?"
   ]
  },
  {
   "cell_type": "markdown",
   "id": "packed-classic",
   "metadata": {
    "id": "packed-classic"
   },
   "source": [
    "### [B1] Diferencia entre miércoles y sábados para  `'order_hour_of_day'`. Traza gráficos de barra para los dos días y describe las diferencias que veas."
   ]
  },
  {
   "cell_type": "code",
   "execution_count": 50,
   "id": "d89b8403",
   "metadata": {
    "id": "d89b8403"
   },
   "outputs": [
    {
     "data": {
      "image/png": "[encoded data removed]",
      "text/plain": [
       "<Figure size 1000x500 with 1 Axes>"
      ]
     },
     "metadata": {},
     "output_type": "display_data"
    }
   ],
   "source": [
    "import matplotlib.pyplot as plt\n",
    "\n",
    "# Filtrar los datos para miércoles (3) y sábado (6)\n",
    "miercoles = orders[orders['order_dow'] == 3]['order_hour_of_day']\n",
    "sabado = orders[orders['order_dow'] == 6]['order_hour_of_day']\n",
    "\n",
    "# Crear gráfico de barras\n",
    "plt.figure(figsize=(10,5))\n",
    "plt.hist(miercoles, bins=24, alpha=0.5, label='Miércoles', color='blue', edgecolor='black')\n",
    "plt.hist(sabado, bins=24, alpha=0.5, label='Sábado', color='red', edgecolor='black')\n",
    "plt.xlabel(\"Hora del día\")\n",
    "plt.ylabel(\"Cantidad de órdenes\")\n",
    "plt.title(\"Comparación de órdenes entre miércoles y sábados por hora del día\")\n",
    "plt.legend()\n",
    "plt.show()\n"
   ]
  },
  {
   "cell_type": "code",
   "execution_count": 51,
   "id": "94e54e8a",
   "metadata": {
    "id": "94e54e8a"
   },
   "outputs": [
    {
     "data": {
      "image/png": "[encoded data removed]",
      "text/plain": [
       "<Figure size 1000x500 with 1 Axes>"
      ]
     },
     "metadata": {},
     "output_type": "display_data"
    }
   ],
   "source": [
    "# Contar la cantidad de órdenes por usuario\n",
    "ordenes_por_usuario = orders['user_id'].value_counts()\n",
    "\n",
    "# Graficar distribución\n",
    "plt.figure(figsize=(10,5))\n",
    "plt.hist(ordenes_por_usuario, bins=50, color='purple', edgecolor='black')\n",
    "plt.xlabel(\"Número de órdenes realizadas\")\n",
    "plt.ylabel(\"Cantidad de clientes\")\n",
    "plt.title(\"Distribución del número de órdenes realizadas por los clientes\")\n",
    "plt.yscale('log')  # Escala logarítmica para mejor visualización\n",
    "plt.show()\n"
   ]
  },
  {
   "cell_type": "code",
   "execution_count": 53,
   "id": "35bcea30",
   "metadata": {
    "id": "35bcea30"
   },
   "outputs": [
    {
     "name": "stdout",
     "output_type": "stream",
     "text": [
      "       product_id              product_name  cantidad_pedidos\n",
      "5875         5876             Organic Lemon             66050\n",
      "8276         8277  Apple Honeycrisp Organic             53297\n",
      "13175       13176    Bag of Organic Bananas             37039\n",
      "16796       16797              Strawberries             33971\n",
      "21136       21137      Organic Strawberries             29773\n",
      "21902       21903      Organic Baby Spinach             24689\n",
      "22934       22935      Organic Yellow Onion             21495\n",
      "24851       24852                    Banana             20018\n",
      "24963       24964            Organic Garlic             19690\n",
      "26208       26209                     Limes             19600\n",
      "27844       27845        Organic Whole Milk             19197\n",
      "27965       27966       Organic Raspberries             15898\n",
      "28203       28204        Organic Fuji Apple             15292\n",
      "39274       39275       Organic Blueberries             14584\n",
      "40705       40706    Organic Grape Tomatoes             13879\n",
      "45006       45007          Organic Zucchini             13675\n",
      "47208       47209      Organic Hass Avocado             12544\n",
      "47625       47626               Large Lemon             12232\n",
      "47765       47766           Organic Avocado             11993\n",
      "49682       49683            Cucumber Kirby             11781\n"
     ]
    }
   ],
   "source": [
    "import pandas as pd\n",
    "\n",
    "# Contar la frecuencia de los productos en las órdenes\n",
    "productos_frecuentes = order_products['product_id'].value_counts().head(20)\n",
    "\n",
    "# Obtener los nombres de los productos\n",
    "productos_top = products[products['product_id'].isin(productos_frecuentes.index)][['product_id', 'product_name']]\n",
    "productos_top['cantidad_pedidos'] = productos_frecuentes.values\n",
    "\n",
    "# Crear un DataFrame\n",
    "df_productos = pd.DataFrame(productos_top)\n",
    "\n",
    "# Mostrar la tabla\n",
    "print(df_productos)\n"
   ]
  },
  {
   "cell_type": "code",
   "execution_count": 55,
   "id": "797c90a8",
   "metadata": {
    "id": "797c90a8"
   },
   "outputs": [
    {
     "name": "stdout",
     "output_type": "stream",
     "text": [
      "       product_id              product_name  cantidad_pedidos\n",
      "5875         5876             Organic Lemon             66050\n",
      "8276         8277  Apple Honeycrisp Organic             53297\n",
      "13175       13176    Bag of Organic Bananas             37039\n",
      "16796       16797              Strawberries             33971\n",
      "21136       21137      Organic Strawberries             29773\n",
      "21902       21903      Organic Baby Spinach             24689\n",
      "22934       22935      Organic Yellow Onion             21495\n",
      "24851       24852                    Banana             20018\n",
      "24963       24964            Organic Garlic             19690\n",
      "26208       26209                     Limes             19600\n",
      "27844       27845        Organic Whole Milk             19197\n",
      "27965       27966       Organic Raspberries             15898\n",
      "28203       28204        Organic Fuji Apple             15292\n",
      "39274       39275       Organic Blueberries             14584\n",
      "40705       40706    Organic Grape Tomatoes             13879\n",
      "45006       45007          Organic Zucchini             13675\n",
      "47208       47209      Organic Hass Avocado             12544\n",
      "47625       47626               Large Lemon             12232\n",
      "47765       47766           Organic Avocado             11993\n",
      "49682       49683            Cucumber Kirby             11781\n"
     ]
    }
   ],
   "source": [
    "import pandas as pd\n",
    "\n",
    "# Contar la frecuencia de los productos en las órdenes\n",
    "productos_frecuentes = order_products['product_id'].value_counts().head(20)\n",
    "\n",
    "# Obtener los nombres de los productos\n",
    "productos_top = products[products['product_id'].isin(productos_frecuentes.index)][['product_id', 'product_name']]\n",
    "productos_top['cantidad_pedidos'] = productos_frecuentes.values\n",
    "\n",
    "# Crear un DataFrame\n",
    "df_productos = pd.DataFrame(productos_top)\n",
    "\n",
    "# Mostrar la tabla\n",
    "print(df_productos)\n",
    "\n"
   ]
  },
  {
   "cell_type": "markdown",
   "id": "charitable-congo",
   "metadata": {
    "id": "charitable-congo"
   },
   "source": [
    "Comparación de órdenes entre miércoles y sábados por hora del día\n",
    "\n",
    "Se observa que los patrones de compra en miércoles y sábados son similares en términos de distribución horaria.\n",
    "Sin embargo, los sábados tienen un ligero aumento en pedidos durante las primeras horas del día en comparación con los miércoles.\n",
    "Esto sugiere que los consumidores pueden estar aprovechando el fin de semana para hacer compras más temprano.\n",
    "Distribución del número de órdenes realizadas por los clientes\n",
    "\n",
    "La mayoría de los clientes realiza un número bajo de pedidos.\n",
    "Hay una disminución exponencial en la cantidad de clientes a medida que aumenta el número de pedidos realizados.\n",
    "Esto indica que hay una gran cantidad de usuarios ocasionales y un grupo mucho más pequeño de clientes recurrentes.\n",
    "Productos más comprados\n",
    "\n",
    "Los productos más comprados están principalmente compuestos por frutas y verduras orgánicas.\n",
    "Destacan productos como limones orgánicos, plátanos, fresas, espinacas y aguacates.\n",
    "Esto podría indicar una fuerte tendencia hacia el consumo de alimentos frescos y saludables dentro de la plataforma de compras analizada.\n",
    "Estas conclusiones pueden servir para estrategias de marketing, promociones específicas en ciertos días u horarios y el abastecimiento de productos más populares."
   ]
  },
  {
   "cell_type": "markdown",
   "id": "e3891143",
   "metadata": {
    "id": "e3891143"
   },
   "source": [
    "### [B2] ¿Cuál es la distribución para el número de pedidos por cliente?"
   ]
  },
  {
   "cell_type": "code",
   "execution_count": 56,
   "id": "d8c26c23",
   "metadata": {
    "id": "d8c26c23"
   },
   "outputs": [],
   "source": [
    "# Contar la cantidad de órdenes realizadas por cada cliente\n",
    "pedidos_por_cliente = orders['user_id'].value_counts()\n",
    "\n",
    "# Graficar la distribución\n",
    "import matplotlib.pyplot as plt\n",
    "\n"
   ]
  },
  {
   "cell_type": "code",
   "execution_count": 57,
   "id": "00e69a66",
   "metadata": {
    "id": "00e69a66"
   },
   "outputs": [
    {
     "data": {
      "image/png": "[encoded data removed]",
      "text/plain": [
       "<Figure size 800x500 with 1 Axes>"
      ]
     },
     "metadata": {},
     "output_type": "display_data"
    }
   ],
   "source": [
    "plt.figure(figsize=(8,5))\n",
    "plt.hist(pedidos_por_cliente, bins=30, color='purple', edgecolor='black')\n",
    "plt.yscale('log')  # Escala logarítmica para mejor visualización\n",
    "plt.xlabel(\"Número de órdenes realizadas\")\n",
    "plt.ylabel(\"Cantidad de clientes\")\n",
    "plt.title(\"Distribución del número de pedidos por cliente\")\n",
    "plt.show()\n"
   ]
  },
  {
   "cell_type": "markdown",
   "id": "d2eff7d5",
   "metadata": {
    "id": "d2eff7d5"
   },
   "source": [
    "Conclusiones sobre la distribución del número de pedidos por cliente\n",
    "Distribución altamente sesgada: La mayoría de los clientes realizan un número bajo de pedidos. Se observa una caída exponencial en la cantidad de clientes a medida que el número de pedidos aumenta.\n",
    "\n",
    "Alta concentración en pocos pedidos: La mayoría de los clientes ha realizado entre 1 y 5 pedidos, lo que indica que hay muchos usuarios ocasionales en la plataforma.\n",
    "\n",
    "Clientes leales pero minoritarios: Aunque hay clientes que han realizado hasta 25 pedidos o más, representan una minoría en comparación con aquellos que han hecho pocos pedidos.\n",
    "\n",
    "Patrón de repetición en los pedidos: Se observa un salto inusual en el número de clientes que han hecho exactamente 10 pedidos. Esto sugiere que puede haber un factor externo, como promociones, descuentos o suscripciones que fomentan la recompra después de un cierto número de pedidos.\n",
    "\n",
    "Uso de escala logarítmica: Debido a la diferencia extrema entre la cantidad de clientes con pocos pedidos y aquellos con muchos, se usó una escala logarítmica en el eje Y para visualizar mejor la distribución.\n",
    "\n",
    "En general, los datos muestran que la mayoría de los clientes no son compradores recurrentes, pero existe un grupo reducido que compra con frecuencia, lo que puede representar a los clientes más valiosos para la empresa."
   ]
  },
  {
   "cell_type": "markdown",
   "id": "54a0319c",
   "metadata": {
    "id": "54a0319c"
   },
   "source": [
    "### [B3] ¿Cuáles son los 20 productos más populares (muestra su ID y nombre)?"
   ]
  },
  {
   "cell_type": "code",
   "execution_count": 58,
   "id": "exterior-arizona",
   "metadata": {
    "id": "exterior-arizona",
    "scrolled": true
   },
   "outputs": [],
   "source": [
    "# Contar la frecuencia de cada producto en las órdenes\n",
    "productos_frecuentes = order_products['product_id'].value_counts().head(20)\n",
    "\n",
    "\n",
    "\n"
   ]
  },
  {
   "cell_type": "code",
   "execution_count": 59,
   "id": "universal-facial",
   "metadata": {
    "id": "universal-facial"
   },
   "outputs": [],
   "source": [
    "# Obtener los nombres de los productos\n",
    "productos_top = products[products['product_id'].isin(productos_frecuentes.index)][['product_id', 'product_name']]\n",
    "productos_top['cantidad_pedidos'] = productos_frecuentes.values\n"
   ]
  },
  {
   "cell_type": "code",
   "execution_count": 61,
   "id": "bbcdd20b",
   "metadata": {
    "id": "bbcdd20b"
   },
   "outputs": [
    {
     "name": "stdout",
     "output_type": "stream",
     "text": [
      "       product_id              product_name  cantidad_pedidos\n",
      "5875         5876             Organic Lemon             66050\n",
      "8276         8277  Apple Honeycrisp Organic             53297\n",
      "13175       13176    Bag of Organic Bananas             37039\n",
      "16796       16797              Strawberries             33971\n",
      "21136       21137      Organic Strawberries             29773\n",
      "21902       21903      Organic Baby Spinach             24689\n",
      "22934       22935      Organic Yellow Onion             21495\n",
      "24851       24852                    Banana             20018\n",
      "24963       24964            Organic Garlic             19690\n",
      "26208       26209                     Limes             19600\n",
      "27844       27845        Organic Whole Milk             19197\n",
      "27965       27966       Organic Raspberries             15898\n",
      "28203       28204        Organic Fuji Apple             15292\n",
      "39274       39275       Organic Blueberries             14584\n",
      "40705       40706    Organic Grape Tomatoes             13879\n",
      "45006       45007          Organic Zucchini             13675\n",
      "47208       47209      Organic Hass Avocado             12544\n",
      "47625       47626               Large Lemon             12232\n",
      "47765       47766           Organic Avocado             11993\n",
      "49682       49683            Cucumber Kirby             11781\n"
     ]
    }
   ],
   "source": [
    "# Mostrar los 20 productos más comprados\n",
    "print(df_productos)\n"
   ]
  },
  {
   "cell_type": "markdown",
   "id": "7df00f47",
   "metadata": {
    "id": "7df00f47"
   },
   "source": [
    "Distribución del número de pedidos por cliente:\n",
    "\n",
    "La mayoría de los clientes realizan pocos pedidos, lo que indica que hay muchos usuarios ocasionales.\n",
    "Se observa una caída exponencial en la cantidad de clientes a medida que aumenta el número de pedidos realizados.\n",
    "Hay algunos clientes fieles que han hecho más de 20 pedidos, aunque son una minoría.\n",
    "Productos más populares:\n",
    "\n",
    "Los productos más pedidos son principalmente productos orgánicos, lo que sugiere una fuerte preferencia de los consumidores por opciones saludables.\n",
    "Destacan frutas y verduras como el Organic Lemon, Organic Banana, Apple Honeycrisp Organic, Organic Avocado, entre otros.\n",
    "La presencia de productos lácteos y hortalizas sugiere que los clientes hacen pedidos recurrentes de alimentos básicos.\n",
    "Diferencias en los pedidos entre miércoles y sábados:\n",
    "\n",
    "La distribución de pedidos por hora en ambos días es similar, pero se observa que los sábados hay un ligero aumento en ciertos horarios.\n",
    "La actividad de compras es más uniforme durante el día, lo que puede indicar que los consumidores tienen más tiempo libre para hacer pedidos en fin de semana.\n",
    "Durante la madrugada, la cantidad de pedidos es baja en ambos días, pero hay un ligero repunte en la mañana.\n",
    "Frecuencia de compras y tiempo de espera entre pedidos:\n",
    "\n",
    "El tiempo de espera entre pedidos varía entre 0 y 30 días.\n",
    "Hay picos notables en los 7, 14 y 30 días, lo que sugiere que muchos clientes tienen patrones de compra semanal, quincenal o mensual.\n",
    "Un número significativo de clientes hace pedidos en días consecutivos.\n",
    "Tendencias de compra por día de la semana:\n",
    "\n",
    "Los domingos y lunes son los días con mayor cantidad de pedidos.\n",
    "Martes y miércoles presentan una disminución en la cantidad de órdenes, lo que podría sugerir que la mayoría de los clientes hace sus compras después del fin de semana.\n",
    "A medida que avanza la semana, la actividad de pedidos se estabiliza en valores medios.\n",
    "Conclusión general:\n",
    "El análisis sugiere que la mayoría de los clientes hacen compras de productos básicos de manera recurrente, con un fuerte enfoque en productos orgánicos y saludables. Los patrones de compra reflejan hábitos semanales y mensuales, con picos de pedidos en días específicos. La actividad es mayor durante el día y se reduce en la madrugada, y hay una ligera variación en los hábitos de compra entre días de semana y fines de semana."
   ]
  },
  {
   "cell_type": "markdown",
   "id": "gross-theme",
   "metadata": {
    "id": "gross-theme"
   },
   "source": [
    "# [C] Difícil (deben completarse todos para aprobar)\n",
    "\n",
    "1. ¿Cuántos artículos suelen comprar las personas en un pedido? ¿Cómo es la distribución?\n",
    "2. ¿Cuáles son los 20 principales artículos que vuelven a pedirse con mayor frecuencia (muestra sus nombres e IDs de los productos)?\n",
    "3. Para cada producto, ¿cuál es la tasa de repetición del pedido (número de repeticiones de pedido/total de pedidos?\n",
    "4. Para cada cliente, ¿qué proporción de los productos que pidió ya los había pedido? Calcula la tasa de repetición de pedido para cada usuario en lugar de para cada producto.\n",
    "5. ¿Cuáles son los 20 principales artículos que la gente pone primero en sus carritos (muestra las IDs de los productos, sus nombres, y el número de veces en que fueron el primer artículo en añadirse al carrito)?"
   ]
  },
  {
   "cell_type": "markdown",
   "id": "romantic-deposit",
   "metadata": {
    "id": "romantic-deposit"
   },
   "source": [
    "### [C1] ¿Cuántos artículos compran normalmente las personas en un pedido? ¿Cómo es la distribución?"
   ]
  },
  {
   "cell_type": "code",
   "execution_count": 62,
   "id": "virtual-punch",
   "metadata": {
    "id": "virtual-punch"
   },
   "outputs": [
    {
     "name": "stdout",
     "output_type": "stream",
     "text": [
      "count    450046.000000\n",
      "mean         10.098983\n",
      "std           7.540206\n",
      "min           1.000000\n",
      "25%           5.000000\n",
      "50%           8.000000\n",
      "75%          14.000000\n",
      "max         127.000000\n",
      "Name: product_id, dtype: float64\n"
     ]
    }
   ],
   "source": [
    "# Contar cuántos artículos hay en cada pedido\n",
    "articulos_por_pedido = order_products.groupby('order_id')['product_id'].count()\n",
    "\n",
    "# Mostrar estadísticos básicos\n",
    "print(articulos_por_pedido.describe())"
   ]
  },
  {
   "cell_type": "code",
   "execution_count": 63,
   "id": "sensitive-breathing",
   "metadata": {
    "id": "sensitive-breathing"
   },
   "outputs": [],
   "source": [
    "import matplotlib.pyplot as plt"
   ]
  },
  {
   "cell_type": "code",
   "execution_count": 64,
   "id": "completed-frank",
   "metadata": {
    "id": "completed-frank"
   },
   "outputs": [
    {
     "data": {
      "image/png": "[encoded data removed]",
      "text/plain": [
       "<Figure size 1000x500 with 1 Axes>"
      ]
     },
     "metadata": {},
     "output_type": "display_data"
    }
   ],
   "source": [
    "plt.figure(figsize=(10, 5))\n",
    "plt.hist(articulos_por_pedido, bins=50, color='purple', alpha=0.7)\n",
    "plt.xlabel(\"Número de artículos por pedido\")\n",
    "plt.ylabel(\"Frecuencia\")\n",
    "plt.title(\"Distribución del número de artículos por pedido\")\n",
    "plt.yscale(\"log\")  # Escala logarítmica para mejor visualización\n",
    "plt.show()"
   ]
  },
  {
   "cell_type": "markdown",
   "id": "designed-mortality",
   "metadata": {
    "id": "designed-mortality"
   },
   "source": [
    "Conclusiones sobre la distribución del número de artículos por pedido:\n",
    "Distribución sesgada a la izquierda: La mayoría de los pedidos contienen pocos artículos, y la frecuencia de pedidos disminuye a medida que aumenta el número de artículos comprados.\n",
    "\n",
    "La mayoría de los pedidos tienen pocos productos: Se observa que la cantidad de pedidos con menos artículos es significativamente mayor que aquellos con una cantidad elevada. Esto sugiere que los clientes suelen hacer compras pequeñas con mayor frecuencia.\n",
    "\n",
    "Cola larga en la distribución: Hay algunos pedidos con un número muy alto de artículos, aunque son casos poco comunes. Esto indica que existen ciertos clientes que hacen compras grandes, pero son una minoría.\n",
    "\n",
    "Uso de escala logarítmica: La necesidad de una escala logarítmica en el eje y indica que hay una gran variabilidad en la cantidad de artículos por pedido, con una diferencia significativa entre los pedidos más comunes y los menos frecuentes.\n",
    "\n",
    "Patrones de compra: Los resultados pueden estar relacionados con el tipo de usuario. Es posible que algunos clientes hagan pedidos frecuentes y pequeños, mientras que otros acumulen compras y hagan pedidos grandes ocasionalmente.\n",
    "\n"
   ]
  },
  {
   "cell_type": "markdown",
   "id": "5e6b5537",
   "metadata": {
    "id": "5e6b5537"
   },
   "source": [
    "### [C2] ¿Cuáles son los 20 principales artículos que vuelven a pedirse con mayor frecuencia (muestra sus nombres e IDs de los productos)?"
   ]
  },
  {
   "cell_type": "code",
   "execution_count": 68,
   "id": "9374e55a",
   "metadata": {
    "id": "9374e55a"
   },
   "outputs": [],
   "source": [
    "# Contar la frecuencia de cada producto que ha sido reordenado\n",
    "productos_reordenados_counts = order_products[order_products['reordered'] == 1]['product_id'].value_counts()\n",
    "productos_reordenados = productos_reordenados_counts.head(20)\n"
   ]
  },
  {
   "cell_type": "code",
   "execution_count": 69,
   "id": "possible-change",
   "metadata": {
    "id": "possible-change",
    "scrolled": true
   },
   "outputs": [],
   "source": [
    "# Obtener los nombres de los productos\n",
    "productos_top_reordenados = products[products['product_id'].isin(productos_reordenados.index)][['product_id', 'product_name']]\n",
    "productos_top_reordenados['cantidad_reordenada'] = productos_reordenados.values\n",
    "\n"
   ]
  },
  {
   "cell_type": "code",
   "execution_count": 70,
   "id": "professional-surfing",
   "metadata": {
    "id": "professional-surfing",
    "scrolled": true
   },
   "outputs": [
    {
     "name": "stdout",
     "output_type": "stream",
     "text": [
      "       product_id              product_name  cantidad_reordenada\n",
      "5875         5876             Organic Lemon                55763\n",
      "8276         8277  Apple Honeycrisp Organic                44450\n",
      "13175       13176    Bag of Organic Bananas                28639\n",
      "16796       16797              Strawberries                26233\n",
      "21136       21137      Organic Strawberries                23629\n",
      "21902       21903      Organic Baby Spinach                18743\n",
      "22934       22935      Organic Yellow Onion                16251\n",
      "24851       24852                    Banana                15044\n",
      "24963       24964            Organic Garlic                14748\n",
      "26208       26209                     Limes                13945\n",
      "27844       27845        Organic Whole Milk                13327\n",
      "27965       27966       Organic Raspberries                11145\n",
      "28203       28204        Organic Fuji Apple                10411\n",
      "39274       39275       Organic Blueberries                10076\n",
      "45006       45007          Organic Zucchini                 9538\n",
      "47208       47209      Organic Hass Avocado                 8989\n",
      "47625       47626               Large Lemon                 8836\n",
      "47765       47766           Organic Avocado                 8799\n",
      "49234       49235       Organic Half & Half                 8412\n",
      "49682       49683            Cucumber Kirby                 8389\n"
     ]
    }
   ],
   "source": [
    "# Mostrar los 20 productos más reordenados\n",
    "print(productos_top_reordenados)"
   ]
  },
  {
   "cell_type": "code",
   "execution_count": null,
   "id": "48dd3658",
   "metadata": {
    "id": "48dd3658"
   },
   "outputs": [],
   "source": []
  },
  {
   "cell_type": "markdown",
   "id": "80e70c74",
   "metadata": {
    "id": "80e70c74"
   },
   "source": [
    "Escribe aquí tus conclusiones"
   ]
  },
  {
   "cell_type": "markdown",
   "id": "9d312b14",
   "metadata": {
    "id": "9d312b14"
   },
   "source": [
    "### [C3] Para cada producto, ¿cuál es la proporción de las veces que se pide y que se vuelve a pedir?"
   ]
  },
  {
   "cell_type": "code",
   "execution_count": 73,
   "id": "8ae9f4b1",
   "metadata": {
    "id": "8ae9f4b1"
   },
   "outputs": [],
   "source": [
    "# Calcular la proporción de reorden para cada producto\n",
    "productos_reorden_proporcion = order_products.groupby('product_id').agg(\n",
    "    total_pedidos=('product_id', 'count'),\n",
    "    total_reordenados=('reordered', 'sum')\n",
    ")"
   ]
  },
  {
   "cell_type": "code",
   "execution_count": 74,
   "id": "103e7fe1",
   "metadata": {
    "id": "103e7fe1"
   },
   "outputs": [],
   "source": [
    "productos_reorden_proporcion['proporcion_reorden'] = productos_reorden_proporcion['total_reordenados'] / productos_reorden_proporcion['total_pedidos']"
   ]
  },
  {
   "cell_type": "code",
   "execution_count": 75,
   "id": "social-individual",
   "metadata": {
    "id": "social-individual"
   },
   "outputs": [
    {
     "name": "stdout",
     "output_type": "stream",
     "text": [
      "            total_pedidos  total_reordenados  proporcion_reorden\n",
      "product_id                                                      \n",
      "14721                   1                  1                 1.0\n",
      "20949                   3                  3                 1.0\n",
      "6723                   10                 10                 1.0\n",
      "6732                    3                  3                 1.0\n",
      "45088                   1                  1                 1.0\n",
      "45078                   1                  1                 1.0\n",
      "21016                   1                  1                 1.0\n",
      "21005                   2                  2                 1.0\n",
      "35192                   2                  2                 1.0\n",
      "35197                   1                  1                 1.0\n",
      "6810                    1                  1                 1.0\n",
      "45040                   2                  2                 1.0\n",
      "45035                  17                 17                 1.0\n",
      "27373                   1                  1                 1.0\n",
      "30748                   1                  1                 1.0\n",
      "45031                   6                  6                 1.0\n",
      "35137                   1                  1                 1.0\n",
      "30747                   4                  4                 1.0\n",
      "35228                   1                  1                 1.0\n",
      "35229                   4                  4                 1.0\n"
     ]
    }
   ],
   "source": [
    "# Mostrar los productos con mayor proporción de reorden\n",
    "print(productos_reorden_proporcion.sort_values(by='proporcion_reorden', ascending=False).head(20))\n"
   ]
  },
  {
   "cell_type": "markdown",
   "id": "I10dEIAyldcO",
   "metadata": {
    "id": "I10dEIAyldcO"
   },
   "source": [
    "### Conclusiones:\n",
    "1. **Proporción de reorden del 100%**: Todos los productos en la tabla tienen una proporción de reorden de 1.0, lo que significa que cada vez que fueron pedidos, fueron reordenados al menos una vez.\n",
    "2. **Pedidos únicos y múltiples**: Algunos productos han sido pedidos solo una vez (`total_pedidos = 1`), mientras que otros han sido pedidos múltiples veces (`total_pedidos > 1`), pero en todos los casos, fueron reordenados en la misma cantidad.\n",
    "3. **Posible sesgo en los datos**: Esta tabla muestra únicamente productos con una proporción de reorden del 100%, lo que puede indicar que se filtró de tal manera que excluye productos con tasas menores. Sería útil comparar con el total de productos reordenados para ver la distribución completa.\n",
    "4. **Productos con alta recurrencia**: Algunos productos tienen un número considerable de pedidos totales (por ejemplo, el `product_id 45035` con 17 pedidos), lo que sugiere que es un artículo con alta demanda y repetición.\n",
    "5. **Relevancia para inventario y marketing**: Este tipo de análisis puede ser útil para estrategias de marketing y gestión de inventario, ya que identifica productos con alta fidelidad del cliente, es decir, aquellos que los clientes siguen comprando repetidamente."
   ]
  },
  {
   "cell_type": "markdown",
   "id": "subject-boxing",
   "metadata": {
    "id": "subject-boxing"
   },
   "source": [
    "### [C4] Para cada cliente, ¿qué proporción de sus productos ya los había pedido?"
   ]
  },
  {
   "cell_type": "code",
   "execution_count": 78,
   "id": "8892e4b4",
   "metadata": {
    "id": "8892e4b4"
   },
   "outputs": [],
   "source": [
    "order_products = order_products.merge(orders[['order_id', 'user_id']], on='order_id', how='left')\n"
   ]
  },
  {
   "cell_type": "code",
   "execution_count": 79,
   "id": "medical-couple",
   "metadata": {
    "id": "medical-couple",
    "scrolled": true
   },
   "outputs": [
    {
     "name": "stdout",
     "output_type": "stream",
     "text": [
      "         total_pedidos  total_reordenados  proporcion_reorden\n",
      "user_id                                                      \n",
      "2                   26                  1            0.038462\n",
      "4                    2                  0            0.000000\n",
      "5                   12                  8            0.666667\n",
      "6                    4                  0            0.000000\n",
      "7                   14                 13            0.928571\n",
      "11                  15                  3            0.200000\n",
      "12                  12                  3            0.250000\n",
      "13                  23                 13            0.565217\n",
      "14                  61                 22            0.360656\n",
      "15                  13                  7            0.538462\n",
      "16                  32                 17            0.531250\n",
      "17                  53                 38            0.716981\n",
      "19                  48                 14            0.291667\n",
      "20                   4                  0            0.000000\n",
      "21                  20                  8            0.400000\n",
      "22                   6                  6            1.000000\n",
      "24                   2                  1            0.500000\n",
      "26                  16                  7            0.437500\n",
      "27                  85                 56            0.658824\n",
      "28                  44                 22            0.500000\n"
     ]
    }
   ],
   "source": [
    "# Calcular la proporción de productos reordenados por cliente\n",
    "clientes_reorden_proporcion = order_products.groupby('user_id').agg(\n",
    "    total_pedidos=('product_id', 'count'),\n",
    "    total_reordenados=('reordered', 'sum')\n",
    ")\n",
    "\n",
    "# Calcular la proporción de productos reordenados\n",
    "clientes_reorden_proporcion['proporcion_reorden'] = clientes_reorden_proporcion['total_reordenados'] / clientes_reorden_proporcion['total_pedidos']\n",
    "\n",
    "# Mostrar los resultados\n",
    "print(clientes_reorden_proporcion.head(20))"
   ]
  },
  {
   "cell_type": "markdown",
   "id": "BgJSvXDsleXz",
   "metadata": {
    "id": "BgJSvXDsleXz"
   },
   "source": [
    "Escribe aquí tus conclusiones"
   ]
  },
  {
   "cell_type": "markdown",
   "id": "92d35137",
   "metadata": {
    "id": "92d35137"
   },
   "source": [
    "### [C5] ¿Cuáles son los 20 principales artículos que las personas ponen primero en sus carritos?"
   ]
  },
  {
   "cell_type": "code",
   "execution_count": 77,
   "id": "0ae57274",
   "metadata": {
    "id": "0ae57274",
    "scrolled": true
   },
   "outputs": [
    {
     "name": "stdout",
     "output_type": "stream",
     "text": [
      "       product_id                 product_name  cantidad_primero\n",
      "195           196                         Soda             15562\n",
      "5784         5785  Organic Reduced Fat 2% Milk             11026\n",
      "12340       12341                Hass Avocados              4363\n",
      "13175       13176       Bag of Organic Bananas              3946\n",
      "16796       16797                 Strawberries              3390\n",
      "19659       19660                 Spring Water              3336\n",
      "21136       21137         Organic Strawberries              3044\n",
      "21902       21903         Organic Baby Spinach              2336\n",
      "22934       22935         Organic Yellow Onion              2308\n",
      "24851       24852                       Banana              2024\n",
      "26208       26209                        Limes              1914\n",
      "27085       27086                  Half & Half              1797\n",
      "27844       27845           Organic Whole Milk              1737\n",
      "27965       27966          Organic Raspberries              1733\n",
      "38688       38689     Organic Reduced Fat Milk              1397\n",
      "44631       44632   Sparkling Water Grapefruit              1370\n",
      "47208       47209         Organic Hass Avocado              1340\n",
      "47625       47626                  Large Lemon              1310\n",
      "47765       47766              Organic Avocado              1309\n",
      "49234       49235          Organic Half & Half              1246\n"
     ]
    }
   ],
   "source": [
    "# Contar la frecuencia de cada producto cuando fue el primero en añadirse al carrito\n",
    "productos_primero_carrito = order_products[order_products['add_to_cart_order'] == 1]['product_id'].value_counts().head(20)\n",
    "\n",
    "# Obtener los nombres de los productos\n",
    "productos_top_primero = products[products['product_id'].isin(productos_primero_carrito.index)][['product_id', 'product_name']]\n",
    "productos_top_primero['cantidad_primero'] = productos_primero_carrito.values\n",
    "\n",
    "# Mostrar los 20 productos más agregados primero al carrito\n",
    "print(productos_top_primero)\n"
   ]
  },
  {
   "cell_type": "code",
   "execution_count": null,
   "id": "forty-netherlands",
   "metadata": {
    "id": "forty-netherlands",
    "scrolled": true
   },
   "outputs": [],
   "source": []
  },
  {
   "cell_type": "code",
   "execution_count": null,
   "id": "08e41ec2",
   "metadata": {
    "id": "08e41ec2"
   },
   "outputs": [],
   "source": []
  },
  {
   "cell_type": "markdown",
   "id": "28ce9872",
   "metadata": {
    "id": "28ce9872"
   },
   "source": [
    "Escribe aquí tus conclusiones"
   ]
  },
  {
   "cell_type": "markdown",
   "id": "uITbFCEoDosC",
   "metadata": {
    "id": "uITbFCEoDosC"
   },
   "source": [
    "### Conclusion general del proyecto:"
   ]
  },
  {
   "cell_type": "markdown",
   "id": "09c30905",
   "metadata": {
    "id": "Nk-4GS7mDwqY"
   },
   "source": [
    "El análisis de datos de pedidos de Instacart ha permitido identificar patrones clave en el comportamiento de compra de los clientes. Entre los principales hallazgos se destacan:\n",
    "\n",
    "Frecuencia y Horarios de Compra:\n",
    "\n",
    "La mayor parte de las órdenes se realizan entre las 10:00 y 16:00 hrs, con un pico alrededor del mediodía.\n",
    "Los días con mayor número de pedidos son los fines de semana, especialmente los sábados y domingos.\n",
    "Comportamiento de los Clientes:\n",
    "\n",
    "La mayoría de los clientes realizan compras recurrentes y suelen pedir productos previamente adquiridos.\n",
    "Hay una tendencia a realizar pedidos con un número reducido de productos, aunque algunos clientes hacen pedidos grandes de manera ocasional.\n",
    "Productos más Comprados y Reordenados:\n",
    "\n",
    "Los productos orgánicos lideran las listas de los más comprados y reordenados, lo que sugiere una preferencia creciente por opciones saludables.\n",
    "Se identificaron los artículos que suelen ser los primeros en añadirse al carrito, lo que podría ser útil para estrategias de marketing y promociones.\n",
    "Reordenaciones y Fidelidad del Cliente:\n",
    "\n",
    "Se encontró que algunos productos tienen una alta tasa de reordenación, lo que indica una fuerte lealtad del consumidor hacia ciertas marcas y categorías.\n",
    "También se identificaron clientes con un alto porcentaje de reordenaciones, lo que sugiere oportunidades para estrategias de fidelización.\n",
    "Aplicaciones y Recomendaciones\n",
    "Optimización del Inventario: La alta frecuencia de ciertos productos sugiere la importancia de mantener un stock adecuado para evitar desabasto.\n",
    "Estrategias de Marketing Personalizado: Se pueden desarrollar campañas dirigidas a clientes recurrentes con recomendaciones de productos basadas en sus hábitos de compra.\n",
    "Experiencia del Cliente: La disposición de productos en la plataforma podría optimizarse para facilitar la compra de artículos más populares o frecuentemente reordenados.\n",
    "En conclusión, este análisis proporciona una visión valiosa sobre el comportamiento de los consumidores en Instacart, lo que puede ayudar a mejorar la eficiencia operativa y la experiencia del usuario."
   ]
  },
  {
   "cell_type": "code",
   "execution_count": null,
   "id": "3de2427b",
   "metadata": {},
   "outputs": [],
   "source": []
  }
 ],
 "metadata": {
  "ExecuteTimeLog": [
   {
    "duration": 282,
    "start_time": "2025-02-18T05:34:54.606Z"
   },
   {
    "duration": 283,
    "start_time": "2025-02-18T05:35:05.061Z"
   },
   {
    "duration": 22,
    "start_time": "2025-02-18T05:35:37.032Z"
   },
   {
    "duration": 9,
    "start_time": "2025-02-18T05:35:44.089Z"
   },
   {
    "duration": 321,
    "start_time": "2025-02-18T05:35:54.875Z"
   },
   {
    "duration": 16,
    "start_time": "2025-02-18T05:36:25.043Z"
   },
   {
    "duration": 4,
    "start_time": "2025-02-18T05:36:31.381Z"
   },
   {
    "duration": 123,
    "start_time": "2025-02-18T05:39:04.131Z"
   },
   {
    "duration": 10,
    "start_time": "2025-02-18T05:39:06.308Z"
   },
   {
    "duration": 8,
    "start_time": "2025-02-18T05:39:08.247Z"
   },
   {
    "duration": 74,
    "start_time": "2025-02-18T05:39:09.999Z"
   },
   {
    "duration": 7,
    "start_time": "2025-02-18T05:39:12.592Z"
   },
   {
    "duration": 4,
    "start_time": "2025-02-18T05:39:14.908Z"
   },
   {
    "duration": 75,
    "start_time": "2025-02-18T05:43:17.403Z"
   },
   {
    "duration": 84,
    "start_time": "2025-02-18T05:44:30.371Z"
   },
   {
    "duration": 11,
    "start_time": "2025-02-18T05:47:12.785Z"
   },
   {
    "duration": 87,
    "start_time": "2025-02-18T05:47:23.876Z"
   },
   {
    "duration": 97,
    "start_time": "2025-02-18T05:47:38.749Z"
   },
   {
    "duration": 30,
    "start_time": "2025-02-18T05:47:47.209Z"
   },
   {
    "duration": 193,
    "start_time": "2025-02-18T05:50:28.960Z"
   },
   {
    "duration": 55,
    "start_time": "2025-02-18T05:51:36.995Z"
   },
   {
    "duration": 3,
    "start_time": "2025-02-18T05:51:48.642Z"
   },
   {
    "duration": 11,
    "start_time": "2025-02-18T05:51:59.526Z"
   },
   {
    "duration": 13,
    "start_time": "2025-02-18T05:52:31.840Z"
   },
   {
    "duration": 389,
    "start_time": "2025-02-18T05:52:51.378Z"
   },
   {
    "duration": 3,
    "start_time": "2025-02-18T05:53:58.583Z"
   },
   {
    "duration": 2,
    "start_time": "2025-02-18T05:54:35.936Z"
   },
   {
    "duration": 113,
    "start_time": "2025-02-18T05:54:36.484Z"
   },
   {
    "duration": 10,
    "start_time": "2025-02-18T05:54:37.133Z"
   },
   {
    "duration": 9,
    "start_time": "2025-02-18T05:54:37.770Z"
   },
   {
    "duration": 74,
    "start_time": "2025-02-18T05:54:38.357Z"
   },
   {
    "duration": 6,
    "start_time": "2025-02-18T05:54:38.870Z"
   },
   {
    "duration": 4,
    "start_time": "2025-02-18T05:54:39.435Z"
   },
   {
    "duration": 72,
    "start_time": "2025-02-18T05:54:41.791Z"
   },
   {
    "duration": 10,
    "start_time": "2025-02-18T05:54:42.731Z"
   },
   {
    "duration": 76,
    "start_time": "2025-02-18T05:54:43.462Z"
   },
   {
    "duration": 74,
    "start_time": "2025-02-18T05:54:43.849Z"
   },
   {
    "duration": 24,
    "start_time": "2025-02-18T05:54:44.258Z"
   },
   {
    "duration": 11,
    "start_time": "2025-02-18T05:54:45.960Z"
   },
   {
    "duration": 3,
    "start_time": "2025-02-18T05:54:46.708Z"
   },
   {
    "duration": 246,
    "start_time": "2025-02-18T05:55:15.546Z"
   },
   {
    "duration": 20,
    "start_time": "2025-02-18T05:55:16.069Z"
   },
   {
    "duration": 6,
    "start_time": "2025-02-18T05:55:16.476Z"
   },
   {
    "duration": 323,
    "start_time": "2025-02-18T05:55:17.167Z"
   },
   {
    "duration": 18,
    "start_time": "2025-02-18T05:55:17.698Z"
   },
   {
    "duration": 4,
    "start_time": "2025-02-18T05:55:18.297Z"
   },
   {
    "duration": 105,
    "start_time": "2025-02-18T05:55:30.016Z"
   },
   {
    "duration": 10,
    "start_time": "2025-02-18T05:55:30.960Z"
   },
   {
    "duration": 7,
    "start_time": "2025-02-18T05:55:32.190Z"
   },
   {
    "duration": 73,
    "start_time": "2025-02-18T05:55:32.802Z"
   },
   {
    "duration": 7,
    "start_time": "2025-02-18T05:55:33.358Z"
   },
   {
    "duration": 4,
    "start_time": "2025-02-18T05:55:33.950Z"
   },
   {
    "duration": 71,
    "start_time": "2025-02-18T05:55:37.152Z"
   },
   {
    "duration": 11,
    "start_time": "2025-02-18T05:55:38.280Z"
   },
   {
    "duration": 77,
    "start_time": "2025-02-18T05:55:39.371Z"
   },
   {
    "duration": 71,
    "start_time": "2025-02-18T05:55:39.932Z"
   },
   {
    "duration": 22,
    "start_time": "2025-02-18T05:55:41.292Z"
   },
   {
    "duration": 12,
    "start_time": "2025-02-18T05:55:47.214Z"
   },
   {
    "duration": 3,
    "start_time": "2025-02-18T05:55:48.042Z"
   },
   {
    "duration": 37,
    "start_time": "2025-02-18T05:56:46.422Z"
   },
   {
    "duration": 31,
    "start_time": "2025-02-18T05:59:15.204Z"
   },
   {
    "duration": 3,
    "start_time": "2025-02-18T05:59:18.157Z"
   },
   {
    "duration": 23,
    "start_time": "2025-02-18T05:59:43.512Z"
   },
   {
    "duration": 19,
    "start_time": "2025-02-18T06:00:05.766Z"
   },
   {
    "duration": 16,
    "start_time": "2025-02-18T06:00:47.877Z"
   },
   {
    "duration": 12,
    "start_time": "2025-02-18T06:04:40.250Z"
   },
   {
    "duration": 10,
    "start_time": "2025-02-18T06:07:35.315Z"
   },
   {
    "duration": 4,
    "start_time": "2025-02-18T06:07:37.209Z"
   },
   {
    "duration": 12,
    "start_time": "2025-02-18T06:11:03.533Z"
   },
   {
    "duration": 9,
    "start_time": "2025-02-18T06:11:43.010Z"
   },
   {
    "duration": 4,
    "start_time": "2025-02-18T06:11:44.772Z"
   },
   {
    "duration": 3,
    "start_time": "2025-02-18T06:11:54.784Z"
   },
   {
    "duration": 12,
    "start_time": "2025-02-18T06:13:18.764Z"
   },
   {
    "duration": 798,
    "start_time": "2025-02-18T06:13:53.238Z"
   },
   {
    "duration": 713,
    "start_time": "2025-02-18T06:13:54.038Z"
   },
   {
    "duration": 602,
    "start_time": "2025-02-18T06:14:11.977Z"
   },
   {
    "duration": 5,
    "start_time": "2025-02-18T06:17:30.633Z"
   },
   {
    "duration": 12,
    "start_time": "2025-02-18T06:18:15.931Z"
   },
   {
    "duration": 6,
    "start_time": "2025-02-18T06:20:33.138Z"
   },
   {
    "duration": 6,
    "start_time": "2025-02-18T06:22:17.224Z"
   },
   {
    "duration": 6,
    "start_time": "2025-02-18T06:22:34.481Z"
   },
   {
    "duration": 6,
    "start_time": "2025-02-18T06:22:55.565Z"
   },
   {
    "duration": 13,
    "start_time": "2025-02-18T06:26:04.163Z"
   },
   {
    "duration": 105,
    "start_time": "2025-02-18T06:26:40.965Z"
   },
   {
    "duration": 6,
    "start_time": "2025-02-18T06:26:41.645Z"
   },
   {
    "duration": 5,
    "start_time": "2025-02-18T06:28:00.902Z"
   },
   {
    "duration": 15,
    "start_time": "2025-02-18T06:29:44.019Z"
   },
   {
    "duration": 31,
    "start_time": "2025-02-18T06:29:50.874Z"
   },
   {
    "duration": 12,
    "start_time": "2025-02-18T06:31:44.841Z"
   },
   {
    "duration": 61,
    "start_time": "2025-02-18T06:31:52.661Z"
   },
   {
    "duration": 23,
    "start_time": "2025-02-18T06:32:03.946Z"
   },
   {
    "duration": 6,
    "start_time": "2025-02-18T06:35:39.048Z"
   },
   {
    "duration": 5,
    "start_time": "2025-02-18T06:36:35.449Z"
   },
   {
    "duration": 3,
    "start_time": "2025-02-18T06:36:37.115Z"
   },
   {
    "duration": 2103,
    "start_time": "2025-02-18T06:37:07.252Z"
   },
   {
    "duration": 121,
    "start_time": "2025-02-18T06:39:22.832Z"
   },
   {
    "duration": 334,
    "start_time": "2025-02-18T19:07:47.271Z"
   },
   {
    "duration": 154,
    "start_time": "2025-02-18T19:07:47.607Z"
   },
   {
    "duration": 12,
    "start_time": "2025-02-18T19:07:48.476Z"
   },
   {
    "duration": 15,
    "start_time": "2025-02-18T19:07:49.173Z"
   },
   {
    "duration": 106,
    "start_time": "2025-02-18T19:07:49.867Z"
   },
   {
    "duration": 8,
    "start_time": "2025-02-18T19:07:50.614Z"
   },
   {
    "duration": 5,
    "start_time": "2025-02-18T19:07:51.553Z"
   },
   {
    "duration": 87,
    "start_time": "2025-02-18T19:07:54.841Z"
   },
   {
    "duration": 15,
    "start_time": "2025-02-18T19:07:55.872Z"
   },
   {
    "duration": 98,
    "start_time": "2025-02-18T19:07:58.529Z"
   },
   {
    "duration": 111,
    "start_time": "2025-02-18T19:07:59.842Z"
   },
   {
    "duration": 37,
    "start_time": "2025-02-18T19:08:01.007Z"
   },
   {
    "duration": 218,
    "start_time": "2025-02-18T19:09:46.360Z"
   },
   {
    "duration": 13,
    "start_time": "2025-02-18T19:09:50.303Z"
   },
   {
    "duration": 79,
    "start_time": "2025-02-18T19:10:31.726Z"
   },
   {
    "duration": 14,
    "start_time": "2025-02-18T19:10:33.622Z"
   },
   {
    "duration": 38,
    "start_time": "2025-02-18T19:10:34.564Z"
   },
   {
    "duration": 5,
    "start_time": "2025-02-18T19:10:35.021Z"
   },
   {
    "duration": 28,
    "start_time": "2025-02-18T19:10:35.613Z"
   },
   {
    "duration": 18,
    "start_time": "2025-02-18T19:10:36.850Z"
   },
   {
    "duration": 20,
    "start_time": "2025-02-18T19:10:37.752Z"
   },
   {
    "duration": 8,
    "start_time": "2025-02-18T19:10:50.637Z"
   },
   {
    "duration": 8,
    "start_time": "2025-02-18T19:10:52.983Z"
   },
   {
    "duration": 3,
    "start_time": "2025-02-18T19:10:54.095Z"
   },
   {
    "duration": 11,
    "start_time": "2025-02-18T19:11:01.530Z"
   },
   {
    "duration": 4,
    "start_time": "2025-02-18T19:11:02.274Z"
   },
   {
    "duration": 4,
    "start_time": "2025-02-18T19:11:03.209Z"
   },
   {
    "duration": 817,
    "start_time": "2025-02-18T19:11:05.148Z"
   },
   {
    "duration": 807,
    "start_time": "2025-02-18T19:11:05.967Z"
   },
   {
    "duration": 739,
    "start_time": "2025-02-18T19:11:06.777Z"
   },
   {
    "duration": 5,
    "start_time": "2025-02-18T19:11:11.555Z"
   },
   {
    "duration": 22,
    "start_time": "2025-02-18T19:11:12.441Z"
   },
   {
    "duration": 13,
    "start_time": "2025-02-18T19:11:13.848Z"
   },
   {
    "duration": 6,
    "start_time": "2025-02-18T19:11:15.161Z"
   },
   {
    "duration": 6,
    "start_time": "2025-02-18T19:11:16.528Z"
   },
   {
    "duration": 7,
    "start_time": "2025-02-18T19:11:20.449Z"
   },
   {
    "duration": 108,
    "start_time": "2025-02-18T19:11:22.495Z"
   },
   {
    "duration": 7,
    "start_time": "2025-02-18T19:11:23.538Z"
   },
   {
    "duration": 7,
    "start_time": "2025-02-18T19:11:24.288Z"
   },
   {
    "duration": 16,
    "start_time": "2025-02-18T19:11:26.561Z"
   },
   {
    "duration": 38,
    "start_time": "2025-02-18T19:11:27.566Z"
   },
   {
    "duration": 13,
    "start_time": "2025-02-18T19:11:28.731Z"
   },
   {
    "duration": 63,
    "start_time": "2025-02-18T19:11:29.285Z"
   },
   {
    "duration": 24,
    "start_time": "2025-02-18T19:11:30.367Z"
   },
   {
    "duration": 7,
    "start_time": "2025-02-18T19:11:34.630Z"
   },
   {
    "duration": 3,
    "start_time": "2025-02-18T19:11:35.388Z"
   },
   {
    "duration": 2325,
    "start_time": "2025-02-18T19:11:37.214Z"
   },
   {
    "duration": 142,
    "start_time": "2025-02-18T19:11:42.243Z"
   },
   {
    "duration": 185,
    "start_time": "2025-02-18T19:11:44.348Z"
   },
   {
    "duration": 221,
    "start_time": "2025-02-18T19:14:31.179Z"
   },
   {
    "duration": 506,
    "start_time": "2025-02-18T19:14:42.572Z"
   },
   {
    "duration": 109,
    "start_time": "2025-02-18T19:14:50.547Z"
   },
   {
    "duration": 90,
    "start_time": "2025-02-18T19:15:53.791Z"
   },
   {
    "duration": 99,
    "start_time": "2025-02-18T19:15:56.006Z"
   },
   {
    "duration": 91,
    "start_time": "2025-02-18T19:16:59.179Z"
   },
   {
    "duration": 20,
    "start_time": "2025-02-18T19:22:56.596Z"
   },
   {
    "duration": 429,
    "start_time": "2025-02-18T19:22:57.330Z"
   },
   {
    "duration": 108,
    "start_time": "2025-02-18T19:23:35.417Z"
   },
   {
    "duration": 5,
    "start_time": "2025-02-18T19:23:36.079Z"
   },
   {
    "duration": 18,
    "start_time": "2025-02-18T19:23:36.649Z"
   },
   {
    "duration": 4,
    "start_time": "2025-02-18T19:23:55.012Z"
   },
   {
    "duration": 246,
    "start_time": "2025-02-18T19:28:10.132Z"
   },
   {
    "duration": 3,
    "start_time": "2025-02-18T19:28:16.807Z"
   },
   {
    "duration": 381,
    "start_time": "2025-02-18T19:28:25.875Z"
   },
   {
    "duration": 147,
    "start_time": "2025-02-18T19:32:05.325Z"
   },
   {
    "duration": 5,
    "start_time": "2025-02-18T19:32:15.643Z"
   },
   {
    "duration": 10,
    "start_time": "2025-02-18T19:32:22.424Z"
   },
   {
    "duration": 96,
    "start_time": "2025-02-18T19:34:05.178Z"
   },
   {
    "duration": 5,
    "start_time": "2025-02-18T19:34:19.427Z"
   },
   {
    "duration": 5,
    "start_time": "2025-02-18T19:34:26.928Z"
   },
   {
    "duration": 6,
    "start_time": "2025-02-18T19:36:02.597Z"
   },
   {
    "duration": 3,
    "start_time": "2025-02-18T19:36:59.353Z"
   },
   {
    "duration": 121,
    "start_time": "2025-02-18T19:37:10.063Z"
   },
   {
    "duration": 4,
    "start_time": "2025-02-18T19:37:24.483Z"
   },
   {
    "duration": 9,
    "start_time": "2025-02-18T19:37:31.563Z"
   },
   {
    "duration": 382,
    "start_time": "2025-02-18T19:40:41.095Z"
   },
   {
    "duration": 32,
    "start_time": "2025-02-18T19:41:41.819Z"
   },
   {
    "duration": 685,
    "start_time": "2025-02-18T19:42:22.572Z"
   },
   {
    "duration": 297,
    "start_time": "2025-02-18T19:42:23.388Z"
   }
  ],
  "colab": {
   "provenance": []
  },
  "kernelspec": {
   "display_name": "Python 3 (ipykernel)",
   "language": "python",
   "name": "python3"
  },
  "language_info": {
   "codemirror_mode": {
    "name": "ipython",
    "version": 3
   },
   "file_extension": ".py",
   "mimetype": "text/x-python",
   "name": "python",
   "nbconvert_exporter": "python",
   "pygments_lexer": "ipython3",
   "version": "3.9.19"
  },
  "toc": {
   "base_numbering": 1,
   "nav_menu": {},
   "number_sections": true,
   "sideBar": true,
   "skip_h1_title": true,
   "title_cell": "Table of Contents",
   "title_sidebar": "Contents",
   "toc_cell": false,
   "toc_position": {},
   "toc_section_display": true,
   "toc_window_display": false
  },
  "vscode": {
   "interpreter": {
    "hash": "01a7be9ec63e704a62cefc5fe7a4756944464ee731be31632bdf42a4cb4688cf"
   }
  }
 },
 "nbformat": 4,
 "nbformat_minor": 5
}
