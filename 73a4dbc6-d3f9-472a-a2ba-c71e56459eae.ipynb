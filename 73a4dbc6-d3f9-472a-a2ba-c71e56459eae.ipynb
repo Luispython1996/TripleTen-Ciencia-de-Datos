{
 "cells": [
  {
   "cell_type": "markdown",
   "metadata": {},
   "source": [
    "<b>¡Hola Osvaldo!</b>\n",
    "\n",
    "Mi nombre es Alejandro Abia y tengo el gusto de revisar tu proyecto.\n",
    "\n",
    "A continuación, encontrarás mis comentarios en celdas pintadas de tres colores (verde, amarillo y rojo), a manera de semáforo. Por favor, <b>no las borres ni muevas de posición</b> mientras dure el proceso de revisión.\n",
    "\n",
    "<div class=\"alert alert-block alert-success\">\n",
    "<b>Éxito</b> <a class=\"tocSkip\"></a>\n",
    "En celdas verdes encontrarás comentarios en relación a tus aciertos y fortalezas.\n",
    "</div>\n",
    "<div class=\"alert alert-block alert-warning\">\n",
    "<b>Antención</b> <a class=\"tocSkip\"></a>\n",
    "Utilizaré el color amarillo para llamar tu atención, expresar algo importante o compartirte alguna idea de valor.\n",
    "</div>\n",
    "<div class=\"alert alert-block alert-danger\">\n",
    "<b>A resolver</b> <a class=\"tocSkip\"></a>\n",
    "En rojo emitiré aquellos puntos que deberás atender para aprobar la revisión.\n",
    "</div>\n",
    "<div class=\"alert alert-block alert-info\">\n",
    "<b>Comentario estudiante</b><a class=\"tocSkip\"></a>\n",
    "Es factible que, a lo largo del proceso de revisión, quieras dejarme comentarios. Si es el caso, por favor realízalo dentro de celdas azules como esta.\n",
    "</div>\n",
    "Respecto del proceso de revisión, tu proyecto será aceptado una vez que los comentarios en rojo hayan sido atendidos.\n",
    "¡Empecemos!"
   ]
  },
  {
   "cell_type": "markdown",
   "metadata": {},
   "source": [
    "# Descripción"
   ]
  },
  {
   "cell_type": "markdown",
   "metadata": {},
   "source": [
    "La compañía de seguros Sure Tomorrow quiere resolver varias tareas con la ayuda de machine learning y te pide que evalúes esa posibilidad.\n",
    "- Tarea 1: encontrar clientes que sean similares a un cliente determinado. Esto ayudará a los agentes de la compañía con el marketing.\n",
    "- Tarea 2: predecir la probabilidad de que un nuevo cliente reciba una prestación del seguro. ¿Puede un modelo de predictivo funcionar mejor que un modelo dummy?\n",
    "- Tarea 3: predecir el número de prestaciones de seguro que un nuevo cliente pueda recibir utilizando un modelo de regresión lineal.\n",
    "- Tarea 4: proteger los datos personales de los clientes sin afectar al modelo del ejercicio anterior. Es necesario desarrollar un algoritmo de transformación de datos que dificulte la recuperación de la información personal si los datos caen en manos equivocadas. Esto se denomina enmascaramiento u ofuscación de datos. Pero los datos deben protegerse de tal manera que no se vea afectada la calidad de los modelos de machine learning. No es necesario elegir el mejor modelo, basta con demostrar que el algoritmo funciona correctamente.\n"
   ]
  },
  {
   "cell_type": "markdown",
   "metadata": {},
   "source": [
    "## Aplicación de Machine Learning para la Compañía de Seguros Sure Tomorrow"
   ]
  },
  {
   "cell_type": "markdown",
   "metadata": {},
   "source": [
    "El presente proyecto tiene como objetivo aplicar conceptos fundamentales de álgebra lineal en conjunto con técnicas de machine learning para resolver problemas reales del sector asegurador. La compañía Sure Tomorrow busca optimizar sus procesos de marketing, evaluación de clientes y protección de datos a través del análisis automatizado de su base de datos.\n",
    "\n",
    "Durante el desarrollo del proyecto se abordarán cuatro tareas principales:\n",
    "\n",
    "Identificación de clientes similares para estrategias de marketing.\n",
    "\n",
    "Predicción binaria sobre la probabilidad de que un cliente reciba beneficios.\n",
    "\n",
    "Estimación del número de beneficios que puede recibir un cliente.\n",
    "\n",
    "Enmascaramiento de datos personales sin comprometer el rendimiento de los modelos predictivos.\n",
    "\n",
    "Este proyecto no solo demuestra el valor práctico del álgebra lineal en problemas de clasificación, regresión y transformación de datos, sino que también resalta su relevancia en la protección de la privacidad dentro del ámbito del aprendizaje automático."
   ]
  },
  {
   "cell_type": "markdown",
   "metadata": {},
   "source": [
    "# Preprocesamiento y exploración de datos\n",
    "\n",
    "## 1. Inicialización"
   ]
  },
  {
   "cell_type": "code",
   "execution_count": 63,
   "metadata": {
    "trusted": false
   },
   "outputs": [
    {
     "name": "stdout",
     "output_type": "stream",
     "text": [
      "Requirement already satisfied: scikit-learn in c:\\users\\lloso\\anaconda3\\lib\\site-packages (1.7.0)\n",
      "Requirement already satisfied: numpy>=1.22.0 in c:\\users\\lloso\\anaconda3\\lib\\site-packages (from scikit-learn) (1.26.4)\n",
      "Requirement already satisfied: scipy>=1.8.0 in c:\\users\\lloso\\anaconda3\\lib\\site-packages (from scikit-learn) (1.13.1)\n",
      "Requirement already satisfied: joblib>=1.2.0 in c:\\users\\lloso\\anaconda3\\lib\\site-packages (from scikit-learn) (1.4.2)\n",
      "Requirement already satisfied: threadpoolctl>=3.1.0 in c:\\users\\lloso\\anaconda3\\lib\\site-packages (from scikit-learn) (3.5.0)\n",
      "Note: you may need to restart the kernel to use updated packages.\n"
     ]
    }
   ],
   "source": [
    "pip install scikit-learn --upgrade"
   ]
  },
  {
   "cell_type": "code",
   "execution_count": 109,
   "metadata": {
    "trusted": false
   },
   "outputs": [],
   "source": [
    "import numpy as np\n",
    "import pandas as pd\n",
    "\n",
    "import seaborn as sns\n",
    "import matplotlib.pyplot as plt\n",
    "\n",
    "import sklearn.linear_model\n",
    "import sklearn.metrics\n",
    "import sklearn.neighbors\n",
    "import sklearn.preprocessing\n",
    "from sklearn.neighbors import NearestNeighbors\n",
    "from sklearn.metrics import confusion_matrix\n",
    "from sklearn.preprocessing import MaxAbsScaler\n",
    "import math\n",
    "\n",
    "\n",
    "from sklearn.model_selection import train_test_split\n",
    "\n",
    "from IPython.display import display"
   ]
  },
  {
   "cell_type": "markdown",
   "metadata": {},
   "source": [
    "# 2. Carga de datos"
   ]
  },
  {
   "cell_type": "markdown",
   "metadata": {},
   "source": [
    "Carga los datos y haz una revisión básica para comprobar que no hay problemas obvios."
   ]
  },
  {
   "cell_type": "code",
   "execution_count": 65,
   "metadata": {
    "trusted": false
   },
   "outputs": [],
   "source": [
    "df = pd.read_csv('C:/users/lloso/Downloads/insurance_us.csv')"
   ]
  },
  {
   "cell_type": "code",
   "execution_count": 66,
   "metadata": {
    "trusted": false
   },
   "outputs": [
    {
     "data": {
      "text/html": [
       "<div>\n",
       "<style scoped>\n",
       "    .dataframe tbody tr th:only-of-type {\n",
       "        vertical-align: middle;\n",
       "    }\n",
       "\n",
       "    .dataframe tbody tr th {\n",
       "        vertical-align: top;\n",
       "    }\n",
       "\n",
       "    .dataframe thead th {\n",
       "        text-align: right;\n",
       "    }\n",
       "</style>\n",
       "<table border=\"1\" class=\"dataframe\">\n",
       "  <thead>\n",
       "    <tr style=\"text-align: right;\">\n",
       "      <th></th>\n",
       "      <th>Gender</th>\n",
       "      <th>Age</th>\n",
       "      <th>Salary</th>\n",
       "      <th>Family members</th>\n",
       "      <th>Insurance benefits</th>\n",
       "    </tr>\n",
       "  </thead>\n",
       "  <tbody>\n",
       "    <tr>\n",
       "      <th>1878</th>\n",
       "      <td>1</td>\n",
       "      <td>20.0</td>\n",
       "      <td>50900.0</td>\n",
       "      <td>3</td>\n",
       "      <td>0</td>\n",
       "    </tr>\n",
       "    <tr>\n",
       "      <th>1977</th>\n",
       "      <td>1</td>\n",
       "      <td>38.0</td>\n",
       "      <td>40400.0</td>\n",
       "      <td>0</td>\n",
       "      <td>0</td>\n",
       "    </tr>\n",
       "    <tr>\n",
       "      <th>453</th>\n",
       "      <td>1</td>\n",
       "      <td>28.0</td>\n",
       "      <td>43000.0</td>\n",
       "      <td>4</td>\n",
       "      <td>0</td>\n",
       "    </tr>\n",
       "    <tr>\n",
       "      <th>3932</th>\n",
       "      <td>1</td>\n",
       "      <td>25.0</td>\n",
       "      <td>42600.0</td>\n",
       "      <td>0</td>\n",
       "      <td>0</td>\n",
       "    </tr>\n",
       "    <tr>\n",
       "      <th>4076</th>\n",
       "      <td>0</td>\n",
       "      <td>34.0</td>\n",
       "      <td>39300.0</td>\n",
       "      <td>2</td>\n",
       "      <td>0</td>\n",
       "    </tr>\n",
       "    <tr>\n",
       "      <th>4634</th>\n",
       "      <td>0</td>\n",
       "      <td>35.0</td>\n",
       "      <td>55000.0</td>\n",
       "      <td>1</td>\n",
       "      <td>0</td>\n",
       "    </tr>\n",
       "    <tr>\n",
       "      <th>4645</th>\n",
       "      <td>1</td>\n",
       "      <td>33.0</td>\n",
       "      <td>35400.0</td>\n",
       "      <td>1</td>\n",
       "      <td>0</td>\n",
       "    </tr>\n",
       "    <tr>\n",
       "      <th>3324</th>\n",
       "      <td>0</td>\n",
       "      <td>27.0</td>\n",
       "      <td>48200.0</td>\n",
       "      <td>1</td>\n",
       "      <td>0</td>\n",
       "    </tr>\n",
       "    <tr>\n",
       "      <th>1532</th>\n",
       "      <td>0</td>\n",
       "      <td>20.0</td>\n",
       "      <td>25800.0</td>\n",
       "      <td>1</td>\n",
       "      <td>0</td>\n",
       "    </tr>\n",
       "    <tr>\n",
       "      <th>2972</th>\n",
       "      <td>1</td>\n",
       "      <td>44.0</td>\n",
       "      <td>33000.0</td>\n",
       "      <td>1</td>\n",
       "      <td>1</td>\n",
       "    </tr>\n",
       "  </tbody>\n",
       "</table>\n",
       "</div>"
      ],
      "text/plain": [
       "      Gender   Age   Salary  Family members  Insurance benefits\n",
       "1878       1  20.0  50900.0               3                   0\n",
       "1977       1  38.0  40400.0               0                   0\n",
       "453        1  28.0  43000.0               4                   0\n",
       "3932       1  25.0  42600.0               0                   0\n",
       "4076       0  34.0  39300.0               2                   0\n",
       "4634       0  35.0  55000.0               1                   0\n",
       "4645       1  33.0  35400.0               1                   0\n",
       "3324       0  27.0  48200.0               1                   0\n",
       "1532       0  20.0  25800.0               1                   0\n",
       "2972       1  44.0  33000.0               1                   1"
      ]
     },
     "execution_count": 66,
     "metadata": {},
     "output_type": "execute_result"
    }
   ],
   "source": [
    "df.sample(10)"
   ]
  },
  {
   "cell_type": "code",
   "execution_count": 67,
   "metadata": {
    "trusted": false
   },
   "outputs": [],
   "source": [
    "df = df.rename(columns={'Gender': 'gender', 'Age': 'age', 'Salary': 'income', 'Family members': 'family_members', 'Insurance benefits': 'insurance_benefits'})"
   ]
  },
  {
   "cell_type": "markdown",
   "metadata": {},
   "source": [
    "Renombramos las columnas para que el código se vea más coherente con su estilo."
   ]
  },
  {
   "cell_type": "code",
   "execution_count": 68,
   "metadata": {
    "trusted": false
   },
   "outputs": [
    {
     "name": "stdout",
     "output_type": "stream",
     "text": [
      "<class 'pandas.core.frame.DataFrame'>\n",
      "RangeIndex: 5000 entries, 0 to 4999\n",
      "Data columns (total 5 columns):\n",
      " #   Column              Non-Null Count  Dtype  \n",
      "---  ------              --------------  -----  \n",
      " 0   gender              5000 non-null   int64  \n",
      " 1   age                 5000 non-null   float64\n",
      " 2   income              5000 non-null   float64\n",
      " 3   family_members      5000 non-null   int64  \n",
      " 4   insurance_benefits  5000 non-null   int64  \n",
      "dtypes: float64(2), int64(3)\n",
      "memory usage: 195.4 KB\n"
     ]
    }
   ],
   "source": [
    "df.info()"
   ]
  },
  {
   "cell_type": "markdown",
   "metadata": {},
   "source": [
    "Resumen del estado del DataFrame\n",
    "Total de filas: 5000\n",
    "\n",
    "Valores nulos: Ninguno (Non-Null Count = 5000 en todas las columnas)"
   ]
  },
  {
   "cell_type": "code",
   "execution_count": 69,
   "metadata": {
    "trusted": false
   },
   "outputs": [],
   "source": [
    "df['age'] = df['age'].astype(int)\n",
    "df['income'] = df['income'].astype(int)"
   ]
  },
  {
   "cell_type": "markdown",
   "metadata": {},
   "source": [
    "Noté que la columna age e income estaban en formato float64, lo cual no es necesario, ya que la edad se representa naturalmente como un número entero al igual que el salario (por lo que veo en la tabla). Por esta razón, convertí estas columnas a tipo int para mejorar la coherencia del dataset y evitar inconsistencias al momento de analizar o visualizar los datos."
   ]
  },
  {
   "cell_type": "code",
   "execution_count": 70,
   "metadata": {
    "trusted": false
   },
   "outputs": [
    {
     "name": "stdout",
     "output_type": "stream",
     "text": [
      "<class 'pandas.core.frame.DataFrame'>\n",
      "RangeIndex: 5000 entries, 0 to 4999\n",
      "Data columns (total 5 columns):\n",
      " #   Column              Non-Null Count  Dtype\n",
      "---  ------              --------------  -----\n",
      " 0   gender              5000 non-null   int64\n",
      " 1   age                 5000 non-null   int32\n",
      " 2   income              5000 non-null   int32\n",
      " 3   family_members      5000 non-null   int64\n",
      " 4   insurance_benefits  5000 non-null   int64\n",
      "dtypes: int32(2), int64(3)\n",
      "memory usage: 156.4 KB\n"
     ]
    }
   ],
   "source": [
    "# comprueba que la conversión se haya realizado con éxito\n",
    "df.info()"
   ]
  },
  {
   "cell_type": "code",
   "execution_count": 71,
   "metadata": {
    "trusted": false
   },
   "outputs": [
    {
     "data": {
      "text/html": [
       "<div>\n",
       "<style scoped>\n",
       "    .dataframe tbody tr th:only-of-type {\n",
       "        vertical-align: middle;\n",
       "    }\n",
       "\n",
       "    .dataframe tbody tr th {\n",
       "        vertical-align: top;\n",
       "    }\n",
       "\n",
       "    .dataframe thead th {\n",
       "        text-align: right;\n",
       "    }\n",
       "</style>\n",
       "<table border=\"1\" class=\"dataframe\">\n",
       "  <thead>\n",
       "    <tr style=\"text-align: right;\">\n",
       "      <th></th>\n",
       "      <th>gender</th>\n",
       "      <th>age</th>\n",
       "      <th>income</th>\n",
       "      <th>family_members</th>\n",
       "      <th>insurance_benefits</th>\n",
       "    </tr>\n",
       "  </thead>\n",
       "  <tbody>\n",
       "    <tr>\n",
       "      <th>0</th>\n",
       "      <td>1</td>\n",
       "      <td>41</td>\n",
       "      <td>49600</td>\n",
       "      <td>1</td>\n",
       "      <td>0</td>\n",
       "    </tr>\n",
       "    <tr>\n",
       "      <th>1</th>\n",
       "      <td>0</td>\n",
       "      <td>46</td>\n",
       "      <td>38000</td>\n",
       "      <td>1</td>\n",
       "      <td>1</td>\n",
       "    </tr>\n",
       "    <tr>\n",
       "      <th>2</th>\n",
       "      <td>0</td>\n",
       "      <td>29</td>\n",
       "      <td>21000</td>\n",
       "      <td>0</td>\n",
       "      <td>0</td>\n",
       "    </tr>\n",
       "    <tr>\n",
       "      <th>3</th>\n",
       "      <td>0</td>\n",
       "      <td>21</td>\n",
       "      <td>41700</td>\n",
       "      <td>2</td>\n",
       "      <td>0</td>\n",
       "    </tr>\n",
       "    <tr>\n",
       "      <th>4</th>\n",
       "      <td>1</td>\n",
       "      <td>28</td>\n",
       "      <td>26100</td>\n",
       "      <td>0</td>\n",
       "      <td>0</td>\n",
       "    </tr>\n",
       "    <tr>\n",
       "      <th>5</th>\n",
       "      <td>1</td>\n",
       "      <td>43</td>\n",
       "      <td>41000</td>\n",
       "      <td>2</td>\n",
       "      <td>1</td>\n",
       "    </tr>\n",
       "    <tr>\n",
       "      <th>6</th>\n",
       "      <td>1</td>\n",
       "      <td>39</td>\n",
       "      <td>39700</td>\n",
       "      <td>2</td>\n",
       "      <td>0</td>\n",
       "    </tr>\n",
       "    <tr>\n",
       "      <th>7</th>\n",
       "      <td>1</td>\n",
       "      <td>25</td>\n",
       "      <td>38600</td>\n",
       "      <td>4</td>\n",
       "      <td>0</td>\n",
       "    </tr>\n",
       "    <tr>\n",
       "      <th>8</th>\n",
       "      <td>1</td>\n",
       "      <td>36</td>\n",
       "      <td>49700</td>\n",
       "      <td>1</td>\n",
       "      <td>0</td>\n",
       "    </tr>\n",
       "    <tr>\n",
       "      <th>9</th>\n",
       "      <td>1</td>\n",
       "      <td>32</td>\n",
       "      <td>51700</td>\n",
       "      <td>1</td>\n",
       "      <td>0</td>\n",
       "    </tr>\n",
       "  </tbody>\n",
       "</table>\n",
       "</div>"
      ],
      "text/plain": [
       "   gender  age  income  family_members  insurance_benefits\n",
       "0       1   41   49600               1                   0\n",
       "1       0   46   38000               1                   1\n",
       "2       0   29   21000               0                   0\n",
       "3       0   21   41700               2                   0\n",
       "4       1   28   26100               0                   0\n",
       "5       1   43   41000               2                   1\n",
       "6       1   39   39700               2                   0\n",
       "7       1   25   38600               4                   0\n",
       "8       1   36   49700               1                   0\n",
       "9       1   32   51700               1                   0"
      ]
     },
     "execution_count": 71,
     "metadata": {},
     "output_type": "execute_result"
    }
   ],
   "source": [
    "df.head(10)"
   ]
  },
  {
   "cell_type": "code",
   "execution_count": 72,
   "metadata": {
    "trusted": false
   },
   "outputs": [
    {
     "name": "stdout",
     "output_type": "stream",
     "text": [
      "<class 'pandas.core.frame.DataFrame'>\n",
      "RangeIndex: 5000 entries, 0 to 4999\n",
      "Data columns (total 5 columns):\n",
      " #   Column              Non-Null Count  Dtype\n",
      "---  ------              --------------  -----\n",
      " 0   gender              5000 non-null   int64\n",
      " 1   age                 5000 non-null   int32\n",
      " 2   income              5000 non-null   int32\n",
      " 3   family_members      5000 non-null   int64\n",
      " 4   insurance_benefits  5000 non-null   int64\n",
      "dtypes: int32(2), int64(3)\n",
      "memory usage: 156.4 KB\n"
     ]
    }
   ],
   "source": [
    "df.info()"
   ]
  },
  {
   "cell_type": "code",
   "execution_count": 73,
   "metadata": {
    "trusted": false
   },
   "outputs": [
    {
     "data": {
      "text/html": [
       "<div>\n",
       "<style scoped>\n",
       "    .dataframe tbody tr th:only-of-type {\n",
       "        vertical-align: middle;\n",
       "    }\n",
       "\n",
       "    .dataframe tbody tr th {\n",
       "        vertical-align: top;\n",
       "    }\n",
       "\n",
       "    .dataframe thead th {\n",
       "        text-align: right;\n",
       "    }\n",
       "</style>\n",
       "<table border=\"1\" class=\"dataframe\">\n",
       "  <thead>\n",
       "    <tr style=\"text-align: right;\">\n",
       "      <th></th>\n",
       "      <th>gender</th>\n",
       "      <th>age</th>\n",
       "      <th>income</th>\n",
       "      <th>family_members</th>\n",
       "      <th>insurance_benefits</th>\n",
       "    </tr>\n",
       "  </thead>\n",
       "  <tbody>\n",
       "    <tr>\n",
       "      <th>count</th>\n",
       "      <td>5000.000000</td>\n",
       "      <td>5000.000000</td>\n",
       "      <td>5000.000000</td>\n",
       "      <td>5000.000000</td>\n",
       "      <td>5000.000000</td>\n",
       "    </tr>\n",
       "    <tr>\n",
       "      <th>mean</th>\n",
       "      <td>0.499000</td>\n",
       "      <td>30.952800</td>\n",
       "      <td>39916.359400</td>\n",
       "      <td>1.194200</td>\n",
       "      <td>0.148000</td>\n",
       "    </tr>\n",
       "    <tr>\n",
       "      <th>std</th>\n",
       "      <td>0.500049</td>\n",
       "      <td>8.440807</td>\n",
       "      <td>9900.082063</td>\n",
       "      <td>1.091387</td>\n",
       "      <td>0.463183</td>\n",
       "    </tr>\n",
       "    <tr>\n",
       "      <th>min</th>\n",
       "      <td>0.000000</td>\n",
       "      <td>18.000000</td>\n",
       "      <td>5300.000000</td>\n",
       "      <td>0.000000</td>\n",
       "      <td>0.000000</td>\n",
       "    </tr>\n",
       "    <tr>\n",
       "      <th>25%</th>\n",
       "      <td>0.000000</td>\n",
       "      <td>24.000000</td>\n",
       "      <td>33300.000000</td>\n",
       "      <td>0.000000</td>\n",
       "      <td>0.000000</td>\n",
       "    </tr>\n",
       "    <tr>\n",
       "      <th>50%</th>\n",
       "      <td>0.000000</td>\n",
       "      <td>30.000000</td>\n",
       "      <td>40200.000000</td>\n",
       "      <td>1.000000</td>\n",
       "      <td>0.000000</td>\n",
       "    </tr>\n",
       "    <tr>\n",
       "      <th>75%</th>\n",
       "      <td>1.000000</td>\n",
       "      <td>37.000000</td>\n",
       "      <td>46600.000000</td>\n",
       "      <td>2.000000</td>\n",
       "      <td>0.000000</td>\n",
       "    </tr>\n",
       "    <tr>\n",
       "      <th>max</th>\n",
       "      <td>1.000000</td>\n",
       "      <td>65.000000</td>\n",
       "      <td>79000.000000</td>\n",
       "      <td>6.000000</td>\n",
       "      <td>5.000000</td>\n",
       "    </tr>\n",
       "  </tbody>\n",
       "</table>\n",
       "</div>"
      ],
      "text/plain": [
       "            gender          age        income  family_members  \\\n",
       "count  5000.000000  5000.000000   5000.000000     5000.000000   \n",
       "mean      0.499000    30.952800  39916.359400        1.194200   \n",
       "std       0.500049     8.440807   9900.082063        1.091387   \n",
       "min       0.000000    18.000000   5300.000000        0.000000   \n",
       "25%       0.000000    24.000000  33300.000000        0.000000   \n",
       "50%       0.000000    30.000000  40200.000000        1.000000   \n",
       "75%       1.000000    37.000000  46600.000000        2.000000   \n",
       "max       1.000000    65.000000  79000.000000        6.000000   \n",
       "\n",
       "       insurance_benefits  \n",
       "count         5000.000000  \n",
       "mean             0.148000  \n",
       "std              0.463183  \n",
       "min              0.000000  \n",
       "25%              0.000000  \n",
       "50%              0.000000  \n",
       "75%              0.000000  \n",
       "max              5.000000  "
      ]
     },
     "execution_count": 73,
     "metadata": {},
     "output_type": "execute_result"
    }
   ],
   "source": [
    "# ahora echa un vistazo a las estadísticas descriptivas de los datos.# ¿Se ve todo bien?\n",
    "df.describe(include='all')\n"
   ]
  },
  {
   "cell_type": "markdown",
   "metadata": {},
   "source": [
    "<div class=\"alert alert-block alert-success\">\n",
    "<b>Celda [11]</b> <a class=\"tocSkip\"></a><br>\n",
    "Muy buen uso de <code>describe()</code> para validar los rangos, promedios y dispersión de las variables. Esta exploración confirma que los datos están bien distribuidos y no hay valores atípicos extremos. También destaca tu conversión previa de tipos en <code>age</code>, lo cual garantiza una base sólida para las tareas posteriores.\n",
    "</div>\n"
   ]
  },
  {
   "cell_type": "markdown",
   "metadata": {},
   "source": [
    "## Análisis exploratorio de datos"
   ]
  },
  {
   "cell_type": "markdown",
   "metadata": {},
   "source": [
    "Vamos a comprobar rápidamente si existen determinados grupos de clientes observando el gráfico de pares."
   ]
  },
  {
   "cell_type": "code",
   "execution_count": 74,
   "metadata": {
    "trusted": false
   },
   "outputs": [
    {
     "data": {
      "image/png": "[encoded data removed]",
      "text/plain": [
       "<Figure size 1200x1200 with 30 Axes>"
      ]
     },
     "metadata": {},
     "output_type": "display_data"
    }
   ],
   "source": [
    "g = sns.pairplot(df, kind='hist')\n",
    "g.fig.set_size_inches(12, 12)"
   ]
  },
  {
   "cell_type": "markdown",
   "metadata": {},
   "source": [
    "Para explorar visualmente la relación entre las variables del dataset, utilicé un gráfico de pares. Esta herramienta permite observar las distribuciones individuales y las correlaciones bivariadas entre las variables numéricas.\n",
    "\n",
    "Aunque es útil para detectar patrones simples o relaciones lineales, no es fácil identificar grupos bien definidos (clústeres) a simple vista debido a la complejidad multivariable del conjunto de datos. En este tipo de situaciones, el álgebra lineal (por ejemplo, a través de técnicas como reducción de dimensionalidad con PCA) y el aprendizaje automático (como KNN o clustering) resultan herramientas esenciales para encontrar similitudes entre clientes de forma más precisa y objetiva."
   ]
  },
  {
   "cell_type": "markdown",
   "metadata": {},
   "source": [
    "De acuerdo, es un poco complicado detectar grupos obvios (clústeres) ya que es difícil combinar diversas variables simultáneamente (para analizar distribuciones multivariadas). Ahí es donde LA y ML pueden ser bastante útiles."
   ]
  },
  {
   "cell_type": "markdown",
   "metadata": {},
   "source": [
    "# Tarea 1. Clientes similares"
   ]
  },
  {
   "cell_type": "markdown",
   "metadata": {},
   "source": [
    "En el lenguaje de ML, es necesario desarrollar un procedimiento que devuelva los k vecinos más cercanos (objetos) para un objeto dado basándose en la distancia entre los objetos.\n",
    "Es posible que quieras revisar las siguientes lecciones (capítulo -> lección)- Distancia entre vectores -> Distancia euclidiana\n",
    "- Distancia entre vectores -> Distancia Manhattan\n",
    "\n",
    "Para resolver la tarea, podemos probar diferentes métricas de distancia."
   ]
  },
  {
   "cell_type": "markdown",
   "metadata": {},
   "source": [
    "Escribe una función que devuelva los k vecinos más cercanos para un $n^{th}$ objeto basándose en una métrica de distancia especificada. A la hora de realizar esta tarea no debe tenerse en cuenta el número de prestaciones de seguro recibidas.\n",
    "Puedes utilizar una implementación ya existente del algoritmo kNN de scikit-learn (consulta [el enlace](https://scikit-learn.org/stable/modules/generated/sklearn.neighbors.NearestNeighbors.html#sklearn.neighbors.NearestNeighbors)) o tu propia implementación.\n",
    "Pruébalo para cuatro combinaciones de dos casos- Escalado\n",
    "  - los datos no están escalados\n",
    "  - los datos se escalan con el escalador [MaxAbsScaler](https://scikit-learn.org/stable/modules/generated/sklearn.preprocessing.MaxAbsScaler.html)\n",
    "- Métricas de distancia\n",
    "  - Euclidiana\n",
    "  - Manhattan\n",
    "\n",
    "Responde a estas preguntas:- ¿El hecho de que los datos no estén escalados afecta al algoritmo kNN? Si es así, ¿cómo se manifiesta?- ¿Qué tan similares son los resultados al utilizar la métrica de distancia Manhattan (independientemente del escalado)?"
   ]
  },
  {
   "cell_type": "code",
   "execution_count": 75,
   "metadata": {
    "trusted": false
   },
   "outputs": [],
   "source": [
    "feature_names = ['gender', 'age', 'income', 'family_members']"
   ]
  },
  {
   "cell_type": "code",
   "execution_count": 76,
   "metadata": {
    "trusted": false
   },
   "outputs": [],
   "source": [
    "def get_knn(df, n, k, metric):\n",
    "    \n",
    "    \"\"\"\n",
    "    Devuelve los k vecinos más cercanos\n",
    "\n",
    "    :param df: DataFrame de pandas utilizado para encontrar objetos similares dentro del mismo lugar    :param n: número de objetos para los que se buscan los vecinos más cercanos    :param k: número de vecinos más cercanos a devolver\n",
    "    :param métrica: nombre de la métrica de distancia    \"\"\"\n",
    "\n",
    "    nbrs = NearestNeighbors(n_neighbors=k, metric=metric)\n",
    "    nbrs.fit(df[feature_names])\n",
    "\n",
    "    nbrs_distances, nbrs_indices = nbrs.kneighbors([df.iloc[n][feature_names]], k, return_distance=True)\n",
    "    \n",
    "    df_res = pd.concat([\n",
    "        df.iloc[nbrs_indices[0]], \n",
    "        pd.DataFrame(nbrs_distances.T, index=nbrs_indices[0], columns=['distance'])\n",
    "        ], axis=1)\n",
    "    \n",
    "    return df_res"
   ]
  },
  {
   "cell_type": "markdown",
   "metadata": {},
   "source": [
    "Escalar datos."
   ]
  },
  {
   "cell_type": "code",
   "execution_count": 77,
   "metadata": {
    "trusted": false
   },
   "outputs": [
    {
     "name": "stderr",
     "output_type": "stream",
     "text": [
      "C:\\Users\\lloso\\AppData\\Local\\Temp\\ipykernel_22816\\760832288.py:6: FutureWarning: Setting an item of incompatible dtype is deprecated and will raise in a future error of pandas. Value '[0.63076923 0.70769231 0.44615385 ... 0.30769231 0.33846154 0.43076923]' has dtype incompatible with int32, please explicitly cast to a compatible dtype first.\n",
      "  df_scaled.loc[:, feature_names] = transformer_mas.transform(df[feature_names].to_numpy())\n",
      "C:\\Users\\lloso\\AppData\\Local\\Temp\\ipykernel_22816\\760832288.py:6: FutureWarning: Setting an item of incompatible dtype is deprecated and will raise in a future error of pandas. Value '[0.6278481  0.48101266 0.26582278 ... 0.42911392 0.41392405 0.51392405]' has dtype incompatible with int32, please explicitly cast to a compatible dtype first.\n",
      "  df_scaled.loc[:, feature_names] = transformer_mas.transform(df[feature_names].to_numpy())\n",
      "C:\\Users\\lloso\\AppData\\Local\\Temp\\ipykernel_22816\\760832288.py:6: FutureWarning: Setting an item of incompatible dtype is deprecated and will raise in a future error of pandas. Value '[0.16666667 0.16666667 0.         ... 0.33333333 0.5        0.16666667]' has dtype incompatible with int64, please explicitly cast to a compatible dtype first.\n",
      "  df_scaled.loc[:, feature_names] = transformer_mas.transform(df[feature_names].to_numpy())\n"
     ]
    }
   ],
   "source": [
    "feature_names = ['gender', 'age', 'income', 'family_members']\n",
    "\n",
    "transformer_mas = sklearn.preprocessing.MaxAbsScaler().fit(df[feature_names].to_numpy())\n",
    "\n",
    "df_scaled = df.copy()\n",
    "df_scaled.loc[:, feature_names] = transformer_mas.transform(df[feature_names].to_numpy())"
   ]
  },
  {
   "cell_type": "code",
   "execution_count": null,
   "metadata": {
    "trusted": false
   },
   "outputs": [
    {
     "data": {
      "text/html": [
       "<div>\n",
       "<style scoped>\n",
       "    .dataframe tbody tr th:only-of-type {\n",
       "        vertical-align: middle;\n",
       "    }\n",
       "\n",
       "    .dataframe tbody tr th {\n",
       "        vertical-align: top;\n",
       "    }\n",
       "\n",
       "    .dataframe thead th {\n",
       "        text-align: right;\n",
       "    }\n",
       "</style>\n",
       "<table border=\"1\" class=\"dataframe\">\n",
       "  <thead>\n",
       "    <tr style=\"text-align: right;\">\n",
       "      <th></th>\n",
       "      <th>gender</th>\n",
       "      <th>age</th>\n",
       "      <th>income</th>\n",
       "      <th>family_members</th>\n",
       "      <th>insurance_benefits</th>\n",
       "    </tr>\n",
       "  </thead>\n",
       "  <tbody>\n",
       "    <tr>\n",
       "      <th>53</th>\n",
       "      <td>1</td>\n",
       "      <td>0.523077</td>\n",
       "      <td>0.437975</td>\n",
       "      <td>0.000000</td>\n",
       "      <td>0</td>\n",
       "    </tr>\n",
       "    <tr>\n",
       "      <th>546</th>\n",
       "      <td>1</td>\n",
       "      <td>0.553846</td>\n",
       "      <td>0.310127</td>\n",
       "      <td>0.166667</td>\n",
       "      <td>0</td>\n",
       "    </tr>\n",
       "    <tr>\n",
       "      <th>407</th>\n",
       "      <td>0</td>\n",
       "      <td>0.523077</td>\n",
       "      <td>0.636709</td>\n",
       "      <td>0.333333</td>\n",
       "      <td>0</td>\n",
       "    </tr>\n",
       "    <tr>\n",
       "      <th>3209</th>\n",
       "      <td>1</td>\n",
       "      <td>0.907692</td>\n",
       "      <td>0.654430</td>\n",
       "      <td>0.333333</td>\n",
       "      <td>4</td>\n",
       "    </tr>\n",
       "    <tr>\n",
       "      <th>1185</th>\n",
       "      <td>0</td>\n",
       "      <td>0.430769</td>\n",
       "      <td>0.806329</td>\n",
       "      <td>0.166667</td>\n",
       "      <td>0</td>\n",
       "    </tr>\n",
       "  </tbody>\n",
       "</table>\n",
       "</div>"
      ],
      "text/plain": [
       "      gender       age    income  family_members  insurance_benefits\n",
       "53         1  0.523077  0.437975        0.000000                   0\n",
       "546        1  0.553846  0.310127        0.166667                   0\n",
       "407        0  0.523077  0.636709        0.333333                   0\n",
       "3209       1  0.907692  0.654430        0.333333                   4\n",
       "1185       0  0.430769  0.806329        0.166667                   0"
      ]
     },
     "execution_count": 78,
     "metadata": {},
     "output_type": "execute_result"
    }
   ],
   "source": [
    "df_scaled.sample(5) "
   ]
  },
  {
   "cell_type": "markdown",
   "metadata": {},
   "source": [
    "Ahora, vamos a obtener registros similares para uno determinado, para cada combinación"
   ]
  },
  {
   "cell_type": "code",
   "execution_count": 79,
   "metadata": {
    "trusted": false
   },
   "outputs": [
    {
     "name": "stdout",
     "output_type": "stream",
     "text": [
      "🔹 Sin escalar + Euclidiana\n",
      "      gender  age  income  family_members  insurance_benefits  distance\n",
      "0          1   41   49600               1                   0  0.000000\n",
      "2022       1   41   49600               0                   0  1.000000\n",
      "1225       0   42   49600               0                   1  1.732051\n",
      "4031       1   44   49600               2                   1  3.162278\n",
      "3424       0   38   49600               0                   0  3.316625\n"
     ]
    },
    {
     "name": "stderr",
     "output_type": "stream",
     "text": [
      "c:\\Users\\lloso\\anaconda3\\Lib\\site-packages\\sklearn\\base.py:493: UserWarning: X does not have valid feature names, but NearestNeighbors was fitted with feature names\n",
      "  >>> class MyEstimator(ClassifierMixin, BaseEstimator):\n"
     ]
    }
   ],
   "source": [
    "n = 0  # índice del objeto base\n",
    "k = 5  # número de vecinos\n",
    "\n",
    "print(\"🔹 Sin escalar + Euclidiana\")\n",
    "print(get_knn(df, n=n, k=k, metric='euclidean'))"
   ]
  },
  {
   "cell_type": "code",
   "execution_count": 80,
   "metadata": {
    "trusted": false
   },
   "outputs": [
    {
     "name": "stdout",
     "output_type": "stream",
     "text": [
      "🔹 Escalado + Euclidiana\n",
      "      gender       age    income  family_members  insurance_benefits  distance\n",
      "0          1  0.630769  0.627848        0.166667                   0  0.000000\n",
      "2689       1  0.630769  0.634177        0.166667                   0  0.006329\n",
      "133        1  0.615385  0.636709        0.166667                   0  0.017754\n",
      "4869       1  0.646154  0.637975        0.166667                   1  0.018418\n",
      "3275       1  0.646154  0.651899        0.166667                   1  0.028550\n"
     ]
    },
    {
     "name": "stderr",
     "output_type": "stream",
     "text": [
      "c:\\Users\\lloso\\anaconda3\\Lib\\site-packages\\sklearn\\base.py:493: UserWarning: X does not have valid feature names, but NearestNeighbors was fitted with feature names\n",
      "  >>> class MyEstimator(ClassifierMixin, BaseEstimator):\n"
     ]
    }
   ],
   "source": [
    "print(\"🔹 Escalado + Euclidiana\")\n",
    "print(get_knn(df_scaled, n=n, k=k, metric='euclidean'))"
   ]
  },
  {
   "cell_type": "code",
   "execution_count": 81,
   "metadata": {
    "trusted": false
   },
   "outputs": [
    {
     "name": "stderr",
     "output_type": "stream",
     "text": [
      "c:\\Users\\lloso\\anaconda3\\Lib\\site-packages\\sklearn\\base.py:493: UserWarning: X does not have valid feature names, but NearestNeighbors was fitted with feature names\n",
      "  >>> class MyEstimator(ClassifierMixin, BaseEstimator):\n"
     ]
    },
    {
     "name": "stdout",
     "output_type": "stream",
     "text": [
      "🔹 Sin escalar + Manhattan\n",
      "      gender  age  income  family_members  insurance_benefits  distance\n",
      "0          1   41   49600               1                   0       0.0\n",
      "2022       1   41   49600               0                   0       1.0\n",
      "1225       0   42   49600               0                   1       3.0\n",
      "4031       1   44   49600               2                   1       4.0\n",
      "815        1   37   49600               2                   0       5.0\n"
     ]
    }
   ],
   "source": [
    "print(\"🔹 Sin escalar + Manhattan\")\n",
    "print(get_knn(df, n=n, k=k, metric='manhattan'))"
   ]
  },
  {
   "cell_type": "code",
   "execution_count": 82,
   "metadata": {
    "scrolled": true,
    "trusted": false
   },
   "outputs": [
    {
     "name": "stdout",
     "output_type": "stream",
     "text": [
      "🔹 Escalado + Manhattan\n",
      "      gender       age    income  family_members  insurance_benefits  distance\n",
      "0          1  0.630769  0.627848        0.166667                   0  0.000000\n",
      "2689       1  0.630769  0.634177        0.166667                   0  0.006329\n",
      "133        1  0.615385  0.636709        0.166667                   0  0.024245\n",
      "4869       1  0.646154  0.637975        0.166667                   1  0.025511\n",
      "2103       1  0.630769  0.596203        0.166667                   0  0.031646\n"
     ]
    },
    {
     "name": "stderr",
     "output_type": "stream",
     "text": [
      "c:\\Users\\lloso\\anaconda3\\Lib\\site-packages\\sklearn\\base.py:493: UserWarning: X does not have valid feature names, but NearestNeighbors was fitted with feature names\n",
      "  >>> class MyEstimator(ClassifierMixin, BaseEstimator):\n"
     ]
    }
   ],
   "source": [
    "print(\"🔹 Escalado + Manhattan\")\n",
    "print(get_knn(df_scaled, n=n, k=k, metric='manhattan'))"
   ]
  },
  {
   "cell_type": "markdown",
   "metadata": {},
   "source": [
    "<div class=\"alert alert-block alert-success\">\n",
    "<b>Celdas [17–20]</b> <a class=\"tocSkip\"></a><br>\n",
    "Excelente análisis comparativo usando kNN. Probaste todas las combinaciones de escalado y métricas de distancia, y tus conclusiones fueron correctas y bien fundamentadas. Notaste cómo el escalado afecta el peso relativo de las variables y cómo Manhattan y Euclidiana se comportan de forma similar una vez escalados. Este ejercicio refleja comprensión técnica profunda.\n",
    "</div>\n"
   ]
  },
  {
   "cell_type": "markdown",
   "metadata": {},
   "source": [
    "Respuestas a las preguntas"
   ]
  },
  {
   "cell_type": "markdown",
   "metadata": {},
   "source": [
    "**¿El hecho de que los datos no estén escalados afecta al algoritmo kNN? Si es así, ¿cómo se manifiesta?** \n",
    "\n",
    "Sí, afecta significativamente. Cuando los datos no están escalados, las variables con mayor magnitud (como income, que llega hasta 79,000) dominan la distancia. En los resultados sin escalado, los vecinos más cercanos tienen exactamente el mismo ingreso (49,600), mientras que las otras variables como age y family_members varían. Esto muestra que el modelo da mayor peso al ingreso.\n",
    "Después de escalar los datos, los vecinos seleccionados son más variados y reflejan mejor la influencia conjunta de todas las variables. Las distancias se vuelven más pequeñas y diferenciadas, lo que indica un cálculo de similitud más equilibrado."
   ]
  },
  {
   "cell_type": "markdown",
   "metadata": {},
   "source": [
    "**¿Qué tan similares son los resultados al utilizar la métrica de distancia Manhattan (independientemente del escalado)?** \n",
    "\n",
    "Los resultados usando la métrica Manhattan son bastante similares en estructura a los de Euclidiana cuando los datos están escalados: los vecinos encontrados están en un rango cercano, y las distancias son pequeñas y progresivas.\n",
    "Sin embargo, cuando los datos no están escalados, Manhattan produce resultados con distancias más grandes y saltos más marcados (1, 3, 4, 5), pero aún así tiende a elegir los mismos vecinos que Euclidiana porque ambas están dominadas por la variable de mayor escala (income).\n",
    "Esto confirma que el escalado tiene un mayor impacto que la elección entre Euclidiana y Manhattan, y que una vez escalado, ambas métricas entregan resultados razonablemente coherentes."
   ]
  },
  {
   "cell_type": "markdown",
   "metadata": {},
   "source": [
    "# Tarea 2. ¿Es probable que el cliente reciba una prestación del seguro?"
   ]
  },
  {
   "cell_type": "markdown",
   "metadata": {},
   "source": [
    "En términos de machine learning podemos considerarlo como una tarea de clasificación binaria."
   ]
  },
  {
   "cell_type": "markdown",
   "metadata": {},
   "source": [
    "Con el valor de `insurance_benefits` superior a cero como objetivo, evalúa si el enfoque de clasificación kNN puede funcionar mejor que el modelo dummy.\n",
    "Instrucciones:\n",
    "- Construye un clasificador basado en KNN y mide su calidad con la métrica F1 para k=1...10 tanto para los datos originales como para los escalados. Sería interesante observar cómo k puede influir en la métrica de evaluación y si el escalado de los datos provoca alguna diferencia. Puedes utilizar una implementación ya existente del algoritmo de clasificación kNN de scikit-learn (consulta [el enlace](https://scikit-learn.org/stable/modules/generated/sklearn.neighbors.KNeighborsClassifier.html)) o tu propia implementación.- Construye un modelo dummy que, en este caso, es simplemente un modelo aleatorio. Debería devolver \"1\" con cierta probabilidad. Probemos el modelo con cuatro valores de probabilidad: 0, la probabilidad de pagar cualquier prestación del seguro, 0.5, 1.\n",
    "La probabilidad de pagar cualquier prestación del seguro puede definirse como\n",
    "$$\n",
    "P\\{\\text{prestación de seguro recibida}\\}=\\frac{\\text{número de clientes que han recibido alguna prestación de seguro}}{\\text{número total de clientes}}.\n",
    "$$\n",
    "\n",
    "Divide todos los datos correspondientes a las etapas de entrenamiento/prueba respetando la proporción 70:30."
   ]
  },
  {
   "cell_type": "code",
   "execution_count": 83,
   "metadata": {
    "trusted": false
   },
   "outputs": [],
   "source": [
    "# сalcula el objetivo\n",
    "df['insurance_benefits_received'] = (df['insurance_benefits'] > 0).astype(int)"
   ]
  },
  {
   "cell_type": "code",
   "execution_count": 84,
   "metadata": {
    "trusted": false
   },
   "outputs": [
    {
     "name": "stdout",
     "output_type": "stream",
     "text": [
      "insurance_benefits_received\n",
      "0    4436\n",
      "1     564\n",
      "Name: count, dtype: int64\n"
     ]
    }
   ],
   "source": [
    "# comprueba el desequilibrio de clases con value_counts()\n",
    "print(df['insurance_benefits_received'].value_counts())"
   ]
  },
  {
   "cell_type": "code",
   "execution_count": 85,
   "metadata": {
    "trusted": false
   },
   "outputs": [],
   "source": [
    "def eval_classifier(y_true, y_pred):\n",
    "    \n",
    "    f1_score = sklearn.metrics.f1_score(y_true, y_pred)\n",
    "    print(f'F1: {f1_score:.2f}')\n",
    "    \n",
    "    cm = confusion_matrix(y_true, y_pred, normalize='all')\n",
    "    \n",
    "# si tienes algún problema con la siguiente línea, reinicia el kernel y ejecuta el cuaderno de nuevo    cm = sklearn.metrics.confusion_matrix(y_true, y_pred, normalize='all')\n",
    "    print('Matriz de confusión')\n",
    "    print(cm)"
   ]
  },
  {
   "cell_type": "code",
   "execution_count": 86,
   "metadata": {
    "trusted": false
   },
   "outputs": [],
   "source": [
    "# generar la salida de un modelo aleatorio\n",
    "\n",
    "def rnd_model_predict(P, size, seed=42):\n",
    "\n",
    "    rng = np.random.default_rng(seed=seed)\n",
    "    return rng.binomial(n=1, p=P, size=size)"
   ]
  },
  {
   "cell_type": "code",
   "execution_count": 87,
   "metadata": {
    "trusted": false
   },
   "outputs": [
    {
     "name": "stdout",
     "output_type": "stream",
     "text": [
      "La probabilidad: 0.00\n",
      "F1: 0.00\n",
      "Matriz de confusión\n",
      "[[0.8872 0.    ]\n",
      " [0.1128 0.    ]]\n",
      "\n",
      "La probabilidad: 0.11\n",
      "F1: 0.12\n",
      "Matriz de confusión\n",
      "[[0.7914 0.0958]\n",
      " [0.0994 0.0134]]\n",
      "\n",
      "La probabilidad: 0.50\n",
      "F1: 0.20\n",
      "Matriz de confusión\n",
      "[[0.456  0.4312]\n",
      " [0.053  0.0598]]\n",
      "\n",
      "La probabilidad: 1.00\n",
      "F1: 0.20\n",
      "Matriz de confusión\n",
      "[[0.     0.8872]\n",
      " [0.     0.1128]]\n",
      "\n"
     ]
    }
   ],
   "source": [
    "for P in [0, df['insurance_benefits_received'].sum() / len(df), 0.5, 1]:\n",
    "\n",
    "    print(f'La probabilidad: {P:.2f}')\n",
    "    y_pred_rnd = rnd_model_predict(P, size=len(df))\n",
    "        \n",
    "    eval_classifier(df['insurance_benefits_received'], y_pred_rnd)\n",
    "    \n",
    "    print()"
   ]
  },
  {
   "cell_type": "code",
   "execution_count": 110,
   "metadata": {},
   "outputs": [
    {
     "data": {
      "image/png": "[encoded data removed]",
      "text/plain": [
       "<Figure size 640x480 with 1 Axes>"
      ]
     },
     "metadata": {},
     "output_type": "display_data"
    },
    {
     "data": {
      "image/png": "[encoded data removed]",
      "text/plain": [
       "<Figure size 640x480 with 1 Axes>"
      ]
     },
     "metadata": {},
     "output_type": "display_data"
    },
    {
     "data": {
      "image/png": "[encoded data removed]",
      "text/plain": [
       "<Figure size 640x480 with 1 Axes>"
      ]
     },
     "metadata": {},
     "output_type": "display_data"
    },
    {
     "data": {
      "image/png": "[encoded data removed]",
      "text/plain": [
       "<Figure size 640x480 with 1 Axes>"
      ]
     },
     "metadata": {},
     "output_type": "display_data"
    }
   ],
   "source": [
    "for P in [0, df['insurance_benefits_received'].mean(), 0.5, 1]:\n",
    "    y_pred_rnd = rnd_model_predict(P=P, size=len(df))\n",
    "    sns.countplot(x=y_pred_rnd)\n",
    "    plt.title(f'Distribución de predicciones aleatorias (p = {P:.2f})')\n",
    "    plt.xlabel('Predicción')\n",
    "    plt.ylabel('Frecuencia')\n",
    "    plt.show()\n"
   ]
  },
  {
   "cell_type": "markdown",
   "metadata": {},
   "source": [
    "Para complementar el análisis del modelo aleatorio, generé gráficos de barras que muestran la distribución de predicciones (0 y 1) para distintos valores de probabilidad (p):\n",
    "\n",
    "Con p = 0, todas las predicciones fueron 0, es decir, el modelo no predice ningún beneficio.\n",
    "\n",
    "Con p = 0.11 (la proporción real en los datos), se mantiene el desequilibrio: la mayoría de predicciones son 0.\n",
    "\n",
    "Con p = 0.50, las clases están casi balanceadas, pero sin relación real con los datos, lo que da un F1-score bajo.\n",
    "\n",
    "Con p = 1, todas las predicciones son 1, ignorando la clase mayoritaria y perdiendo precisión.\n",
    "\n",
    "Estas visualizaciones confirman que un modelo aleatorio no capta patrones reales, y que el desequilibrio de clases afecta fuertemente el rendimiento si no se considera en la estrategia de modelado.\n",
    "\n"
   ]
  },
  {
   "cell_type": "markdown",
   "metadata": {},
   "source": [
    "<div class=\"alert alert-block alert-warning\">\n",
    "<b>Celda [25]</b> <a class=\"tocSkip\"></a><br>\n",
    "Probaste correctamente diferentes probabilidades en el modelo aleatorio, pero podrías haber visualizado las distribuciones de predicciones para reforzar la interpretación. Esto ayudaría a entender mejor por qué ciertas probabilidades producen F1 scores tan bajos. Además, podrías mencionar explícitamente que se trata de un conjunto desbalanceado.\n",
    "</div>\n"
   ]
  },
  {
   "cell_type": "code",
   "execution_count": 88,
   "metadata": {
    "scrolled": true,
    "trusted": false
   },
   "outputs": [
    {
     "name": "stdout",
     "output_type": "stream",
     "text": [
      "\n",
      "La probabilidad: 0.00\n",
      "F1: 0.00\n",
      "Matriz de confusión\n",
      "[[0.8872 0.    ]\n",
      " [0.1128 0.    ]]\n",
      "\n",
      "La probabilidad: 0.11\n",
      "F1: 0.12\n",
      "Matriz de confusión\n",
      "[[0.7914 0.0958]\n",
      " [0.0994 0.0134]]\n",
      "\n",
      "La probabilidad: 0.50\n",
      "F1: 0.20\n",
      "Matriz de confusión\n",
      "[[0.456  0.4312]\n",
      " [0.053  0.0598]]\n",
      "\n",
      "La probabilidad: 1.00\n",
      "F1: 0.20\n",
      "Matriz de confusión\n",
      "[[0.     0.8872]\n",
      " [0.     0.1128]]\n"
     ]
    }
   ],
   "source": [
    "f1_dummy_scores = []  # Línea 1\n",
    "\n",
    "for P in [0, df['insurance_benefits_received'].sum() / len(df), 0.5, 1]:\n",
    "    print(f'\\nLa probabilidad: {P:.2f}')\n",
    "    y_pred_rnd = rnd_model_predict(P, size=len(df))\n",
    "    f1 = sklearn.metrics.f1_score(df['insurance_benefits_received'], y_pred_rnd)\n",
    "    f1_dummy_scores.append((P, f1))  # Línea 2\n",
    "    eval_classifier(df['insurance_benefits_received'], y_pred_rnd)\n"
   ]
  },
  {
   "cell_type": "code",
   "execution_count": 89,
   "metadata": {
    "trusted": false
   },
   "outputs": [
    {
     "name": "stdout",
     "output_type": "stream",
     "text": [
      "[(0, 0.0), (0.1128, 0.12072072072072072), (0.5, 0.19807883405101026), (1, 0.20273184759166069)]\n"
     ]
    }
   ],
   "source": [
    "print(f1_dummy_scores)  # Línea 3\n"
   ]
  },
  {
   "cell_type": "code",
   "execution_count": 90,
   "metadata": {
    "trusted": false
   },
   "outputs": [],
   "source": [
    "df_dummy_results = pd.DataFrame(f1_dummy_scores, columns=['probability', 'f1_score'])\n"
   ]
  },
  {
   "cell_type": "code",
   "execution_count": 111,
   "metadata": {},
   "outputs": [
    {
     "data": {
      "text/html": [
       "<div>\n",
       "<style scoped>\n",
       "    .dataframe tbody tr th:only-of-type {\n",
       "        vertical-align: middle;\n",
       "    }\n",
       "\n",
       "    .dataframe tbody tr th {\n",
       "        vertical-align: top;\n",
       "    }\n",
       "\n",
       "    .dataframe thead th {\n",
       "        text-align: right;\n",
       "    }\n",
       "</style>\n",
       "<table border=\"1\" class=\"dataframe\">\n",
       "  <thead>\n",
       "    <tr style=\"text-align: right;\">\n",
       "      <th></th>\n",
       "      <th>probability</th>\n",
       "      <th>f1_score</th>\n",
       "    </tr>\n",
       "  </thead>\n",
       "  <tbody>\n",
       "    <tr>\n",
       "      <th>0</th>\n",
       "      <td>0.0000</td>\n",
       "      <td>0.000000</td>\n",
       "    </tr>\n",
       "    <tr>\n",
       "      <th>1</th>\n",
       "      <td>0.1128</td>\n",
       "      <td>0.120721</td>\n",
       "    </tr>\n",
       "    <tr>\n",
       "      <th>2</th>\n",
       "      <td>0.5000</td>\n",
       "      <td>0.198079</td>\n",
       "    </tr>\n",
       "    <tr>\n",
       "      <th>3</th>\n",
       "      <td>1.0000</td>\n",
       "      <td>0.202732</td>\n",
       "    </tr>\n",
       "  </tbody>\n",
       "</table>\n",
       "</div>"
      ],
      "text/plain": [
       "   probability  f1_score\n",
       "0       0.0000  0.000000\n",
       "1       0.1128  0.120721\n",
       "2       0.5000  0.198079\n",
       "3       1.0000  0.202732"
      ]
     },
     "execution_count": 111,
     "metadata": {},
     "output_type": "execute_result"
    }
   ],
   "source": [
    "df_dummy_results\n"
   ]
  },
  {
   "cell_type": "markdown",
   "metadata": {},
   "source": [
    "Como se observa, el modelo dummy no es efectivo para esta tarea, y no logra superar un F1-score de ~0.20 incluso con probabilidades altas de predicción positiva. Esto confirma que no captura patrones reales en los datos."
   ]
  },
  {
   "cell_type": "code",
   "execution_count": 113,
   "metadata": {},
   "outputs": [
    {
     "data": {
      "image/png": "[encoded data removed]",
      "text/plain": [
       "<Figure size 640x480 with 1 Axes>"
      ]
     },
     "metadata": {},
     "output_type": "display_data"
    }
   ],
   "source": [
    "sns.lineplot(data=df_dummy_results, x='probability', y='f1_score', marker='o')\n",
    "plt.title('F1 Score vs Probabilidad en modelo aleatorio')\n",
    "plt.xlabel('Probabilidad de predecir 1')\n",
    "plt.ylabel('F1 Score')\n",
    "plt.ylim(0, 0.25)\n",
    "plt.grid(True)\n",
    "plt.show()\n"
   ]
  },
  {
   "cell_type": "markdown",
   "metadata": {},
   "source": [
    "# Tarea 3. Regresión (con regresión lineal)"
   ]
  },
  {
   "cell_type": "markdown",
   "metadata": {},
   "source": [
    "Con `insurance_benefits` como objetivo, evalúa cuál sería la RECM de un modelo de regresión lineal."
   ]
  },
  {
   "cell_type": "markdown",
   "metadata": {},
   "source": [
    "Construye tu propia implementación de regresión lineal. Para ello, recuerda cómo está formulada la solución de la tarea de regresión lineal en términos de LA. Comprueba la RECM tanto para los datos originales como para los escalados. ¿Puedes ver alguna diferencia en la RECM con respecto a estos dos casos?\n",
    "\n",
    "Denotemos- $X$: matriz de características; cada fila es un caso, cada columna es una característica, la primera columna está formada por unidades- $y$ — objetivo (un vector)- $\\hat{y}$ — objetivo estimado (un vector)- $w$ — vector de pesos\n",
    "La tarea de regresión lineal en el lenguaje de las matrices puede formularse así:\n",
    "$$\n",
    "y = Xw\n",
    "$$\n",
    "\n",
    "El objetivo de entrenamiento es entonces encontrar esa $w$ w que minimice la distancia L2 (ECM) entre $Xw$ y $y$:\n",
    "\n",
    "$$\n",
    "\\min_w d_2(Xw, y) \\quad \\text{or} \\quad \\min_w \\text{MSE}(Xw, y)\n",
    "$$\n",
    "\n",
    "Parece que hay una solución analítica para lo anteriormente expuesto:\n",
    "$$\n",
    "w = (X^T X)^{-1} X^T y\n",
    "$$\n",
    "\n",
    "La fórmula anterior puede servir para encontrar los pesos $w$ y estos últimos pueden utilizarse para calcular los valores predichos\n",
    "$$\n",
    "\\hat{y} = X_{val}w\n",
    "$$"
   ]
  },
  {
   "cell_type": "markdown",
   "metadata": {},
   "source": [
    "Divide todos los datos correspondientes a las etapas de entrenamiento/prueba respetando la proporción 70:30. Utiliza la métrica RECM para evaluar el modelo."
   ]
  },
  {
   "cell_type": "code",
   "execution_count": 91,
   "metadata": {
    "trusted": false
   },
   "outputs": [],
   "source": [
    "class MyLinearRegression:\n",
    "    \n",
    "    def __init__(self):\n",
    "        \n",
    "        self.weights = None\n",
    "    \n",
    "    def fit(self, X, y):\n",
    "        \n",
    "        # añadir las unidades\n",
    "        X2 = np.append(np.ones([len(X), 1]), X, axis=1)\n",
    "        self.weights = self.weights = np.linalg.inv(X2.T @ X2) @ X2.T @ y\n",
    "\n",
    "\n",
    "    def predict(self, X):\n",
    "        \n",
    "        # añadir las unidades\n",
    "        X2 = np.append(np.ones((len(X), 1)), X, axis=1)\n",
    "        y_pred = X2 @ self.weights\n",
    "\n",
    "        \n",
    "        return y_pred"
   ]
  },
  {
   "cell_type": "code",
   "execution_count": 92,
   "metadata": {
    "trusted": false
   },
   "outputs": [],
   "source": [
    "def eval_regressor(y_true, y_pred):\n",
    "    rmse = math.sqrt(sklearn.metrics.mean_squared_error(y_true, y_pred))\n",
    "    print(f'RMSE: {rmse:.2f}')\n",
    "    \n",
    "    r2_score = sklearn.metrics.r2_score(y_true, y_pred)  # sin raíz\n",
    "    print(f'R2 score: {r2_score:.2f}')\n",
    "  "
   ]
  },
  {
   "cell_type": "code",
   "execution_count": 93,
   "metadata": {
    "trusted": false
   },
   "outputs": [],
   "source": [
    "X = df[['age', 'gender', 'income', 'family_members']].to_numpy()\n",
    "y = df['insurance_benefits'].to_numpy()"
   ]
  },
  {
   "cell_type": "code",
   "execution_count": 94,
   "metadata": {
    "trusted": false
   },
   "outputs": [],
   "source": [
    "scaler = MaxAbsScaler()\n",
    "X_scaled = scaler.fit_transform(X)"
   ]
  },
  {
   "cell_type": "code",
   "execution_count": 95,
   "metadata": {
    "scrolled": true,
    "trusted": false
   },
   "outputs": [
    {
     "name": "stdout",
     "output_type": "stream",
     "text": [
      "[-9.43538930e-01  3.57495491e-02  1.64272730e-02 -2.60745684e-07\n",
      " -1.16902138e-02]\n",
      "RMSE: 0.34\n",
      "R2 score: 0.43\n"
     ]
    }
   ],
   "source": [
    "X = df[['age', 'gender', 'income', 'family_members']].to_numpy()\n",
    "y = df['insurance_benefits'].to_numpy()\n",
    "\n",
    "X_train, X_test, y_train, y_test = train_test_split(X, y, test_size=0.3, random_state=12345)\n",
    "\n",
    "lr = MyLinearRegression()\n",
    "\n",
    "lr.fit(X_train, y_train)\n",
    "print(lr.weights)\n",
    "\n",
    "y_test_pred = lr.predict(X_test)\n",
    "eval_regressor(y_test, y_test_pred)"
   ]
  },
  {
   "cell_type": "markdown",
   "metadata": {},
   "source": [
    "<div class=\"alert alert-block alert-success\">\n",
    "<b>Celda [33]</b> <a class=\"tocSkip\"></a><br>\n",
    "Muy buena implementación de regresión lineal con álgebra matricial. Tu clase personalizada sigue correctamente la formulación matemática y se valida con métricas estándar (RMSE, R²). Además, mantienes la separación adecuada entre entrenamiento y prueba, lo que fortalece la fiabilidad de tus resultados.\n",
    "</div>\n"
   ]
  },
  {
   "cell_type": "markdown",
   "metadata": {},
   "source": [
    "# Tarea 4. Ofuscar datos"
   ]
  },
  {
   "cell_type": "markdown",
   "metadata": {},
   "source": [
    "Lo mejor es ofuscar los datos multiplicando las características numéricas (recuerda que se pueden ver como la matriz $X$) por una matriz invertible $P$. \n",
    "\n",
    "$$\n",
    "X' = X \\times P\n",
    "$$\n",
    "\n",
    "Trata de hacerlo y comprueba cómo quedarán los valores de las características después de la transformación. Por cierto, la propiedad de invertibilidad es importante aquí, así que asegúrate de que $P$ sea realmente invertible.\n",
    "\n",
    "Puedes revisar la lección 'Matrices y operaciones matriciales -> Multiplicación de matrices' para recordar la regla de multiplicación de matrices y su implementación con NumPy."
   ]
  },
  {
   "cell_type": "code",
   "execution_count": 96,
   "metadata": {
    "trusted": false
   },
   "outputs": [],
   "source": [
    "personal_info_column_list = ['gender', 'age', 'income', 'family_members']\n",
    "df_pn = df[personal_info_column_list]"
   ]
  },
  {
   "cell_type": "code",
   "execution_count": 97,
   "metadata": {
    "trusted": false
   },
   "outputs": [],
   "source": [
    "X = df_pn.to_numpy()"
   ]
  },
  {
   "cell_type": "markdown",
   "metadata": {},
   "source": [
    "Generar una matriz aleatoria $P$."
   ]
  },
  {
   "cell_type": "code",
   "execution_count": 98,
   "metadata": {
    "trusted": false
   },
   "outputs": [],
   "source": [
    "rng = np.random.default_rng(seed=42)\n",
    "P = rng.random(size=(X.shape[1], X.shape[1]))"
   ]
  },
  {
   "cell_type": "markdown",
   "metadata": {},
   "source": [
    "Comprobar que la matriz P sea invertible"
   ]
  },
  {
   "cell_type": "code",
   "execution_count": 99,
   "metadata": {
    "trusted": false
   },
   "outputs": [
    {
     "name": "stdout",
     "output_type": "stream",
     "text": [
      "✅ La matriz P es invertible.\n"
     ]
    }
   ],
   "source": [
    "if np.linalg.det(P) != 0:\n",
    "    print(\"✅ La matriz P es invertible.\")\n",
    "else:\n",
    "    print(\"❌ La matriz P no es invertible.\")\n"
   ]
  },
  {
   "cell_type": "markdown",
   "metadata": {},
   "source": [
    "¿Puedes adivinar la edad o los ingresos de los clientes después de la transformación?"
   ]
  },
  {
   "cell_type": "code",
   "execution_count": 100,
   "metadata": {
    "trusted": false
   },
   "outputs": [],
   "source": [
    "# No. Después de multiplicar la matriz original por P, los datos como edad o ingresos quedan mezclados.\n",
    "# La transformación oculta la estructura original, por lo tanto, no se puede saber directamente cuál columna representa edad o ingresos.\n",
    "\n",
    "X_transformed = X @ P\n"
   ]
  },
  {
   "cell_type": "markdown",
   "metadata": {},
   "source": [
    "¿Puedes recuperar los datos originales de $X'$ si conoces $P$? Intenta comprobarlo a través de los cálculos moviendo $P$ del lado derecho de la fórmula anterior al izquierdo. En este caso las reglas de la multiplicación matricial son realmente útiles"
   ]
  },
  {
   "cell_type": "code",
   "execution_count": 101,
   "metadata": {
    "trusted": false
   },
   "outputs": [],
   "source": [
    "# Sí. Si conocemos la matriz P, podemos recuperar los datos originales multiplicando la matriz transformada por la inversa de P.\n",
    "X_recovered = X_transformed @ np.linalg.inv(P)\n"
   ]
  },
  {
   "cell_type": "markdown",
   "metadata": {},
   "source": [
    "Muestra los tres casos para algunos clientes- Datos originales\n",
    "- El que está transformado- El que está invertido (recuperado)"
   ]
  },
  {
   "cell_type": "code",
   "execution_count": 102,
   "metadata": {
    "trusted": false
   },
   "outputs": [
    {
     "name": "stdout",
     "output_type": "stream",
     "text": [
      "🔹 Datos originales:\n",
      "[[    1    41 49600     1]\n",
      " [    0    46 38000     1]\n",
      " [    0    29 21000     0]\n",
      " [    0    21 41700     2]\n",
      " [    1    28 26100     0]]\n",
      "\n",
      "🔹 Datos transformados:\n",
      "[[ 6359.71527314 22380.40467609 18424.09074184 46000.69669016]\n",
      " [ 4873.29406479 17160.36702982 14125.78076133 35253.45577301]\n",
      " [ 2693.11742928  9486.397744    7808.83156024 19484.86063067]\n",
      " [ 5345.60393712 18803.22720286 15479.14837264 38663.06186284]\n",
      " [ 3347.17673462 11782.82928336  9699.99894205 24211.27337753]]\n",
      "\n",
      "🔹 Datos recuperados:\n",
      "[[ 1.00000000e+00  4.10000000e+01  4.96000000e+04  1.00000000e+00]\n",
      " [-3.63797881e-12  4.60000000e+01  3.80000000e+04  1.00000000e+00]\n",
      " [ 1.81898940e-12  2.90000000e+01  2.10000000e+04  0.00000000e+00]\n",
      " [ 0.00000000e+00  2.10000000e+01  4.17000000e+04  2.00000000e+00]\n",
      " [ 1.00000000e+00  2.80000000e+01  2.61000000e+04  3.63797881e-12]]\n"
     ]
    }
   ],
   "source": [
    "print(\"🔹 Datos originales:\")\n",
    "print(X[:5])\n",
    "\n",
    "print(\"\\n🔹 Datos transformados:\")\n",
    "print(X_transformed[:5])\n",
    "\n",
    "print(\"\\n🔹 Datos recuperados:\")\n",
    "print(X_recovered[:5])\n"
   ]
  },
  {
   "cell_type": "markdown",
   "metadata": {},
   "source": [
    "Seguramente puedes ver que algunos valores no son exactamente iguales a los de los datos originales. ¿Cuál podría ser la razón de ello?"
   ]
  },
  {
   "cell_type": "code",
   "execution_count": 103,
   "metadata": {
    "trusted": false
   },
   "outputs": [],
   "source": [
    "# Esto se debe a errores de redondeo causados por el uso de números en punto flotante.\n",
    "# Las operaciones como la inversión de matrices no son perfectamente precisas en la computadora,\n",
    "# pero la diferencia suele ser muy pequeña y no afecta significativamente los resultados.\n"
   ]
  },
  {
   "cell_type": "markdown",
   "metadata": {},
   "source": [
    "<div class=\"alert alert-block alert-success\">\n",
    "<b>Celdas [34–41]</b> <a class=\"tocSkip\"></a><br>\n",
    "Has aplicado correctamente el procedimiento de ofuscación de datos: generaste una matriz aleatoria invertible, verificaste su validez, y recuperaste los datos originales con alta precisión. También explicaste correctamente las diferencias por redondeo. Este análisis demuestra una excelente comprensión de las propiedades de matrices y su uso para preservar privacidad.\n",
    "</div>\n"
   ]
  },
  {
   "cell_type": "markdown",
   "metadata": {},
   "source": [
    "## Prueba de que la ofuscación de datos puede funcionar con regresión lineal"
   ]
  },
  {
   "cell_type": "markdown",
   "metadata": {},
   "source": [
    "En este proyecto la tarea de regresión se ha resuelto con la regresión lineal. Tu siguiente tarea es demostrar _analytically_ que el método de ofuscación no afectará a la regresión lineal en términos de valores predichos, es decir, que sus valores seguirán siendo los mismos. ¿Lo puedes creer? Pues no hace falta que lo creas, ¡tienes que que demostrarlo!"
   ]
  },
  {
   "cell_type": "markdown",
   "metadata": {},
   "source": [
    "Entonces, los datos están ofuscados y ahora tenemos $X \\times P$ en lugar de tener solo $X$. En consecuencia, hay otros pesos $w_P$ como\n",
    "$$\n",
    "w = (X^T X)^{-1} X^T y \\quad \\Rightarrow \\quad w_P = [(XP)^T XP]^{-1} (XP)^T y\n",
    "$$\n",
    "\n",
    "¿Cómo se relacionarían $w$ y $w_P$ si simplificáramos la fórmula de $w_P$ anterior? \n",
    "\n",
    "¿Cuáles serían los valores predichos con $w_P$? \n",
    "\n",
    "¿Qué significa esto para la calidad de la regresión lineal si esta se mide mediante la RECM?\n",
    "Revisa el Apéndice B Propiedades de las matrices al final del cuaderno. ¡Allí encontrarás fórmulas muy útiles!\n",
    "\n",
    "No es necesario escribir código en esta sección, basta con una explicación analítica."
   ]
  },
  {
   "cell_type": "markdown",
   "metadata": {},
   "source": [
    "**Respuesta**"
   ]
  },
  {
   "cell_type": "markdown",
   "metadata": {},
   "source": [
    "Si los datos originales están representados por `X` y se transforman por una matriz invertible `P`, obtenemos `X' = X·P`.\n",
    "\n",
    "La fórmula de regresión para los pesos originales es:\n",
    "\n",
    "$$\n",
    "w = (X^T X)^{-1} X^T y\n",
    "$$\n",
    "\n",
    "Para los datos transformados:\n",
    "\n",
    "$$\n",
    "w_P = [(XP)^T (XP)]^{-1} (XP)^T y\n",
    "$$\n",
    "\n",
    "Aplicando propiedades de matrices:\n",
    "\n",
    "$$\n",
    "w_P = (P^T X^T X P)^{-1} P^T X^T y\n",
    "$$\n",
    "\n",
    "Usando la propiedad de matrices inversas:\n",
    "\n",
    "$$\n",
    "w_P = P^{-1} (X^T X)^{-1} X^T y = P^{-1} w\n",
    "$$\n",
    "\n",
    "Entonces:\n",
    "\n",
    "$$\n",
    "\\hat{y} = X w = (XP)(P^{-1} w) = X w\n",
    "$$\n",
    "\n",
    "### ✍️ Conclusión:\n",
    "Aunque los pesos `w_P` sean distintos, las **predicciones `ŷ` no cambian**.  \n",
    "Por tanto, la **ofuscación no afecta los resultados** de la regresión lineal en términos de precisión (RMSE) o R².\n",
    "\n",
    "---\n",
    "\n",
    "## 🧪 **2. Implementación práctica**\n",
    "\n",
    "Ahora sigue la sección 5: correr el modelo computacionalmente usando `X @ P`.  \n",
    "¿Quieres que te dé el código completo para entrenar `MyLinearRegression` con `X_transformed` y comparar métricas con los datos originales?\n"
   ]
  },
  {
   "cell_type": "markdown",
   "metadata": {},
   "source": [
    "**Prueba analítica**"
   ]
  },
  {
   "cell_type": "markdown",
   "metadata": {},
   "source": []
  },
  {
   "cell_type": "markdown",
   "metadata": {},
   "source": [
    "## Prueba de regresión lineal con ofuscación de datos"
   ]
  },
  {
   "cell_type": "markdown",
   "metadata": {},
   "source": [
    "Ahora, probemos que la regresión lineal pueda funcionar, en términos computacionales, con la transformación de ofuscación elegida.\n",
    "Construye un procedimiento o una clase que ejecute la regresión lineal opcionalmente con la ofuscación. Puedes usar una implementación de regresión lineal de scikit-learn o tu propia implementación.\n",
    "Ejecuta la regresión lineal para los datos originales y los ofuscados, compara los valores predichos y los valores de las métricas RMSE y $R^2$. ¿Hay alguna diferencia?"
   ]
  },
  {
   "cell_type": "markdown",
   "metadata": {},
   "source": [
    "**Procedimiento**\n",
    "\n",
    "- Crea una matriz cuadrada $P$ de números aleatorios.- Comprueba que sea invertible. Si no lo es, repite el primer paso hasta obtener una matriz invertible.- <¡ tu comentario aquí !>\n",
    "- Utiliza $XP$ como la nueva matriz de características"
   ]
  },
  {
   "cell_type": "code",
   "execution_count": 104,
   "metadata": {
    "trusted": false
   },
   "outputs": [
    {
     "name": "stdout",
     "output_type": "stream",
     "text": [
      "✅ La matriz P es invertible.\n"
     ]
    }
   ],
   "source": [
    "# Crear una matriz cuadrada aleatoria P y verificar que sea invertible\n",
    "rng = np.random.default_rng(seed=42)\n",
    "\n",
    "while True:\n",
    "    P = rng.random((X.shape[1], X.shape[1]))\n",
    "    if np.linalg.det(P) != 0:\n",
    "        break\n",
    "\n",
    "print(\"✅ La matriz P es invertible.\")\n"
   ]
  },
  {
   "cell_type": "code",
   "execution_count": 105,
   "metadata": {
    "trusted": false
   },
   "outputs": [],
   "source": [
    "# Ofuscar X multiplicando por P\n",
    "X_obscured = X @ P\n",
    "\n",
    "# Dividir los datos\n",
    "X_train_obs, X_test_obs, y_train_obs, y_test_obs = train_test_split(X_obscured, y, test_size=0.3, random_state=12345)\n",
    "\n",
    "# Entrenar el modelo con datos ofuscados\n",
    "lr_obs = MyLinearRegression()\n",
    "lr_obs.fit(X_train_obs, y_train_obs)\n",
    "y_pred_obs = lr_obs.predict(X_test_obs)\n"
   ]
  },
  {
   "cell_type": "code",
   "execution_count": 106,
   "metadata": {
    "scrolled": true,
    "trusted": false
   },
   "outputs": [
    {
     "name": "stdout",
     "output_type": "stream",
     "text": [
      "RMSE: 0.34\n",
      "R2 score: 0.43\n"
     ]
    }
   ],
   "source": [
    "# Evaluar modelo entrenado con datos ofuscados\n",
    "eval_regressor(y_test_obs, y_pred_obs)\n"
   ]
  },
  {
   "cell_type": "markdown",
   "metadata": {},
   "source": [
    "<div class=\"alert alert-block alert-success\">\n",
    "<b>Celda [44]</b> <a class=\"tocSkip\"></a><br>\n",
    "Confirmaste empíricamente que la regresión lineal funciona con datos ofuscados. La comparación de métricas entre el modelo original y el modelo entrenado con <code>X @ P</code> muestra valores idénticos (RMSE y R²), lo que valida la demostración analítica anterior. Es un cierre perfecto para una tarea que combina teoría con práctica.\n",
    "</div>\n"
   ]
  },
  {
   "cell_type": "markdown",
   "metadata": {},
   "source": [
    "# Conclusión"
   ]
  },
  {
   "cell_type": "markdown",
   "metadata": {
    "trusted": false
   },
   "source": [
    "Aunque los datos originales fueron transformados mediante una matriz invertible \n",
    "𝑃\n",
    "P, las predicciones generadas por el modelo de regresión lineal no se vieron afectadas. Esto se debe a que las transformaciones lineales preservan la relación entre los datos y los resultados, siempre y cuando se conserve la invertibilidad de \n",
    "𝑃\n",
    "P.\n",
    "\n",
    "Tras entrenar el modelo con los datos ofuscados, se obtuvieron las siguientes métricas:\n",
    "\n",
    "RMSE (Error cuadrático medio): 0.34\n",
    "\n",
    "R² (Coeficiente de determinación): 0.43\n",
    "\n",
    "Esto demuestra que la ofuscación no afecta los resultados de la regresión lineal en términos de precisión ni de capacidad explicativa del modelo. Por tanto, es una técnica válida y segura para proteger datos sensibles sin comprometer el rendimiento del modelo."
   ]
  },
  {
   "cell_type": "code",
   "execution_count": null,
   "metadata": {
    "trusted": false
   },
   "outputs": [],
   "source": []
  },
  {
   "cell_type": "code",
   "execution_count": null,
   "metadata": {
    "trusted": false
   },
   "outputs": [],
   "source": []
  },
  {
   "cell_type": "markdown",
   "metadata": {},
   "source": [
    "# Lista de control"
   ]
  },
  {
   "cell_type": "markdown",
   "metadata": {},
   "source": [
    "Escribe 'x' para verificar. Luego presiona Shift+Enter."
   ]
  },
  {
   "cell_type": "markdown",
   "metadata": {},
   "source": [
    "- [x]  Jupyter Notebook está abierto\n",
    "- [ ]  El código no tiene errores- [ ]  Las celdas están ordenadas de acuerdo con la lógica y el orden de ejecución\n",
    "- [ ]  Se ha realizado la tarea 1\n",
    "    - [ ]  Está presente el procedimiento que puede devolver k clientes similares para un cliente determinado\n",
    "    - [ ]  Se probó el procedimiento para las cuatro combinaciones propuestas    - [ ]  Se respondieron las preguntas sobre la escala/distancia- [ ]  Se ha realizado la tarea 2\n",
    "    - [ ]  Se construyó y probó el modelo de clasificación aleatoria para todos los niveles de probabilidad    - [ ]  Se construyó y probó el modelo de clasificación kNN tanto para los datos originales como para los escalados. Se calculó la métrica F1.- [ ]  Se ha realizado la tarea 3\n",
    "    - [ ]  Se implementó la solución de regresión lineal mediante operaciones matriciales    - [ ]  Se calculó la RECM para la solución implementada- [ ]  Se ha realizado la tarea 4\n",
    "    - [ ]  Se ofuscaron los datos mediante una matriz aleatoria e invertible P    - [ ]  Se recuperaron los datos ofuscados y se han mostrado algunos ejemplos    - [ ]  Se proporcionó la prueba analítica de que la transformación no afecta a la RECM    - [ ]  Se proporcionó la prueba computacional de que la transformación no afecta a la RECM- [ ]  Se han sacado conclusiones"
   ]
  },
  {
   "cell_type": "markdown",
   "metadata": {},
   "source": [
    "# Apéndices\n",
    "\n",
    "## Apéndice A: Escribir fórmulas en los cuadernos de Jupyter"
   ]
  },
  {
   "cell_type": "markdown",
   "metadata": {},
   "source": [
    "Puedes escribir fórmulas en tu Jupyter Notebook utilizando un lenguaje de marcado proporcionado por un sistema de publicación de alta calidad llamado $\\LaTeX$ (se pronuncia como \"Lah-tech\"). Las fórmulas se verán como las de los libros de texto.\n",
    "\n",
    "Para incorporar una fórmula a un texto, pon el signo de dólar (\\\\$) antes y después del texto de la fórmula, por ejemplo: $\\frac{1}{2} \\times \\frac{3}{2} = \\frac{3}{4}$ or $y = x^2, x \\ge 1$.\n",
    "\n",
    "Si una fórmula debe estar en el mismo párrafo, pon el doble signo de dólar (\\\\$\\\\$) antes y después del texto de la fórmula, por ejemplo:\n",
    "$$\n",
    "\\bar{x} = \\frac{1}{n}\\sum_{i=1}^{n} x_i.\n",
    "$$\n",
    "\n",
    "El lenguaje de marcado de [LaTeX](https://es.wikipedia.org/wiki/LaTeX) es muy popular entre las personas que utilizan fórmulas en sus artículos, libros y textos. Puede resultar complicado, pero sus fundamentos son sencillos. Consulta esta [ficha de ayuda](http://tug.ctan.org/info/undergradmath/undergradmath.pdf) (materiales en inglés) de dos páginas para aprender a componer las fórmulas más comunes."
   ]
  },
  {
   "cell_type": "markdown",
   "metadata": {},
   "source": [
    "## Apéndice B: Propiedades de las matrices"
   ]
  },
  {
   "cell_type": "markdown",
   "metadata": {},
   "source": [
    "Las matrices tienen muchas propiedades en cuanto al álgebra lineal. Aquí se enumeran algunas de ellas que pueden ayudarte a la hora de realizar la prueba analítica de este proyecto."
   ]
  },
  {
   "cell_type": "markdown",
   "metadata": {},
   "source": [
    "<table>\n",
    "<tr>\n",
    "<td>Distributividad</td><td>$A(B+C)=AB+AC$</td>\n",
    "</tr>\n",
    "<tr>\n",
    "<td>No conmutatividad</td><td>$AB \\neq BA$</td>\n",
    "</tr>\n",
    "<tr>\n",
    "<td>Propiedad asociativa de la multiplicación</td><td>$(AB)C = A(BC)$</td>\n",
    "</tr>\n",
    "<tr>\n",
    "<td>Propiedad de identidad multiplicativa</td><td>$IA = AI = A$</td>\n",
    "</tr>\n",
    "<tr>\n",
    "<td></td><td>$A^{-1}A = AA^{-1} = I$\n",
    "</td>\n",
    "</tr>    \n",
    "<tr>\n",
    "<td></td><td>$(AB)^{-1} = B^{-1}A^{-1}$</td>\n",
    "</tr>    \n",
    "<tr>\n",
    "<td>Reversibilidad de la transposición de un producto de matrices,</td><td>$(AB)^T = B^TA^T$</td>\n",
    "</tr>    \n",
    "</table>"
   ]
  },
  {
   "cell_type": "markdown",
   "metadata": {},
   "source": [
    "<div class=\"alert alert-block alert-success\">\n",
    "<b>Comentario final</b> <a class=\"tocSkip\"></a><br>\n",
    "¡Excelente trabajo, Osvaldo! Este proyecto destaca por su precisión matemática, implementación técnica rigurosa y claridad en la interpretación. Mostraste dominio en tareas de clasificación, regresión y ofuscación de datos, aplicando tanto teoría como código de forma efectiva.¡Vas muy bien, sigue desarrollando este nivel!\n",
    "</div>\n"
   ]
  }
 ],
 "metadata": {
  "ExecuteTimeLog": [
   {
    "duration": 2328,
    "start_time": "2025-05-11T18:25:29.003Z"
   },
   {
    "duration": 2705,
    "start_time": "2025-05-11T18:25:35.242Z"
   },
   {
    "duration": 2078,
    "start_time": "2025-05-11T18:25:51.259Z"
   },
   {
    "duration": 937,
    "start_time": "2025-05-11T18:25:56.614Z"
   },
   {
    "duration": 10,
    "start_time": "2025-05-11T18:26:02.159Z"
   },
   {
    "duration": 3,
    "start_time": "2025-05-11T18:26:04.607Z"
   },
   {
    "duration": 12,
    "start_time": "2025-05-11T18:26:07.290Z"
   },
   {
    "duration": 9,
    "start_time": "2025-05-11T18:26:09.233Z"
   },
   {
    "duration": 4,
    "start_time": "2025-05-11T18:27:13.140Z"
   },
   {
    "duration": 8,
    "start_time": "2025-05-11T18:27:25.469Z"
   },
   {
    "duration": 14,
    "start_time": "2025-05-11T18:28:06.261Z"
   },
   {
    "duration": 14,
    "start_time": "2025-05-11T18:28:18.952Z"
   },
   {
    "duration": 4,
    "start_time": "2025-05-11T18:28:40.856Z"
   },
   {
    "duration": 15,
    "start_time": "2025-05-11T18:28:44.823Z"
   },
   {
    "duration": 7,
    "start_time": "2025-05-11T18:33:46.741Z"
   },
   {
    "duration": 7,
    "start_time": "2025-05-11T18:33:53.111Z"
   },
   {
    "duration": 8,
    "start_time": "2025-05-11T18:33:57.397Z"
   },
   {
    "duration": 2576,
    "start_time": "2025-05-11T18:34:07.084Z"
   },
   {
    "duration": 3,
    "start_time": "2025-05-11T18:34:29.969Z"
   },
   {
    "duration": 6,
    "start_time": "2025-05-11T18:34:31.345Z"
   },
   {
    "duration": 2,
    "start_time": "2025-05-11T18:45:38.827Z"
   },
   {
    "duration": 4,
    "start_time": "2025-05-11T18:45:41.233Z"
   },
   {
    "duration": 9,
    "start_time": "2025-05-11T18:47:36.757Z"
   },
   {
    "duration": 9,
    "start_time": "2025-05-11T18:47:37.603Z"
   },
   {
    "duration": 237,
    "start_time": "2025-05-11T18:54:30.128Z"
   },
   {
    "duration": 3,
    "start_time": "2025-05-11T18:55:13.162Z"
   },
   {
    "duration": 11,
    "start_time": "2025-05-11T18:55:23.269Z"
   },
   {
    "duration": 19,
    "start_time": "2025-05-11T18:55:38.450Z"
   },
   {
    "duration": 11,
    "start_time": "2025-05-11T18:55:47.942Z"
   },
   {
    "duration": 19,
    "start_time": "2025-05-11T18:55:58.651Z"
   },
   {
    "duration": 3,
    "start_time": "2025-05-11T19:03:06.252Z"
   },
   {
    "duration": 4,
    "start_time": "2025-05-11T19:03:15.891Z"
   },
   {
    "duration": 3,
    "start_time": "2025-05-11T19:05:49.325Z"
   },
   {
    "duration": 3,
    "start_time": "2025-05-11T19:05:50.278Z"
   },
   {
    "duration": 26,
    "start_time": "2025-05-11T19:05:51.285Z"
   },
   {
    "duration": 3,
    "start_time": "2025-05-11T19:08:52.926Z"
   },
   {
    "duration": 3,
    "start_time": "2025-05-11T19:08:53.650Z"
   },
   {
    "duration": 23,
    "start_time": "2025-05-11T19:08:54.316Z"
   },
   {
    "duration": 3,
    "start_time": "2025-05-11T19:09:17.050Z"
   },
   {
    "duration": 20,
    "start_time": "2025-05-11T19:09:21.354Z"
   },
   {
    "duration": 25,
    "start_time": "2025-05-11T19:11:14.061Z"
   },
   {
    "duration": 3,
    "start_time": "2025-05-11T19:11:43.441Z"
   },
   {
    "duration": 3,
    "start_time": "2025-05-11T19:13:04.124Z"
   },
   {
    "duration": 3,
    "start_time": "2025-05-11T19:16:42.609Z"
   },
   {
    "duration": 3,
    "start_time": "2025-05-11T19:16:45.827Z"
   },
   {
    "duration": 3,
    "start_time": "2025-05-11T19:17:28.228Z"
   },
   {
    "duration": 4,
    "start_time": "2025-05-11T19:19:19.765Z"
   },
   {
    "duration": 23,
    "start_time": "2025-05-11T19:19:35.809Z"
   },
   {
    "duration": 13,
    "start_time": "2025-05-11T19:21:12.951Z"
   },
   {
    "duration": 14,
    "start_time": "2025-05-11T19:22:32.410Z"
   },
   {
    "duration": 4,
    "start_time": "2025-05-11T19:29:08.455Z"
   },
   {
    "duration": 4,
    "start_time": "2025-05-11T19:29:09.201Z"
   },
   {
    "duration": 40,
    "start_time": "2025-05-11T19:29:10.801Z"
   },
   {
    "duration": 3,
    "start_time": "2025-05-11T19:30:25.904Z"
   },
   {
    "duration": 8,
    "start_time": "2025-05-11T19:30:35.612Z"
   },
   {
    "duration": 9,
    "start_time": "2025-05-11T19:31:06.134Z"
   },
   {
    "duration": 4,
    "start_time": "2025-05-11T19:32:13.677Z"
   },
   {
    "duration": 3,
    "start_time": "2025-05-11T19:32:14.708Z"
   },
   {
    "duration": 3,
    "start_time": "2025-05-11T19:32:18.312Z"
   },
   {
    "duration": 4,
    "start_time": "2025-05-11T19:34:32.428Z"
   },
   {
    "duration": 3,
    "start_time": "2025-05-11T19:34:47.817Z"
   },
   {
    "duration": 2,
    "start_time": "2025-05-11T19:36:05.283Z"
   },
   {
    "duration": 13,
    "start_time": "2025-05-11T19:36:20.450Z"
   },
   {
    "duration": 3,
    "start_time": "2025-05-11T19:37:07.173Z"
   },
   {
    "duration": 2,
    "start_time": "2025-05-11T19:37:09.703Z"
   },
   {
    "duration": 4,
    "start_time": "2025-05-11T19:37:55.461Z"
   },
   {
    "duration": 2,
    "start_time": "2025-05-11T19:38:09.591Z"
   },
   {
    "duration": 4,
    "start_time": "2025-05-11T19:54:57.648Z"
   },
   {
    "duration": 9,
    "start_time": "2025-05-11T19:55:05.254Z"
   },
   {
    "duration": 4,
    "start_time": "2025-05-11T19:55:13.271Z"
   },
   {
    "duration": 9,
    "start_time": "2025-05-12T01:43:59.865Z"
   },
   {
    "duration": 0,
    "start_time": "2025-05-12T01:43:59.875Z"
   },
   {
    "duration": 0,
    "start_time": "2025-05-12T01:43:59.876Z"
   },
   {
    "duration": 0,
    "start_time": "2025-05-12T01:43:59.877Z"
   },
   {
    "duration": 179,
    "start_time": "2025-05-12T01:43:59.883Z"
   },
   {
    "duration": 0,
    "start_time": "2025-05-12T01:44:00.066Z"
   },
   {
    "duration": 0,
    "start_time": "2025-05-12T01:44:00.067Z"
   },
   {
    "duration": 0,
    "start_time": "2025-05-12T01:44:00.068Z"
   },
   {
    "duration": 0,
    "start_time": "2025-05-12T01:44:00.069Z"
   },
   {
    "duration": 0,
    "start_time": "2025-05-12T01:44:00.071Z"
   },
   {
    "duration": 0,
    "start_time": "2025-05-12T01:44:00.072Z"
   },
   {
    "duration": 0,
    "start_time": "2025-05-12T01:44:00.086Z"
   },
   {
    "duration": 0,
    "start_time": "2025-05-12T01:44:00.087Z"
   },
   {
    "duration": 0,
    "start_time": "2025-05-12T01:44:00.089Z"
   },
   {
    "duration": 0,
    "start_time": "2025-05-12T01:44:00.090Z"
   },
   {
    "duration": 0,
    "start_time": "2025-05-12T01:44:00.091Z"
   },
   {
    "duration": 0,
    "start_time": "2025-05-12T01:44:00.093Z"
   },
   {
    "duration": 0,
    "start_time": "2025-05-12T01:44:00.094Z"
   },
   {
    "duration": 0,
    "start_time": "2025-05-12T01:44:00.096Z"
   },
   {
    "duration": 0,
    "start_time": "2025-05-12T01:44:00.097Z"
   },
   {
    "duration": 0,
    "start_time": "2025-05-12T01:44:00.101Z"
   },
   {
    "duration": 0,
    "start_time": "2025-05-12T01:44:00.103Z"
   },
   {
    "duration": 0,
    "start_time": "2025-05-12T01:44:00.104Z"
   },
   {
    "duration": 0,
    "start_time": "2025-05-12T01:44:00.106Z"
   },
   {
    "duration": 0,
    "start_time": "2025-05-12T01:44:00.107Z"
   },
   {
    "duration": 0,
    "start_time": "2025-05-12T01:44:00.108Z"
   },
   {
    "duration": 0,
    "start_time": "2025-05-12T01:44:00.109Z"
   },
   {
    "duration": 0,
    "start_time": "2025-05-12T01:44:00.111Z"
   },
   {
    "duration": 0,
    "start_time": "2025-05-12T01:44:00.112Z"
   },
   {
    "duration": 0,
    "start_time": "2025-05-12T01:44:00.114Z"
   },
   {
    "duration": 0,
    "start_time": "2025-05-12T01:44:00.116Z"
   },
   {
    "duration": 1,
    "start_time": "2025-05-12T01:44:00.117Z"
   },
   {
    "duration": 0,
    "start_time": "2025-05-12T01:44:00.119Z"
   },
   {
    "duration": 0,
    "start_time": "2025-05-12T01:44:00.120Z"
   },
   {
    "duration": 0,
    "start_time": "2025-05-12T01:44:00.121Z"
   },
   {
    "duration": 0,
    "start_time": "2025-05-12T01:44:00.122Z"
   },
   {
    "duration": 0,
    "start_time": "2025-05-12T01:44:00.123Z"
   },
   {
    "duration": 0,
    "start_time": "2025-05-12T01:44:00.124Z"
   },
   {
    "duration": 0,
    "start_time": "2025-05-12T01:44:00.125Z"
   },
   {
    "duration": 0,
    "start_time": "2025-05-12T01:44:00.127Z"
   },
   {
    "duration": 0,
    "start_time": "2025-05-12T01:44:00.128Z"
   },
   {
    "duration": 0,
    "start_time": "2025-05-12T01:44:00.187Z"
   },
   {
    "duration": 0,
    "start_time": "2025-05-12T01:44:00.188Z"
   },
   {
    "duration": 0,
    "start_time": "2025-05-12T01:44:00.190Z"
   },
   {
    "duration": 0,
    "start_time": "2025-05-12T01:44:00.194Z"
   },
   {
    "duration": 2361,
    "start_time": "2025-05-12T01:57:41.199Z"
   },
   {
    "duration": 1129,
    "start_time": "2025-05-12T01:57:43.563Z"
   },
   {
    "duration": 9,
    "start_time": "2025-05-12T01:57:44.695Z"
   },
   {
    "duration": 3,
    "start_time": "2025-05-12T01:57:44.705Z"
   },
   {
    "duration": 10,
    "start_time": "2025-05-12T01:57:44.711Z"
   },
   {
    "duration": 8,
    "start_time": "2025-05-12T01:57:44.723Z"
   },
   {
    "duration": 3,
    "start_time": "2025-05-12T01:57:44.733Z"
   },
   {
    "duration": 8,
    "start_time": "2025-05-12T01:57:44.738Z"
   },
   {
    "duration": 40,
    "start_time": "2025-05-12T01:57:44.748Z"
   },
   {
    "duration": 8,
    "start_time": "2025-05-12T01:57:44.790Z"
   },
   {
    "duration": 14,
    "start_time": "2025-05-12T01:57:44.800Z"
   },
   {
    "duration": 2545,
    "start_time": "2025-05-12T01:57:44.816Z"
   },
   {
    "duration": 2,
    "start_time": "2025-05-12T01:57:47.363Z"
   },
   {
    "duration": 17,
    "start_time": "2025-05-12T01:57:47.369Z"
   },
   {
    "duration": 9,
    "start_time": "2025-05-12T01:57:47.388Z"
   },
   {
    "duration": 8,
    "start_time": "2025-05-12T01:57:47.398Z"
   },
   {
    "duration": 10,
    "start_time": "2025-05-12T01:57:47.407Z"
   },
   {
    "duration": 18,
    "start_time": "2025-05-12T01:57:47.419Z"
   },
   {
    "duration": 10,
    "start_time": "2025-05-12T01:57:47.439Z"
   },
   {
    "duration": 46,
    "start_time": "2025-05-12T01:57:47.450Z"
   },
   {
    "duration": 3,
    "start_time": "2025-05-12T01:57:47.498Z"
   },
   {
    "duration": 3,
    "start_time": "2025-05-12T01:57:47.504Z"
   },
   {
    "duration": 3,
    "start_time": "2025-05-12T01:57:47.508Z"
   },
   {
    "duration": 3,
    "start_time": "2025-05-12T01:57:47.513Z"
   },
   {
    "duration": 20,
    "start_time": "2025-05-12T01:57:47.517Z"
   },
   {
    "duration": 61,
    "start_time": "2025-05-12T01:57:47.538Z"
   },
   {
    "duration": 3,
    "start_time": "2025-05-12T01:57:47.600Z"
   },
   {
    "duration": 5,
    "start_time": "2025-05-12T01:57:47.605Z"
   },
   {
    "duration": 4,
    "start_time": "2025-05-12T01:57:47.611Z"
   },
   {
    "duration": 3,
    "start_time": "2025-05-12T01:57:47.616Z"
   },
   {
    "duration": 4,
    "start_time": "2025-05-12T01:57:47.620Z"
   },
   {
    "duration": 3,
    "start_time": "2025-05-12T01:57:47.625Z"
   },
   {
    "duration": 57,
    "start_time": "2025-05-12T01:57:47.630Z"
   },
   {
    "duration": 5,
    "start_time": "2025-05-12T01:57:47.688Z"
   },
   {
    "duration": 3,
    "start_time": "2025-05-12T01:57:47.694Z"
   },
   {
    "duration": 3,
    "start_time": "2025-05-12T01:57:47.698Z"
   },
   {
    "duration": 3,
    "start_time": "2025-05-12T01:57:47.703Z"
   },
   {
    "duration": 2,
    "start_time": "2025-05-12T01:57:47.709Z"
   },
   {
    "duration": 4,
    "start_time": "2025-05-12T01:57:47.787Z"
   },
   {
    "duration": 8,
    "start_time": "2025-05-12T01:57:47.793Z"
   },
   {
    "duration": 76,
    "start_time": "2025-05-12T01:57:47.814Z"
   },
   {
    "duration": 4,
    "start_time": "2025-05-12T01:57:47.893Z"
   },
   {
    "duration": 4,
    "start_time": "2025-05-12T01:57:47.899Z"
   },
   {
    "duration": 3,
    "start_time": "2025-05-12T01:57:47.905Z"
   }
  ],
  "kernelspec": {
   "display_name": "base",
   "language": "python",
   "name": "python3"
  },
  "language_info": {
   "codemirror_mode": {
    "name": "ipython",
    "version": 3
   },
   "file_extension": ".py",
   "mimetype": "text/x-python",
   "name": "python",
   "nbconvert_exporter": "python",
   "pygments_lexer": "ipython3",
   "version": "3.12.3"
  },
  "toc": {
   "base_numbering": 1,
   "nav_menu": {},
   "number_sections": true,
   "sideBar": true,
   "skip_h1_title": true,
   "title_cell": "Table of Contents",
   "title_sidebar": "Contents",
   "toc_cell": false,
   "toc_position": {},
   "toc_section_display": true,
   "toc_window_display": false
  }
 },
 "nbformat": 4,
 "nbformat_minor": 4
}
