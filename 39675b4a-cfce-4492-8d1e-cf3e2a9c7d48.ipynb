{
 "cells": [
  {
   "cell_type": "markdown",
   "metadata": {},
   "source": [
    "Hola **Osvaldo**!\n",
    "\n",
    "Soy **Patricio Requena** 👋. Es un placer ser el revisor de tu proyecto el día de hoy!\n",
    "\n",
    "Revisaré tu proyecto detenidamente con el objetivo de ayudarte a mejorar y perfeccionar tus habilidades. Durante mi revisión, identificaré áreas donde puedas hacer mejoras en tu código, señalando específicamente qué y cómo podrías ajustar para optimizar el rendimiento y la claridad de tu proyecto. Además, es importante para mí destacar los aspectos que has manejado excepcionalmente bien. Reconocer tus fortalezas te ayudará a entender qué técnicas y métodos están funcionando a tu favor y cómo puedes aplicarlos en futuras tareas. \n",
    "\n",
    "_**Recuerda que al final de este notebook encontrarás un comentario general de mi parte**_, empecemos!\n",
    "\n",
    "Encontrarás mis comentarios dentro de cajas verdes, amarillas o rojas, ⚠️ **por favor, no muevas, modifiques o borres mis comentarios** ⚠️:\n",
    "\n",
    "\n",
    "<div class=\"alert alert-block alert-success\">\n",
    "<b>Comentario del revisor</b> <a class=“tocSkip”></a>\n",
    "Si todo está perfecto.\n",
    "</div>\n",
    "\n",
    "<div class=\"alert alert-block alert-warning\">\n",
    "<b>Comentario del revisor</b> <a class=“tocSkip”></a>\n",
    "Si tu código está bien pero se puede mejorar o hay algún detalle que le hace falta.\n",
    "</div>\n",
    "\n",
    "<div class=\"alert alert-block alert-danger\">\n",
    "<b>Comentario del revisor</b> <a class=“tocSkip”></a>\n",
    "Si de pronto hace falta algo o existe algún problema con tu código o conclusiones.\n",
    "</div>\n",
    "\n",
    "Puedes responderme de esta forma:\n",
    "<div class=\"alert alert-block alert-info\">\n",
    "<b>Respuesta del estudiante</b> <a class=“tocSkip”></a>\n",
    "</div>"
   ]
  },
  {
   "cell_type": "markdown",
   "metadata": {},
   "source": [
    "<div class=\"alert alert-block alert-warning\">\n",
    "<b>Comentario del revisor (1ra Iteracion)</b> <a class=“tocSkip”></a>\n",
    "\n",
    "Cómo Data Scientist debes cuidar la presentación de tus proyectos en los noebooks. Siempre al inicio incluye una celda markdown con un título y una breve introducción al proyecto\n",
    "</div>"
   ]
  },
  {
   "cell_type": "markdown",
   "metadata": {},
   "source": [
    "# Predicción de abandono de clientes para Beta Bank"
   ]
  },
  {
   "cell_type": "markdown",
   "metadata": {},
   "source": [
    "En este proyecto se desarrolló un modelo de aprendizaje automático para predecir el abandono de clientes (churn) en Beta Bank, una institución financiera ficticia.\n",
    "\n",
    "Se analizaron los datos de clientes actuales y se aplicaron técnicas de preprocesamiento, balanceo de clases y modelado predictivo."
   ]
  },
  {
   "cell_type": "markdown",
   "metadata": {},
   "source": [
    "# 📚 ÍNDICE\n",
    "\n",
    "- [1.- IMPORTACIÓN DE LIBRERIAS Y DATASET](#1--IMPORTACIÓN-DE-LIBRERIAS-Y-DATASET)\n",
    "- [2.- EXPLORACIÓN INICIAL](#2--EXPLORACIÓN-INICIAL)\n",
    "- [3.- ANÁLISIS DEL DESEQUILIBRIO DE CLASES](#3--ANÁLISIS-DEL-DESEQUILIBRIO-DE-CLASES)\n",
    "- [4.- PREPROCESAMIENTO DE DATOS](#4--PREPROCESAMIENTO-DE-DATOS)\n",
    "- [5.- DIVISIÓN Y ESCALADO DE DATOS](#5--DIVISIÓN-Y-ESCALADO-DE-DATOS)\n",
    "- [6.- MODELO BASE (SIN CORRECCIÓN)](#6--MODELO-BASE-SIN-CORRECCIÓN)\n",
    "- [7.- MODELO CON CLASS_WEIGHT='BALANCED'](#7--MODELO-CON-CLASS_WEIGHTBALANCED)\n",
    "- [8.- MODELO CON UNDERSAMPLING](#8--MODELO-CON-UNDERSAMPLING)\n",
    "- [9.- COMPARACIÓN DE RESULTADOS](#9--COMPARACIÓN-DE-RESULTADOS)\n",
    "- [10.- CONCLUSIÓN GENERAL](#10--CONCLUSIÓN-GENERAL)\n"
   ]
  },
  {
   "cell_type": "markdown",
   "metadata": {},
   "source": [
    "# 1.- IMPORTACIÓN DE LIBRERIAS Y DATASET "
   ]
  },
  {
   "cell_type": "code",
   "execution_count": 1,
   "metadata": {},
   "outputs": [],
   "source": [
    "import pandas as pd\n",
    "import numpy as np\n",
    "import matplotlib.pyplot as plt\n",
    "import seaborn as sns"
   ]
  },
  {
   "cell_type": "code",
   "execution_count": 2,
   "metadata": {},
   "outputs": [],
   "source": [
    "from sklearn.model_selection import train_test_split\n",
    "from sklearn.preprocessing import StandardScaler\n",
    "from sklearn.metrics import f1_score, roc_auc_score\n",
    "from sklearn.linear_model import LogisticRegression\n",
    "from sklearn.ensemble import RandomForestClassifier\n",
    "from sklearn.impute import SimpleImputer"
   ]
  },
  {
   "cell_type": "code",
   "execution_count": 3,
   "metadata": {},
   "outputs": [],
   "source": [
    "df = pd.read_csv('/datasets/Churn.csv')"
   ]
  },
  {
   "cell_type": "markdown",
   "metadata": {},
   "source": [
    "#  2.- EXPLORACIÓN INICIAL"
   ]
  },
  {
   "cell_type": "code",
   "execution_count": 4,
   "metadata": {
    "scrolled": true
   },
   "outputs": [
    {
     "name": "stdout",
     "output_type": "stream",
     "text": [
      "📊Beta Bank :\n"
     ]
    },
    {
     "data": {
      "text/html": [
       "<div>\n",
       "<style scoped>\n",
       "    .dataframe tbody tr th:only-of-type {\n",
       "        vertical-align: middle;\n",
       "    }\n",
       "\n",
       "    .dataframe tbody tr th {\n",
       "        vertical-align: top;\n",
       "    }\n",
       "\n",
       "    .dataframe thead th {\n",
       "        text-align: right;\n",
       "    }\n",
       "</style>\n",
       "<table border=\"1\" class=\"dataframe\">\n",
       "  <thead>\n",
       "    <tr style=\"text-align: right;\">\n",
       "      <th></th>\n",
       "      <th>RowNumber</th>\n",
       "      <th>CustomerId</th>\n",
       "      <th>Surname</th>\n",
       "      <th>CreditScore</th>\n",
       "      <th>Geography</th>\n",
       "      <th>Gender</th>\n",
       "      <th>Age</th>\n",
       "      <th>Tenure</th>\n",
       "      <th>Balance</th>\n",
       "      <th>NumOfProducts</th>\n",
       "      <th>HasCrCard</th>\n",
       "      <th>IsActiveMember</th>\n",
       "      <th>EstimatedSalary</th>\n",
       "      <th>Exited</th>\n",
       "    </tr>\n",
       "  </thead>\n",
       "  <tbody>\n",
       "    <tr>\n",
       "      <th>0</th>\n",
       "      <td>1</td>\n",
       "      <td>15634602</td>\n",
       "      <td>Hargrave</td>\n",
       "      <td>619</td>\n",
       "      <td>France</td>\n",
       "      <td>Female</td>\n",
       "      <td>42</td>\n",
       "      <td>2.0</td>\n",
       "      <td>0.00</td>\n",
       "      <td>1</td>\n",
       "      <td>1</td>\n",
       "      <td>1</td>\n",
       "      <td>101348.88</td>\n",
       "      <td>1</td>\n",
       "    </tr>\n",
       "    <tr>\n",
       "      <th>1</th>\n",
       "      <td>2</td>\n",
       "      <td>15647311</td>\n",
       "      <td>Hill</td>\n",
       "      <td>608</td>\n",
       "      <td>Spain</td>\n",
       "      <td>Female</td>\n",
       "      <td>41</td>\n",
       "      <td>1.0</td>\n",
       "      <td>83807.86</td>\n",
       "      <td>1</td>\n",
       "      <td>0</td>\n",
       "      <td>1</td>\n",
       "      <td>112542.58</td>\n",
       "      <td>0</td>\n",
       "    </tr>\n",
       "    <tr>\n",
       "      <th>2</th>\n",
       "      <td>3</td>\n",
       "      <td>15619304</td>\n",
       "      <td>Onio</td>\n",
       "      <td>502</td>\n",
       "      <td>France</td>\n",
       "      <td>Female</td>\n",
       "      <td>42</td>\n",
       "      <td>8.0</td>\n",
       "      <td>159660.80</td>\n",
       "      <td>3</td>\n",
       "      <td>1</td>\n",
       "      <td>0</td>\n",
       "      <td>113931.57</td>\n",
       "      <td>1</td>\n",
       "    </tr>\n",
       "    <tr>\n",
       "      <th>3</th>\n",
       "      <td>4</td>\n",
       "      <td>15701354</td>\n",
       "      <td>Boni</td>\n",
       "      <td>699</td>\n",
       "      <td>France</td>\n",
       "      <td>Female</td>\n",
       "      <td>39</td>\n",
       "      <td>1.0</td>\n",
       "      <td>0.00</td>\n",
       "      <td>2</td>\n",
       "      <td>0</td>\n",
       "      <td>0</td>\n",
       "      <td>93826.63</td>\n",
       "      <td>0</td>\n",
       "    </tr>\n",
       "    <tr>\n",
       "      <th>4</th>\n",
       "      <td>5</td>\n",
       "      <td>15737888</td>\n",
       "      <td>Mitchell</td>\n",
       "      <td>850</td>\n",
       "      <td>Spain</td>\n",
       "      <td>Female</td>\n",
       "      <td>43</td>\n",
       "      <td>2.0</td>\n",
       "      <td>125510.82</td>\n",
       "      <td>1</td>\n",
       "      <td>1</td>\n",
       "      <td>1</td>\n",
       "      <td>79084.10</td>\n",
       "      <td>0</td>\n",
       "    </tr>\n",
       "  </tbody>\n",
       "</table>\n",
       "</div>"
      ],
      "text/plain": [
       "   RowNumber  CustomerId   Surname  CreditScore Geography  Gender  Age  \\\n",
       "0          1    15634602  Hargrave          619    France  Female   42   \n",
       "1          2    15647311      Hill          608     Spain  Female   41   \n",
       "2          3    15619304      Onio          502    France  Female   42   \n",
       "3          4    15701354      Boni          699    France  Female   39   \n",
       "4          5    15737888  Mitchell          850     Spain  Female   43   \n",
       "\n",
       "   Tenure    Balance  NumOfProducts  HasCrCard  IsActiveMember  \\\n",
       "0     2.0       0.00              1          1               1   \n",
       "1     1.0   83807.86              1          0               1   \n",
       "2     8.0  159660.80              3          1               0   \n",
       "3     1.0       0.00              2          0               0   \n",
       "4     2.0  125510.82              1          1               1   \n",
       "\n",
       "   EstimatedSalary  Exited  \n",
       "0        101348.88       1  \n",
       "1        112542.58       0  \n",
       "2        113931.57       1  \n",
       "3         93826.63       0  \n",
       "4         79084.10       0  "
      ]
     },
     "metadata": {},
     "output_type": "display_data"
    }
   ],
   "source": [
    "print(\"📊Beta Bank :\")\n",
    "display(df.head())"
   ]
  },
  {
   "cell_type": "code",
   "execution_count": 5,
   "metadata": {},
   "outputs": [
    {
     "name": "stdout",
     "output_type": "stream",
     "text": [
      "<class 'pandas.core.frame.DataFrame'>\n",
      "RangeIndex: 10000 entries, 0 to 9999\n",
      "Data columns (total 14 columns):\n",
      " #   Column           Non-Null Count  Dtype  \n",
      "---  ------           --------------  -----  \n",
      " 0   RowNumber        10000 non-null  int64  \n",
      " 1   CustomerId       10000 non-null  int64  \n",
      " 2   Surname          10000 non-null  object \n",
      " 3   CreditScore      10000 non-null  int64  \n",
      " 4   Geography        10000 non-null  object \n",
      " 5   Gender           10000 non-null  object \n",
      " 6   Age              10000 non-null  int64  \n",
      " 7   Tenure           9091 non-null   float64\n",
      " 8   Balance          10000 non-null  float64\n",
      " 9   NumOfProducts    10000 non-null  int64  \n",
      " 10  HasCrCard        10000 non-null  int64  \n",
      " 11  IsActiveMember   10000 non-null  int64  \n",
      " 12  EstimatedSalary  10000 non-null  float64\n",
      " 13  Exited           10000 non-null  int64  \n",
      "dtypes: float64(3), int64(8), object(3)\n",
      "memory usage: 1.1+ MB\n"
     ]
    }
   ],
   "source": [
    "df.info()"
   ]
  },
  {
   "cell_type": "code",
   "execution_count": 6,
   "metadata": {},
   "outputs": [
    {
     "data": {
      "text/html": [
       "<div>\n",
       "<style scoped>\n",
       "    .dataframe tbody tr th:only-of-type {\n",
       "        vertical-align: middle;\n",
       "    }\n",
       "\n",
       "    .dataframe tbody tr th {\n",
       "        vertical-align: top;\n",
       "    }\n",
       "\n",
       "    .dataframe thead th {\n",
       "        text-align: right;\n",
       "    }\n",
       "</style>\n",
       "<table border=\"1\" class=\"dataframe\">\n",
       "  <thead>\n",
       "    <tr style=\"text-align: right;\">\n",
       "      <th></th>\n",
       "      <th>RowNumber</th>\n",
       "      <th>CustomerId</th>\n",
       "      <th>CreditScore</th>\n",
       "      <th>Age</th>\n",
       "      <th>Tenure</th>\n",
       "      <th>Balance</th>\n",
       "      <th>NumOfProducts</th>\n",
       "      <th>HasCrCard</th>\n",
       "      <th>IsActiveMember</th>\n",
       "      <th>EstimatedSalary</th>\n",
       "      <th>Exited</th>\n",
       "    </tr>\n",
       "  </thead>\n",
       "  <tbody>\n",
       "    <tr>\n",
       "      <th>count</th>\n",
       "      <td>10000.00000</td>\n",
       "      <td>1.000000e+04</td>\n",
       "      <td>10000.000000</td>\n",
       "      <td>10000.000000</td>\n",
       "      <td>9091.000000</td>\n",
       "      <td>10000.000000</td>\n",
       "      <td>10000.000000</td>\n",
       "      <td>10000.00000</td>\n",
       "      <td>10000.000000</td>\n",
       "      <td>10000.000000</td>\n",
       "      <td>10000.000000</td>\n",
       "    </tr>\n",
       "    <tr>\n",
       "      <th>mean</th>\n",
       "      <td>5000.50000</td>\n",
       "      <td>1.569094e+07</td>\n",
       "      <td>650.528800</td>\n",
       "      <td>38.921800</td>\n",
       "      <td>4.997690</td>\n",
       "      <td>76485.889288</td>\n",
       "      <td>1.530200</td>\n",
       "      <td>0.70550</td>\n",
       "      <td>0.515100</td>\n",
       "      <td>100090.239881</td>\n",
       "      <td>0.203700</td>\n",
       "    </tr>\n",
       "    <tr>\n",
       "      <th>std</th>\n",
       "      <td>2886.89568</td>\n",
       "      <td>7.193619e+04</td>\n",
       "      <td>96.653299</td>\n",
       "      <td>10.487806</td>\n",
       "      <td>2.894723</td>\n",
       "      <td>62397.405202</td>\n",
       "      <td>0.581654</td>\n",
       "      <td>0.45584</td>\n",
       "      <td>0.499797</td>\n",
       "      <td>57510.492818</td>\n",
       "      <td>0.402769</td>\n",
       "    </tr>\n",
       "    <tr>\n",
       "      <th>min</th>\n",
       "      <td>1.00000</td>\n",
       "      <td>1.556570e+07</td>\n",
       "      <td>350.000000</td>\n",
       "      <td>18.000000</td>\n",
       "      <td>0.000000</td>\n",
       "      <td>0.000000</td>\n",
       "      <td>1.000000</td>\n",
       "      <td>0.00000</td>\n",
       "      <td>0.000000</td>\n",
       "      <td>11.580000</td>\n",
       "      <td>0.000000</td>\n",
       "    </tr>\n",
       "    <tr>\n",
       "      <th>25%</th>\n",
       "      <td>2500.75000</td>\n",
       "      <td>1.562853e+07</td>\n",
       "      <td>584.000000</td>\n",
       "      <td>32.000000</td>\n",
       "      <td>2.000000</td>\n",
       "      <td>0.000000</td>\n",
       "      <td>1.000000</td>\n",
       "      <td>0.00000</td>\n",
       "      <td>0.000000</td>\n",
       "      <td>51002.110000</td>\n",
       "      <td>0.000000</td>\n",
       "    </tr>\n",
       "    <tr>\n",
       "      <th>50%</th>\n",
       "      <td>5000.50000</td>\n",
       "      <td>1.569074e+07</td>\n",
       "      <td>652.000000</td>\n",
       "      <td>37.000000</td>\n",
       "      <td>5.000000</td>\n",
       "      <td>97198.540000</td>\n",
       "      <td>1.000000</td>\n",
       "      <td>1.00000</td>\n",
       "      <td>1.000000</td>\n",
       "      <td>100193.915000</td>\n",
       "      <td>0.000000</td>\n",
       "    </tr>\n",
       "    <tr>\n",
       "      <th>75%</th>\n",
       "      <td>7500.25000</td>\n",
       "      <td>1.575323e+07</td>\n",
       "      <td>718.000000</td>\n",
       "      <td>44.000000</td>\n",
       "      <td>7.000000</td>\n",
       "      <td>127644.240000</td>\n",
       "      <td>2.000000</td>\n",
       "      <td>1.00000</td>\n",
       "      <td>1.000000</td>\n",
       "      <td>149388.247500</td>\n",
       "      <td>0.000000</td>\n",
       "    </tr>\n",
       "    <tr>\n",
       "      <th>max</th>\n",
       "      <td>10000.00000</td>\n",
       "      <td>1.581569e+07</td>\n",
       "      <td>850.000000</td>\n",
       "      <td>92.000000</td>\n",
       "      <td>10.000000</td>\n",
       "      <td>250898.090000</td>\n",
       "      <td>4.000000</td>\n",
       "      <td>1.00000</td>\n",
       "      <td>1.000000</td>\n",
       "      <td>199992.480000</td>\n",
       "      <td>1.000000</td>\n",
       "    </tr>\n",
       "  </tbody>\n",
       "</table>\n",
       "</div>"
      ],
      "text/plain": [
       "         RowNumber    CustomerId   CreditScore           Age       Tenure  \\\n",
       "count  10000.00000  1.000000e+04  10000.000000  10000.000000  9091.000000   \n",
       "mean    5000.50000  1.569094e+07    650.528800     38.921800     4.997690   \n",
       "std     2886.89568  7.193619e+04     96.653299     10.487806     2.894723   \n",
       "min        1.00000  1.556570e+07    350.000000     18.000000     0.000000   \n",
       "25%     2500.75000  1.562853e+07    584.000000     32.000000     2.000000   \n",
       "50%     5000.50000  1.569074e+07    652.000000     37.000000     5.000000   \n",
       "75%     7500.25000  1.575323e+07    718.000000     44.000000     7.000000   \n",
       "max    10000.00000  1.581569e+07    850.000000     92.000000    10.000000   \n",
       "\n",
       "             Balance  NumOfProducts    HasCrCard  IsActiveMember  \\\n",
       "count   10000.000000   10000.000000  10000.00000    10000.000000   \n",
       "mean    76485.889288       1.530200      0.70550        0.515100   \n",
       "std     62397.405202       0.581654      0.45584        0.499797   \n",
       "min         0.000000       1.000000      0.00000        0.000000   \n",
       "25%         0.000000       1.000000      0.00000        0.000000   \n",
       "50%     97198.540000       1.000000      1.00000        1.000000   \n",
       "75%    127644.240000       2.000000      1.00000        1.000000   \n",
       "max    250898.090000       4.000000      1.00000        1.000000   \n",
       "\n",
       "       EstimatedSalary        Exited  \n",
       "count     10000.000000  10000.000000  \n",
       "mean     100090.239881      0.203700  \n",
       "std       57510.492818      0.402769  \n",
       "min          11.580000      0.000000  \n",
       "25%       51002.110000      0.000000  \n",
       "50%      100193.915000      0.000000  \n",
       "75%      149388.247500      0.000000  \n",
       "max      199992.480000      1.000000  "
      ]
     },
     "execution_count": 6,
     "metadata": {},
     "output_type": "execute_result"
    }
   ],
   "source": [
    "df.describe()"
   ]
  },
  {
   "cell_type": "code",
   "execution_count": 7,
   "metadata": {
    "scrolled": true
   },
   "outputs": [
    {
     "name": "stdout",
     "output_type": "stream",
     "text": [
      "\n",
      "🔍 Registros duplicados: 0\n"
     ]
    }
   ],
   "source": [
    "print(f\"\\n🔍 Registros duplicados: {df.duplicated().sum()}\")"
   ]
  },
  {
   "cell_type": "markdown",
   "metadata": {},
   "source": [
    "<div class=\"alert alert-block alert-success\">\n",
    "<b>Comentario del revisor (1ra Iteracion)</b> <a class=“tocSkip”></a>\n",
    "\n",
    "Muy bien realizada la exploración inicial de los datos y la carga de lo necesario para trabajarlos\n",
    "</div>"
   ]
  },
  {
   "cell_type": "markdown",
   "metadata": {},
   "source": [
    "# 3.- ANÁLISIS DE DESBALANCE DE CLASES"
   ]
  },
  {
   "cell_type": "code",
   "execution_count": 8,
   "metadata": {},
   "outputs": [
    {
     "name": "stdout",
     "output_type": "stream",
     "text": [
      "Distribución de clases (Exited):\n",
      "0    7963\n",
      "1    2037\n",
      "Name: Exited, dtype: int64\n",
      "\n",
      "Porcentaje de clientes que se han ido:\n",
      "20.37 %\n"
     ]
    },
    {
     "data": {
      "image/png": "[encoded data removed]",
      "text/plain": [
       "<Figure size 640x480 with 1 Axes>"
      ]
     },
     "metadata": {},
     "output_type": "display_data"
    }
   ],
   "source": [
    "# Revisión del balance de clases\n",
    "class_counts = df['Exited'].value_counts()\n",
    "print(\"Distribución de clases (Exited):\")\n",
    "print(class_counts)\n",
    "print(\"\\nPorcentaje de clientes que se han ido:\")\n",
    "print(round((class_counts[1] / class_counts.sum()) * 100, 2), \"%\")\n",
    "\n",
    "# Visualización\n",
    "sns.countplot(x='Exited', data=df)\n",
    "plt.title('Distribución de la variable objetivo (Exited)')\n",
    "plt.xlabel('Exited (0 = No se fue, 1 = Se fue)')\n",
    "plt.ylabel('Número de clientes')\n",
    "plt.show()\n"
   ]
  },
  {
   "cell_type": "markdown",
   "metadata": {},
   "source": [
    "# 4.- PREPROCESAMIENTO DE DATOS"
   ]
  },
  {
   "cell_type": "code",
   "execution_count": 9,
   "metadata": {},
   "outputs": [],
   "source": [
    "# Eliminar columnas irrelevantes\n",
    "df = df.drop(['RowNumber', 'CustomerId', 'Surname'], axis=1)"
   ]
  },
  {
   "cell_type": "code",
   "execution_count": 10,
   "metadata": {},
   "outputs": [],
   "source": [
    "# Convertir texto a número\n",
    "df['Gender'] = df['Gender'].map({'Male': 0, 'Female': 1})\n",
    "\n",
    "# Codificar columnas categóricas (como Geography)\n",
    "df = pd.get_dummies(df, drop_first=True)"
   ]
  },
  {
   "cell_type": "code",
   "execution_count": 11,
   "metadata": {},
   "outputs": [],
   "source": [
    "# Imputar valores faltantes (opcional, solo si usas modelos que no manejan NaNs)\n",
    "imputer = SimpleImputer(strategy='median')\n",
    "df[df.columns] = imputer.fit_transform(df)"
   ]
  },
  {
   "cell_type": "code",
   "execution_count": 12,
   "metadata": {},
   "outputs": [],
   "source": [
    "features = df.drop('Exited', axis=1)\n",
    "target = df['Exited']"
   ]
  },
  {
   "cell_type": "markdown",
   "metadata": {},
   "source": [
    "<div class=\"alert alert-block alert-danger\">\n",
    "<b>Comentario del revisor (1ra Iteracion)</b> <a class=“tocSkip”></a>\n",
    "\n",
    "Antes de pasar a la parte de división de datos y entrenamiento primero deberías revisar el balance de las clases cómo se indica en la descripción del proyecto\n",
    "</div>"
   ]
  },
  {
   "cell_type": "markdown",
   "metadata": {},
   "source": [
    "# 5.- DIVISIÓN DE DATOS Y ESCALADO"
   ]
  },
  {
   "cell_type": "code",
   "execution_count": 13,
   "metadata": {},
   "outputs": [],
   "source": [
    "# División en entrenamiento y prueba\n",
    "features_train, features_test, target_train, target_test = train_test_split(\n",
    "    features, target, test_size=0.25, random_state=42, stratify=target)\n",
    "\n"
   ]
  },
  {
   "cell_type": "code",
   "execution_count": 14,
   "metadata": {},
   "outputs": [],
   "source": [
    "# Escalado\n",
    "scaler = StandardScaler()\n",
    "features_train_scaled = scaler.fit_transform(features_train)\n",
    "features_test_scaled = scaler.transform(features_test)\n",
    "\n",
    "\n"
   ]
  },
  {
   "cell_type": "markdown",
   "metadata": {},
   "source": [
    "# 6.- MODELADO BASE SIN CORRECIÓN DE DESBALANCE"
   ]
  },
  {
   "cell_type": "code",
   "execution_count": 15,
   "metadata": {},
   "outputs": [
    {
     "name": "stdout",
     "output_type": "stream",
     "text": [
      "F1 (sin corrección): 0.2891\n",
      "AUC-ROC (sin corrección): 0.7839\n"
     ]
    }
   ],
   "source": [
    "# Entrenar modelo base (sin corregir el desbalance)\n",
    "model_base = LogisticRegression(random_state=42)\n",
    "model_base.fit(features_train_scaled, target_train)\n",
    "preds_base = model_base.predict(features_test_scaled)\n",
    "\n",
    "# Evaluar\n",
    "f1 = f1_score(target_test, preds_base)\n",
    "roc_auc = roc_auc_score(target_test, model_base.predict_proba(features_test_scaled)[:, 1])\n",
    "\n",
    "print(f\"F1 (sin corrección): {f1:.4f}\")\n",
    "print(f\"AUC-ROC (sin corrección): {roc_auc:.4f}\")"
   ]
  },
  {
   "cell_type": "markdown",
   "metadata": {},
   "source": [
    "# 7.- MODELADO CON CLASS_WEIGHT='BALANCED'"
   ]
  },
  {
   "cell_type": "code",
   "execution_count": 16,
   "metadata": {},
   "outputs": [
    {
     "name": "stdout",
     "output_type": "stream",
     "text": [
      "Random Forest (class_weight='balanced') - F1: 0.5697, AUC-ROC: 0.8623\n"
     ]
    }
   ],
   "source": [
    "model_rf = RandomForestClassifier(class_weight='balanced', random_state=42)\n",
    "model_rf.fit(features_train, target_train)\n",
    "preds_rf = model_rf.predict(features_test)\n",
    "\n",
    "f1_rf = f1_score(target_test, preds_rf)\n",
    "roc_auc_rf = roc_auc_score(target_test, model_rf.predict_proba(features_test)[:, 1])\n",
    "\n",
    "print(f\"Random Forest (class_weight='balanced') - F1: {f1_rf:.4f}, AUC-ROC: {roc_auc_rf:.4f}\")\n"
   ]
  },
  {
   "cell_type": "markdown",
   "metadata": {},
   "source": [
    "# 8.- MODELADO CON SUBMUESTREO (UNDERSAMPLING)"
   ]
  },
  {
   "cell_type": "code",
   "execution_count": 17,
   "metadata": {},
   "outputs": [
    {
     "name": "stdout",
     "output_type": "stream",
     "text": [
      "Random Forest (undersampling) - F1: 0.6903, AUC-ROC: 0.9577\n"
     ]
    }
   ],
   "source": [
    "# Combinar features y target\n",
    "data_combined = features.copy()\n",
    "data_combined['Exited'] = target\n",
    "\n",
    "# Separar clases\n",
    "class_0 = data_combined[data_combined['Exited'] == 0]\n",
    "class_1 = data_combined[data_combined['Exited'] == 1]\n",
    "\n",
    "# Submuestreo: tomar la misma cantidad de registros de la clase 0\n",
    "class_0_downsampled = class_0.sample(n=len(class_1), random_state=42)\n",
    "\n",
    "# Combinar clases balanceadas\n",
    "balanced_df = pd.concat([class_0_downsampled, class_1])\n",
    "\n",
    "# Separar en features y target\n",
    "features_bal = balanced_df.drop('Exited', axis=1)\n",
    "target_bal = balanced_df['Exited']\n",
    "\n",
    "# Dividir en train/test\n",
    "X_train_bal, X_test_bal, y_train_bal, y_test_bal = train_test_split(\n",
    "    features_bal, target_bal, test_size=0.25, random_state=42)\n",
    "\n",
    "# Entrenar modelo con datos balanceados\n",
    "model_under = RandomForestClassifier(random_state=42)\n",
    "model_under.fit(X_train_bal, y_train_bal)\n",
    "\n",
    "# Evaluar sobre conjunto de prueba original\n",
    "preds_under = model_under.predict(features_test)\n",
    "f1_under = f1_score(target_test, preds_under)\n",
    "roc_auc_under = roc_auc_score(target_test, model_under.predict_proba(features_test)[:, 1])\n",
    "\n",
    "print(f\"Random Forest (undersampling) - F1: {f1_under:.4f}, AUC-ROC: {roc_auc_under:.4f}\")\n"
   ]
  },
  {
   "cell_type": "markdown",
   "metadata": {},
   "source": [
    "# 9.- COMPARACIÓN DE MODELOS"
   ]
  },
  {
   "cell_type": "code",
   "execution_count": 18,
   "metadata": {},
   "outputs": [
    {
     "data": {
      "text/html": [
       "<div>\n",
       "<style scoped>\n",
       "    .dataframe tbody tr th:only-of-type {\n",
       "        vertical-align: middle;\n",
       "    }\n",
       "\n",
       "    .dataframe tbody tr th {\n",
       "        vertical-align: top;\n",
       "    }\n",
       "\n",
       "    .dataframe thead th {\n",
       "        text-align: right;\n",
       "    }\n",
       "</style>\n",
       "<table border=\"1\" class=\"dataframe\">\n",
       "  <thead>\n",
       "    <tr style=\"text-align: right;\">\n",
       "      <th></th>\n",
       "      <th>Modelo</th>\n",
       "      <th>F1 Score</th>\n",
       "      <th>AUC-ROC</th>\n",
       "    </tr>\n",
       "  </thead>\n",
       "  <tbody>\n",
       "    <tr>\n",
       "      <th>0</th>\n",
       "      <td>Logistic Regression (sin corrección)</td>\n",
       "      <td>0.289121</td>\n",
       "      <td>0.783882</td>\n",
       "    </tr>\n",
       "    <tr>\n",
       "      <th>1</th>\n",
       "      <td>Random Forest (class_weight)</td>\n",
       "      <td>0.569667</td>\n",
       "      <td>0.862331</td>\n",
       "    </tr>\n",
       "    <tr>\n",
       "      <th>2</th>\n",
       "      <td>Random Forest (undersampling)</td>\n",
       "      <td>0.690304</td>\n",
       "      <td>0.957689</td>\n",
       "    </tr>\n",
       "  </tbody>\n",
       "</table>\n",
       "</div>"
      ],
      "text/plain": [
       "                                 Modelo  F1 Score   AUC-ROC\n",
       "0  Logistic Regression (sin corrección)  0.289121  0.783882\n",
       "1          Random Forest (class_weight)  0.569667  0.862331\n",
       "2         Random Forest (undersampling)  0.690304  0.957689"
      ]
     },
     "metadata": {},
     "output_type": "display_data"
    }
   ],
   "source": [
    "results = pd.DataFrame({\n",
    "    'Modelo': [\n",
    "        'Logistic Regression (sin corrección)',\n",
    "        'Random Forest (class_weight)',\n",
    "        'Random Forest (undersampling)'\n",
    "    ],\n",
    "    'F1 Score': [f1, f1_rf, f1_under],\n",
    "    'AUC-ROC': [roc_auc, roc_auc_rf, roc_auc_under]\n",
    "})\n",
    "\n",
    "display(results)\n"
   ]
  },
  {
   "cell_type": "markdown",
   "metadata": {},
   "source": [
    "# 10.- CONCLUSIÓN GENERAL"
   ]
  },
  {
   "cell_type": "markdown",
   "metadata": {},
   "source": [
    "El análisis mostró que el dataset estaba severamente desbalanceado, lo cual impactó negativamente en el rendimiento del modelo base. Las técnicas para corregir el desbalance mejoraron significativamente el desempeño.\n",
    "\n",
    "Random Forest con submuestreo logró el mejor resultado con un F1 Score de 0.6903 y un AUC-ROC de 0.9577, lo que indica una excelente capacidad para distinguir entre clientes que abandonarán el banco y los que no.\n",
    "\n",
    "Se concluye que corregir el desbalance de clases es crucial en problemas de clasificación como el abandono de clientes."
   ]
  },
  {
   "cell_type": "code",
   "execution_count": null,
   "metadata": {},
   "outputs": [],
   "source": []
  }
 ],
 "metadata": {
  "ExecuteTimeLog": [
   {
    "duration": 807,
    "start_time": "2025-04-20T17:31:10.959Z"
   },
   {
    "duration": 100,
    "start_time": "2025-04-20T17:31:29.969Z"
   },
   {
    "duration": 11,
    "start_time": "2025-04-20T17:31:45.945Z"
   },
   {
    "duration": 20,
    "start_time": "2025-04-20T17:31:59.935Z"
   },
   {
    "duration": 29,
    "start_time": "2025-04-20T17:32:03.877Z"
   },
   {
    "duration": 155,
    "start_time": "2025-04-20T19:42:25.105Z"
   },
   {
    "duration": 325,
    "start_time": "2025-04-20T19:42:38.712Z"
   },
   {
    "duration": 474,
    "start_time": "2025-04-20T19:42:39.039Z"
   },
   {
    "duration": 26,
    "start_time": "2025-04-20T19:42:39.516Z"
   },
   {
    "duration": 19,
    "start_time": "2025-04-20T19:42:39.544Z"
   },
   {
    "duration": 11,
    "start_time": "2025-04-20T19:42:39.565Z"
   },
   {
    "duration": 27,
    "start_time": "2025-04-20T19:42:39.587Z"
   },
   {
    "duration": 4,
    "start_time": "2025-04-20T19:42:39.616Z"
   },
   {
    "duration": 9,
    "start_time": "2025-04-20T19:43:12.401Z"
   },
   {
    "duration": 4,
    "start_time": "2025-04-20T19:57:43.987Z"
   },
   {
    "duration": 8,
    "start_time": "2025-04-20T19:57:52.779Z"
   },
   {
    "duration": 4,
    "start_time": "2025-04-20T19:58:38.579Z"
   },
   {
    "duration": 9,
    "start_time": "2025-04-20T19:58:50.470Z"
   },
   {
    "duration": 9,
    "start_time": "2025-04-20T19:58:57.931Z"
   },
   {
    "duration": 375,
    "start_time": "2025-04-20T19:59:05.481Z"
   },
   {
    "duration": 171,
    "start_time": "2025-04-20T20:38:32.800Z"
   },
   {
    "duration": 319,
    "start_time": "2025-04-20T20:38:43.435Z"
   },
   {
    "duration": 566,
    "start_time": "2025-04-20T20:38:43.756Z"
   },
   {
    "duration": 22,
    "start_time": "2025-04-20T20:38:44.324Z"
   },
   {
    "duration": 16,
    "start_time": "2025-04-20T20:38:44.349Z"
   },
   {
    "duration": 12,
    "start_time": "2025-04-20T20:38:44.369Z"
   },
   {
    "duration": 27,
    "start_time": "2025-04-20T20:38:44.383Z"
   },
   {
    "duration": 8,
    "start_time": "2025-04-20T20:38:44.412Z"
   },
   {
    "duration": 249,
    "start_time": "2025-04-20T20:38:44.421Z"
   },
   {
    "duration": 0,
    "start_time": "2025-04-20T20:38:44.672Z"
   },
   {
    "duration": 0,
    "start_time": "2025-04-20T20:38:44.673Z"
   },
   {
    "duration": 1,
    "start_time": "2025-04-20T20:38:44.673Z"
   },
   {
    "duration": 0,
    "start_time": "2025-04-20T20:38:44.674Z"
   },
   {
    "duration": 0,
    "start_time": "2025-04-20T20:38:44.676Z"
   },
   {
    "duration": 0,
    "start_time": "2025-04-20T20:38:44.677Z"
   },
   {
    "duration": 402,
    "start_time": "2025-04-20T20:39:04.883Z"
   },
   {
    "duration": 492,
    "start_time": "2025-04-20T20:39:05.287Z"
   },
   {
    "duration": 15,
    "start_time": "2025-04-20T20:39:05.781Z"
   },
   {
    "duration": 14,
    "start_time": "2025-04-20T20:39:05.799Z"
   },
   {
    "duration": 10,
    "start_time": "2025-04-20T20:39:05.816Z"
   },
   {
    "duration": 48,
    "start_time": "2025-04-20T20:39:05.827Z"
   },
   {
    "duration": 8,
    "start_time": "2025-04-20T20:39:05.877Z"
   },
   {
    "duration": 262,
    "start_time": "2025-04-20T20:39:05.887Z"
   },
   {
    "duration": 0,
    "start_time": "2025-04-20T20:39:06.151Z"
   },
   {
    "duration": 0,
    "start_time": "2025-04-20T20:39:06.152Z"
   },
   {
    "duration": 0,
    "start_time": "2025-04-20T20:39:06.153Z"
   },
   {
    "duration": 0,
    "start_time": "2025-04-20T20:39:06.154Z"
   },
   {
    "duration": 0,
    "start_time": "2025-04-20T20:39:06.155Z"
   },
   {
    "duration": 0,
    "start_time": "2025-04-20T20:39:06.156Z"
   },
   {
    "duration": 310,
    "start_time": "2025-04-20T20:40:38.376Z"
   },
   {
    "duration": 568,
    "start_time": "2025-04-20T20:40:38.688Z"
   },
   {
    "duration": 20,
    "start_time": "2025-04-20T20:40:39.258Z"
   },
   {
    "duration": 18,
    "start_time": "2025-04-20T20:40:39.280Z"
   },
   {
    "duration": 11,
    "start_time": "2025-04-20T20:40:39.301Z"
   },
   {
    "duration": 27,
    "start_time": "2025-04-20T20:40:39.314Z"
   },
   {
    "duration": 30,
    "start_time": "2025-04-20T20:40:39.343Z"
   },
   {
    "duration": 4,
    "start_time": "2025-04-20T20:40:39.375Z"
   },
   {
    "duration": 8,
    "start_time": "2025-04-20T20:40:39.381Z"
   },
   {
    "duration": 3,
    "start_time": "2025-04-20T20:40:39.391Z"
   },
   {
    "duration": 7,
    "start_time": "2025-04-20T20:40:39.396Z"
   },
   {
    "duration": 11,
    "start_time": "2025-04-20T20:40:39.404Z"
   },
   {
    "duration": 257,
    "start_time": "2025-04-20T20:40:39.416Z"
   },
   {
    "duration": 0,
    "start_time": "2025-04-20T20:40:39.675Z"
   },
   {
    "duration": 8,
    "start_time": "2025-04-20T20:41:15.046Z"
   },
   {
    "duration": 197,
    "start_time": "2025-04-20T20:41:22.218Z"
   },
   {
    "duration": 4,
    "start_time": "2025-04-20T20:43:18.915Z"
   },
   {
    "duration": 132,
    "start_time": "2025-04-20T20:43:22.267Z"
   },
   {
    "duration": 73,
    "start_time": "2025-04-20T20:44:23.141Z"
   },
   {
    "duration": 4,
    "start_time": "2025-04-20T20:45:24.923Z"
   },
   {
    "duration": 16,
    "start_time": "2025-04-20T20:46:24.100Z"
   },
   {
    "duration": 5,
    "start_time": "2025-04-20T20:47:26.563Z"
   },
   {
    "duration": 6,
    "start_time": "2025-04-20T20:47:43.644Z"
   },
   {
    "duration": 4859,
    "start_time": "2025-04-20T20:47:47.508Z"
   },
   {
    "duration": 3,
    "start_time": "2025-04-20T20:59:58.723Z"
   },
   {
    "duration": 3,
    "start_time": "2025-04-20T21:00:12.101Z"
   },
   {
    "duration": 59,
    "start_time": "2025-04-20T21:00:50.068Z"
   },
   {
    "duration": 103,
    "start_time": "2025-04-20T21:01:07.007Z"
   },
   {
    "duration": 12,
    "start_time": "2025-04-20T21:04:04.046Z"
   },
   {
    "duration": 59,
    "start_time": "2025-04-20T21:04:07.884Z"
   },
   {
    "duration": 3,
    "start_time": "2025-04-20T21:04:31.641Z"
   },
   {
    "duration": 4,
    "start_time": "2025-04-20T21:12:35.852Z"
   },
   {
    "duration": 6,
    "start_time": "2025-04-20T21:12:57.305Z"
   },
   {
    "duration": 4,
    "start_time": "2025-04-20T21:13:18.624Z"
   },
   {
    "duration": 3,
    "start_time": "2025-04-20T21:13:23.603Z"
   },
   {
    "duration": 2324,
    "start_time": "2025-04-20T21:22:11.289Z"
   },
   {
    "duration": 279,
    "start_time": "2025-04-20T21:22:16.140Z"
   },
   {
    "duration": 491,
    "start_time": "2025-04-20T21:22:16.422Z"
   },
   {
    "duration": 17,
    "start_time": "2025-04-20T21:22:16.915Z"
   },
   {
    "duration": 14,
    "start_time": "2025-04-20T21:22:16.933Z"
   },
   {
    "duration": 21,
    "start_time": "2025-04-20T21:22:16.949Z"
   },
   {
    "duration": 27,
    "start_time": "2025-04-20T21:22:16.972Z"
   },
   {
    "duration": 7,
    "start_time": "2025-04-20T21:22:17.001Z"
   },
   {
    "duration": 4,
    "start_time": "2025-04-20T21:22:17.010Z"
   },
   {
    "duration": 10,
    "start_time": "2025-04-20T21:22:17.015Z"
   },
   {
    "duration": 4,
    "start_time": "2025-04-20T21:22:17.026Z"
   },
   {
    "duration": 6,
    "start_time": "2025-04-20T21:22:17.032Z"
   },
   {
    "duration": 10,
    "start_time": "2025-04-20T21:22:17.071Z"
   },
   {
    "duration": 8,
    "start_time": "2025-04-20T21:22:17.082Z"
   },
   {
    "duration": 4,
    "start_time": "2025-04-20T21:22:17.094Z"
   },
   {
    "duration": 3,
    "start_time": "2025-04-20T21:22:17.099Z"
   },
   {
    "duration": 4,
    "start_time": "2025-04-20T21:22:17.104Z"
   },
   {
    "duration": 2347,
    "start_time": "2025-04-20T21:22:17.109Z"
   },
   {
    "duration": 3,
    "start_time": "2025-04-20T21:22:19.458Z"
   },
   {
    "duration": 21,
    "start_time": "2025-04-20T21:22:19.470Z"
   },
   {
    "duration": 4,
    "start_time": "2025-04-20T21:22:19.493Z"
   },
   {
    "duration": 12,
    "start_time": "2025-04-20T21:22:19.498Z"
   },
   {
    "duration": 5,
    "start_time": "2025-04-20T21:22:19.511Z"
   },
   {
    "duration": 4,
    "start_time": "2025-04-20T21:22:19.517Z"
   },
   {
    "duration": 267,
    "start_time": "2025-04-20T21:22:42.452Z"
   },
   {
    "duration": 475,
    "start_time": "2025-04-20T21:22:42.722Z"
   },
   {
    "duration": 16,
    "start_time": "2025-04-20T21:22:43.199Z"
   },
   {
    "duration": 18,
    "start_time": "2025-04-20T21:22:43.216Z"
   },
   {
    "duration": 10,
    "start_time": "2025-04-20T21:22:43.237Z"
   },
   {
    "duration": 46,
    "start_time": "2025-04-20T21:22:43.248Z"
   },
   {
    "duration": 8,
    "start_time": "2025-04-20T21:22:43.296Z"
   },
   {
    "duration": 3,
    "start_time": "2025-04-20T21:22:43.305Z"
   },
   {
    "duration": 9,
    "start_time": "2025-04-20T21:22:43.310Z"
   },
   {
    "duration": 3,
    "start_time": "2025-04-20T21:22:43.321Z"
   },
   {
    "duration": 6,
    "start_time": "2025-04-20T21:22:43.326Z"
   },
   {
    "duration": 37,
    "start_time": "2025-04-20T21:22:43.333Z"
   },
   {
    "duration": 8,
    "start_time": "2025-04-20T21:22:43.371Z"
   },
   {
    "duration": 4,
    "start_time": "2025-04-20T21:22:43.383Z"
   },
   {
    "duration": 3,
    "start_time": "2025-04-20T21:22:43.388Z"
   },
   {
    "duration": 4,
    "start_time": "2025-04-20T21:22:43.393Z"
   },
   {
    "duration": 4823,
    "start_time": "2025-04-20T21:22:43.399Z"
   },
   {
    "duration": 2,
    "start_time": "2025-04-20T21:22:48.224Z"
   },
   {
    "duration": 69,
    "start_time": "2025-04-20T21:22:48.229Z"
   },
   {
    "duration": 3,
    "start_time": "2025-04-20T21:22:48.301Z"
   },
   {
    "duration": 4,
    "start_time": "2025-04-20T21:22:48.306Z"
   },
   {
    "duration": 5,
    "start_time": "2025-04-20T21:22:48.311Z"
   },
   {
    "duration": 5,
    "start_time": "2025-04-20T21:22:48.317Z"
   },
   {
    "duration": 2,
    "start_time": "2025-04-20T21:23:00.910Z"
   },
   {
    "duration": 7,
    "start_time": "2025-04-20T21:59:33.018Z"
   },
   {
    "duration": 268,
    "start_time": "2025-04-21T04:00:38.465Z"
   },
   {
    "duration": 490,
    "start_time": "2025-04-21T04:00:38.736Z"
   },
   {
    "duration": 25,
    "start_time": "2025-04-21T04:00:39.228Z"
   },
   {
    "duration": 13,
    "start_time": "2025-04-21T04:00:39.255Z"
   },
   {
    "duration": 15,
    "start_time": "2025-04-21T04:00:39.271Z"
   },
   {
    "duration": 28,
    "start_time": "2025-04-21T04:00:39.288Z"
   },
   {
    "duration": 8,
    "start_time": "2025-04-21T04:00:39.317Z"
   },
   {
    "duration": 3,
    "start_time": "2025-04-21T04:00:39.326Z"
   },
   {
    "duration": 8,
    "start_time": "2025-04-21T04:00:39.331Z"
   },
   {
    "duration": 4,
    "start_time": "2025-04-21T04:00:39.340Z"
   },
   {
    "duration": 6,
    "start_time": "2025-04-21T04:00:39.346Z"
   },
   {
    "duration": 42,
    "start_time": "2025-04-21T04:00:39.353Z"
   },
   {
    "duration": 8,
    "start_time": "2025-04-21T04:00:39.396Z"
   },
   {
    "duration": 3,
    "start_time": "2025-04-21T04:00:39.407Z"
   },
   {
    "duration": 4,
    "start_time": "2025-04-21T04:00:39.411Z"
   },
   {
    "duration": 4,
    "start_time": "2025-04-21T04:00:39.416Z"
   },
   {
    "duration": 4901,
    "start_time": "2025-04-21T04:00:39.422Z"
   },
   {
    "duration": 3,
    "start_time": "2025-04-21T04:00:44.325Z"
   },
   {
    "duration": 77,
    "start_time": "2025-04-21T04:00:44.330Z"
   },
   {
    "duration": 3,
    "start_time": "2025-04-21T04:00:44.409Z"
   },
   {
    "duration": 4,
    "start_time": "2025-04-21T04:00:44.414Z"
   },
   {
    "duration": 6,
    "start_time": "2025-04-21T04:00:44.419Z"
   },
   {
    "duration": 5,
    "start_time": "2025-04-21T04:00:44.427Z"
   },
   {
    "duration": 7,
    "start_time": "2025-04-21T04:00:44.434Z"
   },
   {
    "duration": 2449,
    "start_time": "2025-04-21T13:05:20.606Z"
   },
   {
    "duration": 452,
    "start_time": "2025-04-21T13:05:23.058Z"
   },
   {
    "duration": 0,
    "start_time": "2025-04-21T13:05:23.513Z"
   },
   {
    "duration": 0,
    "start_time": "2025-04-21T13:05:23.514Z"
   },
   {
    "duration": 0,
    "start_time": "2025-04-21T13:05:23.516Z"
   },
   {
    "duration": 0,
    "start_time": "2025-04-21T13:05:23.517Z"
   },
   {
    "duration": 0,
    "start_time": "2025-04-21T13:05:23.519Z"
   },
   {
    "duration": 0,
    "start_time": "2025-04-21T13:05:23.520Z"
   },
   {
    "duration": 0,
    "start_time": "2025-04-21T13:05:23.521Z"
   },
   {
    "duration": 0,
    "start_time": "2025-04-21T13:05:23.523Z"
   },
   {
    "duration": 1,
    "start_time": "2025-04-21T13:05:23.524Z"
   },
   {
    "duration": 0,
    "start_time": "2025-04-21T13:05:23.526Z"
   },
   {
    "duration": 0,
    "start_time": "2025-04-21T13:05:23.527Z"
   },
   {
    "duration": 0,
    "start_time": "2025-04-21T13:05:23.529Z"
   },
   {
    "duration": 0,
    "start_time": "2025-04-21T13:05:23.530Z"
   },
   {
    "duration": 0,
    "start_time": "2025-04-21T13:05:23.532Z"
   },
   {
    "duration": 0,
    "start_time": "2025-04-21T13:05:23.533Z"
   },
   {
    "duration": 0,
    "start_time": "2025-04-21T13:05:23.535Z"
   },
   {
    "duration": 9150,
    "start_time": "2025-04-21T13:07:10.554Z"
   },
   {
    "duration": 23,
    "start_time": "2025-04-21T13:07:21.981Z"
   },
   {
    "duration": 14,
    "start_time": "2025-04-21T13:07:26.290Z"
   },
   {
    "duration": 1351,
    "start_time": "2025-04-21T13:08:33.382Z"
   },
   {
    "duration": 782,
    "start_time": "2025-04-21T13:08:34.736Z"
   },
   {
    "duration": 424,
    "start_time": "2025-04-21T13:08:35.520Z"
   },
   {
    "duration": 0,
    "start_time": "2025-04-21T13:08:35.947Z"
   },
   {
    "duration": 0,
    "start_time": "2025-04-21T13:08:35.948Z"
   },
   {
    "duration": 0,
    "start_time": "2025-04-21T13:08:35.950Z"
   },
   {
    "duration": 0,
    "start_time": "2025-04-21T13:08:35.951Z"
   },
   {
    "duration": 0,
    "start_time": "2025-04-21T13:08:35.953Z"
   },
   {
    "duration": 0,
    "start_time": "2025-04-21T13:08:35.954Z"
   },
   {
    "duration": 0,
    "start_time": "2025-04-21T13:08:35.955Z"
   },
   {
    "duration": 1,
    "start_time": "2025-04-21T13:08:35.956Z"
   },
   {
    "duration": 0,
    "start_time": "2025-04-21T13:08:35.958Z"
   },
   {
    "duration": 0,
    "start_time": "2025-04-21T13:08:35.960Z"
   },
   {
    "duration": 0,
    "start_time": "2025-04-21T13:08:35.961Z"
   },
   {
    "duration": 0,
    "start_time": "2025-04-21T13:08:35.962Z"
   },
   {
    "duration": 0,
    "start_time": "2025-04-21T13:08:35.964Z"
   },
   {
    "duration": 0,
    "start_time": "2025-04-21T13:08:35.965Z"
   },
   {
    "duration": 0,
    "start_time": "2025-04-21T13:08:35.967Z"
   },
   {
    "duration": 0,
    "start_time": "2025-04-21T13:08:35.968Z"
   },
   {
    "duration": 1327,
    "start_time": "2025-04-21T13:08:42.047Z"
   },
   {
    "duration": 746,
    "start_time": "2025-04-21T13:08:43.376Z"
   },
   {
    "duration": 422,
    "start_time": "2025-04-21T13:08:44.124Z"
   },
   {
    "duration": 0,
    "start_time": "2025-04-21T13:08:44.548Z"
   },
   {
    "duration": 0,
    "start_time": "2025-04-21T13:08:44.549Z"
   },
   {
    "duration": 0,
    "start_time": "2025-04-21T13:08:44.550Z"
   },
   {
    "duration": 0,
    "start_time": "2025-04-21T13:08:44.552Z"
   },
   {
    "duration": 0,
    "start_time": "2025-04-21T13:08:44.553Z"
   },
   {
    "duration": 0,
    "start_time": "2025-04-21T13:08:44.554Z"
   },
   {
    "duration": 0,
    "start_time": "2025-04-21T13:08:44.555Z"
   },
   {
    "duration": 0,
    "start_time": "2025-04-21T13:08:44.556Z"
   },
   {
    "duration": 0,
    "start_time": "2025-04-21T13:08:44.558Z"
   },
   {
    "duration": 0,
    "start_time": "2025-04-21T13:08:44.559Z"
   },
   {
    "duration": 0,
    "start_time": "2025-04-21T13:08:44.561Z"
   },
   {
    "duration": 1,
    "start_time": "2025-04-21T13:08:44.561Z"
   },
   {
    "duration": 0,
    "start_time": "2025-04-21T13:08:44.562Z"
   },
   {
    "duration": 0,
    "start_time": "2025-04-21T13:08:44.563Z"
   },
   {
    "duration": 0,
    "start_time": "2025-04-21T13:08:44.564Z"
   },
   {
    "duration": 0,
    "start_time": "2025-04-21T13:08:44.565Z"
   },
   {
    "duration": 1374,
    "start_time": "2025-04-21T13:21:26.107Z"
   },
   {
    "duration": 806,
    "start_time": "2025-04-21T13:21:27.483Z"
   },
   {
    "duration": 217,
    "start_time": "2025-04-21T13:21:28.291Z"
   },
   {
    "duration": 29,
    "start_time": "2025-04-21T13:21:28.510Z"
   },
   {
    "duration": 13,
    "start_time": "2025-04-21T13:21:28.542Z"
   },
   {
    "duration": 10,
    "start_time": "2025-04-21T13:21:28.557Z"
   },
   {
    "duration": 27,
    "start_time": "2025-04-21T13:21:28.569Z"
   },
   {
    "duration": 12,
    "start_time": "2025-04-21T13:21:28.608Z"
   },
   {
    "duration": 112,
    "start_time": "2025-04-21T13:21:28.624Z"
   },
   {
    "duration": 3,
    "start_time": "2025-04-21T13:21:28.738Z"
   },
   {
    "duration": 8,
    "start_time": "2025-04-21T13:21:28.742Z"
   },
   {
    "duration": 25,
    "start_time": "2025-04-21T13:21:28.751Z"
   },
   {
    "duration": 3,
    "start_time": "2025-04-21T13:21:28.778Z"
   },
   {
    "duration": 28,
    "start_time": "2025-04-21T13:21:28.785Z"
   },
   {
    "duration": 8,
    "start_time": "2025-04-21T13:21:28.815Z"
   },
   {
    "duration": 14,
    "start_time": "2025-04-21T13:21:28.824Z"
   },
   {
    "duration": 895,
    "start_time": "2025-04-21T13:21:28.839Z"
   },
   {
    "duration": 242,
    "start_time": "2025-04-21T13:21:29.736Z"
   },
   {
    "duration": 0,
    "start_time": "2025-04-21T13:21:29.980Z"
   },
   {
    "duration": 17,
    "start_time": "2025-04-21T13:23:27.263Z"
   },
   {
    "duration": 396,
    "start_time": "2025-04-21T13:36:02.921Z"
   },
   {
    "duration": 8,
    "start_time": "2025-04-21T13:36:21.202Z"
   },
   {
    "duration": 796,
    "start_time": "2025-04-21T13:37:14.533Z"
   },
   {
    "duration": 201,
    "start_time": "2025-04-21T13:37:15.332Z"
   },
   {
    "duration": 17,
    "start_time": "2025-04-21T13:37:15.535Z"
   },
   {
    "duration": 12,
    "start_time": "2025-04-21T13:37:15.554Z"
   },
   {
    "duration": 10,
    "start_time": "2025-04-21T13:37:15.568Z"
   },
   {
    "duration": 45,
    "start_time": "2025-04-21T13:37:15.579Z"
   },
   {
    "duration": 8,
    "start_time": "2025-04-21T13:37:15.626Z"
   },
   {
    "duration": 114,
    "start_time": "2025-04-21T13:37:15.635Z"
   },
   {
    "duration": 3,
    "start_time": "2025-04-21T13:37:15.750Z"
   },
   {
    "duration": 8,
    "start_time": "2025-04-21T13:37:15.755Z"
   },
   {
    "duration": 24,
    "start_time": "2025-04-21T13:37:15.765Z"
   },
   {
    "duration": 3,
    "start_time": "2025-04-21T13:37:15.809Z"
   },
   {
    "duration": 5,
    "start_time": "2025-04-21T13:37:15.814Z"
   },
   {
    "duration": 6,
    "start_time": "2025-04-21T13:37:15.823Z"
   },
   {
    "duration": 83,
    "start_time": "2025-04-21T13:37:15.830Z"
   },
   {
    "duration": 825,
    "start_time": "2025-04-21T13:37:15.915Z"
   },
   {
    "duration": 377,
    "start_time": "2025-04-21T13:37:16.742Z"
   },
   {
    "duration": 7,
    "start_time": "2025-04-21T13:37:17.121Z"
   }
  ],
  "kernelspec": {
   "display_name": "Python 3 (ipykernel)",
   "language": "python",
   "name": "python3"
  },
  "language_info": {
   "codemirror_mode": {
    "name": "ipython",
    "version": 3
   },
   "file_extension": ".py",
   "mimetype": "text/x-python",
   "name": "python",
   "nbconvert_exporter": "python",
   "pygments_lexer": "ipython3",
   "version": "3.9.19"
  },
  "toc": {
   "base_numbering": 1,
   "nav_menu": {},
   "number_sections": true,
   "sideBar": true,
   "skip_h1_title": true,
   "title_cell": "Table of Contents",
   "title_sidebar": "Contents",
   "toc_cell": false,
   "toc_position": {
    "height": "calc(100% - 180px)",
    "left": "10px",
    "top": "150px",
    "width": "270.8px"
   },
   "toc_section_display": true,
   "toc_window_display": false
  }
 },
 "nbformat": 4,
 "nbformat_minor": 2
}
