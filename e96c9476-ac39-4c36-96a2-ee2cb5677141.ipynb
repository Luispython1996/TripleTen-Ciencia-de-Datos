{
 "cells": [
  {
   "cell_type": "markdown",
   "metadata": {},
   "source": [
    "Hola **Osvaldo**!\n",
    "\n",
    "Soy **Patricio Requena** 👋. Es un placer ser el revisor de tu proyecto el día de hoy!\n",
    "\n",
    "Revisaré tu proyecto detenidamente con el objetivo de ayudarte a mejorar y perfeccionar tus habilidades. Durante mi revisión, identificaré áreas donde puedas hacer mejoras en tu código, señalando específicamente qué y cómo podrías ajustar para optimizar el rendimiento y la claridad de tu proyecto. Además, es importante para mí destacar los aspectos que has manejado excepcionalmente bien. Reconocer tus fortalezas te ayudará a entender qué técnicas y métodos están funcionando a tu favor y cómo puedes aplicarlos en futuras tareas. \n",
    "\n",
    "_**Recuerda que al final de este notebook encontrarás un comentario general de mi parte**_, empecemos!\n",
    "\n",
    "Encontrarás mis comentarios dentro de cajas verdes, amarillas o rojas, ⚠️ **por favor, no muevas, modifiques o borres mis comentarios** ⚠️:\n",
    "\n",
    "\n",
    "<div class=\"alert alert-block alert-success\">\n",
    "<b>Comentario del revisor</b> <a class=“tocSkip”></a>\n",
    "Si todo está perfecto.\n",
    "</div>\n",
    "\n",
    "<div class=\"alert alert-block alert-warning\">\n",
    "<b>Comentario del revisor</b> <a class=“tocSkip”></a>\n",
    "Si tu código está bien pero se puede mejorar o hay algún detalle que le hace falta.\n",
    "</div>\n",
    "\n",
    "<div class=\"alert alert-block alert-danger\">\n",
    "<b>Comentario del revisor</b> <a class=“tocSkip”></a>\n",
    "Si de pronto hace falta algo o existe algún problema con tu código o conclusiones.\n",
    "</div>\n",
    "\n",
    "Puedes responderme de esta forma:\n",
    "<div class=\"alert alert-block alert-info\">\n",
    "<b>Respuesta del estudiante</b> <a class=“tocSkip”></a>\n",
    "Muchísimas gracias por las observaciones 🤗\n",
    "</div>"
   ]
  },
  {
   "cell_type": "markdown",
   "metadata": {},
   "source": [
    "<div class=\"alert alert-block alert-danger\">\n",
    "<b>Comentario del revisor (1ra Iteracion)</b> <a class=“tocSkip”></a>\n",
    "\n",
    "Cómo Data Scientist debes cuidar la presentación de tus proyectos en notebooks, procura utilizar más celdas markdown y sobre todo procura siempre dejar un título general al inicio del proyecto\n",
    "</div>"
   ]
  },
  {
   "cell_type": "markdown",
   "metadata": {},
   "source": [
    "# Clasificación de Planes Móviles con Modelos Supervisados para la Compañía Megaline"
   ]
  },
  {
   "cell_type": "markdown",
   "metadata": {},
   "source": [
    "La compañía Megaline desea incentivar la migración de sus clientes hacia planes más modernos: Smart o Ultra. Para lograrlo, se planteó el desarrollo de un modelo de clasificación que, con base en el comportamiento mensual de los usuarios, recomiende el plan más adecuado. El objetivo es alcanzar una exactitud de al menos 0.75.\n"
   ]
  },
  {
   "cell_type": "markdown",
   "metadata": {},
   "source": [
    "1. [IMPORTACIÓN DE LIBRERIAS Y DATASET](#IMPORTACIÓN-DE-LIBRERIAS-Y-DATASET)\n",
    "2. [VISTA PREVIA DEL CONJUNTO DE DATOS](#VISTA-PREVIA-DEL-CONJUNTO-DE-DATOS)\n",
    "3. [ENTRENAMIENTO, VALIDACIÓN Y PRUEBA](#ENTRENAMIENTO,-VALIDACIÓN-Y-PRUEBA)\n",
    "4. [EVALUACIÓN DEL MODELO](#EVALUACIÓN-DEL-MODELO)\n",
    "5. [CONCLUSIÓN GENERAL](#CONCLUSIÓN-GENERAL)"
   ]
  },
  {
   "cell_type": "markdown",
   "metadata": {},
   "source": [
    "# 1. IMPORTACIÓN DE LIBRERIAS Y DATASET"
   ]
  },
  {
   "cell_type": "code",
   "execution_count": 1,
   "metadata": {},
   "outputs": [],
   "source": [
    "import pandas as pd\n",
    "import numpy as np"
   ]
  },
  {
   "cell_type": "code",
   "execution_count": 2,
   "metadata": {},
   "outputs": [],
   "source": [
    "from sklearn.model_selection import train_test_split\n",
    "from sklearn.tree import DecisionTreeClassifier\n",
    "from sklearn.ensemble import RandomForestClassifier\n",
    "from sklearn.linear_model import LogisticRegression\n",
    "from sklearn.metrics import accuracy_score"
   ]
  },
  {
   "cell_type": "code",
   "execution_count": 3,
   "metadata": {},
   "outputs": [],
   "source": [
    "df = pd.read_csv('/datasets/users_behavior.csv')\n"
   ]
  },
  {
   "cell_type": "markdown",
   "metadata": {},
   "source": [
    "# 2. VISTA PREVIA DEL CONJUNTO DE DATOS"
   ]
  },
  {
   "cell_type": "code",
   "execution_count": 4,
   "metadata": {},
   "outputs": [
    {
     "name": "stdout",
     "output_type": "stream",
     "text": [
      "📊 Vista previa del conjunto de datos:\n"
     ]
    },
    {
     "data": {
      "text/html": [
       "<div>\n",
       "<style scoped>\n",
       "    .dataframe tbody tr th:only-of-type {\n",
       "        vertical-align: middle;\n",
       "    }\n",
       "\n",
       "    .dataframe tbody tr th {\n",
       "        vertical-align: top;\n",
       "    }\n",
       "\n",
       "    .dataframe thead th {\n",
       "        text-align: right;\n",
       "    }\n",
       "</style>\n",
       "<table border=\"1\" class=\"dataframe\">\n",
       "  <thead>\n",
       "    <tr style=\"text-align: right;\">\n",
       "      <th></th>\n",
       "      <th>calls</th>\n",
       "      <th>minutes</th>\n",
       "      <th>messages</th>\n",
       "      <th>mb_used</th>\n",
       "      <th>is_ultra</th>\n",
       "    </tr>\n",
       "  </thead>\n",
       "  <tbody>\n",
       "    <tr>\n",
       "      <th>0</th>\n",
       "      <td>40.0</td>\n",
       "      <td>311.90</td>\n",
       "      <td>83.0</td>\n",
       "      <td>19915.42</td>\n",
       "      <td>0</td>\n",
       "    </tr>\n",
       "    <tr>\n",
       "      <th>1</th>\n",
       "      <td>85.0</td>\n",
       "      <td>516.75</td>\n",
       "      <td>56.0</td>\n",
       "      <td>22696.96</td>\n",
       "      <td>0</td>\n",
       "    </tr>\n",
       "    <tr>\n",
       "      <th>2</th>\n",
       "      <td>77.0</td>\n",
       "      <td>467.66</td>\n",
       "      <td>86.0</td>\n",
       "      <td>21060.45</td>\n",
       "      <td>0</td>\n",
       "    </tr>\n",
       "    <tr>\n",
       "      <th>3</th>\n",
       "      <td>106.0</td>\n",
       "      <td>745.53</td>\n",
       "      <td>81.0</td>\n",
       "      <td>8437.39</td>\n",
       "      <td>1</td>\n",
       "    </tr>\n",
       "    <tr>\n",
       "      <th>4</th>\n",
       "      <td>66.0</td>\n",
       "      <td>418.74</td>\n",
       "      <td>1.0</td>\n",
       "      <td>14502.75</td>\n",
       "      <td>0</td>\n",
       "    </tr>\n",
       "  </tbody>\n",
       "</table>\n",
       "</div>"
      ],
      "text/plain": [
       "   calls  minutes  messages   mb_used  is_ultra\n",
       "0   40.0   311.90      83.0  19915.42         0\n",
       "1   85.0   516.75      56.0  22696.96         0\n",
       "2   77.0   467.66      86.0  21060.45         0\n",
       "3  106.0   745.53      81.0   8437.39         1\n",
       "4   66.0   418.74       1.0  14502.75         0"
      ]
     },
     "metadata": {},
     "output_type": "display_data"
    }
   ],
   "source": [
    "# Mostrar primeras filas\n",
    "print(\"📊 Vista previa del conjunto de datos:\")\n",
    "display(df.head())"
   ]
  },
  {
   "cell_type": "code",
   "execution_count": 5,
   "metadata": {},
   "outputs": [
    {
     "name": "stdout",
     "output_type": "stream",
     "text": [
      "\n",
      "ℹ️ Información del DataFrame:\n",
      "<class 'pandas.core.frame.DataFrame'>\n",
      "RangeIndex: 3214 entries, 0 to 3213\n",
      "Data columns (total 5 columns):\n",
      " #   Column    Non-Null Count  Dtype  \n",
      "---  ------    --------------  -----  \n",
      " 0   calls     3214 non-null   float64\n",
      " 1   minutes   3214 non-null   float64\n",
      " 2   messages  3214 non-null   float64\n",
      " 3   mb_used   3214 non-null   float64\n",
      " 4   is_ultra  3214 non-null   int64  \n",
      "dtypes: float64(4), int64(1)\n",
      "memory usage: 125.7 KB\n"
     ]
    }
   ],
   "source": [
    "# Info general\n",
    "print(\"\\nℹ️ Información del DataFrame:\")\n",
    "df.info()"
   ]
  },
  {
   "cell_type": "markdown",
   "metadata": {},
   "source": [
    "Cada fila del conjunto de datos representa el comportamiento mensual de un cliente e incluye las siguientes variables:\n",
    "\n",
    "calls: número de llamadas realizadas.\n",
    "\n",
    "minutes: duración total en minutos de las llamadas.\n",
    "\n",
    "messages: número de mensajes de texto enviados.\n",
    "\n",
    "mb_used: megabytes utilizados de Internet.\n",
    "\n",
    "is_ultra: variable objetivo (1 = plan Ultra, 0 = plan Smart)."
   ]
  },
  {
   "cell_type": "code",
   "execution_count": 6,
   "metadata": {},
   "outputs": [
    {
     "name": "stdout",
     "output_type": "stream",
     "text": [
      "\n",
      "📈 Estadísticas descriptivas:\n"
     ]
    },
    {
     "data": {
      "text/html": [
       "<div>\n",
       "<style scoped>\n",
       "    .dataframe tbody tr th:only-of-type {\n",
       "        vertical-align: middle;\n",
       "    }\n",
       "\n",
       "    .dataframe tbody tr th {\n",
       "        vertical-align: top;\n",
       "    }\n",
       "\n",
       "    .dataframe thead th {\n",
       "        text-align: right;\n",
       "    }\n",
       "</style>\n",
       "<table border=\"1\" class=\"dataframe\">\n",
       "  <thead>\n",
       "    <tr style=\"text-align: right;\">\n",
       "      <th></th>\n",
       "      <th>calls</th>\n",
       "      <th>minutes</th>\n",
       "      <th>messages</th>\n",
       "      <th>mb_used</th>\n",
       "      <th>is_ultra</th>\n",
       "    </tr>\n",
       "  </thead>\n",
       "  <tbody>\n",
       "    <tr>\n",
       "      <th>count</th>\n",
       "      <td>3214.000000</td>\n",
       "      <td>3214.000000</td>\n",
       "      <td>3214.000000</td>\n",
       "      <td>3214.000000</td>\n",
       "      <td>3214.000000</td>\n",
       "    </tr>\n",
       "    <tr>\n",
       "      <th>mean</th>\n",
       "      <td>63.038892</td>\n",
       "      <td>438.208787</td>\n",
       "      <td>38.281269</td>\n",
       "      <td>17207.673836</td>\n",
       "      <td>0.306472</td>\n",
       "    </tr>\n",
       "    <tr>\n",
       "      <th>std</th>\n",
       "      <td>33.236368</td>\n",
       "      <td>234.569872</td>\n",
       "      <td>36.148326</td>\n",
       "      <td>7570.968246</td>\n",
       "      <td>0.461100</td>\n",
       "    </tr>\n",
       "    <tr>\n",
       "      <th>min</th>\n",
       "      <td>0.000000</td>\n",
       "      <td>0.000000</td>\n",
       "      <td>0.000000</td>\n",
       "      <td>0.000000</td>\n",
       "      <td>0.000000</td>\n",
       "    </tr>\n",
       "    <tr>\n",
       "      <th>25%</th>\n",
       "      <td>40.000000</td>\n",
       "      <td>274.575000</td>\n",
       "      <td>9.000000</td>\n",
       "      <td>12491.902500</td>\n",
       "      <td>0.000000</td>\n",
       "    </tr>\n",
       "    <tr>\n",
       "      <th>50%</th>\n",
       "      <td>62.000000</td>\n",
       "      <td>430.600000</td>\n",
       "      <td>30.000000</td>\n",
       "      <td>16943.235000</td>\n",
       "      <td>0.000000</td>\n",
       "    </tr>\n",
       "    <tr>\n",
       "      <th>75%</th>\n",
       "      <td>82.000000</td>\n",
       "      <td>571.927500</td>\n",
       "      <td>57.000000</td>\n",
       "      <td>21424.700000</td>\n",
       "      <td>1.000000</td>\n",
       "    </tr>\n",
       "    <tr>\n",
       "      <th>max</th>\n",
       "      <td>244.000000</td>\n",
       "      <td>1632.060000</td>\n",
       "      <td>224.000000</td>\n",
       "      <td>49745.730000</td>\n",
       "      <td>1.000000</td>\n",
       "    </tr>\n",
       "  </tbody>\n",
       "</table>\n",
       "</div>"
      ],
      "text/plain": [
       "             calls      minutes     messages       mb_used     is_ultra\n",
       "count  3214.000000  3214.000000  3214.000000   3214.000000  3214.000000\n",
       "mean     63.038892   438.208787    38.281269  17207.673836     0.306472\n",
       "std      33.236368   234.569872    36.148326   7570.968246     0.461100\n",
       "min       0.000000     0.000000     0.000000      0.000000     0.000000\n",
       "25%      40.000000   274.575000     9.000000  12491.902500     0.000000\n",
       "50%      62.000000   430.600000    30.000000  16943.235000     0.000000\n",
       "75%      82.000000   571.927500    57.000000  21424.700000     1.000000\n",
       "max     244.000000  1632.060000   224.000000  49745.730000     1.000000"
      ]
     },
     "metadata": {},
     "output_type": "display_data"
    }
   ],
   "source": [
    "# Estadísticas descriptivas\n",
    "print(\"\\n📈 Estadísticas descriptivas:\")\n",
    "display(df.describe())"
   ]
  },
  {
   "cell_type": "code",
   "execution_count": 7,
   "metadata": {},
   "outputs": [
    {
     "name": "stdout",
     "output_type": "stream",
     "text": [
      "\n",
      "🔍 Registros duplicados: 0\n"
     ]
    }
   ],
   "source": [
    "# Duplicados\n",
    "print(f\"\\n🔍 Registros duplicados: {df.duplicated().sum()}\")"
   ]
  },
  {
   "cell_type": "markdown",
   "metadata": {},
   "source": [
    "Las variables están bien distribuidas y no presentan valores nulos.\n",
    "\n",
    "Hay valores mínimos en cero, lo que indica usuarios que no usaron llamadas, mensajes o internet en algún mes. Esto es importante al entrenar el modelo (no necesariamente es un error).\n",
    "\n",
    "La variable is_ultra tiene una media de ~0.306, lo cual sugiere un desbalance moderado en las clases (alrededor del 30% de los usuarios usan el plan Ultra).\n",
    "\n",
    "No se encontraron registros duplicados, lo cual garantiza que los datos no están inflados ni sesgados por repeticiones."
   ]
  },
  {
   "cell_type": "markdown",
   "metadata": {},
   "source": [
    "<div class=\"alert alert-block alert-success\">\n",
    "<b>Comentario del revisor (1ra Iteracion)</b> <a class=“tocSkip”></a>\n",
    "\n",
    "Buen trabajo con la exploración inicial de los datos para entender con lo que trabajarás\n",
    "</div>"
   ]
  },
  {
   "cell_type": "markdown",
   "metadata": {},
   "source": [
    "# 3. ENTRENAMIENTO, VALIDACIÓN Y PRUEBA"
   ]
  },
  {
   "cell_type": "code",
   "execution_count": 8,
   "metadata": {
    "scrolled": true
   },
   "outputs": [
    {
     "name": "stdout",
     "output_type": "stream",
     "text": [
      "\n",
      "📐 Tamaños de los conjuntos:\n",
      "Entrenamiento: 1928\n",
      "Validación: 643\n",
      "Prueba: 643\n"
     ]
    }
   ],
   "source": [
    "# Separar características (X) y etiqueta (y)\n",
    "X = df.drop('is_ultra', axis=1)\n",
    "y = df['is_ultra']\n",
    "\n",
    "# División en conjunto de entrenamiento, validación y prueba\n",
    "X_temp, X_test, y_temp, y_test = train_test_split(X, y, test_size=0.20, random_state=42)\n",
    "X_train, X_valid, y_train, y_valid = train_test_split(X_temp, y_temp, test_size=0.25, random_state=42)  # 0.25 de 0.8 = 0.2\n",
    "\n",
    "print(f\"\\n📐 Tamaños de los conjuntos:\\nEntrenamiento: {len(X_train)}\\nValidación: {len(X_valid)}\\nPrueba: {len(X_test)}\")\n"
   ]
  },
  {
   "cell_type": "markdown",
   "metadata": {},
   "source": [
    "<div class=\"alert alert-block alert-success\">\n",
    "<b>Comentario del revisor (1ra Iteracion)</b> <a class=“tocSkip”></a>\n",
    "\n",
    "Muy bien realizada la división de los datos para evaluar correctamente los modelos\n",
    "</div>"
   ]
  },
  {
   "cell_type": "markdown",
   "metadata": {},
   "source": [
    "# 4. EVALUACIÓN DEL MODELO"
   ]
  },
  {
   "cell_type": "code",
   "execution_count": 9,
   "metadata": {},
   "outputs": [
    {
     "name": "stdout",
     "output_type": "stream",
     "text": [
      "\n",
      "🤖 Evaluación de modelos con parámetros por defecto:\n",
      "Árbol de Decisión: Accuracy en validación = 0.7309\n",
      "Random Forest: Accuracy en validación = 0.7947\n",
      "Regresión Logística: Accuracy en validación = 0.7201\n"
     ]
    }
   ],
   "source": [
    "def probar_modelo(modelo, nombre):\n",
    "    modelo.fit(X_train, y_train)\n",
    "    pred = modelo.predict(X_valid)\n",
    "    acc = accuracy_score(y_valid, pred)\n",
    "    print(f\"{nombre}: Accuracy en validación = {acc:.4f}\")\n",
    "    return acc\n",
    "\n",
    "print(\"\\n🤖 Evaluación de modelos con parámetros por defecto:\")\n",
    "modelos = [\n",
    "    (DecisionTreeClassifier(random_state=42), \"Árbol de Decisión\"),\n",
    "    (RandomForestClassifier(random_state=42), \"Random Forest\"),\n",
    "    (LogisticRegression(), \"Regresión Logística\")\n",
    "]\n",
    "\n",
    "resultados = {nombre: probar_modelo(modelo, nombre) for modelo, nombre in modelos}\n"
   ]
  },
  {
   "cell_type": "markdown",
   "metadata": {},
   "source": [
    "Se entrenaron tres modelos con hiperparámetros por defecto:\n",
    "\n",
    "Árbol de Decisión → 0.7309 de accuracy en validación\n",
    "\n",
    "Regresión Logística → 0.7201 de accuracy\n",
    "\n",
    "Random Forest → 0.7947 de accuracy\n",
    "\n",
    "El modelo con mejor desempeño fue Random Forest."
   ]
  },
  {
   "cell_type": "code",
   "execution_count": 10,
   "metadata": {},
   "outputs": [
    {
     "name": "stdout",
     "output_type": "stream",
     "text": [
      "\n",
      "✅ Mejor modelo: Random Forest\n",
      "\n",
      "🧪 Exactitud en el conjunto de prueba: 0.8103\n"
     ]
    }
   ],
   "source": [
    "# Seleccionar mejor modelo\n",
    "mejor_modelo_nombre = max(resultados, key=resultados.get)\n",
    "print(f\"\\n✅ Mejor modelo: {mejor_modelo_nombre}\")\n",
    "\n",
    "# Reentrenar con entrenamiento + validación para evaluación final\n",
    "X_final = pd.concat([X_train, X_valid])\n",
    "y_final = pd.concat([y_train, y_valid])\n",
    "\n",
    "if mejor_modelo_nombre == \"Árbol de Decisión\":\n",
    "    final_model = DecisionTreeClassifier(random_state=42)\n",
    "elif mejor_modelo_nombre == \"Random Forest\":\n",
    "    final_model = RandomForestClassifier(random_state=42)\n",
    "else:\n",
    "    final_model = LogisticRegression()\n",
    "\n",
    "final_model.fit(X_final, y_final)\n",
    "pred_test = final_model.predict(X_test)\n",
    "acc_test = accuracy_score(y_test, pred_test)\n",
    "\n",
    "print(f\"\\n🧪 Exactitud en el conjunto de prueba: {acc_test:.4f}\")\n"
   ]
  },
  {
   "cell_type": "markdown",
   "metadata": {},
   "source": [
    "El modelo ganador (Random Forest) se reentrenó con los conjuntos de entrenamiento y validación combinados. Luego fue probado con el conjunto de test, alcanzando una exactitud final de:\n",
    "\n",
    "✅ Accuracy en test: 0.8103"
   ]
  },
  {
   "cell_type": "code",
   "execution_count": 11,
   "metadata": {},
   "outputs": [
    {
     "name": "stdout",
     "output_type": "stream",
     "text": [
      "\n",
      "🧠 Prueba de cordura (primeros 5 ejemplos de test):\n",
      "Predicciones: [0 0 0 0 1]\n",
      "Reales      : [0 0 0 1 1]\n"
     ]
    }
   ],
   "source": [
    "# Revisar si predice razonablemente bien en extremos\n",
    "print(\"\\n🧠 Prueba de cordura (primeros 5 ejemplos de test):\")\n",
    "print(\"Predicciones:\", final_model.predict(X_test.head()))\n",
    "print(\"Reales      :\", y_test.head().values)\n"
   ]
  },
  {
   "cell_type": "markdown",
   "metadata": {},
   "source": [
    "Se evaluaron las primeras 5 observaciones del conjunto de prueba para verificar que las predicciones fuesen razonables."
   ]
  },
  {
   "cell_type": "markdown",
   "metadata": {},
   "source": [
    "<div class=\"alert alert-block alert-danger\">\n",
    "<b>Comentario del revisor (1ra Iteracion)</b> <a class=“tocSkip”></a>\n",
    "\n",
    "Tienes un muy buen avance en cuando a la parte del código, pero un notebook debe incluir también la redacción de las conclusiones de los pasos realizados y sobre todo las conclusiones finales de tu proyecto\n",
    "</div>"
   ]
  },
  {
   "cell_type": "markdown",
   "metadata": {},
   "source": [
    "# 5. CONCLUSIÓN GENERAL"
   ]
  },
  {
   "cell_type": "markdown",
   "metadata": {},
   "source": [
    "El modelo de clasificación desarrollado cumple con el objetivo del proyecto al superar el umbral de exactitud de 0.75, alcanzando un 81.03% en el conjunto de prueba. El modelo Random Forest resultó ser el más eficaz y robusto para identificar patrones de comportamiento y recomendar el plan óptimo para los usuarios.\n",
    "\n",
    "Esta solución puede ser implementada por Megaline como un sistema inteligente de recomendación para facilitar la transición de suscriptores a planes modernos, mejorando la segmentación y fidelización de clientes."
   ]
  },
  {
   "cell_type": "code",
   "execution_count": null,
   "metadata": {},
   "outputs": [],
   "source": []
  }
 ],
 "metadata": {
  "ExecuteTimeLog": [
   {
    "duration": 296,
    "start_time": "2025-04-13T07:32:55.988Z"
   },
   {
    "duration": 629,
    "start_time": "2025-04-13T07:34:03.732Z"
   },
   {
    "duration": 56,
    "start_time": "2025-04-13T07:34:41.451Z"
   },
   {
    "duration": 60,
    "start_time": "2025-04-13T07:35:19.490Z"
   },
   {
    "duration": 59,
    "start_time": "2025-04-13T07:35:42.938Z"
   },
   {
    "duration": 57,
    "start_time": "2025-04-13T07:36:02.183Z"
   },
   {
    "duration": 2,
    "start_time": "2025-04-13T07:36:20.353Z"
   },
   {
    "duration": 59,
    "start_time": "2025-04-13T07:36:22.262Z"
   },
   {
    "duration": 3,
    "start_time": "2025-04-13T07:36:31.076Z"
   },
   {
    "duration": 58,
    "start_time": "2025-04-13T07:36:32.689Z"
   },
   {
    "duration": 3,
    "start_time": "2025-04-13T07:36:40.895Z"
   },
   {
    "duration": 59,
    "start_time": "2025-04-13T07:36:42.739Z"
   },
   {
    "duration": 62,
    "start_time": "2025-04-13T07:38:01.266Z"
   },
   {
    "duration": 13,
    "start_time": "2025-04-13T07:38:23.481Z"
   },
   {
    "duration": 7,
    "start_time": "2025-04-13T07:43:15.683Z"
   },
   {
    "duration": 15,
    "start_time": "2025-04-13T07:43:17.336Z"
   },
   {
    "duration": 9,
    "start_time": "2025-04-13T07:43:27.735Z"
   },
   {
    "duration": 6,
    "start_time": "2025-04-13T07:43:50.128Z"
   },
   {
    "duration": 8,
    "start_time": "2025-04-13T07:44:00.763Z"
   },
   {
    "duration": 14,
    "start_time": "2025-04-13T07:44:25.937Z"
   },
   {
    "duration": 8,
    "start_time": "2025-04-13T07:44:28.125Z"
   },
   {
    "duration": 12,
    "start_time": "2025-04-13T07:44:28.952Z"
   },
   {
    "duration": 13,
    "start_time": "2025-04-13T07:44:39.323Z"
   },
   {
    "duration": 8,
    "start_time": "2025-04-13T07:44:43.298Z"
   },
   {
    "duration": 7,
    "start_time": "2025-04-13T07:45:18.556Z"
   },
   {
    "duration": 7,
    "start_time": "2025-04-13T07:45:23.474Z"
   },
   {
    "duration": 8,
    "start_time": "2025-04-13T07:46:03.534Z"
   },
   {
    "duration": 8,
    "start_time": "2025-04-13T07:46:48.258Z"
   },
   {
    "duration": 9,
    "start_time": "2025-04-13T07:48:00.585Z"
   },
   {
    "duration": 8,
    "start_time": "2025-04-13T07:48:23.163Z"
   },
   {
    "duration": 10,
    "start_time": "2025-04-13T07:48:31.166Z"
   },
   {
    "duration": 9,
    "start_time": "2025-04-13T07:48:37.722Z"
   },
   {
    "duration": 17,
    "start_time": "2025-04-13T07:48:56.626Z"
   },
   {
    "duration": 12,
    "start_time": "2025-04-13T07:49:27.478Z"
   },
   {
    "duration": 6,
    "start_time": "2025-04-13T07:49:39.091Z"
   },
   {
    "duration": 4,
    "start_time": "2025-04-13T07:50:10.391Z"
   },
   {
    "duration": 476,
    "start_time": "2025-04-13T07:51:39.466Z"
   },
   {
    "duration": 31,
    "start_time": "2025-04-13T07:51:55.180Z"
   },
   {
    "duration": 2,
    "start_time": "2025-04-13T07:56:09.973Z"
   },
   {
    "duration": 319,
    "start_time": "2025-04-14T09:25:41.722Z"
   },
   {
    "duration": 496,
    "start_time": "2025-04-14T09:26:04.529Z"
   },
   {
    "duration": 2,
    "start_time": "2025-04-14T09:26:19.844Z"
   },
   {
    "duration": 147,
    "start_time": "2025-04-14T09:26:48.246Z"
   },
   {
    "duration": 12,
    "start_time": "2025-04-14T09:27:04.424Z"
   },
   {
    "duration": 9,
    "start_time": "2025-04-14T09:27:14.688Z"
   },
   {
    "duration": 231,
    "start_time": "2025-04-14T09:27:20.817Z"
   },
   {
    "duration": 9,
    "start_time": "2025-04-14T09:27:26.805Z"
   },
   {
    "duration": 18,
    "start_time": "2025-04-14T09:27:35.809Z"
   },
   {
    "duration": 5,
    "start_time": "2025-04-14T09:27:51.564Z"
   },
   {
    "duration": 8,
    "start_time": "2025-04-14T09:28:17.749Z"
   },
   {
    "duration": 8,
    "start_time": "2025-04-14T09:28:27.827Z"
   },
   {
    "duration": 8,
    "start_time": "2025-04-14T09:28:46.646Z"
   },
   {
    "duration": 9,
    "start_time": "2025-04-14T09:28:58.684Z"
   },
   {
    "duration": 18,
    "start_time": "2025-04-14T09:29:10.429Z"
   },
   {
    "duration": 7,
    "start_time": "2025-04-14T09:29:31.111Z"
   },
   {
    "duration": 288,
    "start_time": "2025-04-14T15:58:52.022Z"
   },
   {
    "duration": 485,
    "start_time": "2025-04-14T15:58:52.312Z"
   },
   {
    "duration": 14,
    "start_time": "2025-04-14T15:58:52.799Z"
   },
   {
    "duration": 12,
    "start_time": "2025-04-14T15:58:52.815Z"
   },
   {
    "duration": 8,
    "start_time": "2025-04-14T15:58:52.829Z"
   },
   {
    "duration": 31,
    "start_time": "2025-04-14T15:58:52.839Z"
   },
   {
    "duration": 4,
    "start_time": "2025-04-14T15:58:52.871Z"
   },
   {
    "duration": 6,
    "start_time": "2025-04-14T15:58:52.877Z"
   },
   {
    "duration": 340,
    "start_time": "2025-04-14T15:59:15.673Z"
   },
   {
    "duration": 408,
    "start_time": "2025-04-14T15:59:29.363Z"
   },
   {
    "duration": 11,
    "start_time": "2025-04-14T15:59:40.005Z"
   },
   {
    "duration": 11,
    "start_time": "2025-04-17T14:40:34.472Z"
   }
  ],
  "kernelspec": {
   "display_name": "Python 3 (ipykernel)",
   "language": "python",
   "name": "python3"
  },
  "language_info": {
   "codemirror_mode": {
    "name": "ipython",
    "version": 3
   },
   "file_extension": ".py",
   "mimetype": "text/x-python",
   "name": "python",
   "nbconvert_exporter": "python",
   "pygments_lexer": "ipython3",
   "version": "3.9.19"
  },
  "toc": {
   "base_numbering": 1,
   "nav_menu": {},
   "number_sections": true,
   "sideBar": true,
   "skip_h1_title": true,
   "title_cell": "Table of Contents",
   "title_sidebar": "Contents",
   "toc_cell": false,
   "toc_position": {},
   "toc_section_display": true,
   "toc_window_display": true
  }
 },
 "nbformat": 4,
 "nbformat_minor": 2
}
