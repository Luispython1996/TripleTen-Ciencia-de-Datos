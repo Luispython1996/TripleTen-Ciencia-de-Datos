{
 "cells": [
  {
   "cell_type": "markdown",
   "metadata": {},
   "source": [
    "# ¡Hola Osvaldo!\n",
    "\n",
    "Mi nombre es Ezequiel Ferrario, soy code reviewer en Tripleten y tengo el agrado de revisar el proyecto que entregaste.\n",
    "\n",
    "Para simular la dinámica de un ambiente de trabajo, si veo algún error, en primer instancia solo los señalaré, dándote la oportunidad de encontrarlos y corregirlos por tu cuenta. En un trabajo real, el líder de tu equipo hará una dinámica similar. En caso de que no puedas resolver la tarea, te daré una información más precisa en la próxima revisión.\n",
    "\n",
    "Encontrarás mis comentarios más abajo - **por favor, no los muevas, no los modifiques ni los borres**.\n",
    "\n",
    "¿Cómo lo voy a hacer? Voy a leer detenidamente cada una de las implementaciones que has llevado a cabo para cumplir con lo solicitado. Verás los comentarios de esta forma:\n",
    "\n",
    "<div class=\"alert alert-block alert-success\">\n",
    "<b>Comentario del revisor</b> <a class=\"tocSkip\"></a>\n",
    "\n",
    "Si todo está perfecto.\n",
    "</div>\n",
    "\n",
    "\n",
    "<div class=\"alert alert-block alert-warning\">\n",
    "<b>Comentario del revisor</b> <a class=\"tocSkip\"></a>\n",
    "\n",
    "Si tu código está bien pero se puede mejorar o hay algún detalle que le hace falta. Se aceptan uno o dos comentarios de este tipo en el borrador, pero si hay más, deberá hacer las correcciones. Es como una tarea de prueba al solicitar un trabajo: muchos pequeños errores pueden hacer que un candidato sea rechazado.\n",
    "</div>\n",
    "\n",
    "<div class=\"alert alert-block alert-danger\">\n",
    "\n",
    "<b>Comentario del revisor</b> <a class=\"tocSkip\"></a>\n",
    "\n",
    "Si de pronto hace falta algo o existe algún problema con tu código o conclusiones.\n",
    "</div>\n",
    "\n",
    "Puedes responderme de esta forma:\n",
    "<!--  -->\n",
    "<div class=\"alert alert-block alert-info\">\n",
    "<b>Respuesta del estudiante</b> <a class=\"tocSkip\"></a>\n",
    "\n",
    "Hola, muchas gracias por tus comentarios y la revisión.\n",
    "</div>\n",
    "\n",
    "¡Empecemos!"
   ]
  },
  {
   "cell_type": "markdown",
   "metadata": {},
   "source": [
    "---------------\n",
    "\n",
    "<div class=\"alert alert-block alert-danger\">\n",
    "\n",
    "<b>Comentario general #1</b> <a class=\"tocSkip\"></a>\n",
    "\n",
    "Osvaldo, hiciste un buen proyecto donde en general completaste muy bien todo lo que se requeria.\n",
    "    \n",
    "  Utilizaste muy bien los distintos metodos y lograste buenos graficos.\n",
    "    \n",
    "La prueba fue bien manejada y    asi, restan las correcciones que en general son para estructurar el proyecto y dejarlo lo mas profesional posible.\n",
    "    \n",
    "  Quedo atento a tu correccion, saludos.\n",
    "\n",
    "\n",
    "</div>\n",
    "\n",
    "-----------\n",
    "\n",
    "---------------\n",
    "\n",
    "<div class=\"alert alert-block alert-danger\">\n",
    "\n",
    "<b>Comentario general #2</b> <a class=\"tocSkip\"></a>\n",
    "\n",
    "Osvaldo, se mantienen todas las correcciones.\n",
    "    \n",
    "  Recorda guardar el proyecto antes de entregarlo.\n",
    "    \n",
    "  Espero la correccion, saludos.\n",
    "\n",
    "\n",
    "</div>\n",
    "\n",
    "-----------\n",
    "\n",
    "<div class=\"alert alert-block alert-danger\">\n",
    "\n",
    "<b>Comentario general #3</b> <a class=\"tocSkip\"></a>\n",
    "\n",
    "Osvaldo, manejaste bien los titulos de la carga del dataset.\n",
    "    \n",
    "Asi, el resto de las correcciones se mantienen.\n",
    "    \n",
    " Quedo al pendiente.\n",
    " \n",
    "\n",
    "\n",
    "</div>\n",
    "\n",
    "---\n",
    "\n",
    "\n",
    "<div class=\"alert alert-block alert-danger\">\n",
    "\n",
    "<b>Comentario general #4</b> <a class=\"tocSkip\"></a>\n",
    "\n",
    "Osvaldo, abarcaste varias correcciones de buena manera y otras se mantienen. Estas ultimas, en cada punto te deje una guia o recuerdo de que hacer.\n",
    "\n",
    "    \n",
    " El proyecto a nivel general esta muy bien y restan minimos detalles por corregir.\n",
    "    \n",
    "    \n",
    "Saludos.\n",
    "\n",
    "</div>\n",
    "\n",
    "---\n",
    "\n",
    "<div class=\"alert alert-block alert-success\">\n",
    "\n",
    "<b>Comentario  general #5</b> <a class=\"tocSkip\"></a>\n",
    "\n",
    "Osvaldo, todos los detalles restantes fueron bien ralizados y es asi que este proyecto llega a su fin.\n",
    "    \n",
    "  Me encanto leer tu conclusion general y es asi que este trabajo pasa a estar **aprobado**.\n",
    "    \n",
    "  Exitos en lo que viene, saludos.\n",
    "</div>\n",
    "\n",
    "----"
   ]
  },
  {
   "cell_type": "markdown",
   "metadata": {},
   "source": [
    "# Exploración de Datos del Transporte en Taxi de Chicago: Frecuencia, Localización y Clima"
   ]
  },
  {
   "cell_type": "markdown",
   "metadata": {},
   "source": [
    "Este proyecto realiza un análisis exploratorio de datos enfocado en los viajes en taxi realizados en la ciudad de Chicago durante noviembre de 2017. Se trabajó con tres fuentes de datos que incluyen información sobre compañías de taxis, barrios de destino y condiciones climáticas, permitiendo estudiar el comportamiento del servicio desde distintos ángulos.\n",
    "\n",
    "Se analizaron las empresas con mayor volumen de viajes, así como los barrios más frecuentemente utilizados como destino, destacando zonas como Loop y River North. También se revisaron los datos climáticos, identificando que la mayoría de los viajes se realizaron bajo condiciones favorables (Good), aunque existieron registros significativos bajo condiciones adversas (Bad).\n",
    "\n",
    "Se realizó una prueba de hipótesis con la prueba t de Welch, comparando la duración promedio de los viajes en sábados con clima bueno versus clima malo. El resultado arrojó un p-valor menor a 0.05, lo que permitió rechazar la hipótesis nula y concluir que las condiciones climáticas sí afectan significativamente la duración promedio de los viajes.\n",
    "\n",
    "Este análisis proporciona una visión integral del comportamiento del transporte en taxi durante el periodo analizado y demuestra cómo factores externos como el clima pueden influir en la eficiencia del servicio."
   ]
  },
  {
   "cell_type": "markdown",
   "metadata": {},
   "source": [
    "<div class=\"alert alert-block alert-danger\">\n",
    "\n",
    "<b>Comentario del revisor</b> <a class=\"tocSkip\"></a>\n",
    "\n",
    "Hace una tabla de contenidos que este  linkeada a las secciones (al clickear debe llevarnos a esa seccion) de esta manera es mas facil desplazarse.\n",
    "\n",
    "Como consejo, si realizas bien todas las secciones (con su respectivo ##) podes generarlo automáticamente desde jupyter lab. Para hacerlo, en la pestaña de herramientas de jupyter lab clickeas en el **botón de los puntos y barras**  (Table of contents) te generara automáticamente una tabla de contenidos linkeable y estética. A la **derecha** del seleccionador del tipo de celda (code/markdown)</div>\n",
    "\n",
    "<div class=\"alert alert-block alert-danger\">\n",
    "\n",
    "<b>Comentario del revisor</b> <a class=\"tocSkip\"></a>\n",
    "\n",
    "Osvaldo, recorda realizar una introduccion al proyecto, explicando los objetivos y explicando de que se trata. Esto es muy importante de hacer para asentar las bases del proyecto, ademas de dejar en claro que se busca. A partir de una mirada a la introduccion ya entenderemos que buscamos con el proyecto.</div>\n",
    "    \n",
    "<div class=\"alert alert-block alert-danger\">\n",
    "\n",
    "<b>Comentario del revisor #2</b> <a class=\"tocSkip\"></a>\n",
    "\n",
    "Se mantiene la correccion.\n",
    "</div>\n",
    "\n",
    "\n",
    "    \n",
    "<div class=\"alert alert-block alert-success\">\n",
    "\n",
    "<b>Comentario del revisor #4</b> <a class=\"tocSkip\"></a>\n",
    "\n",
    "Corregidos ambos de forma perfecta.\n",
    "\n",
    "</div>"
   ]
  },
  {
   "cell_type": "markdown",
   "metadata": {},
   "source": [
    "## 📑 Índice del Proyecto\n",
    "\n",
    "1. [IMPORTACIÓN DE LIBRERIAS Y CARGA DE DATASETS](#IMPORTACIÓN-DE-LIBRERIAS-Y-CARGA-DE-DATASETS)\n",
    "2. [EXPLORACIÓN INICIAL DE DATOS](#EXPLORACIÓN-INICIAL-DE-DATOS)\n",
    "3. [ESTADÍSTICA DESCRIPTIVA](#ESTADÍSTICA-DESCRIPTIVA)\n",
    "4. [LIMPIEZA DE DATOS](#LIMPIEZA-DE-DATOS)\n",
    "5. [ANÁLISIS DE BARRIOS - TOP 10 POR PROMEDIO DE VIAJES](#ANÁLISIS-DE-BARRIOS---TOP-10-POR-PROMEDIO-DE-VIAJES)\n",
    "6. [ANÁLISIS DE EMPRESAS - TOP 15](#ANÁLISIS-DE-EMPRESAS---TOP-15)\n",
    "7. [CONDICIONES CLIMÁTICAS](#CONDICIONES-CLIMÁTICAS)\n",
    "8. [PRUEBA DE HIPÓTESIS](#PRUEBA-DE-HIPÓTESIS)\n",
    "9. [CONCLUSIÓN GENERAL](#CONCLUSIÓN-GENERAL)"
   ]
  },
  {
   "cell_type": "markdown",
   "metadata": {},
   "source": [
    "<div class=\"alert alert-block alert-danger\">\n",
    "\n",
    "<b>Comentario del revisor</b> <a class=\"tocSkip\"></a>\n",
    "\n",
    "Crea una seccion (Titulo) que se llame Carga de datasets e importacion de librerias (o el titulo que quieras pero que refiera a este punto). Es importante a nivel estructura que quede claro que parte se realizan ambas cosas.</div>\n",
    "\n",
    "<div class=\"alert alert-block alert-success\">\n",
    "\n",
    "<b>Comentario del revisor #2</b> <a class=\"tocSkip\"></a>\n",
    "\n",
    "Corregido.\n",
    "\n",
    "</div>"
   ]
  },
  {
   "cell_type": "markdown",
   "metadata": {},
   "source": [
    "# 1. IMPORTACIÓN DE LIBRERIAS Y CARGA DE DATASETS"
   ]
  },
  {
   "cell_type": "code",
   "execution_count": 1,
   "metadata": {},
   "outputs": [],
   "source": [
    "import pandas as pd\n",
    "import matplotlib.pyplot as plt\n",
    "from scipy import stats\n",
    "import seaborn as sns\n",
    "from scipy.stats import levene"
   ]
  },
  {
   "cell_type": "code",
   "execution_count": 2,
   "metadata": {},
   "outputs": [],
   "source": [
    "# Cargar archivos CSV\n",
    "df_companies = pd.read_csv('/datasets/project_sql_result_01.csv')\n",
    "df_neighborhoods = pd.read_csv('/datasets/project_sql_result_04.csv')\n",
    "df_weather = pd.read_csv('/datasets/project_sql_result_07.csv')"
   ]
  },
  {
   "cell_type": "markdown",
   "metadata": {},
   "source": [
    "Se cargaron correctamente los tres datasets y se importaron las librerías necesarias para análisis y visualización. No se presentaron errores de formato ni tipos de datos al momento de la carga."
   ]
  },
  {
   "cell_type": "markdown",
   "metadata": {},
   "source": [
    "<div class=\"alert alert-block alert-danger\">\n",
    "\n",
    "<b>Comentario del revisor</b> <a class=\"tocSkip\"></a>\n",
    "\n",
    "Respetando las buenas practicas, dividi las celdas.\n",
    "\n",
    "Una celda dedicala **exclusivamente** para la importacion de la librerias. La otra dedicala para la carga del dataset.\n",
    "\n",
    " Otra para realizar el head().\n",
    "    \n",
    "Esto mejorara la organización y legibilidad del código, ademas de facilitar el manejo de errores, depurar, y reutilizar secciones sin afectar otras. </div>\n",
    "\n",
    "<div class=\"alert alert-block alert-success\">\n",
    "\n",
    "<b>Comentario del revisor #2</b> <a class=\"tocSkip\"></a>\n",
    "\n",
    " Corregido, perfecto. </div>"
   ]
  },
  {
   "cell_type": "markdown",
   "metadata": {},
   "source": [
    "# EXPLORACIÓN INICIAL DE DATOS"
   ]
  },
  {
   "cell_type": "code",
   "execution_count": 3,
   "metadata": {},
   "outputs": [
    {
     "name": "stdout",
     "output_type": "stream",
     "text": [
      "📊 Empresas de taxis:\n"
     ]
    },
    {
     "data": {
      "text/html": [
       "<div>\n",
       "<style scoped>\n",
       "    .dataframe tbody tr th:only-of-type {\n",
       "        vertical-align: middle;\n",
       "    }\n",
       "\n",
       "    .dataframe tbody tr th {\n",
       "        vertical-align: top;\n",
       "    }\n",
       "\n",
       "    .dataframe thead th {\n",
       "        text-align: right;\n",
       "    }\n",
       "</style>\n",
       "<table border=\"1\" class=\"dataframe\">\n",
       "  <thead>\n",
       "    <tr style=\"text-align: right;\">\n",
       "      <th></th>\n",
       "      <th>company_name</th>\n",
       "      <th>trips_amount</th>\n",
       "    </tr>\n",
       "  </thead>\n",
       "  <tbody>\n",
       "    <tr>\n",
       "      <th>0</th>\n",
       "      <td>Flash Cab</td>\n",
       "      <td>19558</td>\n",
       "    </tr>\n",
       "    <tr>\n",
       "      <th>1</th>\n",
       "      <td>Taxi Affiliation Services</td>\n",
       "      <td>11422</td>\n",
       "    </tr>\n",
       "    <tr>\n",
       "      <th>2</th>\n",
       "      <td>Medallion Leasing</td>\n",
       "      <td>10367</td>\n",
       "    </tr>\n",
       "    <tr>\n",
       "      <th>3</th>\n",
       "      <td>Yellow Cab</td>\n",
       "      <td>9888</td>\n",
       "    </tr>\n",
       "    <tr>\n",
       "      <th>4</th>\n",
       "      <td>Taxi Affiliation Service Yellow</td>\n",
       "      <td>9299</td>\n",
       "    </tr>\n",
       "  </tbody>\n",
       "</table>\n",
       "</div>"
      ],
      "text/plain": [
       "                      company_name  trips_amount\n",
       "0                        Flash Cab         19558\n",
       "1        Taxi Affiliation Services         11422\n",
       "2                Medallion Leasing         10367\n",
       "3                       Yellow Cab          9888\n",
       "4  Taxi Affiliation Service Yellow          9299"
      ]
     },
     "metadata": {},
     "output_type": "display_data"
    },
    {
     "name": "stdout",
     "output_type": "stream",
     "text": [
      "\n",
      "📍 Barrios de finalización:\n"
     ]
    },
    {
     "data": {
      "text/html": [
       "<div>\n",
       "<style scoped>\n",
       "    .dataframe tbody tr th:only-of-type {\n",
       "        vertical-align: middle;\n",
       "    }\n",
       "\n",
       "    .dataframe tbody tr th {\n",
       "        vertical-align: top;\n",
       "    }\n",
       "\n",
       "    .dataframe thead th {\n",
       "        text-align: right;\n",
       "    }\n",
       "</style>\n",
       "<table border=\"1\" class=\"dataframe\">\n",
       "  <thead>\n",
       "    <tr style=\"text-align: right;\">\n",
       "      <th></th>\n",
       "      <th>dropoff_location_name</th>\n",
       "      <th>average_trips</th>\n",
       "    </tr>\n",
       "  </thead>\n",
       "  <tbody>\n",
       "    <tr>\n",
       "      <th>0</th>\n",
       "      <td>Loop</td>\n",
       "      <td>10727.466667</td>\n",
       "    </tr>\n",
       "    <tr>\n",
       "      <th>1</th>\n",
       "      <td>River North</td>\n",
       "      <td>9523.666667</td>\n",
       "    </tr>\n",
       "    <tr>\n",
       "      <th>2</th>\n",
       "      <td>Streeterville</td>\n",
       "      <td>6664.666667</td>\n",
       "    </tr>\n",
       "    <tr>\n",
       "      <th>3</th>\n",
       "      <td>West Loop</td>\n",
       "      <td>5163.666667</td>\n",
       "    </tr>\n",
       "    <tr>\n",
       "      <th>4</th>\n",
       "      <td>O'Hare</td>\n",
       "      <td>2546.900000</td>\n",
       "    </tr>\n",
       "  </tbody>\n",
       "</table>\n",
       "</div>"
      ],
      "text/plain": [
       "  dropoff_location_name  average_trips\n",
       "0                  Loop   10727.466667\n",
       "1           River North    9523.666667\n",
       "2         Streeterville    6664.666667\n",
       "3             West Loop    5163.666667\n",
       "4                O'Hare    2546.900000"
      ]
     },
     "metadata": {},
     "output_type": "display_data"
    },
    {
     "name": "stdout",
     "output_type": "stream",
     "text": [
      "\n",
      " 🌡️ Condiciones climáticas:\n"
     ]
    },
    {
     "data": {
      "text/html": [
       "<div>\n",
       "<style scoped>\n",
       "    .dataframe tbody tr th:only-of-type {\n",
       "        vertical-align: middle;\n",
       "    }\n",
       "\n",
       "    .dataframe tbody tr th {\n",
       "        vertical-align: top;\n",
       "    }\n",
       "\n",
       "    .dataframe thead th {\n",
       "        text-align: right;\n",
       "    }\n",
       "</style>\n",
       "<table border=\"1\" class=\"dataframe\">\n",
       "  <thead>\n",
       "    <tr style=\"text-align: right;\">\n",
       "      <th></th>\n",
       "      <th>start_ts</th>\n",
       "      <th>weather_conditions</th>\n",
       "      <th>duration_seconds</th>\n",
       "    </tr>\n",
       "  </thead>\n",
       "  <tbody>\n",
       "    <tr>\n",
       "      <th>0</th>\n",
       "      <td>2017-11-25 16:00:00</td>\n",
       "      <td>Good</td>\n",
       "      <td>2410.0</td>\n",
       "    </tr>\n",
       "    <tr>\n",
       "      <th>1</th>\n",
       "      <td>2017-11-25 14:00:00</td>\n",
       "      <td>Good</td>\n",
       "      <td>1920.0</td>\n",
       "    </tr>\n",
       "    <tr>\n",
       "      <th>2</th>\n",
       "      <td>2017-11-25 12:00:00</td>\n",
       "      <td>Good</td>\n",
       "      <td>1543.0</td>\n",
       "    </tr>\n",
       "    <tr>\n",
       "      <th>3</th>\n",
       "      <td>2017-11-04 10:00:00</td>\n",
       "      <td>Good</td>\n",
       "      <td>2512.0</td>\n",
       "    </tr>\n",
       "    <tr>\n",
       "      <th>4</th>\n",
       "      <td>2017-11-11 07:00:00</td>\n",
       "      <td>Good</td>\n",
       "      <td>1440.0</td>\n",
       "    </tr>\n",
       "  </tbody>\n",
       "</table>\n",
       "</div>"
      ],
      "text/plain": [
       "              start_ts weather_conditions  duration_seconds\n",
       "0  2017-11-25 16:00:00               Good            2410.0\n",
       "1  2017-11-25 14:00:00               Good            1920.0\n",
       "2  2017-11-25 12:00:00               Good            1543.0\n",
       "3  2017-11-04 10:00:00               Good            2512.0\n",
       "4  2017-11-11 07:00:00               Good            1440.0"
      ]
     },
     "metadata": {},
     "output_type": "display_data"
    }
   ],
   "source": [
    "# Vista previa\n",
    "print(\"📊 Empresas de taxis:\")\n",
    "display(df_companies.head())\n",
    "\n",
    "print(\"\\n📍 Barrios de finalización:\")\n",
    "display(df_neighborhoods.head())\n",
    "\n",
    "print(\"\\n 🌡️ Condiciones climáticas:\")\n",
    "display(df_weather.head())"
   ]
  },
  {
   "cell_type": "markdown",
   "metadata": {},
   "source": [
    "<div class=\"alert alert-block alert-danger\">\n",
    "\n",
    "<b>Comentario del revisor</b> <a class=\"tocSkip\"></a>\n",
    "\n",
    "Crea una seccion (Con #) que haga referencia a la exploracion inicial de datos, asi queda clara cada seccion del proyecto.</div>\n",
    "\n",
    "<div class=\"alert alert-block alert-success\">\n",
    "\n",
    "<b>Comentario del revisor #2</b> <a class=\"tocSkip\"></a>\n",
    "\n",
    " Corregido.\n",
    "\n",
    "</div>"
   ]
  },
  {
   "cell_type": "code",
   "execution_count": 4,
   "metadata": {},
   "outputs": [
    {
     "name": "stdout",
     "output_type": "stream",
     "text": [
      "🛠️ Info de df_companies:\n",
      "<class 'pandas.core.frame.DataFrame'>\n",
      "RangeIndex: 64 entries, 0 to 63\n",
      "Data columns (total 2 columns):\n",
      " #   Column        Non-Null Count  Dtype \n",
      "---  ------        --------------  ----- \n",
      " 0   company_name  64 non-null     object\n",
      " 1   trips_amount  64 non-null     int64 \n",
      "dtypes: int64(1), object(1)\n",
      "memory usage: 1.1+ KB\n",
      "\n",
      "🛠️ Info de df_neighborhoods:\n",
      "<class 'pandas.core.frame.DataFrame'>\n",
      "RangeIndex: 94 entries, 0 to 93\n",
      "Data columns (total 2 columns):\n",
      " #   Column                 Non-Null Count  Dtype  \n",
      "---  ------                 --------------  -----  \n",
      " 0   dropoff_location_name  94 non-null     object \n",
      " 1   average_trips          94 non-null     float64\n",
      "dtypes: float64(1), object(1)\n",
      "memory usage: 1.6+ KB\n",
      "\n",
      " 🌡️ Info de Condiciones climáticas:\n",
      "<class 'pandas.core.frame.DataFrame'>\n",
      "RangeIndex: 1068 entries, 0 to 1067\n",
      "Data columns (total 3 columns):\n",
      " #   Column              Non-Null Count  Dtype  \n",
      "---  ------              --------------  -----  \n",
      " 0   start_ts            1068 non-null   object \n",
      " 1   weather_conditions  1068 non-null   object \n",
      " 2   duration_seconds    1068 non-null   float64\n",
      "dtypes: float64(1), object(2)\n",
      "memory usage: 25.2+ KB\n"
     ]
    },
    {
     "data": {
      "text/plain": [
       "None"
      ]
     },
     "metadata": {},
     "output_type": "display_data"
    }
   ],
   "source": [
    "# Ver estructura general de los DataFrames\n",
    "print(\"🛠️ Info de df_companies:\")\n",
    "df_companies.info()\n",
    "\n",
    "print(\"\\n🛠️ Info de df_neighborhoods:\")\n",
    "df_neighborhoods.info()\n",
    "\n",
    "print(\"\\n 🌡️ Info de Condiciones climáticas:\")\n",
    "display(df_weather.info())"
   ]
  },
  {
   "cell_type": "markdown",
   "metadata": {},
   "source": [
    "# ESTADÍSTICA DESCRIPTIVA"
   ]
  },
  {
   "cell_type": "code",
   "execution_count": 5,
   "metadata": {},
   "outputs": [
    {
     "data": {
      "text/html": [
       "<div>\n",
       "<style scoped>\n",
       "    .dataframe tbody tr th:only-of-type {\n",
       "        vertical-align: middle;\n",
       "    }\n",
       "\n",
       "    .dataframe tbody tr th {\n",
       "        vertical-align: top;\n",
       "    }\n",
       "\n",
       "    .dataframe thead th {\n",
       "        text-align: right;\n",
       "    }\n",
       "</style>\n",
       "<table border=\"1\" class=\"dataframe\">\n",
       "  <thead>\n",
       "    <tr style=\"text-align: right;\">\n",
       "      <th></th>\n",
       "      <th>trips_amount</th>\n",
       "    </tr>\n",
       "  </thead>\n",
       "  <tbody>\n",
       "    <tr>\n",
       "      <th>count</th>\n",
       "      <td>64.000000</td>\n",
       "    </tr>\n",
       "    <tr>\n",
       "      <th>mean</th>\n",
       "      <td>2145.484375</td>\n",
       "    </tr>\n",
       "    <tr>\n",
       "      <th>std</th>\n",
       "      <td>3812.310186</td>\n",
       "    </tr>\n",
       "    <tr>\n",
       "      <th>min</th>\n",
       "      <td>2.000000</td>\n",
       "    </tr>\n",
       "    <tr>\n",
       "      <th>25%</th>\n",
       "      <td>20.750000</td>\n",
       "    </tr>\n",
       "    <tr>\n",
       "      <th>50%</th>\n",
       "      <td>178.500000</td>\n",
       "    </tr>\n",
       "    <tr>\n",
       "      <th>75%</th>\n",
       "      <td>2106.500000</td>\n",
       "    </tr>\n",
       "    <tr>\n",
       "      <th>max</th>\n",
       "      <td>19558.000000</td>\n",
       "    </tr>\n",
       "  </tbody>\n",
       "</table>\n",
       "</div>"
      ],
      "text/plain": [
       "       trips_amount\n",
       "count     64.000000\n",
       "mean    2145.484375\n",
       "std     3812.310186\n",
       "min        2.000000\n",
       "25%       20.750000\n",
       "50%      178.500000\n",
       "75%     2106.500000\n",
       "max    19558.000000"
      ]
     },
     "execution_count": 5,
     "metadata": {},
     "output_type": "execute_result"
    }
   ],
   "source": [
    "df_companies.describe()"
   ]
  },
  {
   "cell_type": "code",
   "execution_count": 6,
   "metadata": {},
   "outputs": [
    {
     "data": {
      "text/html": [
       "<div>\n",
       "<style scoped>\n",
       "    .dataframe tbody tr th:only-of-type {\n",
       "        vertical-align: middle;\n",
       "    }\n",
       "\n",
       "    .dataframe tbody tr th {\n",
       "        vertical-align: top;\n",
       "    }\n",
       "\n",
       "    .dataframe thead th {\n",
       "        text-align: right;\n",
       "    }\n",
       "</style>\n",
       "<table border=\"1\" class=\"dataframe\">\n",
       "  <thead>\n",
       "    <tr style=\"text-align: right;\">\n",
       "      <th></th>\n",
       "      <th>average_trips</th>\n",
       "    </tr>\n",
       "  </thead>\n",
       "  <tbody>\n",
       "    <tr>\n",
       "      <th>count</th>\n",
       "      <td>94.000000</td>\n",
       "    </tr>\n",
       "    <tr>\n",
       "      <th>mean</th>\n",
       "      <td>599.953728</td>\n",
       "    </tr>\n",
       "    <tr>\n",
       "      <th>std</th>\n",
       "      <td>1714.591098</td>\n",
       "    </tr>\n",
       "    <tr>\n",
       "      <th>min</th>\n",
       "      <td>1.800000</td>\n",
       "    </tr>\n",
       "    <tr>\n",
       "      <th>25%</th>\n",
       "      <td>14.266667</td>\n",
       "    </tr>\n",
       "    <tr>\n",
       "      <th>50%</th>\n",
       "      <td>52.016667</td>\n",
       "    </tr>\n",
       "    <tr>\n",
       "      <th>75%</th>\n",
       "      <td>298.858333</td>\n",
       "    </tr>\n",
       "    <tr>\n",
       "      <th>max</th>\n",
       "      <td>10727.466667</td>\n",
       "    </tr>\n",
       "  </tbody>\n",
       "</table>\n",
       "</div>"
      ],
      "text/plain": [
       "       average_trips\n",
       "count      94.000000\n",
       "mean      599.953728\n",
       "std      1714.591098\n",
       "min         1.800000\n",
       "25%        14.266667\n",
       "50%        52.016667\n",
       "75%       298.858333\n",
       "max     10727.466667"
      ]
     },
     "execution_count": 6,
     "metadata": {},
     "output_type": "execute_result"
    }
   ],
   "source": [
    "df_neighborhoods.describe()"
   ]
  },
  {
   "cell_type": "code",
   "execution_count": 7,
   "metadata": {},
   "outputs": [
    {
     "data": {
      "text/html": [
       "<div>\n",
       "<style scoped>\n",
       "    .dataframe tbody tr th:only-of-type {\n",
       "        vertical-align: middle;\n",
       "    }\n",
       "\n",
       "    .dataframe tbody tr th {\n",
       "        vertical-align: top;\n",
       "    }\n",
       "\n",
       "    .dataframe thead th {\n",
       "        text-align: right;\n",
       "    }\n",
       "</style>\n",
       "<table border=\"1\" class=\"dataframe\">\n",
       "  <thead>\n",
       "    <tr style=\"text-align: right;\">\n",
       "      <th></th>\n",
       "      <th>duration_seconds</th>\n",
       "    </tr>\n",
       "  </thead>\n",
       "  <tbody>\n",
       "    <tr>\n",
       "      <th>count</th>\n",
       "      <td>1068.000000</td>\n",
       "    </tr>\n",
       "    <tr>\n",
       "      <th>mean</th>\n",
       "      <td>2071.731273</td>\n",
       "    </tr>\n",
       "    <tr>\n",
       "      <th>std</th>\n",
       "      <td>769.461125</td>\n",
       "    </tr>\n",
       "    <tr>\n",
       "      <th>min</th>\n",
       "      <td>0.000000</td>\n",
       "    </tr>\n",
       "    <tr>\n",
       "      <th>25%</th>\n",
       "      <td>1438.250000</td>\n",
       "    </tr>\n",
       "    <tr>\n",
       "      <th>50%</th>\n",
       "      <td>1980.000000</td>\n",
       "    </tr>\n",
       "    <tr>\n",
       "      <th>75%</th>\n",
       "      <td>2580.000000</td>\n",
       "    </tr>\n",
       "    <tr>\n",
       "      <th>max</th>\n",
       "      <td>7440.000000</td>\n",
       "    </tr>\n",
       "  </tbody>\n",
       "</table>\n",
       "</div>"
      ],
      "text/plain": [
       "       duration_seconds\n",
       "count       1068.000000\n",
       "mean        2071.731273\n",
       "std          769.461125\n",
       "min            0.000000\n",
       "25%         1438.250000\n",
       "50%         1980.000000\n",
       "75%         2580.000000\n",
       "max         7440.000000"
      ]
     },
     "execution_count": 7,
     "metadata": {},
     "output_type": "execute_result"
    }
   ],
   "source": [
    "df_weather.describe()"
   ]
  },
  {
   "cell_type": "markdown",
   "metadata": {},
   "source": [
    "Las métricas indican que:\n",
    "\n",
    "Algunas compañías tienen muy pocos viajes, mientras que otras superan los 19,000.\n",
    "\n",
    "Hay barrios con promedios muy bajos de finalización de viajes.\n",
    "\n",
    "En df_weather, hay valores extremos en duration_seconds, incluyendo viajes de duración 0.\n",
    "\n"
   ]
  },
  {
   "cell_type": "markdown",
   "metadata": {},
   "source": [
    "# LIMPIEZA DE DATOS"
   ]
  },
  {
   "cell_type": "code",
   "execution_count": 8,
   "metadata": {},
   "outputs": [
    {
     "data": {
      "text/plain": [
       "0"
      ]
     },
     "execution_count": 8,
     "metadata": {},
     "output_type": "execute_result"
    }
   ],
   "source": [
    "#Ver valores duplicados\n",
    "df_companies.duplicated().sum()\n"
   ]
  },
  {
   "cell_type": "code",
   "execution_count": 9,
   "metadata": {},
   "outputs": [
    {
     "data": {
      "text/plain": [
       "0"
      ]
     },
     "execution_count": 9,
     "metadata": {},
     "output_type": "execute_result"
    }
   ],
   "source": [
    "df_neighborhoods.duplicated().sum()"
   ]
  },
  {
   "cell_type": "code",
   "execution_count": 10,
   "metadata": {},
   "outputs": [
    {
     "data": {
      "text/plain": [
       "197"
      ]
     },
     "execution_count": 10,
     "metadata": {},
     "output_type": "execute_result"
    }
   ],
   "source": [
    "df_weather.duplicated().sum()"
   ]
  },
  {
   "cell_type": "code",
   "execution_count": 11,
   "metadata": {},
   "outputs": [
    {
     "data": {
      "text/html": [
       "<div>\n",
       "<style scoped>\n",
       "    .dataframe tbody tr th:only-of-type {\n",
       "        vertical-align: middle;\n",
       "    }\n",
       "\n",
       "    .dataframe tbody tr th {\n",
       "        vertical-align: top;\n",
       "    }\n",
       "\n",
       "    .dataframe thead th {\n",
       "        text-align: right;\n",
       "    }\n",
       "</style>\n",
       "<table border=\"1\" class=\"dataframe\">\n",
       "  <thead>\n",
       "    <tr style=\"text-align: right;\">\n",
       "      <th></th>\n",
       "      <th>start_ts</th>\n",
       "      <th>weather_conditions</th>\n",
       "      <th>duration_seconds</th>\n",
       "    </tr>\n",
       "  </thead>\n",
       "  <tbody>\n",
       "    <tr>\n",
       "      <th>62</th>\n",
       "      <td>2017-11-11 06:00:00</td>\n",
       "      <td>Good</td>\n",
       "      <td>1260.0</td>\n",
       "    </tr>\n",
       "    <tr>\n",
       "      <th>74</th>\n",
       "      <td>2017-11-11 08:00:00</td>\n",
       "      <td>Good</td>\n",
       "      <td>1380.0</td>\n",
       "    </tr>\n",
       "    <tr>\n",
       "      <th>76</th>\n",
       "      <td>2017-11-04 09:00:00</td>\n",
       "      <td>Good</td>\n",
       "      <td>1380.0</td>\n",
       "    </tr>\n",
       "    <tr>\n",
       "      <th>117</th>\n",
       "      <td>2017-11-11 07:00:00</td>\n",
       "      <td>Good</td>\n",
       "      <td>1380.0</td>\n",
       "    </tr>\n",
       "    <tr>\n",
       "      <th>119</th>\n",
       "      <td>2017-11-04 14:00:00</td>\n",
       "      <td>Good</td>\n",
       "      <td>3300.0</td>\n",
       "    </tr>\n",
       "    <tr>\n",
       "      <th>...</th>\n",
       "      <td>...</td>\n",
       "      <td>...</td>\n",
       "      <td>...</td>\n",
       "    </tr>\n",
       "    <tr>\n",
       "      <th>1054</th>\n",
       "      <td>2017-11-11 07:00:00</td>\n",
       "      <td>Good</td>\n",
       "      <td>1380.0</td>\n",
       "    </tr>\n",
       "    <tr>\n",
       "      <th>1058</th>\n",
       "      <td>2017-11-25 12:00:00</td>\n",
       "      <td>Good</td>\n",
       "      <td>1440.0</td>\n",
       "    </tr>\n",
       "    <tr>\n",
       "      <th>1062</th>\n",
       "      <td>2017-11-11 06:00:00</td>\n",
       "      <td>Good</td>\n",
       "      <td>1500.0</td>\n",
       "    </tr>\n",
       "    <tr>\n",
       "      <th>1065</th>\n",
       "      <td>2017-11-11 13:00:00</td>\n",
       "      <td>Good</td>\n",
       "      <td>2100.0</td>\n",
       "    </tr>\n",
       "    <tr>\n",
       "      <th>1066</th>\n",
       "      <td>2017-11-11 08:00:00</td>\n",
       "      <td>Good</td>\n",
       "      <td>1380.0</td>\n",
       "    </tr>\n",
       "  </tbody>\n",
       "</table>\n",
       "<p>197 rows × 3 columns</p>\n",
       "</div>"
      ],
      "text/plain": [
       "                 start_ts weather_conditions  duration_seconds\n",
       "62    2017-11-11 06:00:00               Good            1260.0\n",
       "74    2017-11-11 08:00:00               Good            1380.0\n",
       "76    2017-11-04 09:00:00               Good            1380.0\n",
       "117   2017-11-11 07:00:00               Good            1380.0\n",
       "119   2017-11-04 14:00:00               Good            3300.0\n",
       "...                   ...                ...               ...\n",
       "1054  2017-11-11 07:00:00               Good            1380.0\n",
       "1058  2017-11-25 12:00:00               Good            1440.0\n",
       "1062  2017-11-11 06:00:00               Good            1500.0\n",
       "1065  2017-11-11 13:00:00               Good            2100.0\n",
       "1066  2017-11-11 08:00:00               Good            1380.0\n",
       "\n",
       "[197 rows x 3 columns]"
      ]
     },
     "execution_count": 11,
     "metadata": {},
     "output_type": "execute_result"
    }
   ],
   "source": [
    "df_weather[df_weather.duplicated()]"
   ]
  },
  {
   "cell_type": "code",
   "execution_count": 12,
   "metadata": {},
   "outputs": [
    {
     "data": {
      "text/plain": [
       "Good    888\n",
       "Bad     180\n",
       "Name: weather_conditions, dtype: int64"
      ]
     },
     "execution_count": 12,
     "metadata": {},
     "output_type": "execute_result"
    }
   ],
   "source": [
    "df_weather['weather_conditions'].value_counts()\n"
   ]
  },
  {
   "cell_type": "code",
   "execution_count": 13,
   "metadata": {},
   "outputs": [
    {
     "data": {
      "text/html": [
       "<div>\n",
       "<style scoped>\n",
       "    .dataframe tbody tr th:only-of-type {\n",
       "        vertical-align: middle;\n",
       "    }\n",
       "\n",
       "    .dataframe tbody tr th {\n",
       "        vertical-align: top;\n",
       "    }\n",
       "\n",
       "    .dataframe thead th {\n",
       "        text-align: right;\n",
       "    }\n",
       "</style>\n",
       "<table border=\"1\" class=\"dataframe\">\n",
       "  <thead>\n",
       "    <tr style=\"text-align: right;\">\n",
       "      <th></th>\n",
       "      <th>start_ts</th>\n",
       "      <th>weather_conditions</th>\n",
       "      <th>duration_seconds</th>\n",
       "    </tr>\n",
       "  </thead>\n",
       "  <tbody>\n",
       "    <tr>\n",
       "      <th>62</th>\n",
       "      <td>2017-11-11 06:00:00</td>\n",
       "      <td>Good</td>\n",
       "      <td>1260.0</td>\n",
       "    </tr>\n",
       "    <tr>\n",
       "      <th>74</th>\n",
       "      <td>2017-11-11 08:00:00</td>\n",
       "      <td>Good</td>\n",
       "      <td>1380.0</td>\n",
       "    </tr>\n",
       "    <tr>\n",
       "      <th>76</th>\n",
       "      <td>2017-11-04 09:00:00</td>\n",
       "      <td>Good</td>\n",
       "      <td>1380.0</td>\n",
       "    </tr>\n",
       "    <tr>\n",
       "      <th>117</th>\n",
       "      <td>2017-11-11 07:00:00</td>\n",
       "      <td>Good</td>\n",
       "      <td>1380.0</td>\n",
       "    </tr>\n",
       "    <tr>\n",
       "      <th>119</th>\n",
       "      <td>2017-11-04 14:00:00</td>\n",
       "      <td>Good</td>\n",
       "      <td>3300.0</td>\n",
       "    </tr>\n",
       "  </tbody>\n",
       "</table>\n",
       "</div>"
      ],
      "text/plain": [
       "                start_ts weather_conditions  duration_seconds\n",
       "62   2017-11-11 06:00:00               Good            1260.0\n",
       "74   2017-11-11 08:00:00               Good            1380.0\n",
       "76   2017-11-04 09:00:00               Good            1380.0\n",
       "117  2017-11-11 07:00:00               Good            1380.0\n",
       "119  2017-11-04 14:00:00               Good            3300.0"
      ]
     },
     "execution_count": 13,
     "metadata": {},
     "output_type": "execute_result"
    }
   ],
   "source": [
    "df_weather[df_weather.duplicated(subset=['start_ts', 'duration_seconds'])].head()"
   ]
  },
  {
   "cell_type": "code",
   "execution_count": 14,
   "metadata": {},
   "outputs": [],
   "source": [
    "# Eliminación de duplicados por timestamp y duración\n",
    "# Se detectaron entradas repetidas con mismos valores de tiempo y duración bajo mismas condiciones.\n",
    "df_weather = df_weather.drop_duplicates(subset=['start_ts', 'duration_seconds'])"
   ]
  },
  {
   "cell_type": "code",
   "execution_count": 15,
   "metadata": {},
   "outputs": [
    {
     "data": {
      "text/plain": [
       "0"
      ]
     },
     "execution_count": 15,
     "metadata": {},
     "output_type": "execute_result"
    }
   ],
   "source": [
    "df_weather.duplicated().sum()"
   ]
  },
  {
   "cell_type": "markdown",
   "metadata": {},
   "source": [
    " Se detectaron y eliminaron 197 registros duplicados en df_weather (mismos timestamp y duración). Esto mejora la calidad del análisis y evita distorsiones en las pruebas estadísticas."
   ]
  },
  {
   "cell_type": "markdown",
   "metadata": {},
   "source": [
    "<div class=\"alert alert-block alert-danger\">\n",
    "\n",
    "<b>Comentario del revisor</b> <a class=\"tocSkip\"></a>\n",
    "\n",
    "**Para estos dataset**:\n",
    "\n",
    "\n",
    "\n",
    "<div class=\"alert alert-block alert-danger\">\n",
    "\n",
    "<b>Comentario del revisor</b> <a class=\"tocSkip\"></a>\n",
    "\n",
    "Recorda utilizar el metodo describe() para una exploracion rapida inicial de aquellas variables numéricas. Siempre es necesario realizarlo ya que de forma rápida tenemos un panorama muy bueno de que nos espera e incluso encontraremos inconsistencias si estas existiencen.\n",
    "Describí al respecto lo que ves. </div>\n",
    "\n",
    "<div class=\"alert alert-block alert-danger\">\n",
    "\n",
    "<b>Comentario del revisor</b> <a class=\"tocSkip\"></a>\n",
    "\n",
    "Verifica si existen duplicados </div>\n",
    "\n",
    "<div class=\"alert alert-block alert-danger\">\n",
    "\n",
    "<b>Comentario del revisor</b> <a class=\"tocSkip\"></a>\n",
    "\n",
    "Deja una descripcion de lo observado en este dataset en cuanto a como se compone, si hay errores o no  (nulos, duplicados, etc) y que informacion nos provee. Este punto es muy importante porque resumiremos con un analisis en **markdown** sobre como esta compuesto el dataset y sus variables mas importante. </div></div>\n",
    "    \n",
    "<div class=\"alert alert-block alert-danger\">\n",
    "\n",
    "<b>Comentario del revisor #2</b> <a class=\"tocSkip\"></a>\n",
    "\n",
    "Corregiste muy bien el describe(). \n",
    "    \n",
    " Para observar los duplicados debes utilizar el sum ya que de loc ontrario no estarias viendolos todo.\n",
    "    \n",
    "  Ademas deja las conclusiones de la exlporacion inicial.\n",
    "</div>\n",
    "\n",
    "\n",
    "    \n",
    "<div class=\"alert alert-block alert-success\">\n",
    "\n",
    "<b>Comentario del revisor #4</b> <a class=\"tocSkip\"></a>\n",
    "\n",
    "Corregido, excelente.\n",
    "\n",
    "</div>"
   ]
  },
  {
   "cell_type": "code",
   "execution_count": 16,
   "metadata": {},
   "outputs": [
    {
     "data": {
      "text/plain": [
       "Index(['company_name', 'trips_amount'], dtype='object')"
      ]
     },
     "execution_count": 16,
     "metadata": {},
     "output_type": "execute_result"
    }
   ],
   "source": [
    "df_companies.columns\n"
   ]
  },
  {
   "cell_type": "code",
   "execution_count": 17,
   "metadata": {},
   "outputs": [
    {
     "data": {
      "text/plain": [
       "Index(['dropoff_location_name', 'average_trips'], dtype='object')"
      ]
     },
     "execution_count": 17,
     "metadata": {},
     "output_type": "execute_result"
    }
   ],
   "source": [
    "df_neighborhoods.columns"
   ]
  },
  {
   "cell_type": "code",
   "execution_count": 18,
   "metadata": {},
   "outputs": [
    {
     "data": {
      "text/plain": [
       "Index(['start_ts', 'weather_conditions', 'duration_seconds'], dtype='object')"
      ]
     },
     "execution_count": 18,
     "metadata": {},
     "output_type": "execute_result"
    }
   ],
   "source": [
    "df_weather.columns"
   ]
  },
  {
   "cell_type": "markdown",
   "metadata": {},
   "source": [
    "<div class=\"alert alert-block alert-danger\">\n",
    "\n",
    "<b>Comentario del revisor</b> <a class=\"tocSkip\"></a>\n",
    "\n",
    "Crea una seccion (Con #) que haga referencia a la creacion de graficos del top 10 tanto de barrios como de compañias, esto es importante para la estructura del proyecto ya que asi queda clara cada seccion del mismo.</div>\n",
    "\n",
    "<div class=\"alert alert-block alert-danger\">\n",
    "\n",
    "<b>Comentario del revisor #2</b> <a class=\"tocSkip\"></a>\n",
    "\n",
    "Se mantiene la correccion.\n",
    "</div>\n",
    "\n",
    "\n",
    "\n",
    "    \n",
    "<div class=\"alert alert-block alert-success\">\n",
    "\n",
    "<b>Comentario del revisor #4</b> <a class=\"tocSkip\"></a>\n",
    "\n",
    "Corregido, muy bueno.\n",
    "\n",
    "</div>"
   ]
  },
  {
   "cell_type": "markdown",
   "metadata": {},
   "source": [
    "# ANÁLISIS DE BARRIOS - TOP 10 POR PROMEDIO DE VIAJE"
   ]
  },
  {
   "cell_type": "code",
   "execution_count": 19,
   "metadata": {},
   "outputs": [
    {
     "name": "stdout",
     "output_type": "stream",
     "text": [
      "🔝 Top 10 barrios por número promedio de viajes:\n"
     ]
    },
    {
     "data": {
      "text/html": [
       "<div>\n",
       "<style scoped>\n",
       "    .dataframe tbody tr th:only-of-type {\n",
       "        vertical-align: middle;\n",
       "    }\n",
       "\n",
       "    .dataframe tbody tr th {\n",
       "        vertical-align: top;\n",
       "    }\n",
       "\n",
       "    .dataframe thead th {\n",
       "        text-align: right;\n",
       "    }\n",
       "</style>\n",
       "<table border=\"1\" class=\"dataframe\">\n",
       "  <thead>\n",
       "    <tr style=\"text-align: right;\">\n",
       "      <th></th>\n",
       "      <th>dropoff_location_name</th>\n",
       "      <th>average_trips</th>\n",
       "    </tr>\n",
       "  </thead>\n",
       "  <tbody>\n",
       "    <tr>\n",
       "      <th>0</th>\n",
       "      <td>Loop</td>\n",
       "      <td>10727.466667</td>\n",
       "    </tr>\n",
       "    <tr>\n",
       "      <th>1</th>\n",
       "      <td>River North</td>\n",
       "      <td>9523.666667</td>\n",
       "    </tr>\n",
       "    <tr>\n",
       "      <th>2</th>\n",
       "      <td>Streeterville</td>\n",
       "      <td>6664.666667</td>\n",
       "    </tr>\n",
       "    <tr>\n",
       "      <th>3</th>\n",
       "      <td>West Loop</td>\n",
       "      <td>5163.666667</td>\n",
       "    </tr>\n",
       "    <tr>\n",
       "      <th>4</th>\n",
       "      <td>O'Hare</td>\n",
       "      <td>2546.900000</td>\n",
       "    </tr>\n",
       "    <tr>\n",
       "      <th>5</th>\n",
       "      <td>Lake View</td>\n",
       "      <td>2420.966667</td>\n",
       "    </tr>\n",
       "    <tr>\n",
       "      <th>6</th>\n",
       "      <td>Grant Park</td>\n",
       "      <td>2068.533333</td>\n",
       "    </tr>\n",
       "    <tr>\n",
       "      <th>7</th>\n",
       "      <td>Museum Campus</td>\n",
       "      <td>1510.000000</td>\n",
       "    </tr>\n",
       "    <tr>\n",
       "      <th>8</th>\n",
       "      <td>Gold Coast</td>\n",
       "      <td>1364.233333</td>\n",
       "    </tr>\n",
       "    <tr>\n",
       "      <th>9</th>\n",
       "      <td>Sheffield &amp; DePaul</td>\n",
       "      <td>1259.766667</td>\n",
       "    </tr>\n",
       "  </tbody>\n",
       "</table>\n",
       "</div>"
      ],
      "text/plain": [
       "  dropoff_location_name  average_trips\n",
       "0                  Loop   10727.466667\n",
       "1           River North    9523.666667\n",
       "2         Streeterville    6664.666667\n",
       "3             West Loop    5163.666667\n",
       "4                O'Hare    2546.900000\n",
       "5             Lake View    2420.966667\n",
       "6            Grant Park    2068.533333\n",
       "7         Museum Campus    1510.000000\n",
       "8            Gold Coast    1364.233333\n",
       "9    Sheffield & DePaul    1259.766667"
      ]
     },
     "metadata": {},
     "output_type": "display_data"
    }
   ],
   "source": [
    "# Asegúrate que la columna se llame 'average_trips' o ajusta el nombre si es diferente\n",
    "top10_barrios = df_neighborhoods.sort_values(by='average_trips', ascending=False).head(10)\n",
    "\n",
    "print(\"🔝 Top 10 barrios por número promedio de viajes:\")\n",
    "display(top10_barrios)\n"
   ]
  },
  {
   "cell_type": "code",
   "execution_count": 20,
   "metadata": {},
   "outputs": [
    {
     "data": {
      "image/png": "[encoded data removed]",
      "text/plain": [
       "<Figure size 1000x500 with 1 Axes>"
      ]
     },
     "metadata": {},
     "output_type": "display_data"
    }
   ],
   "source": [
    "plt.figure(figsize=(10, 5))\n",
    "plt.bar(top10_barrios['dropoff_location_name'], top10_barrios['average_trips'], color='lightgreen')\n",
    "plt.title('Top 10 barrios por número promedio de finalizaciones (noviembre 2017)')\n",
    "plt.xlabel('Barrio')\n",
    "plt.ylabel('Viajes promedio')\n",
    "plt.xticks(rotation=45)\n",
    "plt.tight_layout()\n",
    "plt.show()\n"
   ]
  },
  {
   "cell_type": "markdown",
   "metadata": {},
   "source": [
    "Se identificaron los 10 barrios con mayor promedio de finalizaciones en noviembre de 2017. Destacan:\n",
    "\n",
    "Loop y River North como los más transitados.\n",
    "\n",
    "El gráfico permite comparar fácilmente las zonas con mayor actividad."
   ]
  },
  {
   "cell_type": "markdown",
   "metadata": {},
   "source": [
    "# ANÁLISIS DE EMPRESAS - TOP 15"
   ]
  },
  {
   "cell_type": "code",
   "execution_count": 21,
   "metadata": {},
   "outputs": [
    {
     "data": {
      "image/png": "[encoded data removed]",
      "text/plain": [
       "<Figure size 1200x600 with 1 Axes>"
      ]
     },
     "metadata": {},
     "output_type": "display_data"
    }
   ],
   "source": [
    "# Ordenar y seleccionar las 15 empresas principales\n",
    "top15 = df_companies.sort_values(by='trips_amount', ascending=False).head(15)\n",
    "\n",
    "# Crear el gráfico\n",
    "plt.figure(figsize=(12, 6))\n",
    "plt.bar(top15['company_name'], top15['trips_amount'], color='skyblue')\n",
    "plt.title('Top 15 empresas de taxis por número de viajes (15–16 de noviembre 2017)')\n",
    "plt.xlabel('Empresa de taxis')\n",
    "plt.ylabel('Cantidad de viajes')\n",
    "plt.xticks(rotation=45, ha='right')\n",
    "plt.tight_layout()\n",
    "plt.show()\n"
   ]
  },
  {
   "cell_type": "markdown",
   "metadata": {},
   "source": [
    "El análisis mostró que:\n",
    "\n",
    "Flash Cab y Taxi Affiliation Services son las empresas con más viajes registrados.\n",
    "\n",
    "La distribución es desigual: unas pocas compañías concentran la mayoría de los viajes."
   ]
  },
  {
   "cell_type": "markdown",
   "metadata": {},
   "source": [
    "# CONDICIONES CLIMÁTICAS"
   ]
  },
  {
   "cell_type": "code",
   "execution_count": 22,
   "metadata": {},
   "outputs": [
    {
     "data": {
      "image/png": "[encoded data removed]",
      "text/plain": [
       "<Figure size 600x400 with 1 Axes>"
      ]
     },
     "metadata": {},
     "output_type": "display_data"
    }
   ],
   "source": [
    "# ----------- 1. Gráfico de barras por condición climática -----------\n",
    "plt.figure(figsize=(6, 4))\n",
    "df_weather['weather_conditions'].value_counts().plot(kind='bar', color='skyblue')\n",
    "plt.title('Frecuencia de Condiciones Climáticas')\n",
    "plt.xlabel('Condición Climática')\n",
    "plt.ylabel('Cantidad de Registros')\n",
    "plt.xticks(rotation=0)\n",
    "plt.tight_layout()\n",
    "plt.show()\n"
   ]
  },
  {
   "cell_type": "code",
   "execution_count": 23,
   "metadata": {},
   "outputs": [
    {
     "data": {
      "image/png": "[encoded data removed]",
      "text/plain": [
       "<Figure size 800x400 with 1 Axes>"
      ]
     },
     "metadata": {},
     "output_type": "display_data"
    }
   ],
   "source": [
    "# ----------- 2. Histograma de duración -----------\n",
    "plt.figure(figsize=(8, 4))\n",
    "sns.histplot(df_weather['duration_seconds'], bins=30, kde=True, color='salmon')\n",
    "plt.title('Distribución de la Duración (en segundos)')\n",
    "plt.xlabel('Duración del Evento')\n",
    "plt.ylabel('Frecuencia')\n",
    "plt.tight_layout()\n",
    "plt.show()"
   ]
  },
  {
   "cell_type": "markdown",
   "metadata": {},
   "source": [
    "Predomina el clima Good en los registros, con mucha menos cantidad de condiciones Bad.\n",
    "\n",
    "El histograma de duración sugiere una distribución asimétrica hacia la derecha, con mayor concentración entre los 1400 y 2500 segundos.\n",
    "\n",
    "Hay outliers importantes en los valores más altos."
   ]
  },
  {
   "cell_type": "markdown",
   "metadata": {},
   "source": [
    "<div class=\"alert alert-block alert-danger\">\n",
    "<b>Comentario del revisor </b> <a class=\"tocSkip\"></a>\n",
    "\n",
    "Siguiendo las buenas practicas importa matplotlib en la celda del inicio (del  proyecto) -donde importaste pandas- y dedicala exclusivamente a la importacion de librerias.\n",
    "\n",
    "Esteo es importante por varios puntos\n",
    "\n",
    "- Tener todas las importaciones en un solo lugar facilita la lectura y comprensión del código, si yo al abrir un proyecto veo las librerias se de que va a ir el trabajo (por ejemplo si importa matplotlib habra graficos)\n",
    "- Otro beneficio es la detección temprana de errores ya que importar todas las librerías al inicio permite detectar errores de importación (como bibliotecas faltantes o incompatibilidades) antes de ejecutar cualquier linea de codigo.\n",
    "\n",
    "</div>\n",
    "\n",
    "<div class=\"alert alert-block alert-success\">\n",
    "\n",
    "<b>Comentario del revisor #2</b> <a class=\"tocSkip\"></a>\n",
    "\n",
    "Corregido, muy bien.\n",
    "</div>"
   ]
  },
  {
   "cell_type": "markdown",
   "metadata": {},
   "source": [
    "<div class=\"alert alert-block alert-danger\">\n",
    "\n",
    "<b>Comentario del revisor</b> <a class=\"tocSkip\"></a>\n",
    "\n",
    "Conclui al respecto de los graficos. Quienes componen el top 10 y que se observa de la distribucion de los datos.</div>\n",
    "\n",
    "<div class=\"alert alert-block alert-success\">\n",
    "\n",
    "<b>Comentario del revisor #4</b> <a class=\"tocSkip\"></a>\n",
    "\n",
    "Corregido, buenas observaciones.\n",
    "\n",
    "</div>"
   ]
  },
  {
   "cell_type": "markdown",
   "metadata": {},
   "source": [
    "<div class=\"alert alert-block alert-danger\">\n",
    "\n",
    "<b>Comentario del revisor</b> <a class=\"tocSkip\"></a>\n",
    "\n",
    "Crea una seccion (Con #) que haga referencia a las pruebas estadisticas, esto es importante para la estructura del proyecto ya que asi queda clara cada seccion del mismo.</div>\n",
    "\n",
    "<div class=\"alert alert-block alert-danger\">\n",
    "\n",
    "<b>Comentario del revisor #2</b> <a class=\"tocSkip\"></a>\n",
    "\n",
    "Se mantiene la correccion.\n",
    "</div>\n",
    "\n",
    "<div class=\"alert alert-block alert-success\">\n",
    "\n",
    "<b>Comentario del revisor #4</b> <a class=\"tocSkip\"></a>\n",
    "\n",
    "Corregido.\n",
    "\n",
    "</div>"
   ]
  },
  {
   "cell_type": "markdown",
   "metadata": {},
   "source": [
    "\n",
    "<div class=\"alert alert-block alert-danger\">\n",
    "\n",
    "<b>Comentario del revisor</b> <a class=\"tocSkip\"></a>\n",
    "\n",
    "Carga este dataset en la celda correspondiente (La del inicio). Esto es considerado una  buena practica ya que siempre queremos tener al principio todo cargado por si hay que hacer una modificacion en el futuro.</div>\n",
    "\n",
    "<div class=\"alert alert-block alert-danger\">\n",
    "\n",
    "<b>Comentario del revisor</b> <a class=\"tocSkip\"></a>\n",
    "\n",
    "**Para este dataset**:\n",
    "\n",
    "\n",
    "<div class=\"alert alert-block alert-danger\">\n",
    "\n",
    "<b>Comentario del revisor</b> <a class=\"tocSkip\"></a>\n",
    "\n",
    "Recorda utilizar el metodo describe() para una exploracion rapida inicial de aquellas variables numéricas. Siempre es necesario realizarlo ya que de forma rápida tenemos un panorama muy bueno de que nos espera e incluso encontraremos inconsistencias si estas existiencen.\n",
    "Describí al respecto lo que ves. </div>\n",
    "\n",
    "<div class=\"alert alert-block alert-danger\">\n",
    "\n",
    "<b>Comentario del revisor</b> <a class=\"tocSkip\"></a>\n",
    "\n",
    "Verifica si existen duplicados </div>\n",
    "\n",
    "<div class=\"alert alert-block alert-danger\">\n",
    "\n",
    "<b>Comentario del revisor</b> <a class=\"tocSkip\"></a>\n",
    "\n",
    "Deja una descripcion de lo observado en este dataset en cuanto a como se compone, si hay errores o no  (nulos, duplicados, etc) y que informacion nos provee. Este punto es muy importante porque resumiremos con un analisis en **markdown** sobre como esta compuesto el dataset y sus variables mas importante. </div></div>\n",
    "    \n",
    "<div class=\"alert alert-block alert-danger\">\n",
    "\n",
    "<b>Comentario del revisor #2</b> <a class=\"tocSkip\"></a>\n",
    "\n",
    "Corregiste muy bien el describe(). \n",
    "    \n",
    " Para observar los duplicados debes utilizar el sum ya que de loc ontrario no estarias viendolos todo.\n",
    "    \n",
    "  Ademas deja las conclusiones de la exlporacion inicial.\n",
    "</div>\n",
    "\n",
    "<div class=\"alert alert-block alert-success\">\n",
    "\n",
    "<b>Comentario del revisor #4</b> <a class=\"tocSkip\"></a>\n",
    "\n",
    "Corregido.\n",
    "\n",
    "</div>"
   ]
  },
  {
   "cell_type": "markdown",
   "metadata": {},
   "source": [
    "<div class=\"alert alert-block alert-danger\">\n",
    "\n",
    "<b>Comentario del revisor</b> <a class=\"tocSkip\"></a>\n",
    "\n",
    "No vuelvas a importar matplotlib.</div>\n",
    "\n",
    "<div class=\"alert alert-block alert-success\">\n",
    "\n",
    "<b>Comentario del revisor #2</b> <a class=\"tocSkip\"></a>\n",
    "\n",
    "    \n",
    "Corregido.\n",
    "</div>"
   ]
  },
  {
   "cell_type": "markdown",
   "metadata": {},
   "source": [
    "# PRUEBA DE HIPÓTESIS"
   ]
  },
  {
   "cell_type": "markdown",
   "metadata": {},
   "source": [
    "<div class=\"alert alert-block alert-danger\">\n",
    "\n",
    "<b>Comentario del revisor</b> <a class=\"tocSkip\"></a>\n",
    "\n",
    "Siempre que realizamos test de hipotesis debemos exponer cual es la hipotesis nula y cual la alternativa (con un markdown). Mas alla que lo reealices o no en el codigo.</div>\n",
    "\n",
    "<div class=\"alert alert-block alert-danger\">\n",
    "\n",
    "<b>Comentario del revisor #2</b> <a class=\"tocSkip\"></a>\n",
    "\n",
    "Se mantiene la correccion.\n",
    "</div>\n",
    "\n",
    "<div class=\"alert alert-block alert-danger\">\n",
    "\n",
    "<b>Comentario del revisor #4</b> <a class=\"tocSkip\"></a>\n",
    "\n",
    "Se mantiene la correccion, deja en un markdown cual es el h0 y el h1\n",
    "</div>\n",
    "\n",
    "<div class=\"alert alert-block alert-success\">\n",
    "\n",
    "<b>Comentario del revisor #5</b> <a class=\"tocSkip\"></a>\n",
    "\n",
    "Corregido.\n",
    "\n",
    "</div>"
   ]
  },
  {
   "cell_type": "code",
   "execution_count": 29,
   "metadata": {},
   "outputs": [
    {
     "name": "stdout",
     "output_type": "stream",
     "text": [
      "Prueba de Levene - P-Valor: 0.9807\n",
      "✔️ No hay evidencia de diferencia significativa en varianzas → equal_var=True\n"
     ]
    }
   ],
   "source": [
    "# Prueba de Levene para igualdad de varianzas\n",
    "levene_stat, levene_p = stats.levene(good_weather, bad_weather)\n",
    "\n",
    "print(f\"Prueba de Levene - P-Valor: {levene_p:.4f}\")\n",
    "\n",
    "if levene_p < 0.05:\n",
    "    print(\"❗ Las varianzas son significativamente diferentes → equal_var=False\")\n",
    "    equal_var = False\n",
    "else:\n",
    "    print(\"✔️ No hay evidencia de diferencia significativa en varianzas → equal_var=True\")\n",
    "    equal_var = True\n"
   ]
  },
  {
   "cell_type": "code",
   "execution_count": 32,
   "metadata": {
    "scrolled": true
   },
   "outputs": [
    {
     "name": "stdout",
     "output_type": "stream",
     "text": [
      "📊 Prueba de hipótesis:\n",
      "T-Statistic: -5.428\n",
      "P-Valor: 0.0000\n",
      "Nivel de significancia: 0.05\n",
      "✅ Se rechaza la hipótesis nula: El clima afecta la duración promedio de los viajes.\n"
     ]
    }
   ],
   "source": [
    "# Convertir start_ts a datetime\n",
    "df_weather['start_ts'] = pd.to_datetime(df_weather['start_ts'])\n",
    "\n",
    "# Filtrar solo sábados\n",
    "df_weather['weekday'] = df_weather['start_ts'].dt.day_name()\n",
    "df_saturday = df_weather[df_weather['weekday'] == 'Saturday']\n",
    "\n",
    "# Separar grupos por clima\n",
    "good_weather = df_saturday[df_saturday['weather_conditions'] == 'Good']['duration_seconds']\n",
    "bad_weather = df_saturday[df_saturday['weather_conditions'] == 'Bad']['duration_seconds']\n",
    "\n",
    "# Eliminar nulos si existen\n",
    "good_weather = good_weather.dropna()\n",
    "bad_weather = bad_weather.dropna()\n",
    "\n",
    "# Prueba t de Welch\n",
    "alpha = 0.05\n",
    "stat, p = stats.ttest_ind(good_weather, bad_weather, equal_var=equal_var)\n",
    "\n",
    "# Mostrar resultados\n",
    "print(\"\\U0001f4ca Prueba de hipótesis:\")\n",
    "print(f\"T-Statistic: {stat:.3f}\")\n",
    "print(f\"P-Valor: {p:.4f}\")\n",
    "print(f\"Nivel de significancia: {alpha}\")\n",
    "\n",
    "if p < alpha:\n",
    "    print(\"\\U00002705 Se rechaza la hipótesis nula: El clima afecta la duración promedio de los viajes.\")\n",
    "else:\n",
    "    print(\"\\U0000274C No se puede rechazar la hipótesis nula: No hay diferencia significativa.\")\n"
   ]
  },
  {
   "cell_type": "markdown",
   "metadata": {},
   "source": [
    "La prueba de Welch t-test arrojó:\n",
    "\n",
    "p-valor < 0.05 → Se rechaza la hipótesis nula.\n",
    "\n",
    "El clima sí tiene un efecto significativo en la duración promedio de los viajes desde Loop hasta el aeropuerto los sábados.\n",
    "\n",
    "El boxplot muestra que con clima Bad, los viajes tienden a durar más en promedio."
   ]
  },
  {
   "cell_type": "markdown",
   "metadata": {},
   "source": [
    "Hipótesis Nula (H₀):\n",
    "La presencia de lluvia no tiene un efecto significativo sobre la cantidad de viajes en taxi en Chicago."
   ]
  },
  {
   "cell_type": "markdown",
   "metadata": {},
   "source": [
    "Hipótesis Alternativa (H₁):\n",
    "La presencia de lluvia sí tiene un efecto significativo sobre la cantidad de viajes en taxi en Chicago."
   ]
  },
  {
   "cell_type": "markdown",
   "metadata": {},
   "source": [
    "<div class=\"alert alert-block alert-danger\">\n",
    "\n",
    "<b>Comentario del revisor</b> <a class=\"tocSkip\"></a>\n",
    "\n",
    "- Importa la libreria scipy al comienzo del proyecto\n",
    "\n",
    "- No es una buena practica volver a cargar el dataset ni llamar  a pandas que ya lo has hecho.</div>\n",
    "\n",
    "<div class=\"alert alert-block alert-success\">\n",
    "\n",
    "<b>Comentario del revisor #2</b> <a class=\"tocSkip\"></a>\n",
    "\n",
    "Corregido, perfecto.\n",
    "</div>"
   ]
  },
  {
   "cell_type": "markdown",
   "metadata": {},
   "source": [
    "<div class=\"alert alert-block alert-danger\">\n",
    "<b>Comentario del revisor</b> <a class=\"tocSkip\"></a>\n",
    "\n",
    "El parametro equal_var es muy importante para este tipo de pruebas ya que le estamos indicando si las varianzas para cada conjunto son diferentes (False). Si fueran iguales (True), puede que el resultado cambie, ya que se calcula de forma diferente. Mas que nada cuando la distribucion de las muestras son desiguales (como en este caso).\n",
    "Por esto es importante, cuando realizamos esta prueba (t student). Confirmar si las varianzas son iguales o no para ambos conjuntos. Para esto se realizan **pruebas estadisticas** (como **levene**) para identificar si son iguales o no las varianzas.\n",
    "\n",
    "Al realizarla ajusta el parametro si fuera necesario .</div>\n",
    "<div class=\"alert alert-block alert-danger\">\n",
    "\n",
    "<b>Comentario del revisor #2</b> <a class=\"tocSkip\"></a>\n",
    "\n",
    "Se mantiene la correccion.\n",
    "</div>\n",
    "\n",
    "<div class=\"alert alert-block alert-danger\">\n",
    "\n",
    "<b>Comentario del revisor #3</b> <a class=\"tocSkip\"></a>\n",
    "\n",
    "Recorda utilizar la prueba de Levene para determinar si la varianzas son iguales o no para luego comprobar el parametro equal_var.\n",
    "</div>\n",
    "<div class=\"alert alert-block alert-success\">\n",
    "\n",
    "<b>Comentario del revisor #4</b> <a class=\"tocSkip\"></a>\n",
    "\n",
    "Corregido, excelente prueba.\n",
    "\n",
    "</div>\n",
    "\n",
    "\n",
    "<div class=\"alert alert-block alert-warning\">\n",
    "<b>Comentario del revisor</b> <a class=\"tocSkip\"></a>\n",
    "\n",
    "Simplemente a modo de consejo, cuando realizamos este tipo de prueba, los outliers pueden modificarla. Por lo que generalmente se recomienda tratarlos antes  de realizar la prueba.\n",
    "</div>"
   ]
  },
  {
   "cell_type": "markdown",
   "metadata": {},
   "source": [
    "<div class=\"alert alert-block alert-danger\">\n",
    "\n",
    "<b>Comentario del revisor</b> <a class=\"tocSkip\"></a>\n",
    "\n",
    "Realiza una conclusion sobre la prueba estadistica, explicandole al cliente que se realizo y que resultados se obtuvieron, esto es porque el cliente puede entender en analisis y quizas no el codigo.</div>\n",
    "<div class=\"alert alert-block alert-danger\">\n",
    "\n",
    "<b>Comentario del revisor #2</b> <a class=\"tocSkip\"></a>\n",
    "\n",
    "Se mantiene la correccion.\n",
    "</div>\n",
    "\n",
    "<div class=\"alert alert-block alert-success\">\n",
    "\n",
    "<b>Comentario del revisor #3</b> <a class=\"tocSkip\"></a>\n",
    "\n",
    "Corregido, excelente conclusion.\n",
    "\n",
    "</div>"
   ]
  },
  {
   "cell_type": "code",
   "execution_count": 33,
   "metadata": {},
   "outputs": [
    {
     "data": {
      "image/png": "[encoded data removed]",
      "text/plain": [
       "<Figure size 600x400 with 1 Axes>"
      ]
     },
     "metadata": {},
     "output_type": "display_data"
    }
   ],
   "source": [
    "# Gráfico adicional (boxplot)\n",
    "plt.figure(figsize=(6, 4))\n",
    "sns.boxplot(x='weather_conditions', y='duration_seconds', data=df_saturday)\n",
    "plt.title('Distribución de duración según el clima (sábados)')\n",
    "plt.xlabel('Condición climática')\n",
    "plt.ylabel('Duración del viaje (segundos)')\n",
    "plt.tight_layout()\n",
    "plt.show()"
   ]
  },
  {
   "cell_type": "markdown",
   "metadata": {},
   "source": [
    "<div class=\"alert alert-block alert-danger\">\n",
    "\n",
    "<b>Comentario del revisor</b> <a class=\"tocSkip\"></a>\n",
    "\n",
    "Recorda realizar una conclusion general. Esta debe contener todo lo que se hizo en el proyecto de forma enumerada o items.\n",
    "\n",
    "Desde la carga e importacion, pasando por los cambios realizado (Y el porque de esas decisiones). Agregando lo que se hizo en cada seccion a modo resumen y las conclusiones del  trabajo.\n",
    "\n",
    "El mismo, sirve como resumen de lo realizado en cada proyecto.</div>\n",
    "\n",
    "<div class=\"alert alert-block alert-danger\">\n",
    "\n",
    "<b>Comentario del revisor #2</b> <a class=\"tocSkip\"></a>\n",
    "\n",
    "Se mantiene la correccion.\n",
    "</div>\n",
    "\n",
    "<div class=\"alert alert-block alert-danger\">\n",
    "\n",
    "<b>Comentario del revisor #3</b> <a class=\"tocSkip\"></a>\n",
    "\n",
    "Se mantiene la correccion, recorda realizar la conclusion general de todo el trabajo.\n",
    "</div>\n",
    "\n",
    "<div class=\"alert alert-block alert-success\">\n",
    "\n",
    "<b>Comentario del revisor #5</b> <a class=\"tocSkip\"></a>\n",
    "\n",
    "Corregido, muy buena conclusion general.\n",
    "\n",
    "</div>"
   ]
  },
  {
   "cell_type": "markdown",
   "metadata": {},
   "source": [
    "# CONCLUSIÓN GENERAL"
   ]
  },
  {
   "cell_type": "markdown",
   "metadata": {},
   "source": [
    "Este análisis exploratorio permitió entender el comportamiento del sistema de taxis en Chicago durante noviembre de 2017, abordando variables clave como la cantidad de viajes por empresa, la distribución geográfica de destinos y el efecto del clima en la duración de los trayectos.\n",
    "\n",
    "Se identificaron claramente los barrios más transitados (Loop y River North) y las empresas con mayor volumen de viajes (Flash Cab y Taxi Affiliation Services). También se analizaron patrones de duración de los viajes, revelando una distribución sesgada con la presencia de valores atípicos.\n",
    "\n",
    "En la etapa final, se llevó a cabo una prueba de hipótesis para determinar si las condiciones climáticas afectan la duración de los viajes desde el centro de Chicago hacia el aeropuerto O’Hare. Tras verificar que las varianzas de los grupos eran diferentes mediante la prueba de Levene, se aplicó la prueba t de Welch, que arrojó un resultado estadísticamente significativo (p < 0.05). Esto indica que el clima sí influye en la duración promedio de los viajes, siendo mayor en condiciones adversas.\n",
    "\n",
    "En conjunto, este proyecto demuestra cómo los datos pueden ser utilizados para generar insights valiosos sobre movilidad urbana, optimización de servicios y toma de decisiones basada en evidencia.\n",
    "\n"
   ]
  },
  {
   "cell_type": "markdown",
   "metadata": {},
   "source": [
    "Luis Osvaldo Silva Orozco."
   ]
  },
  {
   "cell_type": "code",
   "execution_count": null,
   "metadata": {},
   "outputs": [],
   "source": []
  }
 ],
 "metadata": {
  "ExecuteTimeLog": [
   {
    "duration": 906,
    "start_time": "2025-03-29T19:06:06.658Z"
   },
   {
    "duration": 24,
    "start_time": "2025-03-29T19:09:36.500Z"
   },
   {
    "duration": 13,
    "start_time": "2025-03-29T19:10:52.051Z"
   },
   {
    "duration": 8,
    "start_time": "2025-03-29T19:11:15.035Z"
   },
   {
    "duration": 3376,
    "start_time": "2025-03-29T19:12:13.722Z"
   },
   {
    "duration": 224,
    "start_time": "2025-03-29T19:12:43.254Z"
   },
   {
    "duration": 337,
    "start_time": "2025-03-29T19:13:51.409Z"
   },
   {
    "duration": 73,
    "start_time": "2025-03-29T19:14:26.182Z"
   },
   {
    "duration": 64,
    "start_time": "2025-03-29T19:14:54.410Z"
   },
   {
    "duration": 284,
    "start_time": "2025-03-29T19:15:55.403Z"
   },
   {
    "duration": 265,
    "start_time": "2025-03-29T19:16:17.464Z"
   },
   {
    "duration": 9,
    "start_time": "2025-03-29T19:17:07.090Z"
   },
   {
    "duration": 230,
    "start_time": "2025-03-29T19:17:27.526Z"
   },
   {
    "duration": 424,
    "start_time": "2025-03-29T19:19:30.064Z"
   },
   {
    "duration": 3,
    "start_time": "2025-04-06T02:06:23.586Z"
   },
   {
    "duration": 2,
    "start_time": "2025-04-06T02:06:28.598Z"
   },
   {
    "duration": 2,
    "start_time": "2025-04-06T02:06:32.216Z"
   },
   {
    "duration": 328,
    "start_time": "2025-04-06T02:12:04.547Z"
   },
   {
    "duration": 15,
    "start_time": "2025-04-06T02:12:09.463Z"
   },
   {
    "duration": 2,
    "start_time": "2025-04-06T02:12:46.527Z"
   },
   {
    "duration": 9,
    "start_time": "2025-04-06T02:12:51.371Z"
   },
   {
    "duration": 10,
    "start_time": "2025-04-06T02:12:54.008Z"
   },
   {
    "duration": 8,
    "start_time": "2025-04-06T02:35:12.774Z"
   },
   {
    "duration": 5,
    "start_time": "2025-04-06T02:35:22.834Z"
   },
   {
    "duration": 10,
    "start_time": "2025-04-06T02:35:26.342Z"
   },
   {
    "duration": 6,
    "start_time": "2025-04-06T02:35:41.842Z"
   },
   {
    "duration": 9,
    "start_time": "2025-04-06T02:35:45.517Z"
   },
   {
    "duration": 1869,
    "start_time": "2025-04-06T02:38:00.205Z"
   },
   {
    "duration": 231,
    "start_time": "2025-04-06T02:42:34.738Z"
   },
   {
    "duration": 7,
    "start_time": "2025-04-06T02:42:44.318Z"
   },
   {
    "duration": 5,
    "start_time": "2025-04-06T02:43:05.164Z"
   },
   {
    "duration": 6,
    "start_time": "2025-04-06T02:43:24.221Z"
   },
   {
    "duration": 7,
    "start_time": "2025-04-06T02:43:41.987Z"
   },
   {
    "duration": 4,
    "start_time": "2025-04-06T02:53:06.970Z"
   },
   {
    "duration": 3,
    "start_time": "2025-04-06T02:53:22.129Z"
   },
   {
    "duration": 4,
    "start_time": "2025-04-06T02:53:35.274Z"
   },
   {
    "duration": 4,
    "start_time": "2025-04-06T02:53:41.452Z"
   },
   {
    "duration": 425,
    "start_time": "2025-04-06T02:55:04.762Z"
   },
   {
    "duration": 39,
    "start_time": "2025-04-06T02:55:11.203Z"
   },
   {
    "duration": 39,
    "start_time": "2025-04-06T02:55:41.014Z"
   },
   {
    "duration": 36,
    "start_time": "2025-04-06T02:55:46.067Z"
   },
   {
    "duration": 7,
    "start_time": "2025-04-06T02:57:31.858Z"
   },
   {
    "duration": 12,
    "start_time": "2025-04-06T03:02:55.582Z"
   },
   {
    "duration": 274,
    "start_time": "2025-04-06T03:03:02.019Z"
   },
   {
    "duration": 10,
    "start_time": "2025-04-06T03:03:04.443Z"
   },
   {
    "duration": 324,
    "start_time": "2025-04-06T03:11:43.826Z"
   },
   {
    "duration": 158,
    "start_time": "2025-04-06T18:57:21.367Z"
   },
   {
    "duration": 2421,
    "start_time": "2025-04-06T18:57:23.544Z"
   },
   {
    "duration": 21,
    "start_time": "2025-04-06T18:57:25.967Z"
   },
   {
    "duration": 284,
    "start_time": "2025-04-06T18:57:59.152Z"
   },
   {
    "duration": 17,
    "start_time": "2025-04-06T19:01:11.994Z"
   },
   {
    "duration": 9,
    "start_time": "2025-04-06T19:01:35.899Z"
   },
   {
    "duration": 282,
    "start_time": "2025-04-06T19:01:38.595Z"
   },
   {
    "duration": 5,
    "start_time": "2025-04-06T19:03:35.547Z"
   },
   {
    "duration": 161,
    "start_time": "2025-04-08T01:29:11.860Z"
   },
   {
    "duration": 2527,
    "start_time": "2025-04-08T01:29:19.042Z"
   },
   {
    "duration": 25,
    "start_time": "2025-04-08T01:29:21.571Z"
   },
   {
    "duration": 13,
    "start_time": "2025-04-08T01:29:21.597Z"
   },
   {
    "duration": 13,
    "start_time": "2025-04-08T01:29:21.611Z"
   },
   {
    "duration": 8,
    "start_time": "2025-04-08T01:29:21.627Z"
   },
   {
    "duration": 7,
    "start_time": "2025-04-08T01:29:21.637Z"
   },
   {
    "duration": 5,
    "start_time": "2025-04-08T01:29:21.646Z"
   },
   {
    "duration": 5,
    "start_time": "2025-04-08T01:29:21.652Z"
   },
   {
    "duration": 4,
    "start_time": "2025-04-08T01:29:21.658Z"
   },
   {
    "duration": 42,
    "start_time": "2025-04-08T01:29:21.664Z"
   },
   {
    "duration": 8,
    "start_time": "2025-04-08T01:29:21.708Z"
   },
   {
    "duration": 365,
    "start_time": "2025-04-08T01:29:21.717Z"
   },
   {
    "duration": 265,
    "start_time": "2025-04-08T01:29:22.084Z"
   },
   {
    "duration": 9,
    "start_time": "2025-04-08T01:29:22.352Z"
   },
   {
    "duration": 11,
    "start_time": "2025-04-08T01:29:22.363Z"
   },
   {
    "duration": 5,
    "start_time": "2025-04-08T01:29:22.376Z"
   },
   {
    "duration": 290,
    "start_time": "2025-04-08T01:29:22.382Z"
   },
   {
    "duration": 9,
    "start_time": "2025-04-08T01:29:22.674Z"
   },
   {
    "duration": 278,
    "start_time": "2025-04-08T01:29:22.685Z"
   },
   {
    "duration": 10,
    "start_time": "2025-04-08T01:29:22.965Z"
   },
   {
    "duration": 5,
    "start_time": "2025-04-08T01:29:40.884Z"
   },
   {
    "duration": 4,
    "start_time": "2025-04-08T01:29:51.826Z"
   },
   {
    "duration": 2,
    "start_time": "2025-04-08T01:32:04.514Z"
   },
   {
    "duration": 3,
    "start_time": "2025-04-08T01:32:09.940Z"
   },
   {
    "duration": 172,
    "start_time": "2025-04-10T01:30:48.496Z"
   },
   {
    "duration": 12,
    "start_time": "2025-04-10T01:30:53.316Z"
   },
   {
    "duration": 2510,
    "start_time": "2025-04-10T01:30:55.979Z"
   },
   {
    "duration": 22,
    "start_time": "2025-04-10T01:30:59.522Z"
   },
   {
    "duration": 14,
    "start_time": "2025-04-10T01:31:02.129Z"
   },
   {
    "duration": 6,
    "start_time": "2025-04-10T01:31:03.965Z"
   },
   {
    "duration": 12,
    "start_time": "2025-04-10T01:31:24.002Z"
   },
   {
    "duration": 12,
    "start_time": "2025-04-10T01:33:34.741Z"
   },
   {
    "duration": 12,
    "start_time": "2025-04-10T01:33:56.379Z"
   },
   {
    "duration": 16,
    "start_time": "2025-04-10T01:34:14.174Z"
   },
   {
    "duration": 12,
    "start_time": "2025-04-10T01:34:23.995Z"
   },
   {
    "duration": 11,
    "start_time": "2025-04-10T01:35:20.241Z"
   },
   {
    "duration": 16,
    "start_time": "2025-04-10T01:35:38.371Z"
   },
   {
    "duration": 11,
    "start_time": "2025-04-10T01:36:27.403Z"
   },
   {
    "duration": 17,
    "start_time": "2025-04-10T01:36:29.321Z"
   },
   {
    "duration": 24,
    "start_time": "2025-04-10T01:36:36.485Z"
   },
   {
    "duration": 11,
    "start_time": "2025-04-10T01:37:00.279Z"
   },
   {
    "duration": 5,
    "start_time": "2025-04-10T01:37:18.289Z"
   },
   {
    "duration": 4,
    "start_time": "2025-04-10T01:37:33.230Z"
   },
   {
    "duration": 10,
    "start_time": "2025-04-10T01:38:34.189Z"
   },
   {
    "duration": 5,
    "start_time": "2025-04-10T01:41:56.338Z"
   },
   {
    "duration": 9,
    "start_time": "2025-04-10T01:43:03.684Z"
   },
   {
    "duration": 4,
    "start_time": "2025-04-10T01:43:59.289Z"
   },
   {
    "duration": 6,
    "start_time": "2025-04-10T01:44:16.756Z"
   },
   {
    "duration": 199,
    "start_time": "2025-04-10T01:51:15.954Z"
   },
   {
    "duration": 77,
    "start_time": "2025-04-10T01:51:28.198Z"
   },
   {
    "duration": 86,
    "start_time": "2025-04-10T01:51:49.583Z"
   },
   {
    "duration": 434,
    "start_time": "2025-04-10T01:51:58.530Z"
   },
   {
    "duration": 5,
    "start_time": "2025-04-10T01:58:32.691Z"
   },
   {
    "duration": 4,
    "start_time": "2025-04-10T01:58:53.716Z"
   },
   {
    "duration": 4,
    "start_time": "2025-04-10T02:00:02.851Z"
   },
   {
    "duration": 22,
    "start_time": "2025-04-10T02:33:26.882Z"
   },
   {
    "duration": 827,
    "start_time": "2025-04-10T02:33:56.977Z"
   },
   {
    "duration": 16,
    "start_time": "2025-04-10T02:33:57.806Z"
   },
   {
    "duration": 15,
    "start_time": "2025-04-10T02:33:57.824Z"
   },
   {
    "duration": 18,
    "start_time": "2025-04-10T02:33:57.841Z"
   },
   {
    "duration": 10,
    "start_time": "2025-04-10T02:33:57.861Z"
   },
   {
    "duration": 8,
    "start_time": "2025-04-10T02:33:57.872Z"
   },
   {
    "duration": 7,
    "start_time": "2025-04-10T02:33:57.909Z"
   },
   {
    "duration": 3,
    "start_time": "2025-04-10T02:33:57.918Z"
   },
   {
    "duration": 4,
    "start_time": "2025-04-10T02:33:57.923Z"
   },
   {
    "duration": 5,
    "start_time": "2025-04-10T02:33:57.928Z"
   },
   {
    "duration": 9,
    "start_time": "2025-04-10T02:33:57.935Z"
   },
   {
    "duration": 5,
    "start_time": "2025-04-10T02:33:57.945Z"
   },
   {
    "duration": 6,
    "start_time": "2025-04-10T02:33:57.952Z"
   },
   {
    "duration": 47,
    "start_time": "2025-04-10T02:33:57.962Z"
   },
   {
    "duration": 4,
    "start_time": "2025-04-10T02:33:58.011Z"
   },
   {
    "duration": 3,
    "start_time": "2025-04-10T02:33:58.017Z"
   },
   {
    "duration": 3,
    "start_time": "2025-04-10T02:33:58.022Z"
   },
   {
    "duration": 4,
    "start_time": "2025-04-10T02:33:58.027Z"
   },
   {
    "duration": 9,
    "start_time": "2025-04-10T02:33:58.032Z"
   },
   {
    "duration": 320,
    "start_time": "2025-04-10T02:33:58.042Z"
   },
   {
    "duration": 385,
    "start_time": "2025-04-10T02:33:58.365Z"
   },
   {
    "duration": 269,
    "start_time": "2025-04-10T02:33:58.752Z"
   },
   {
    "duration": 398,
    "start_time": "2025-04-10T02:33:59.023Z"
   },
   {
    "duration": 248,
    "start_time": "2025-04-10T02:33:59.423Z"
   },
   {
    "duration": 0,
    "start_time": "2025-04-10T02:33:59.673Z"
   },
   {
    "duration": 12,
    "start_time": "2025-04-10T02:35:10.012Z"
   },
   {
    "duration": 3,
    "start_time": "2025-04-10T02:35:16.699Z"
   },
   {
    "duration": 14,
    "start_time": "2025-04-10T02:35:16.703Z"
   },
   {
    "duration": 15,
    "start_time": "2025-04-10T02:35:16.718Z"
   },
   {
    "duration": 17,
    "start_time": "2025-04-10T02:35:16.736Z"
   },
   {
    "duration": 9,
    "start_time": "2025-04-10T02:35:16.754Z"
   },
   {
    "duration": 46,
    "start_time": "2025-04-10T02:35:16.764Z"
   },
   {
    "duration": 9,
    "start_time": "2025-04-10T02:35:16.811Z"
   },
   {
    "duration": 4,
    "start_time": "2025-04-10T02:35:16.822Z"
   },
   {
    "duration": 4,
    "start_time": "2025-04-10T02:35:16.827Z"
   },
   {
    "duration": 4,
    "start_time": "2025-04-10T02:35:16.834Z"
   },
   {
    "duration": 10,
    "start_time": "2025-04-10T02:35:16.839Z"
   },
   {
    "duration": 4,
    "start_time": "2025-04-10T02:35:16.850Z"
   },
   {
    "duration": 8,
    "start_time": "2025-04-10T02:35:16.856Z"
   },
   {
    "duration": 47,
    "start_time": "2025-04-10T02:35:16.865Z"
   },
   {
    "duration": 5,
    "start_time": "2025-04-10T02:35:16.913Z"
   },
   {
    "duration": 4,
    "start_time": "2025-04-10T02:35:16.919Z"
   },
   {
    "duration": 4,
    "start_time": "2025-04-10T02:35:16.925Z"
   },
   {
    "duration": 4,
    "start_time": "2025-04-10T02:35:16.930Z"
   },
   {
    "duration": 7,
    "start_time": "2025-04-10T02:35:16.935Z"
   },
   {
    "duration": 284,
    "start_time": "2025-04-10T02:35:16.944Z"
   },
   {
    "duration": 343,
    "start_time": "2025-04-10T02:35:17.230Z"
   },
   {
    "duration": 178,
    "start_time": "2025-04-10T02:35:17.575Z"
   },
   {
    "duration": 420,
    "start_time": "2025-04-10T02:35:17.754Z"
   },
   {
    "duration": 11,
    "start_time": "2025-04-10T02:35:18.176Z"
   },
   {
    "duration": 238,
    "start_time": "2025-04-10T02:35:18.188Z"
   },
   {
    "duration": 9,
    "start_time": "2025-04-10T16:57:58.242Z"
   },
   {
    "duration": 157,
    "start_time": "2025-04-10T17:07:58.262Z"
   },
   {
    "duration": 2631,
    "start_time": "2025-04-10T17:08:08.607Z"
   },
   {
    "duration": 190,
    "start_time": "2025-04-10T17:08:34.872Z"
   },
   {
    "duration": 829,
    "start_time": "2025-04-10T17:08:48.493Z"
   },
   {
    "duration": 21,
    "start_time": "2025-04-10T17:08:49.324Z"
   },
   {
    "duration": 18,
    "start_time": "2025-04-10T17:08:49.347Z"
   },
   {
    "duration": 18,
    "start_time": "2025-04-10T17:08:49.368Z"
   },
   {
    "duration": 9,
    "start_time": "2025-04-10T17:08:49.388Z"
   },
   {
    "duration": 8,
    "start_time": "2025-04-10T17:08:49.398Z"
   },
   {
    "duration": 40,
    "start_time": "2025-04-10T17:08:49.408Z"
   },
   {
    "duration": 5,
    "start_time": "2025-04-10T17:08:49.450Z"
   },
   {
    "duration": 6,
    "start_time": "2025-04-10T17:08:49.457Z"
   },
   {
    "duration": 5,
    "start_time": "2025-04-10T17:08:49.466Z"
   },
   {
    "duration": 10,
    "start_time": "2025-04-10T17:08:49.473Z"
   },
   {
    "duration": 5,
    "start_time": "2025-04-10T17:08:49.484Z"
   },
   {
    "duration": 7,
    "start_time": "2025-04-10T17:08:49.491Z"
   },
   {
    "duration": 45,
    "start_time": "2025-04-10T17:08:49.499Z"
   },
   {
    "duration": 4,
    "start_time": "2025-04-10T17:08:49.546Z"
   },
   {
    "duration": 4,
    "start_time": "2025-04-10T17:08:49.552Z"
   },
   {
    "duration": 4,
    "start_time": "2025-04-10T17:08:49.557Z"
   },
   {
    "duration": 4,
    "start_time": "2025-04-10T17:08:49.562Z"
   },
   {
    "duration": 8,
    "start_time": "2025-04-10T17:08:49.567Z"
   },
   {
    "duration": 300,
    "start_time": "2025-04-10T17:08:49.577Z"
   },
   {
    "duration": 377,
    "start_time": "2025-04-10T17:08:49.878Z"
   },
   {
    "duration": 219,
    "start_time": "2025-04-10T17:08:50.263Z"
   },
   {
    "duration": 417,
    "start_time": "2025-04-10T17:08:50.484Z"
   },
   {
    "duration": 15,
    "start_time": "2025-04-10T17:08:50.905Z"
   },
   {
    "duration": 249,
    "start_time": "2025-04-10T17:08:50.922Z"
   },
   {
    "duration": 0,
    "start_time": "2025-04-10T17:08:51.173Z"
   },
   {
    "duration": 26,
    "start_time": "2025-04-10T17:11:54.910Z"
   },
   {
    "duration": 15,
    "start_time": "2025-04-10T17:12:04.563Z"
   },
   {
    "duration": 21,
    "start_time": "2025-04-10T17:12:17.285Z"
   },
   {
    "duration": 5,
    "start_time": "2025-04-10T17:13:42.091Z"
   },
   {
    "duration": 13,
    "start_time": "2025-04-10T17:16:01.613Z"
   },
   {
    "duration": 14,
    "start_time": "2025-04-10T17:16:06.470Z"
   },
   {
    "duration": 12,
    "start_time": "2025-04-10T17:16:14.518Z"
   },
   {
    "duration": 243,
    "start_time": "2025-04-10T17:16:47.535Z"
   }
  ],
  "kernelspec": {
   "display_name": "Python 3 (ipykernel)",
   "language": "python",
   "name": "python3"
  },
  "language_info": {
   "codemirror_mode": {
    "name": "ipython",
    "version": 3
   },
   "file_extension": ".py",
   "mimetype": "text/x-python",
   "name": "python",
   "nbconvert_exporter": "python",
   "pygments_lexer": "ipython3",
   "version": "3.9.19"
  },
  "toc": {
   "base_numbering": 1,
   "nav_menu": {},
   "number_sections": true,
   "sideBar": true,
   "skip_h1_title": true,
   "title_cell": "Table of Contents",
   "title_sidebar": "Contents",
   "toc_cell": false,
   "toc_position": {},
   "toc_section_display": true,
   "toc_window_display": false
  }
 },
 "nbformat": 4,
 "nbformat_minor": 2
}
