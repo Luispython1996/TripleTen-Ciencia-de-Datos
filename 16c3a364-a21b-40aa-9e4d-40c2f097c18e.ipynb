{
 "cells": [
  {
   "cell_type": "markdown",
   "metadata": {
    "id": "3rYiDeEH0q0f"
   },
   "source": [
    "# ¿Cuál es la mejor tarifa?\n",
    "\n",
    "Trabajas como analista para el operador de telecomunicaciones Megaline. La empresa ofrece a sus clientes dos tarifas de prepago, Surf y Ultimate. El departamento comercial quiere saber cuál de las tarifas genera más ingresos para poder ajustar el presupuesto de publicidad.\n",
    "\n",
    "Vas a realizar un análisis preliminar de las tarifas basado en una selección de clientes relativamente pequeña. Tendrás los datos de 500 clientes de Megaline: quiénes son los clientes, de dónde son, qué tarifa usan, así como la cantidad de llamadas que hicieron y los mensajes de texto que enviaron en 2018. Tu trabajo es analizar el comportamiento de los clientes y determinar qué tarifa de prepago genera más ingresos."
   ]
  },
  {
   "cell_type": "markdown",
   "metadata": {
    "id": "VNddPNRQ0q0w"
   },
   "source": [
    "[Te proporcionamos algunos comentarios para orientarte mientras completas este proyecto. Pero debes asegurarte de eliminar todos los comentarios entre corchetes antes de entregar tu proyecto.]\n",
    "\n",
    "[Antes de sumergirte en el análisis de datos, explica por tu propia cuenta el propósito del proyecto y las acciones que planeas realizar.]\n",
    "\n",
    "[Ten en cuenta que estudiar, modificar y analizar datos es un proceso iterativo. Es normal volver a los pasos anteriores y corregirlos/ampliarlos para permitir nuevos pasos.]"
   ]
  },
  {
   "cell_type": "markdown",
   "metadata": {
    "id": "MQi4IPy70q0y"
   },
   "source": [
    "## Inicialización"
   ]
  },
  {
   "cell_type": "code",
   "execution_count": 1,
   "metadata": {
    "id": "MtYIuBxu0q0z"
   },
   "outputs": [],
   "source": [
    "# Cargar todas las librerías\n",
    "# Importar las librerías necesarias\n",
    "import pandas as pd\n",
    "import numpy as np\n",
    "import matplotlib.pyplot as plt\n",
    "import seaborn as sns\n",
    "from scipy import stats\n",
    "\n"
   ]
  },
  {
   "cell_type": "markdown",
   "metadata": {
    "id": "4ysWWC5i0q00"
   },
   "source": [
    "## Cargar datos"
   ]
  },
  {
   "cell_type": "code",
   "execution_count": 2,
   "metadata": {
    "id": "CCqPW7rS0q01"
   },
   "outputs": [],
   "source": [
    "# Carga los archivos de datos en diferentes DataFrames\n",
    "# Cargar los archivos de datos en diferentes DataFrames\n",
    "df_users = pd.read_csv(\"/datasets/megaline_users.csv\")\n",
    "df_calls = pd.read_csv(\"/datasets/megaline_calls.csv\")\n",
    "df_messages = pd.read_csv(\"/datasets/megaline_messages.csv\")\n",
    "df_internet = pd.read_csv(\"/datasets/megaline_internet.csv\")\n",
    "df_plans = pd.read_csv(\"/datasets/megaline_plans.csv\")\n",
    "\n"
   ]
  },
  {
   "cell_type": "markdown",
   "metadata": {
    "id": "69qqoJ3r0q01"
   },
   "source": [
    "## Preparar los datos"
   ]
  },
  {
   "cell_type": "markdown",
   "metadata": {
    "id": "ohBhimvH0q01"
   },
   "source": [
    "## Tarifas"
   ]
  },
  {
   "cell_type": "code",
   "execution_count": 3,
   "metadata": {
    "id": "GptqP3Q40q02"
   },
   "outputs": [
    {
     "name": "stdout",
     "output_type": "stream",
     "text": [
      "Información del DataFrame de tarifas:\n",
      "<class 'pandas.core.frame.DataFrame'>\n",
      "RangeIndex: 2 entries, 0 to 1\n",
      "Data columns (total 8 columns):\n",
      " #   Column                 Non-Null Count  Dtype  \n",
      "---  ------                 --------------  -----  \n",
      " 0   messages_included      2 non-null      int64  \n",
      " 1   mb_per_month_included  2 non-null      int64  \n",
      " 2   minutes_included       2 non-null      int64  \n",
      " 3   usd_monthly_pay        2 non-null      int64  \n",
      " 4   usd_per_gb             2 non-null      int64  \n",
      " 5   usd_per_message        2 non-null      float64\n",
      " 6   usd_per_minute         2 non-null      float64\n",
      " 7   plan_name              2 non-null      object \n",
      "dtypes: float64(2), int64(5), object(1)\n",
      "memory usage: 256.0+ bytes\n"
     ]
    }
   ],
   "source": [
    "# Imprime la información general/resumida sobre el DataFrame de las tarifas\n",
    "print(\"Información del DataFrame de tarifas:\")\n",
    "df_plans.info()\n",
    "\n"
   ]
  },
  {
   "cell_type": "code",
   "execution_count": 4,
   "metadata": {
    "id": "64xzjwL70q02"
   },
   "outputs": [
    {
     "name": "stdout",
     "output_type": "stream",
     "text": [
      "\n",
      "Muestra de los datos:\n"
     ]
    },
    {
     "data": {
      "text/html": [
       "<div>\n",
       "<style scoped>\n",
       "    .dataframe tbody tr th:only-of-type {\n",
       "        vertical-align: middle;\n",
       "    }\n",
       "\n",
       "    .dataframe tbody tr th {\n",
       "        vertical-align: top;\n",
       "    }\n",
       "\n",
       "    .dataframe thead th {\n",
       "        text-align: right;\n",
       "    }\n",
       "</style>\n",
       "<table border=\"1\" class=\"dataframe\">\n",
       "  <thead>\n",
       "    <tr style=\"text-align: right;\">\n",
       "      <th></th>\n",
       "      <th>messages_included</th>\n",
       "      <th>mb_per_month_included</th>\n",
       "      <th>minutes_included</th>\n",
       "      <th>usd_monthly_pay</th>\n",
       "      <th>usd_per_gb</th>\n",
       "      <th>usd_per_message</th>\n",
       "      <th>usd_per_minute</th>\n",
       "      <th>plan_name</th>\n",
       "    </tr>\n",
       "  </thead>\n",
       "  <tbody>\n",
       "    <tr>\n",
       "      <th>0</th>\n",
       "      <td>50</td>\n",
       "      <td>15360</td>\n",
       "      <td>500</td>\n",
       "      <td>20</td>\n",
       "      <td>10</td>\n",
       "      <td>0.03</td>\n",
       "      <td>0.03</td>\n",
       "      <td>surf</td>\n",
       "    </tr>\n",
       "    <tr>\n",
       "      <th>1</th>\n",
       "      <td>1000</td>\n",
       "      <td>30720</td>\n",
       "      <td>3000</td>\n",
       "      <td>70</td>\n",
       "      <td>7</td>\n",
       "      <td>0.01</td>\n",
       "      <td>0.01</td>\n",
       "      <td>ultimate</td>\n",
       "    </tr>\n",
       "  </tbody>\n",
       "</table>\n",
       "</div>"
      ],
      "text/plain": [
       "   messages_included  mb_per_month_included  minutes_included  \\\n",
       "0                 50                  15360               500   \n",
       "1               1000                  30720              3000   \n",
       "\n",
       "   usd_monthly_pay  usd_per_gb  usd_per_message  usd_per_minute plan_name  \n",
       "0               20          10             0.03            0.03      surf  \n",
       "1               70           7             0.01            0.01  ultimate  "
      ]
     },
     "metadata": {},
     "output_type": "display_data"
    }
   ],
   "source": [
    "# Imprime una muestra de los datos para las tarifas\n",
    "print(\"\\nMuestra de los datos:\")\n",
    "display(df_plans.head())\n",
    "\n",
    "\n"
   ]
  },
  {
   "cell_type": "markdown",
   "metadata": {
    "id": "mEc_3_hs0q02"
   },
   "source": [
    "Observaciones en los datos:\n",
    "\n",
    "No hay valores nulos en las tarifas → No se requiere limpieza en ese aspecto.\n",
    "Los tipos de datos son correctos → Todos los valores numéricos están en int64 o float64, y los nombres de los planes en object, lo cual es adecuado.\n",
    "Diferencia en la nomenclatura de columnas → La columna usd_monthly_pay debería llamarse usd_monthly_fee para ser consistente con el diccionario de datos.\n",
    "Diferencias significativas entre los planes:\n",
    "surf es más económico mensualmente pero tiene costos más altos por uso adicional.\n",
    "ultimate es más caro mensualmente pero ofrece más beneficios y precios más bajos por uso adicional.\n",
    "Esto puede influir en la percepción de qué plan genera más ingresos, dependiendo del comportamiento de los clientes.\n",
    "Posibles problemas:\n",
    "\n",
    "Nombre inconsistente de columna → usd_monthly_pay debería ser usd_monthly_fee.\n",
    "Solo dos planes de tarifas → Puede limitar la variabilidad en el análisis.\n",
    "Los precios por minuto, mensaje y GB difieren significativamente → Se debe analizar si estos valores afectan los ingresos de manera significativa.\n",
    "\n",
    "¿Cómo se puede arreglar?\n",
    "\n",
    "Renombrar la columna para mayor claridad:\n",
    "python\n",
    "Copiar\n",
    "Editar\n",
    "df_plans.rename(columns={'usd_monthly_pay': 'usd_monthly_fee'}, inplace=True)\n",
    "Verificar que los valores sean correctos comparándolos con la documentación disponible o con el equipo de datos.\n",
    "Realizar un análisis exploratorio para ver cómo impactan los diferentes costos en el comportamiento de los clientes:\n",
    "Analizar el consumo promedio de minutos, SMS y datos por plan.\n",
    "Comparar los ingresos generados por cada plan.\n",
    "Hacer una prueba de hipótesis para determinar si las diferencias de ingresos entre surf y ultimate son significativas.\n"
   ]
  },
  {
   "cell_type": "markdown",
   "metadata": {
    "id": "R3C05i1l0q03"
   },
   "source": [
    "## Corregir datos"
   ]
  },
  {
   "cell_type": "code",
   "execution_count": 5,
   "metadata": {
    "id": "Y7SVmjGn0q03"
   },
   "outputs": [
    {
     "data": {
      "image/png": "[encoded data removed]",
      "text/plain": [
       "<Figure size 1000x500 with 1 Axes>"
      ]
     },
     "metadata": {},
     "output_type": "display_data"
    },
    {
     "data": {
      "text/html": [
       "<div>\n",
       "<style scoped>\n",
       "    .dataframe tbody tr th:only-of-type {\n",
       "        vertical-align: middle;\n",
       "    }\n",
       "\n",
       "    .dataframe tbody tr th {\n",
       "        vertical-align: top;\n",
       "    }\n",
       "\n",
       "    .dataframe thead th {\n",
       "        text-align: right;\n",
       "    }\n",
       "</style>\n",
       "<table border=\"1\" class=\"dataframe\">\n",
       "  <thead>\n",
       "    <tr style=\"text-align: right;\">\n",
       "      <th></th>\n",
       "      <th>messages_included</th>\n",
       "      <th>mb_per_month_included</th>\n",
       "      <th>minutes_included</th>\n",
       "      <th>usd_monthly_fee</th>\n",
       "      <th>usd_per_gb</th>\n",
       "      <th>usd_per_message</th>\n",
       "      <th>usd_per_minute</th>\n",
       "    </tr>\n",
       "  </thead>\n",
       "  <tbody>\n",
       "    <tr>\n",
       "      <th>count</th>\n",
       "      <td>2.000000</td>\n",
       "      <td>2.000000</td>\n",
       "      <td>2.000000</td>\n",
       "      <td>2.000000</td>\n",
       "      <td>2.00000</td>\n",
       "      <td>2.000000</td>\n",
       "      <td>2.000000</td>\n",
       "    </tr>\n",
       "    <tr>\n",
       "      <th>mean</th>\n",
       "      <td>525.000000</td>\n",
       "      <td>23040.000000</td>\n",
       "      <td>1750.000000</td>\n",
       "      <td>45.000000</td>\n",
       "      <td>8.50000</td>\n",
       "      <td>0.020000</td>\n",
       "      <td>0.020000</td>\n",
       "    </tr>\n",
       "    <tr>\n",
       "      <th>std</th>\n",
       "      <td>671.751442</td>\n",
       "      <td>10861.160159</td>\n",
       "      <td>1767.766953</td>\n",
       "      <td>35.355339</td>\n",
       "      <td>2.12132</td>\n",
       "      <td>0.014142</td>\n",
       "      <td>0.014142</td>\n",
       "    </tr>\n",
       "    <tr>\n",
       "      <th>min</th>\n",
       "      <td>50.000000</td>\n",
       "      <td>15360.000000</td>\n",
       "      <td>500.000000</td>\n",
       "      <td>20.000000</td>\n",
       "      <td>7.00000</td>\n",
       "      <td>0.010000</td>\n",
       "      <td>0.010000</td>\n",
       "    </tr>\n",
       "    <tr>\n",
       "      <th>25%</th>\n",
       "      <td>287.500000</td>\n",
       "      <td>19200.000000</td>\n",
       "      <td>1125.000000</td>\n",
       "      <td>32.500000</td>\n",
       "      <td>7.75000</td>\n",
       "      <td>0.015000</td>\n",
       "      <td>0.015000</td>\n",
       "    </tr>\n",
       "    <tr>\n",
       "      <th>50%</th>\n",
       "      <td>525.000000</td>\n",
       "      <td>23040.000000</td>\n",
       "      <td>1750.000000</td>\n",
       "      <td>45.000000</td>\n",
       "      <td>8.50000</td>\n",
       "      <td>0.020000</td>\n",
       "      <td>0.020000</td>\n",
       "    </tr>\n",
       "    <tr>\n",
       "      <th>75%</th>\n",
       "      <td>762.500000</td>\n",
       "      <td>26880.000000</td>\n",
       "      <td>2375.000000</td>\n",
       "      <td>57.500000</td>\n",
       "      <td>9.25000</td>\n",
       "      <td>0.025000</td>\n",
       "      <td>0.025000</td>\n",
       "    </tr>\n",
       "    <tr>\n",
       "      <th>max</th>\n",
       "      <td>1000.000000</td>\n",
       "      <td>30720.000000</td>\n",
       "      <td>3000.000000</td>\n",
       "      <td>70.000000</td>\n",
       "      <td>10.00000</td>\n",
       "      <td>0.030000</td>\n",
       "      <td>0.030000</td>\n",
       "    </tr>\n",
       "  </tbody>\n",
       "</table>\n",
       "</div>"
      ],
      "text/plain": [
       "       messages_included  mb_per_month_included  minutes_included  \\\n",
       "count           2.000000               2.000000          2.000000   \n",
       "mean          525.000000           23040.000000       1750.000000   \n",
       "std           671.751442           10861.160159       1767.766953   \n",
       "min            50.000000           15360.000000        500.000000   \n",
       "25%           287.500000           19200.000000       1125.000000   \n",
       "50%           525.000000           23040.000000       1750.000000   \n",
       "75%           762.500000           26880.000000       2375.000000   \n",
       "max          1000.000000           30720.000000       3000.000000   \n",
       "\n",
       "       usd_monthly_fee  usd_per_gb  usd_per_message  usd_per_minute  \n",
       "count         2.000000     2.00000         2.000000        2.000000  \n",
       "mean         45.000000     8.50000         0.020000        0.020000  \n",
       "std          35.355339     2.12132         0.014142        0.014142  \n",
       "min          20.000000     7.00000         0.010000        0.010000  \n",
       "25%          32.500000     7.75000         0.015000        0.015000  \n",
       "50%          45.000000     8.50000         0.020000        0.020000  \n",
       "75%          57.500000     9.25000         0.025000        0.025000  \n",
       "max          70.000000    10.00000         0.030000        0.030000  "
      ]
     },
     "metadata": {},
     "output_type": "display_data"
    },
    {
     "name": "stdout",
     "output_type": "stream",
     "text": [
      "Número de filas duplicadas en df_plans: 0\n"
     ]
    }
   ],
   "source": [
    "# Renombrar la columna 'usd_monthly_pay' a 'usd_monthly_fee' para mantener consistencia\n",
    "df_plans.rename(columns={'usd_monthly_pay': 'usd_monthly_fee'}, inplace=True)\n",
    "\n",
    "# Verificar valores atípicos en los precios y beneficios de los planes\n",
    "numeric_columns = ['usd_monthly_fee', 'usd_per_gb', 'usd_per_message', 'usd_per_minute',\n",
    "                   'minutes_included', 'messages_included', 'mb_per_month_included']\n",
    "\n",
    "plt.figure(figsize=(10, 5))\n",
    "sns.boxplot(data=df_plans[numeric_columns])\n",
    "plt.title(\"Detección de valores atípicos en las tarifas\")\n",
    "plt.xticks(rotation=45)\n",
    "plt.show()\n",
    "\n",
    "# Mostrar los valores estadísticos de las columnas numéricas para detección de anomalías\n",
    "display(df_plans.describe())\n",
    "\n",
    "# Revisar si hay duplicados\n",
    "print(\"Número de filas duplicadas en df_plans:\", df_plans.duplicated().sum())\n",
    "\n",
    "# Guardar los cambios en el DataFrame corregido\n",
    "df_plans_cleaned = df_plans.copy()\n"
   ]
  },
  {
   "cell_type": "markdown",
   "metadata": {
    "id": "LJir7bml0q03"
   },
   "source": [
    "## Enriquecer los datos"
   ]
  },
  {
   "cell_type": "code",
   "execution_count": 6,
   "metadata": {
    "id": "gfcIEuXV0q04"
   },
   "outputs": [
    {
     "data": {
      "text/html": [
       "<div>\n",
       "<style scoped>\n",
       "    .dataframe tbody tr th:only-of-type {\n",
       "        vertical-align: middle;\n",
       "    }\n",
       "\n",
       "    .dataframe tbody tr th {\n",
       "        vertical-align: top;\n",
       "    }\n",
       "\n",
       "    .dataframe thead th {\n",
       "        text-align: right;\n",
       "    }\n",
       "</style>\n",
       "<table border=\"1\" class=\"dataframe\">\n",
       "  <thead>\n",
       "    <tr style=\"text-align: right;\">\n",
       "      <th></th>\n",
       "      <th>messages_included</th>\n",
       "      <th>mb_per_month_included</th>\n",
       "      <th>minutes_included</th>\n",
       "      <th>usd_monthly_fee</th>\n",
       "      <th>usd_per_gb</th>\n",
       "      <th>usd_per_message</th>\n",
       "      <th>usd_per_minute</th>\n",
       "      <th>plan_name</th>\n",
       "      <th>gb_per_month_included</th>\n",
       "      <th>cost_per_extra_minute</th>\n",
       "      <th>cost_per_extra_gb</th>\n",
       "    </tr>\n",
       "  </thead>\n",
       "  <tbody>\n",
       "    <tr>\n",
       "      <th>0</th>\n",
       "      <td>50</td>\n",
       "      <td>15360</td>\n",
       "      <td>500</td>\n",
       "      <td>20</td>\n",
       "      <td>10</td>\n",
       "      <td>0.03</td>\n",
       "      <td>0.03</td>\n",
       "      <td>surf</td>\n",
       "      <td>15.0</td>\n",
       "      <td>15.0</td>\n",
       "      <td>150.0</td>\n",
       "    </tr>\n",
       "    <tr>\n",
       "      <th>1</th>\n",
       "      <td>1000</td>\n",
       "      <td>30720</td>\n",
       "      <td>3000</td>\n",
       "      <td>70</td>\n",
       "      <td>7</td>\n",
       "      <td>0.01</td>\n",
       "      <td>0.01</td>\n",
       "      <td>ultimate</td>\n",
       "      <td>30.0</td>\n",
       "      <td>30.0</td>\n",
       "      <td>210.0</td>\n",
       "    </tr>\n",
       "  </tbody>\n",
       "</table>\n",
       "</div>"
      ],
      "text/plain": [
       "   messages_included  mb_per_month_included  minutes_included  \\\n",
       "0                 50                  15360               500   \n",
       "1               1000                  30720              3000   \n",
       "\n",
       "   usd_monthly_fee  usd_per_gb  usd_per_message  usd_per_minute plan_name  \\\n",
       "0               20          10             0.03            0.03      surf   \n",
       "1               70           7             0.01            0.01  ultimate   \n",
       "\n",
       "   gb_per_month_included  cost_per_extra_minute  cost_per_extra_gb  \n",
       "0                   15.0                   15.0              150.0  \n",
       "1                   30.0                   30.0              210.0  "
      ]
     },
     "metadata": {},
     "output_type": "display_data"
    }
   ],
   "source": [
    "# Agregar una nueva columna que convierta los datos incluidos de MB a GB para una mejor interpretación\n",
    "df_plans_cleaned['gb_per_month_included'] = df_plans_cleaned['mb_per_month_included'] / 1024\n",
    "\n",
    "# Agregar una columna con el costo por minuto después de usar los minutos incluidos\n",
    "df_plans_cleaned['cost_per_extra_minute'] = df_plans_cleaned['usd_per_minute'] * df_plans_cleaned['minutes_included']\n",
    "\n",
    "# Agregar una columna con el costo por GB después de usar los datos incluidos\n",
    "df_plans_cleaned['cost_per_extra_gb'] = df_plans_cleaned['usd_per_gb'] * df_plans_cleaned['gb_per_month_included']\n",
    "\n",
    "# Ver los cambios\n",
    "display(df_plans_cleaned)\n"
   ]
  },
  {
   "cell_type": "markdown",
   "metadata": {
    "id": "1n2X6WXf0q04"
   },
   "source": [
    "## Usuarios/as"
   ]
  },
  {
   "cell_type": "code",
   "execution_count": 8,
   "metadata": {
    "id": "2NgjWFqx0q05"
   },
   "outputs": [
    {
     "name": "stdout",
     "output_type": "stream",
     "text": [
      "Información del DataFrame de usuarios:\n",
      "<class 'pandas.core.frame.DataFrame'>\n",
      "RangeIndex: 500 entries, 0 to 499\n",
      "Data columns (total 8 columns):\n",
      " #   Column      Non-Null Count  Dtype \n",
      "---  ------      --------------  ----- \n",
      " 0   user_id     500 non-null    int64 \n",
      " 1   first_name  500 non-null    object\n",
      " 2   last_name   500 non-null    object\n",
      " 3   age         500 non-null    int64 \n",
      " 4   city        500 non-null    object\n",
      " 5   reg_date    500 non-null    object\n",
      " 6   plan        500 non-null    object\n",
      " 7   churn_date  34 non-null     object\n",
      "dtypes: int64(2), object(6)\n",
      "memory usage: 31.4+ KB\n"
     ]
    }
   ],
   "source": [
    "# Imprimir la información general/resumida sobre el DataFrame de usuarios\n",
    "print(\"Información del DataFrame de usuarios:\")\n",
    "df_users.info()\n",
    "\n",
    "\n",
    "\n"
   ]
  },
  {
   "cell_type": "code",
   "execution_count": 9,
   "metadata": {
    "id": "1IN1L9uh0q05"
   },
   "outputs": [
    {
     "name": "stdout",
     "output_type": "stream",
     "text": [
      "\n",
      "Muestra de datos:\n"
     ]
    },
    {
     "data": {
      "text/html": [
       "<div>\n",
       "<style scoped>\n",
       "    .dataframe tbody tr th:only-of-type {\n",
       "        vertical-align: middle;\n",
       "    }\n",
       "\n",
       "    .dataframe tbody tr th {\n",
       "        vertical-align: top;\n",
       "    }\n",
       "\n",
       "    .dataframe thead th {\n",
       "        text-align: right;\n",
       "    }\n",
       "</style>\n",
       "<table border=\"1\" class=\"dataframe\">\n",
       "  <thead>\n",
       "    <tr style=\"text-align: right;\">\n",
       "      <th></th>\n",
       "      <th>user_id</th>\n",
       "      <th>first_name</th>\n",
       "      <th>last_name</th>\n",
       "      <th>age</th>\n",
       "      <th>city</th>\n",
       "      <th>reg_date</th>\n",
       "      <th>plan</th>\n",
       "      <th>churn_date</th>\n",
       "    </tr>\n",
       "  </thead>\n",
       "  <tbody>\n",
       "    <tr>\n",
       "      <th>0</th>\n",
       "      <td>1000</td>\n",
       "      <td>Anamaria</td>\n",
       "      <td>Bauer</td>\n",
       "      <td>45</td>\n",
       "      <td>Atlanta-Sandy Springs-Roswell, GA MSA</td>\n",
       "      <td>2018-12-24</td>\n",
       "      <td>ultimate</td>\n",
       "      <td>NaN</td>\n",
       "    </tr>\n",
       "    <tr>\n",
       "      <th>1</th>\n",
       "      <td>1001</td>\n",
       "      <td>Mickey</td>\n",
       "      <td>Wilkerson</td>\n",
       "      <td>28</td>\n",
       "      <td>Seattle-Tacoma-Bellevue, WA MSA</td>\n",
       "      <td>2018-08-13</td>\n",
       "      <td>surf</td>\n",
       "      <td>NaN</td>\n",
       "    </tr>\n",
       "    <tr>\n",
       "      <th>2</th>\n",
       "      <td>1002</td>\n",
       "      <td>Carlee</td>\n",
       "      <td>Hoffman</td>\n",
       "      <td>36</td>\n",
       "      <td>Las Vegas-Henderson-Paradise, NV MSA</td>\n",
       "      <td>2018-10-21</td>\n",
       "      <td>surf</td>\n",
       "      <td>NaN</td>\n",
       "    </tr>\n",
       "    <tr>\n",
       "      <th>3</th>\n",
       "      <td>1003</td>\n",
       "      <td>Reynaldo</td>\n",
       "      <td>Jenkins</td>\n",
       "      <td>52</td>\n",
       "      <td>Tulsa, OK MSA</td>\n",
       "      <td>2018-01-28</td>\n",
       "      <td>surf</td>\n",
       "      <td>NaN</td>\n",
       "    </tr>\n",
       "    <tr>\n",
       "      <th>4</th>\n",
       "      <td>1004</td>\n",
       "      <td>Leonila</td>\n",
       "      <td>Thompson</td>\n",
       "      <td>40</td>\n",
       "      <td>Seattle-Tacoma-Bellevue, WA MSA</td>\n",
       "      <td>2018-05-23</td>\n",
       "      <td>surf</td>\n",
       "      <td>NaN</td>\n",
       "    </tr>\n",
       "  </tbody>\n",
       "</table>\n",
       "</div>"
      ],
      "text/plain": [
       "   user_id first_name  last_name  age                                   city  \\\n",
       "0     1000   Anamaria      Bauer   45  Atlanta-Sandy Springs-Roswell, GA MSA   \n",
       "1     1001     Mickey  Wilkerson   28        Seattle-Tacoma-Bellevue, WA MSA   \n",
       "2     1002     Carlee    Hoffman   36   Las Vegas-Henderson-Paradise, NV MSA   \n",
       "3     1003   Reynaldo    Jenkins   52                          Tulsa, OK MSA   \n",
       "4     1004    Leonila   Thompson   40        Seattle-Tacoma-Bellevue, WA MSA   \n",
       "\n",
       "     reg_date      plan churn_date  \n",
       "0  2018-12-24  ultimate        NaN  \n",
       "1  2018-08-13      surf        NaN  \n",
       "2  2018-10-21      surf        NaN  \n",
       "3  2018-01-28      surf        NaN  \n",
       "4  2018-05-23      surf        NaN  "
      ]
     },
     "metadata": {},
     "output_type": "display_data"
    },
    {
     "name": "stdout",
     "output_type": "stream",
     "text": [
      "\n",
      "Valores nulos por columna:\n",
      "user_id         0\n",
      "first_name      0\n",
      "last_name       0\n",
      "age             0\n",
      "city            0\n",
      "reg_date        0\n",
      "plan            0\n",
      "churn_date    466\n",
      "dtype: int64\n",
      "\n",
      "Número de filas duplicadas en df_users: 0\n"
     ]
    },
    {
     "data": {
      "text/html": [
       "<div>\n",
       "<style scoped>\n",
       "    .dataframe tbody tr th:only-of-type {\n",
       "        vertical-align: middle;\n",
       "    }\n",
       "\n",
       "    .dataframe tbody tr th {\n",
       "        vertical-align: top;\n",
       "    }\n",
       "\n",
       "    .dataframe thead th {\n",
       "        text-align: right;\n",
       "    }\n",
       "</style>\n",
       "<table border=\"1\" class=\"dataframe\">\n",
       "  <thead>\n",
       "    <tr style=\"text-align: right;\">\n",
       "      <th></th>\n",
       "      <th>user_id</th>\n",
       "      <th>age</th>\n",
       "    </tr>\n",
       "  </thead>\n",
       "  <tbody>\n",
       "    <tr>\n",
       "      <th>count</th>\n",
       "      <td>500.000000</td>\n",
       "      <td>500.000000</td>\n",
       "    </tr>\n",
       "    <tr>\n",
       "      <th>mean</th>\n",
       "      <td>1249.500000</td>\n",
       "      <td>45.486000</td>\n",
       "    </tr>\n",
       "    <tr>\n",
       "      <th>std</th>\n",
       "      <td>144.481833</td>\n",
       "      <td>16.972269</td>\n",
       "    </tr>\n",
       "    <tr>\n",
       "      <th>min</th>\n",
       "      <td>1000.000000</td>\n",
       "      <td>18.000000</td>\n",
       "    </tr>\n",
       "    <tr>\n",
       "      <th>25%</th>\n",
       "      <td>1124.750000</td>\n",
       "      <td>30.000000</td>\n",
       "    </tr>\n",
       "    <tr>\n",
       "      <th>50%</th>\n",
       "      <td>1249.500000</td>\n",
       "      <td>46.000000</td>\n",
       "    </tr>\n",
       "    <tr>\n",
       "      <th>75%</th>\n",
       "      <td>1374.250000</td>\n",
       "      <td>61.000000</td>\n",
       "    </tr>\n",
       "    <tr>\n",
       "      <th>max</th>\n",
       "      <td>1499.000000</td>\n",
       "      <td>75.000000</td>\n",
       "    </tr>\n",
       "  </tbody>\n",
       "</table>\n",
       "</div>"
      ],
      "text/plain": [
       "           user_id         age\n",
       "count   500.000000  500.000000\n",
       "mean   1249.500000   45.486000\n",
       "std     144.481833   16.972269\n",
       "min    1000.000000   18.000000\n",
       "25%    1124.750000   30.000000\n",
       "50%    1249.500000   46.000000\n",
       "75%    1374.250000   61.000000\n",
       "max    1499.000000   75.000000"
      ]
     },
     "metadata": {},
     "output_type": "display_data"
    }
   ],
   "source": [
    "# Imprimir una muestra de los datos para los usuarios\n",
    "print(\"\\nMuestra de datos:\")\n",
    "display(df_users.head())\n",
    "\n",
    "# Revisar valores nulos en cada columna\n",
    "print(\"\\nValores nulos por columna:\")\n",
    "print(df_users.isnull().sum())\n",
    "\n",
    "# Verificar duplicados\n",
    "print(\"\\nNúmero de filas duplicadas en df_users:\", df_users.duplicated().sum())\n",
    "\n",
    "# Analizar estadísticas descriptivas para detectar anomalías\n",
    "display(df_users.describe())"
   ]
  },
  {
   "cell_type": "markdown",
   "metadata": {
    "id": "dCZoUq4f0q06"
   },
   "source": [
    "1. Observaciones generales\n",
    "Cantidad de registros: 500 usuarios.\n",
    "No hay valores nulos en la mayoría de las columnas, excepto en churn_date, que tiene 466 valores nulos.\n",
    "No hay filas duplicadas, lo que indica que la base de datos está bien estructurada en cuanto a unicidad.\n",
    "Los tipos de datos son correctos, aunque reg_date y churn_date deberían estar en formato datetime para facilitar el análisis.\n",
    "2. Posibles problemas detectados\n",
    "Valores nulos en churn_date (466 de 500)\n",
    "\n",
    "Esto es esperable, ya que muchos usuarios pueden seguir activos en el servicio.\n",
    "Solución: Reemplazar valores nulos con \"Activo\" para indicar que el usuario aún usa el servicio.\n",
    "Formato de fechas (reg_date y churn_date)\n",
    "\n",
    "Actualmente están en formato object, lo que puede dificultar cálculos de antigüedad y análisis de cancelaciones.\n",
    "Solución: Convertir a datetime con pd.to_datetime().\n",
    "Distribución de edades\n",
    "\n",
    "La edad mínima es 18 años y la máxima 75 años, lo cual parece razonable.\n",
    "La media de edad es 45 años, con una desviación estándar de 16.97, indicando una distribución amplia.\n",
    "No se detectan valores atípicos evidentes.\n",
    "Verificación de nombres de planes (plan)\n",
    "\n",
    "Dado que solo hay dos tarifas (surf y ultimate), es importante verificar que no haya errores tipográficos.\n",
    "Solución: Normalizar los nombres de los planes a minúsculas para evitar inconsistencias.\n"
   ]
  },
  {
   "cell_type": "markdown",
   "metadata": {
    "id": "BX5FQh_I0q06"
   },
   "source": [
    "### Corregir los datos"
   ]
  },
  {
   "cell_type": "code",
   "execution_count": 10,
   "metadata": {
    "id": "yUqX-K0C0q07"
   },
   "outputs": [
    {
     "data": {
      "text/html": [
       "<div>\n",
       "<style scoped>\n",
       "    .dataframe tbody tr th:only-of-type {\n",
       "        vertical-align: middle;\n",
       "    }\n",
       "\n",
       "    .dataframe tbody tr th {\n",
       "        vertical-align: top;\n",
       "    }\n",
       "\n",
       "    .dataframe thead th {\n",
       "        text-align: right;\n",
       "    }\n",
       "</style>\n",
       "<table border=\"1\" class=\"dataframe\">\n",
       "  <thead>\n",
       "    <tr style=\"text-align: right;\">\n",
       "      <th></th>\n",
       "      <th>user_id</th>\n",
       "      <th>first_name</th>\n",
       "      <th>last_name</th>\n",
       "      <th>age</th>\n",
       "      <th>city</th>\n",
       "      <th>reg_date</th>\n",
       "      <th>plan</th>\n",
       "      <th>churn_date</th>\n",
       "    </tr>\n",
       "  </thead>\n",
       "  <tbody>\n",
       "    <tr>\n",
       "      <th>0</th>\n",
       "      <td>1000</td>\n",
       "      <td>Anamaria</td>\n",
       "      <td>Bauer</td>\n",
       "      <td>45</td>\n",
       "      <td>Atlanta-Sandy Springs-Roswell, GA MSA</td>\n",
       "      <td>2018-12-24</td>\n",
       "      <td>ultimate</td>\n",
       "      <td>Activo</td>\n",
       "    </tr>\n",
       "    <tr>\n",
       "      <th>1</th>\n",
       "      <td>1001</td>\n",
       "      <td>Mickey</td>\n",
       "      <td>Wilkerson</td>\n",
       "      <td>28</td>\n",
       "      <td>Seattle-Tacoma-Bellevue, WA MSA</td>\n",
       "      <td>2018-08-13</td>\n",
       "      <td>surf</td>\n",
       "      <td>Activo</td>\n",
       "    </tr>\n",
       "    <tr>\n",
       "      <th>2</th>\n",
       "      <td>1002</td>\n",
       "      <td>Carlee</td>\n",
       "      <td>Hoffman</td>\n",
       "      <td>36</td>\n",
       "      <td>Las Vegas-Henderson-Paradise, NV MSA</td>\n",
       "      <td>2018-10-21</td>\n",
       "      <td>surf</td>\n",
       "      <td>Activo</td>\n",
       "    </tr>\n",
       "    <tr>\n",
       "      <th>3</th>\n",
       "      <td>1003</td>\n",
       "      <td>Reynaldo</td>\n",
       "      <td>Jenkins</td>\n",
       "      <td>52</td>\n",
       "      <td>Tulsa, OK MSA</td>\n",
       "      <td>2018-01-28</td>\n",
       "      <td>surf</td>\n",
       "      <td>Activo</td>\n",
       "    </tr>\n",
       "    <tr>\n",
       "      <th>4</th>\n",
       "      <td>1004</td>\n",
       "      <td>Leonila</td>\n",
       "      <td>Thompson</td>\n",
       "      <td>40</td>\n",
       "      <td>Seattle-Tacoma-Bellevue, WA MSA</td>\n",
       "      <td>2018-05-23</td>\n",
       "      <td>surf</td>\n",
       "      <td>Activo</td>\n",
       "    </tr>\n",
       "  </tbody>\n",
       "</table>\n",
       "</div>"
      ],
      "text/plain": [
       "   user_id first_name  last_name  age                                   city  \\\n",
       "0     1000   Anamaria      Bauer   45  Atlanta-Sandy Springs-Roswell, GA MSA   \n",
       "1     1001     Mickey  Wilkerson   28        Seattle-Tacoma-Bellevue, WA MSA   \n",
       "2     1002     Carlee    Hoffman   36   Las Vegas-Henderson-Paradise, NV MSA   \n",
       "3     1003   Reynaldo    Jenkins   52                          Tulsa, OK MSA   \n",
       "4     1004    Leonila   Thompson   40        Seattle-Tacoma-Bellevue, WA MSA   \n",
       "\n",
       "    reg_date      plan churn_date  \n",
       "0 2018-12-24  ultimate     Activo  \n",
       "1 2018-08-13      surf     Activo  \n",
       "2 2018-10-21      surf     Activo  \n",
       "3 2018-01-28      surf     Activo  \n",
       "4 2018-05-23      surf     Activo  "
      ]
     },
     "metadata": {},
     "output_type": "display_data"
    },
    {
     "name": "stdout",
     "output_type": "stream",
     "text": [
      "\n",
      "Valores nulos por columna después de la corrección:\n",
      "user_id       0\n",
      "first_name    0\n",
      "last_name     0\n",
      "age           0\n",
      "city          0\n",
      "reg_date      0\n",
      "plan          0\n",
      "churn_date    0\n",
      "dtype: int64\n"
     ]
    }
   ],
   "source": [
    "# Convertir las fechas a tipo datetime\n",
    "df_users['reg_date'] = pd.to_datetime(df_users['reg_date'])\n",
    "df_users['churn_date'] = pd.to_datetime(df_users['churn_date'])\n",
    "\n",
    "# Reemplazar valores nulos en churn_date con \"Activo\" para indicar que el usuario sigue en el servicio\n",
    "df_users['churn_date'].fillna(\"Activo\", inplace=True)\n",
    "\n",
    "# Normalizar los nombres de los planes (convertir a minúsculas)\n",
    "df_users['plan'] = df_users['plan'].str.lower()\n",
    "\n",
    "# Verificar los cambios\n",
    "display(df_users.head())\n",
    "\n",
    "# Confirmar que no haya valores nulos después de la corrección\n",
    "print(\"\\nValores nulos por columna después de la corrección:\")\n",
    "print(df_users.isnull().sum())\n"
   ]
  },
  {
   "cell_type": "markdown",
   "metadata": {
    "id": "ycwuARJp0q07"
   },
   "source": [
    "### Enriquecer los datos"
   ]
  },
  {
   "cell_type": "code",
   "execution_count": 11,
   "metadata": {
    "id": "iq0AaBS90q08"
   },
   "outputs": [
    {
     "data": {
      "text/html": [
       "<div>\n",
       "<style scoped>\n",
       "    .dataframe tbody tr th:only-of-type {\n",
       "        vertical-align: middle;\n",
       "    }\n",
       "\n",
       "    .dataframe tbody tr th {\n",
       "        vertical-align: top;\n",
       "    }\n",
       "\n",
       "    .dataframe thead th {\n",
       "        text-align: right;\n",
       "    }\n",
       "</style>\n",
       "<table border=\"1\" class=\"dataframe\">\n",
       "  <thead>\n",
       "    <tr style=\"text-align: right;\">\n",
       "      <th></th>\n",
       "      <th>user_id</th>\n",
       "      <th>first_name</th>\n",
       "      <th>last_name</th>\n",
       "      <th>age</th>\n",
       "      <th>city</th>\n",
       "      <th>reg_date</th>\n",
       "      <th>plan</th>\n",
       "      <th>churn_date</th>\n",
       "      <th>tenure_months</th>\n",
       "      <th>status</th>\n",
       "    </tr>\n",
       "  </thead>\n",
       "  <tbody>\n",
       "    <tr>\n",
       "      <th>0</th>\n",
       "      <td>1000</td>\n",
       "      <td>Anamaria</td>\n",
       "      <td>Bauer</td>\n",
       "      <td>45</td>\n",
       "      <td>Atlanta-Sandy Springs-Roswell, GA MSA</td>\n",
       "      <td>2018-12-24</td>\n",
       "      <td>ultimate</td>\n",
       "      <td>Activo</td>\n",
       "      <td>0</td>\n",
       "      <td>Activo</td>\n",
       "    </tr>\n",
       "    <tr>\n",
       "      <th>1</th>\n",
       "      <td>1001</td>\n",
       "      <td>Mickey</td>\n",
       "      <td>Wilkerson</td>\n",
       "      <td>28</td>\n",
       "      <td>Seattle-Tacoma-Bellevue, WA MSA</td>\n",
       "      <td>2018-08-13</td>\n",
       "      <td>surf</td>\n",
       "      <td>Activo</td>\n",
       "      <td>4</td>\n",
       "      <td>Activo</td>\n",
       "    </tr>\n",
       "    <tr>\n",
       "      <th>2</th>\n",
       "      <td>1002</td>\n",
       "      <td>Carlee</td>\n",
       "      <td>Hoffman</td>\n",
       "      <td>36</td>\n",
       "      <td>Las Vegas-Henderson-Paradise, NV MSA</td>\n",
       "      <td>2018-10-21</td>\n",
       "      <td>surf</td>\n",
       "      <td>Activo</td>\n",
       "      <td>2</td>\n",
       "      <td>Activo</td>\n",
       "    </tr>\n",
       "    <tr>\n",
       "      <th>3</th>\n",
       "      <td>1003</td>\n",
       "      <td>Reynaldo</td>\n",
       "      <td>Jenkins</td>\n",
       "      <td>52</td>\n",
       "      <td>Tulsa, OK MSA</td>\n",
       "      <td>2018-01-28</td>\n",
       "      <td>surf</td>\n",
       "      <td>Activo</td>\n",
       "      <td>11</td>\n",
       "      <td>Activo</td>\n",
       "    </tr>\n",
       "    <tr>\n",
       "      <th>4</th>\n",
       "      <td>1004</td>\n",
       "      <td>Leonila</td>\n",
       "      <td>Thompson</td>\n",
       "      <td>40</td>\n",
       "      <td>Seattle-Tacoma-Bellevue, WA MSA</td>\n",
       "      <td>2018-05-23</td>\n",
       "      <td>surf</td>\n",
       "      <td>Activo</td>\n",
       "      <td>7</td>\n",
       "      <td>Activo</td>\n",
       "    </tr>\n",
       "  </tbody>\n",
       "</table>\n",
       "</div>"
      ],
      "text/plain": [
       "   user_id first_name  last_name  age                                   city  \\\n",
       "0     1000   Anamaria      Bauer   45  Atlanta-Sandy Springs-Roswell, GA MSA   \n",
       "1     1001     Mickey  Wilkerson   28        Seattle-Tacoma-Bellevue, WA MSA   \n",
       "2     1002     Carlee    Hoffman   36   Las Vegas-Henderson-Paradise, NV MSA   \n",
       "3     1003   Reynaldo    Jenkins   52                          Tulsa, OK MSA   \n",
       "4     1004    Leonila   Thompson   40        Seattle-Tacoma-Bellevue, WA MSA   \n",
       "\n",
       "    reg_date      plan churn_date  tenure_months  status  \n",
       "0 2018-12-24  ultimate     Activo              0  Activo  \n",
       "1 2018-08-13      surf     Activo              4  Activo  \n",
       "2 2018-10-21      surf     Activo              2  Activo  \n",
       "3 2018-01-28      surf     Activo             11  Activo  \n",
       "4 2018-05-23      surf     Activo              7  Activo  "
      ]
     },
     "metadata": {},
     "output_type": "display_data"
    }
   ],
   "source": [
    "# Crear una nueva columna 'tenure' que indique la antigüedad del usuario en meses\n",
    "df_users['tenure_months'] = ((pd.to_datetime(\"2018-12-31\") - df_users['reg_date']).dt.days / 30).astype(int)\n",
    "\n",
    "# Crear una columna que clasifique a los usuarios en activos/inactivos\n",
    "df_users['status'] = df_users['churn_date'].apply(lambda x: 'Inactivo' if x != 'Activo' else 'Activo')\n",
    "\n",
    "# Ver los cambios\n",
    "display(df_users.head())\n"
   ]
  },
  {
   "cell_type": "markdown",
   "metadata": {
    "id": "o7MeKCid0q08"
   },
   "source": [
    "## Llamadas"
   ]
  },
  {
   "cell_type": "code",
   "execution_count": 12,
   "metadata": {
    "id": "6dDlnoDm0q08"
   },
   "outputs": [
    {
     "name": "stdout",
     "output_type": "stream",
     "text": [
      "Información del DataFrame de llamadas:\n",
      "<class 'pandas.core.frame.DataFrame'>\n",
      "RangeIndex: 137735 entries, 0 to 137734\n",
      "Data columns (total 4 columns):\n",
      " #   Column     Non-Null Count   Dtype  \n",
      "---  ------     --------------   -----  \n",
      " 0   id         137735 non-null  object \n",
      " 1   user_id    137735 non-null  int64  \n",
      " 2   call_date  137735 non-null  object \n",
      " 3   duration   137735 non-null  float64\n",
      "dtypes: float64(1), int64(1), object(2)\n",
      "memory usage: 4.2+ MB\n"
     ]
    }
   ],
   "source": [
    "# Imprimir la información general/resumida sobre el DataFrame de llamadas\n",
    "print(\"Información del DataFrame de llamadas:\")\n",
    "df_calls.info()\n",
    "\n",
    "\n",
    "\n"
   ]
  },
  {
   "cell_type": "code",
   "execution_count": 13,
   "metadata": {
    "id": "kuh1vlNB0q09"
   },
   "outputs": [
    {
     "name": "stdout",
     "output_type": "stream",
     "text": [
      "\n",
      "Muestra de datos:\n"
     ]
    },
    {
     "data": {
      "text/html": [
       "<div>\n",
       "<style scoped>\n",
       "    .dataframe tbody tr th:only-of-type {\n",
       "        vertical-align: middle;\n",
       "    }\n",
       "\n",
       "    .dataframe tbody tr th {\n",
       "        vertical-align: top;\n",
       "    }\n",
       "\n",
       "    .dataframe thead th {\n",
       "        text-align: right;\n",
       "    }\n",
       "</style>\n",
       "<table border=\"1\" class=\"dataframe\">\n",
       "  <thead>\n",
       "    <tr style=\"text-align: right;\">\n",
       "      <th></th>\n",
       "      <th>id</th>\n",
       "      <th>user_id</th>\n",
       "      <th>call_date</th>\n",
       "      <th>duration</th>\n",
       "    </tr>\n",
       "  </thead>\n",
       "  <tbody>\n",
       "    <tr>\n",
       "      <th>0</th>\n",
       "      <td>1000_93</td>\n",
       "      <td>1000</td>\n",
       "      <td>2018-12-27</td>\n",
       "      <td>8.52</td>\n",
       "    </tr>\n",
       "    <tr>\n",
       "      <th>1</th>\n",
       "      <td>1000_145</td>\n",
       "      <td>1000</td>\n",
       "      <td>2018-12-27</td>\n",
       "      <td>13.66</td>\n",
       "    </tr>\n",
       "    <tr>\n",
       "      <th>2</th>\n",
       "      <td>1000_247</td>\n",
       "      <td>1000</td>\n",
       "      <td>2018-12-27</td>\n",
       "      <td>14.48</td>\n",
       "    </tr>\n",
       "    <tr>\n",
       "      <th>3</th>\n",
       "      <td>1000_309</td>\n",
       "      <td>1000</td>\n",
       "      <td>2018-12-28</td>\n",
       "      <td>5.76</td>\n",
       "    </tr>\n",
       "    <tr>\n",
       "      <th>4</th>\n",
       "      <td>1000_380</td>\n",
       "      <td>1000</td>\n",
       "      <td>2018-12-30</td>\n",
       "      <td>4.22</td>\n",
       "    </tr>\n",
       "  </tbody>\n",
       "</table>\n",
       "</div>"
      ],
      "text/plain": [
       "         id  user_id   call_date  duration\n",
       "0   1000_93     1000  2018-12-27      8.52\n",
       "1  1000_145     1000  2018-12-27     13.66\n",
       "2  1000_247     1000  2018-12-27     14.48\n",
       "3  1000_309     1000  2018-12-28      5.76\n",
       "4  1000_380     1000  2018-12-30      4.22"
      ]
     },
     "metadata": {},
     "output_type": "display_data"
    },
    {
     "name": "stdout",
     "output_type": "stream",
     "text": [
      "\n",
      "Valores nulos por columna:\n",
      "id           0\n",
      "user_id      0\n",
      "call_date    0\n",
      "duration     0\n",
      "dtype: int64\n",
      "\n",
      "Número de filas duplicadas en df_calls: 0\n"
     ]
    },
    {
     "data": {
      "text/html": [
       "<div>\n",
       "<style scoped>\n",
       "    .dataframe tbody tr th:only-of-type {\n",
       "        vertical-align: middle;\n",
       "    }\n",
       "\n",
       "    .dataframe tbody tr th {\n",
       "        vertical-align: top;\n",
       "    }\n",
       "\n",
       "    .dataframe thead th {\n",
       "        text-align: right;\n",
       "    }\n",
       "</style>\n",
       "<table border=\"1\" class=\"dataframe\">\n",
       "  <thead>\n",
       "    <tr style=\"text-align: right;\">\n",
       "      <th></th>\n",
       "      <th>user_id</th>\n",
       "      <th>duration</th>\n",
       "    </tr>\n",
       "  </thead>\n",
       "  <tbody>\n",
       "    <tr>\n",
       "      <th>count</th>\n",
       "      <td>137735.000000</td>\n",
       "      <td>137735.000000</td>\n",
       "    </tr>\n",
       "    <tr>\n",
       "      <th>mean</th>\n",
       "      <td>1247.658046</td>\n",
       "      <td>6.745927</td>\n",
       "    </tr>\n",
       "    <tr>\n",
       "      <th>std</th>\n",
       "      <td>139.416268</td>\n",
       "      <td>5.839241</td>\n",
       "    </tr>\n",
       "    <tr>\n",
       "      <th>min</th>\n",
       "      <td>1000.000000</td>\n",
       "      <td>0.000000</td>\n",
       "    </tr>\n",
       "    <tr>\n",
       "      <th>25%</th>\n",
       "      <td>1128.000000</td>\n",
       "      <td>1.290000</td>\n",
       "    </tr>\n",
       "    <tr>\n",
       "      <th>50%</th>\n",
       "      <td>1247.000000</td>\n",
       "      <td>5.980000</td>\n",
       "    </tr>\n",
       "    <tr>\n",
       "      <th>75%</th>\n",
       "      <td>1365.000000</td>\n",
       "      <td>10.690000</td>\n",
       "    </tr>\n",
       "    <tr>\n",
       "      <th>max</th>\n",
       "      <td>1499.000000</td>\n",
       "      <td>37.600000</td>\n",
       "    </tr>\n",
       "  </tbody>\n",
       "</table>\n",
       "</div>"
      ],
      "text/plain": [
       "             user_id       duration\n",
       "count  137735.000000  137735.000000\n",
       "mean     1247.658046       6.745927\n",
       "std       139.416268       5.839241\n",
       "min      1000.000000       0.000000\n",
       "25%      1128.000000       1.290000\n",
       "50%      1247.000000       5.980000\n",
       "75%      1365.000000      10.690000\n",
       "max      1499.000000      37.600000"
      ]
     },
     "metadata": {},
     "output_type": "display_data"
    }
   ],
   "source": [
    "# Imprimir una muestra de los datos para las llamadas\n",
    "print(\"\\nMuestra de datos:\")\n",
    "display(df_calls.head())\n",
    "\n",
    "# Revisar valores nulos en cada columna\n",
    "print(\"\\nValores nulos por columna:\")\n",
    "print(df_calls.isnull().sum())\n",
    "\n",
    "# Verificar duplicados\n",
    "print(\"\\nNúmero de filas duplicadas en df_calls:\", df_calls.duplicated().sum())\n",
    "\n",
    "# Analizar estadísticas descriptivas para detectar anomalías\n",
    "display(df_calls.describe())\n"
   ]
  },
  {
   "cell_type": "markdown",
   "metadata": {
    "id": "DOAxYJSx0q09"
   },
   "source": [
    "Observaciones generales\n",
    "No hay valores nulos en ninguna columna, lo cual es positivo.\n",
    "No hay filas duplicadas, lo que indica que los datos están bien estructurados.\n",
    "Formato de datos:\n",
    "call_date fue convertido correctamente a datetime.\n",
    "id sigue en formato object, lo cual es válido ya que contiene guiones bajos (_).\n",
    "user_id y duration están en tipos correctos (int64 y float64).\n",
    "Posibles problemas detectados\n",
    "Llamadas con duración 0.00\n",
    "\n",
    "El mínimo en duration es 0.00, lo que indica que existen llamadas que no tuvieron duración (posiblemente llamadas fallidas, no contestadas o colgadas de inmediato).\n",
    "Solución: Se debe evaluar si estas llamadas aportan valor al análisis o si deben eliminarse.\n",
    "Valores atípicos en la duración de las llamadas\n",
    "\n",
    "La duración media de las llamadas es 6.74 minutos, con una desviación estándar de 5.83 minutos.\n",
    "El valor máximo de duración es 37.6 minutos, lo que es alto pero no necesariamente un error.\n",
    "Solución: Se recomienda hacer una exploración visual con un boxplot para detectar valores extremos."
   ]
  },
  {
   "cell_type": "markdown",
   "metadata": {
    "id": "S7hzxmbX0q0-"
   },
   "source": [
    "### Corregir los datos"
   ]
  },
  {
   "cell_type": "code",
   "execution_count": 14,
   "metadata": {
    "id": "S2r8xA4f0q0-"
   },
   "outputs": [
    {
     "data": {
      "image/png": "[encoded data removed]",
      "text/plain": [
       "<Figure size 1000x500 with 1 Axes>"
      ]
     },
     "metadata": {},
     "output_type": "display_data"
    },
    {
     "data": {
      "text/html": [
       "<div>\n",
       "<style scoped>\n",
       "    .dataframe tbody tr th:only-of-type {\n",
       "        vertical-align: middle;\n",
       "    }\n",
       "\n",
       "    .dataframe tbody tr th {\n",
       "        vertical-align: top;\n",
       "    }\n",
       "\n",
       "    .dataframe thead th {\n",
       "        text-align: right;\n",
       "    }\n",
       "</style>\n",
       "<table border=\"1\" class=\"dataframe\">\n",
       "  <thead>\n",
       "    <tr style=\"text-align: right;\">\n",
       "      <th></th>\n",
       "      <th>user_id</th>\n",
       "      <th>duration</th>\n",
       "    </tr>\n",
       "  </thead>\n",
       "  <tbody>\n",
       "    <tr>\n",
       "      <th>count</th>\n",
       "      <td>110901.000000</td>\n",
       "      <td>110901.000000</td>\n",
       "    </tr>\n",
       "    <tr>\n",
       "      <th>mean</th>\n",
       "      <td>1247.511871</td>\n",
       "      <td>8.378196</td>\n",
       "    </tr>\n",
       "    <tr>\n",
       "      <th>std</th>\n",
       "      <td>139.475249</td>\n",
       "      <td>5.354567</td>\n",
       "    </tr>\n",
       "    <tr>\n",
       "      <th>min</th>\n",
       "      <td>1000.000000</td>\n",
       "      <td>0.010000</td>\n",
       "    </tr>\n",
       "    <tr>\n",
       "      <th>25%</th>\n",
       "      <td>1127.000000</td>\n",
       "      <td>4.150000</td>\n",
       "    </tr>\n",
       "    <tr>\n",
       "      <th>50%</th>\n",
       "      <td>1247.000000</td>\n",
       "      <td>7.710000</td>\n",
       "    </tr>\n",
       "    <tr>\n",
       "      <th>75%</th>\n",
       "      <td>1365.000000</td>\n",
       "      <td>11.820000</td>\n",
       "    </tr>\n",
       "    <tr>\n",
       "      <th>max</th>\n",
       "      <td>1499.000000</td>\n",
       "      <td>37.600000</td>\n",
       "    </tr>\n",
       "  </tbody>\n",
       "</table>\n",
       "</div>"
      ],
      "text/plain": [
       "             user_id       duration\n",
       "count  110901.000000  110901.000000\n",
       "mean     1247.511871       8.378196\n",
       "std       139.475249       5.354567\n",
       "min      1000.000000       0.010000\n",
       "25%      1127.000000       4.150000\n",
       "50%      1247.000000       7.710000\n",
       "75%      1365.000000      11.820000\n",
       "max      1499.000000      37.600000"
      ]
     },
     "metadata": {},
     "output_type": "display_data"
    }
   ],
   "source": [
    "# Convertir la columna call_date a tipo datetime\n",
    "df_calls['call_date'] = pd.to_datetime(df_calls['call_date'])\n",
    "\n",
    "# Eliminar llamadas con duración 0 si no aportan valor al análisis\n",
    "df_calls = df_calls[df_calls['duration'] > 0]\n",
    "\n",
    "# Verificar valores atípicos en duración\n",
    "import matplotlib.pyplot as plt\n",
    "import seaborn as sns\n",
    "\n",
    "plt.figure(figsize=(10,5))\n",
    "sns.boxplot(x=df_calls['duration'])\n",
    "plt.title(\"Distribución de la duración de llamadas después de la limpieza\")\n",
    "plt.show()\n",
    "\n",
    "# Mostrar estadísticas después de la corrección\n",
    "display(df_calls.describe())\n"
   ]
  },
  {
   "cell_type": "markdown",
   "metadata": {
    "id": "KrMgTrlG0q0_"
   },
   "source": [
    "### Enriquecer los datos"
   ]
  },
  {
   "cell_type": "code",
   "execution_count": 15,
   "metadata": {
    "id": "iZ1avpA_0q0_"
   },
   "outputs": [
    {
     "data": {
      "text/html": [
       "<div>\n",
       "<style scoped>\n",
       "    .dataframe tbody tr th:only-of-type {\n",
       "        vertical-align: middle;\n",
       "    }\n",
       "\n",
       "    .dataframe tbody tr th {\n",
       "        vertical-align: top;\n",
       "    }\n",
       "\n",
       "    .dataframe thead th {\n",
       "        text-align: right;\n",
       "    }\n",
       "</style>\n",
       "<table border=\"1\" class=\"dataframe\">\n",
       "  <thead>\n",
       "    <tr style=\"text-align: right;\">\n",
       "      <th></th>\n",
       "      <th>user_id</th>\n",
       "      <th>month</th>\n",
       "      <th>total_duration</th>\n",
       "    </tr>\n",
       "  </thead>\n",
       "  <tbody>\n",
       "    <tr>\n",
       "      <th>0</th>\n",
       "      <td>1000</td>\n",
       "      <td>12</td>\n",
       "      <td>116.83</td>\n",
       "    </tr>\n",
       "    <tr>\n",
       "      <th>1</th>\n",
       "      <td>1001</td>\n",
       "      <td>8</td>\n",
       "      <td>171.14</td>\n",
       "    </tr>\n",
       "    <tr>\n",
       "      <th>2</th>\n",
       "      <td>1001</td>\n",
       "      <td>9</td>\n",
       "      <td>297.69</td>\n",
       "    </tr>\n",
       "    <tr>\n",
       "      <th>3</th>\n",
       "      <td>1001</td>\n",
       "      <td>10</td>\n",
       "      <td>374.11</td>\n",
       "    </tr>\n",
       "    <tr>\n",
       "      <th>4</th>\n",
       "      <td>1001</td>\n",
       "      <td>11</td>\n",
       "      <td>404.59</td>\n",
       "    </tr>\n",
       "  </tbody>\n",
       "</table>\n",
       "</div>"
      ],
      "text/plain": [
       "   user_id  month  total_duration\n",
       "0     1000     12          116.83\n",
       "1     1001      8          171.14\n",
       "2     1001      9          297.69\n",
       "3     1001     10          374.11\n",
       "4     1001     11          404.59"
      ]
     },
     "metadata": {},
     "output_type": "display_data"
    }
   ],
   "source": [
    "# Extraer el mes de cada llamada para análisis temporal\n",
    "df_calls['month'] = df_calls['call_date'].dt.month\n",
    "\n",
    "# Calcular la duración total de llamadas por usuario y mes\n",
    "calls_per_month = df_calls.groupby(['user_id', 'month'])['duration'].sum().reset_index()\n",
    "calls_per_month.rename(columns={'duration': 'total_duration'}, inplace=True)\n",
    "\n",
    "# Ver los cambios\n",
    "display(calls_per_month.head())\n"
   ]
  },
  {
   "cell_type": "markdown",
   "metadata": {
    "id": "mOUZSi180q0_"
   },
   "source": [
    "## Mensajes"
   ]
  },
  {
   "cell_type": "code",
   "execution_count": 16,
   "metadata": {
    "id": "R-bYJpdV0q1A"
   },
   "outputs": [
    {
     "name": "stdout",
     "output_type": "stream",
     "text": [
      "Información del DataFrame de mensajes:\n",
      "<class 'pandas.core.frame.DataFrame'>\n",
      "RangeIndex: 76051 entries, 0 to 76050\n",
      "Data columns (total 3 columns):\n",
      " #   Column        Non-Null Count  Dtype \n",
      "---  ------        --------------  ----- \n",
      " 0   id            76051 non-null  object\n",
      " 1   user_id       76051 non-null  int64 \n",
      " 2   message_date  76051 non-null  object\n",
      "dtypes: int64(1), object(2)\n",
      "memory usage: 1.7+ MB\n"
     ]
    }
   ],
   "source": [
    "# Imprimir la información general/resumida sobre el DataFrame de mensajes\n",
    "print(\"Información del DataFrame de mensajes:\")\n",
    "df_messages.info()\n",
    "\n",
    "\n"
   ]
  },
  {
   "cell_type": "code",
   "execution_count": 17,
   "metadata": {
    "id": "mCEl2iGE0q1A"
   },
   "outputs": [
    {
     "name": "stdout",
     "output_type": "stream",
     "text": [
      "\n",
      "Muestra de datos:\n"
     ]
    },
    {
     "data": {
      "text/html": [
       "<div>\n",
       "<style scoped>\n",
       "    .dataframe tbody tr th:only-of-type {\n",
       "        vertical-align: middle;\n",
       "    }\n",
       "\n",
       "    .dataframe tbody tr th {\n",
       "        vertical-align: top;\n",
       "    }\n",
       "\n",
       "    .dataframe thead th {\n",
       "        text-align: right;\n",
       "    }\n",
       "</style>\n",
       "<table border=\"1\" class=\"dataframe\">\n",
       "  <thead>\n",
       "    <tr style=\"text-align: right;\">\n",
       "      <th></th>\n",
       "      <th>id</th>\n",
       "      <th>user_id</th>\n",
       "      <th>message_date</th>\n",
       "    </tr>\n",
       "  </thead>\n",
       "  <tbody>\n",
       "    <tr>\n",
       "      <th>0</th>\n",
       "      <td>1000_125</td>\n",
       "      <td>1000</td>\n",
       "      <td>2018-12-27</td>\n",
       "    </tr>\n",
       "    <tr>\n",
       "      <th>1</th>\n",
       "      <td>1000_160</td>\n",
       "      <td>1000</td>\n",
       "      <td>2018-12-31</td>\n",
       "    </tr>\n",
       "    <tr>\n",
       "      <th>2</th>\n",
       "      <td>1000_223</td>\n",
       "      <td>1000</td>\n",
       "      <td>2018-12-31</td>\n",
       "    </tr>\n",
       "    <tr>\n",
       "      <th>3</th>\n",
       "      <td>1000_251</td>\n",
       "      <td>1000</td>\n",
       "      <td>2018-12-27</td>\n",
       "    </tr>\n",
       "    <tr>\n",
       "      <th>4</th>\n",
       "      <td>1000_255</td>\n",
       "      <td>1000</td>\n",
       "      <td>2018-12-26</td>\n",
       "    </tr>\n",
       "  </tbody>\n",
       "</table>\n",
       "</div>"
      ],
      "text/plain": [
       "         id  user_id message_date\n",
       "0  1000_125     1000   2018-12-27\n",
       "1  1000_160     1000   2018-12-31\n",
       "2  1000_223     1000   2018-12-31\n",
       "3  1000_251     1000   2018-12-27\n",
       "4  1000_255     1000   2018-12-26"
      ]
     },
     "metadata": {},
     "output_type": "display_data"
    },
    {
     "name": "stdout",
     "output_type": "stream",
     "text": [
      "\n",
      "Valores nulos por columna:\n",
      "id              0\n",
      "user_id         0\n",
      "message_date    0\n",
      "dtype: int64\n",
      "\n",
      "Número de filas duplicadas en df_messages: 0\n"
     ]
    },
    {
     "data": {
      "text/html": [
       "<div>\n",
       "<style scoped>\n",
       "    .dataframe tbody tr th:only-of-type {\n",
       "        vertical-align: middle;\n",
       "    }\n",
       "\n",
       "    .dataframe tbody tr th {\n",
       "        vertical-align: top;\n",
       "    }\n",
       "\n",
       "    .dataframe thead th {\n",
       "        text-align: right;\n",
       "    }\n",
       "</style>\n",
       "<table border=\"1\" class=\"dataframe\">\n",
       "  <thead>\n",
       "    <tr style=\"text-align: right;\">\n",
       "      <th></th>\n",
       "      <th>user_id</th>\n",
       "    </tr>\n",
       "  </thead>\n",
       "  <tbody>\n",
       "    <tr>\n",
       "      <th>count</th>\n",
       "      <td>76051.000000</td>\n",
       "    </tr>\n",
       "    <tr>\n",
       "      <th>mean</th>\n",
       "      <td>1245.972768</td>\n",
       "    </tr>\n",
       "    <tr>\n",
       "      <th>std</th>\n",
       "      <td>139.843635</td>\n",
       "    </tr>\n",
       "    <tr>\n",
       "      <th>min</th>\n",
       "      <td>1000.000000</td>\n",
       "    </tr>\n",
       "    <tr>\n",
       "      <th>25%</th>\n",
       "      <td>1123.000000</td>\n",
       "    </tr>\n",
       "    <tr>\n",
       "      <th>50%</th>\n",
       "      <td>1251.000000</td>\n",
       "    </tr>\n",
       "    <tr>\n",
       "      <th>75%</th>\n",
       "      <td>1362.000000</td>\n",
       "    </tr>\n",
       "    <tr>\n",
       "      <th>max</th>\n",
       "      <td>1497.000000</td>\n",
       "    </tr>\n",
       "  </tbody>\n",
       "</table>\n",
       "</div>"
      ],
      "text/plain": [
       "            user_id\n",
       "count  76051.000000\n",
       "mean    1245.972768\n",
       "std      139.843635\n",
       "min     1000.000000\n",
       "25%     1123.000000\n",
       "50%     1251.000000\n",
       "75%     1362.000000\n",
       "max     1497.000000"
      ]
     },
     "metadata": {},
     "output_type": "display_data"
    }
   ],
   "source": [
    "# Imprimir una muestra de los datos para los mensajes\n",
    "print(\"\\nMuestra de datos:\")\n",
    "display(df_messages.head())\n",
    "\n",
    "# Revisar valores nulos en cada columna\n",
    "print(\"\\nValores nulos por columna:\")\n",
    "print(df_messages.isnull().sum())\n",
    "\n",
    "# Verificar duplicados\n",
    "print(\"\\nNúmero de filas duplicadas en df_messages:\", df_messages.duplicated().sum())\n",
    "\n",
    "# Analizar estadísticas descriptivas para detectar anomalías\n",
    "display(df_messages.describe())\n",
    "\n"
   ]
  },
  {
   "cell_type": "markdown",
   "metadata": {
    "id": "04xDj7KH0q1A"
   },
   "source": [
    "Observaciones generales\n",
    "No hay valores nulos en ninguna columna, lo que indica que los datos están completos.\n",
    "No hay filas duplicadas, lo cual es positivo.\n",
    "Formato de datos:\n",
    "message_date está correctamente formateado como datetime.\n",
    "id está en formato object, lo cual es válido si contiene caracteres como guiones bajos (_).\n",
    "user_id está en formato int64, lo que es adecuado.\n",
    "Posibles problemas detectados\n",
    "Formato de message_date\n",
    "\n",
    "Aunque parece correcto en la muestra, es recomendable asegurarse de que realmente sea un tipo datetime.\n",
    "Solución: Convertirlo a datetime con pd.to_datetime(), si no está ya en ese formato.\n",
    "Verificación de frecuencia de mensajes por usuario\n",
    "\n",
    "Se puede analizar la cantidad de mensajes enviados por usuario y por mes para detectar patrones de uso.\n"
   ]
  },
  {
   "cell_type": "markdown",
   "metadata": {
    "id": "Sprfak900q1B"
   },
   "source": [
    "### Corregir los datos"
   ]
  },
  {
   "cell_type": "code",
   "execution_count": 18,
   "metadata": {
    "id": "vsllvkoa0q1B"
   },
   "outputs": [
    {
     "name": "stdout",
     "output_type": "stream",
     "text": [
      "\n",
      "Valores nulos por columna después de la conversión:\n",
      "id              0\n",
      "user_id         0\n",
      "message_date    0\n",
      "dtype: int64\n",
      "<class 'pandas.core.frame.DataFrame'>\n",
      "RangeIndex: 76051 entries, 0 to 76050\n",
      "Data columns (total 3 columns):\n",
      " #   Column        Non-Null Count  Dtype         \n",
      "---  ------        --------------  -----         \n",
      " 0   id            76051 non-null  object        \n",
      " 1   user_id       76051 non-null  int64         \n",
      " 2   message_date  76051 non-null  datetime64[ns]\n",
      "dtypes: datetime64[ns](1), int64(1), object(1)\n",
      "memory usage: 1.7+ MB\n"
     ]
    }
   ],
   "source": [
    "# Convertir la columna message_date a tipo datetime si aún no lo está\n",
    "df_messages['message_date'] = pd.to_datetime(df_messages['message_date'])\n",
    "\n",
    "# Verificar si hay valores nulos (aunque en la exploración previa no se encontraron)\n",
    "print(\"\\nValores nulos por columna después de la conversión:\")\n",
    "print(df_messages.isnull().sum())\n",
    "\n",
    "# Verificar el tipo de datos después de la corrección\n",
    "df_messages.info()\n"
   ]
  },
  {
   "cell_type": "markdown",
   "metadata": {
    "id": "HvLid7iD0q1B"
   },
   "source": [
    "### Enriquecer los datos"
   ]
  },
  {
   "cell_type": "code",
   "execution_count": 19,
   "metadata": {
    "id": "zYEXZac10q1C"
   },
   "outputs": [
    {
     "data": {
      "text/html": [
       "<div>\n",
       "<style scoped>\n",
       "    .dataframe tbody tr th:only-of-type {\n",
       "        vertical-align: middle;\n",
       "    }\n",
       "\n",
       "    .dataframe tbody tr th {\n",
       "        vertical-align: top;\n",
       "    }\n",
       "\n",
       "    .dataframe thead th {\n",
       "        text-align: right;\n",
       "    }\n",
       "</style>\n",
       "<table border=\"1\" class=\"dataframe\">\n",
       "  <thead>\n",
       "    <tr style=\"text-align: right;\">\n",
       "      <th></th>\n",
       "      <th>user_id</th>\n",
       "      <th>month</th>\n",
       "      <th>message_count</th>\n",
       "    </tr>\n",
       "  </thead>\n",
       "  <tbody>\n",
       "    <tr>\n",
       "      <th>0</th>\n",
       "      <td>1000</td>\n",
       "      <td>12</td>\n",
       "      <td>11</td>\n",
       "    </tr>\n",
       "    <tr>\n",
       "      <th>1</th>\n",
       "      <td>1001</td>\n",
       "      <td>8</td>\n",
       "      <td>30</td>\n",
       "    </tr>\n",
       "    <tr>\n",
       "      <th>2</th>\n",
       "      <td>1001</td>\n",
       "      <td>9</td>\n",
       "      <td>44</td>\n",
       "    </tr>\n",
       "    <tr>\n",
       "      <th>3</th>\n",
       "      <td>1001</td>\n",
       "      <td>10</td>\n",
       "      <td>53</td>\n",
       "    </tr>\n",
       "    <tr>\n",
       "      <th>4</th>\n",
       "      <td>1001</td>\n",
       "      <td>11</td>\n",
       "      <td>36</td>\n",
       "    </tr>\n",
       "  </tbody>\n",
       "</table>\n",
       "</div>"
      ],
      "text/plain": [
       "   user_id  month  message_count\n",
       "0     1000     12             11\n",
       "1     1001      8             30\n",
       "2     1001      9             44\n",
       "3     1001     10             53\n",
       "4     1001     11             36"
      ]
     },
     "metadata": {},
     "output_type": "display_data"
    }
   ],
   "source": [
    "# Extraer el mes de cada mensaje para análisis temporal\n",
    "df_messages['month'] = df_messages['message_date'].dt.month\n",
    "\n",
    "# Contar la cantidad de mensajes enviados por usuario y mes\n",
    "messages_per_user = df_messages.groupby(['user_id', 'month'])['id'].count().reset_index()\n",
    "messages_per_user.rename(columns={'id': 'message_count'}, inplace=True)\n",
    "\n",
    "# Ver los cambios\n",
    "display(messages_per_user.head())\n"
   ]
  },
  {
   "cell_type": "markdown",
   "metadata": {
    "id": "bStkaxn40q1C"
   },
   "source": [
    "## Internet"
   ]
  },
  {
   "cell_type": "code",
   "execution_count": 20,
   "metadata": {
    "id": "e-Uz5qyn0q1C"
   },
   "outputs": [
    {
     "name": "stdout",
     "output_type": "stream",
     "text": [
      "Información del DataFrame de internet:\n",
      "<class 'pandas.core.frame.DataFrame'>\n",
      "RangeIndex: 104825 entries, 0 to 104824\n",
      "Data columns (total 4 columns):\n",
      " #   Column        Non-Null Count   Dtype  \n",
      "---  ------        --------------   -----  \n",
      " 0   id            104825 non-null  object \n",
      " 1   user_id       104825 non-null  int64  \n",
      " 2   session_date  104825 non-null  object \n",
      " 3   mb_used       104825 non-null  float64\n",
      "dtypes: float64(1), int64(1), object(2)\n",
      "memory usage: 3.2+ MB\n"
     ]
    }
   ],
   "source": [
    "# Imprimir la información general/resumida sobre el DataFrame de internet\n",
    "print(\"Información del DataFrame de internet:\")\n",
    "df_internet.info()\n",
    "\n"
   ]
  },
  {
   "cell_type": "code",
   "execution_count": 21,
   "metadata": {
    "id": "9r3x_XLw0q1C"
   },
   "outputs": [
    {
     "name": "stdout",
     "output_type": "stream",
     "text": [
      "\n",
      "Muestra de datos:\n"
     ]
    },
    {
     "data": {
      "text/html": [
       "<div>\n",
       "<style scoped>\n",
       "    .dataframe tbody tr th:only-of-type {\n",
       "        vertical-align: middle;\n",
       "    }\n",
       "\n",
       "    .dataframe tbody tr th {\n",
       "        vertical-align: top;\n",
       "    }\n",
       "\n",
       "    .dataframe thead th {\n",
       "        text-align: right;\n",
       "    }\n",
       "</style>\n",
       "<table border=\"1\" class=\"dataframe\">\n",
       "  <thead>\n",
       "    <tr style=\"text-align: right;\">\n",
       "      <th></th>\n",
       "      <th>id</th>\n",
       "      <th>user_id</th>\n",
       "      <th>session_date</th>\n",
       "      <th>mb_used</th>\n",
       "    </tr>\n",
       "  </thead>\n",
       "  <tbody>\n",
       "    <tr>\n",
       "      <th>0</th>\n",
       "      <td>1000_13</td>\n",
       "      <td>1000</td>\n",
       "      <td>2018-12-29</td>\n",
       "      <td>89.86</td>\n",
       "    </tr>\n",
       "    <tr>\n",
       "      <th>1</th>\n",
       "      <td>1000_204</td>\n",
       "      <td>1000</td>\n",
       "      <td>2018-12-31</td>\n",
       "      <td>0.00</td>\n",
       "    </tr>\n",
       "    <tr>\n",
       "      <th>2</th>\n",
       "      <td>1000_379</td>\n",
       "      <td>1000</td>\n",
       "      <td>2018-12-28</td>\n",
       "      <td>660.40</td>\n",
       "    </tr>\n",
       "    <tr>\n",
       "      <th>3</th>\n",
       "      <td>1000_413</td>\n",
       "      <td>1000</td>\n",
       "      <td>2018-12-26</td>\n",
       "      <td>270.99</td>\n",
       "    </tr>\n",
       "    <tr>\n",
       "      <th>4</th>\n",
       "      <td>1000_442</td>\n",
       "      <td>1000</td>\n",
       "      <td>2018-12-27</td>\n",
       "      <td>880.22</td>\n",
       "    </tr>\n",
       "  </tbody>\n",
       "</table>\n",
       "</div>"
      ],
      "text/plain": [
       "         id  user_id session_date  mb_used\n",
       "0   1000_13     1000   2018-12-29    89.86\n",
       "1  1000_204     1000   2018-12-31     0.00\n",
       "2  1000_379     1000   2018-12-28   660.40\n",
       "3  1000_413     1000   2018-12-26   270.99\n",
       "4  1000_442     1000   2018-12-27   880.22"
      ]
     },
     "metadata": {},
     "output_type": "display_data"
    },
    {
     "name": "stdout",
     "output_type": "stream",
     "text": [
      "\n",
      "Valores nulos por columna:\n",
      "id              0\n",
      "user_id         0\n",
      "session_date    0\n",
      "mb_used         0\n",
      "dtype: int64\n",
      "\n",
      "Número de filas duplicadas en df_internet: 0\n"
     ]
    },
    {
     "data": {
      "text/html": [
       "<div>\n",
       "<style scoped>\n",
       "    .dataframe tbody tr th:only-of-type {\n",
       "        vertical-align: middle;\n",
       "    }\n",
       "\n",
       "    .dataframe tbody tr th {\n",
       "        vertical-align: top;\n",
       "    }\n",
       "\n",
       "    .dataframe thead th {\n",
       "        text-align: right;\n",
       "    }\n",
       "</style>\n",
       "<table border=\"1\" class=\"dataframe\">\n",
       "  <thead>\n",
       "    <tr style=\"text-align: right;\">\n",
       "      <th></th>\n",
       "      <th>user_id</th>\n",
       "      <th>mb_used</th>\n",
       "    </tr>\n",
       "  </thead>\n",
       "  <tbody>\n",
       "    <tr>\n",
       "      <th>count</th>\n",
       "      <td>104825.000000</td>\n",
       "      <td>104825.000000</td>\n",
       "    </tr>\n",
       "    <tr>\n",
       "      <th>mean</th>\n",
       "      <td>1242.496361</td>\n",
       "      <td>366.713701</td>\n",
       "    </tr>\n",
       "    <tr>\n",
       "      <th>std</th>\n",
       "      <td>142.053913</td>\n",
       "      <td>277.170542</td>\n",
       "    </tr>\n",
       "    <tr>\n",
       "      <th>min</th>\n",
       "      <td>1000.000000</td>\n",
       "      <td>0.000000</td>\n",
       "    </tr>\n",
       "    <tr>\n",
       "      <th>25%</th>\n",
       "      <td>1122.000000</td>\n",
       "      <td>136.080000</td>\n",
       "    </tr>\n",
       "    <tr>\n",
       "      <th>50%</th>\n",
       "      <td>1236.000000</td>\n",
       "      <td>343.980000</td>\n",
       "    </tr>\n",
       "    <tr>\n",
       "      <th>75%</th>\n",
       "      <td>1367.000000</td>\n",
       "      <td>554.610000</td>\n",
       "    </tr>\n",
       "    <tr>\n",
       "      <th>max</th>\n",
       "      <td>1499.000000</td>\n",
       "      <td>1693.470000</td>\n",
       "    </tr>\n",
       "  </tbody>\n",
       "</table>\n",
       "</div>"
      ],
      "text/plain": [
       "             user_id        mb_used\n",
       "count  104825.000000  104825.000000\n",
       "mean     1242.496361     366.713701\n",
       "std       142.053913     277.170542\n",
       "min      1000.000000       0.000000\n",
       "25%      1122.000000     136.080000\n",
       "50%      1236.000000     343.980000\n",
       "75%      1367.000000     554.610000\n",
       "max      1499.000000    1693.470000"
      ]
     },
     "metadata": {},
     "output_type": "display_data"
    }
   ],
   "source": [
    "# Imprime una muestra de datos para el tráfico de internet\n",
    "\n",
    "print(\"\\nMuestra de datos:\")\n",
    "display(df_internet.head())\n",
    "\n",
    "# Revisar valores nulos en cada columna\n",
    "print(\"\\nValores nulos por columna:\")\n",
    "print(df_internet.isnull().sum())\n",
    "\n",
    "# Verificar duplicados\n",
    "print(\"\\nNúmero de filas duplicadas en df_internet:\", df_internet.duplicated().sum())\n",
    "\n",
    "# Analizar estadísticas descriptivas para detectar anomalías\n",
    "display(df_internet.describe())\n",
    "\n"
   ]
  },
  {
   "cell_type": "markdown",
   "metadata": {
    "id": "EzOG5ik30q1D"
   },
   "source": [
    "Observaciones generales\n",
    "No hay valores nulos en ninguna columna, lo cual es positivo.\n",
    "No hay filas duplicadas, lo que indica que los datos están bien estructurados.\n",
    "Formato de datos:\n",
    "session_date debería estar en formato datetime, pero aparece como object.\n",
    "id está en object, lo cual es válido si contiene caracteres como guiones bajos (_).\n",
    "user_id y mb_used están correctamente en int64 y float64, respectivamente.\n",
    "Posibles problemas detectados\n",
    "Formato incorrecto en session_date\n",
    "\n",
    "Solución: Convertirlo a datetime con pd.to_datetime().\n",
    "Consumo de datos con valores 0.00 MB\n",
    "\n",
    "Hay registros donde mb_used es 0.00, lo cual podría representar sesiones sin uso de datos o registros incorrectos.\n",
    "Solución: Se debe evaluar si estas filas aportan valor al análisis o si deben eliminarse.\n",
    "Valores atípicos en mb_used\n",
    "\n",
    "La media de uso de datos es 366.71 MB, con una desviación estándar de 277.17 MB, lo que indica una gran variabilidad en el consumo.\n",
    "El valor máximo es 1693.47 MB (casi 1.7 GB en una sola sesión), lo que parece un consumo elevado pero no necesariamente un error.\n",
    "Solución: Se recomienda visualizar la distribución con un boxplot para detectar valores extremos."
   ]
  },
  {
   "cell_type": "markdown",
   "metadata": {
    "id": "yA0tkPFg0q1D"
   },
   "source": [
    "### Corregir los datos"
   ]
  },
  {
   "cell_type": "code",
   "execution_count": 22,
   "metadata": {
    "id": "zVeanzdd0q1E"
   },
   "outputs": [
    {
     "data": {
      "image/png": "[encoded data removed]",
      "text/plain": [
       "<Figure size 1000x500 with 1 Axes>"
      ]
     },
     "metadata": {},
     "output_type": "display_data"
    },
    {
     "data": {
      "text/html": [
       "<div>\n",
       "<style scoped>\n",
       "    .dataframe tbody tr th:only-of-type {\n",
       "        vertical-align: middle;\n",
       "    }\n",
       "\n",
       "    .dataframe tbody tr th {\n",
       "        vertical-align: top;\n",
       "    }\n",
       "\n",
       "    .dataframe thead th {\n",
       "        text-align: right;\n",
       "    }\n",
       "</style>\n",
       "<table border=\"1\" class=\"dataframe\">\n",
       "  <thead>\n",
       "    <tr style=\"text-align: right;\">\n",
       "      <th></th>\n",
       "      <th>user_id</th>\n",
       "      <th>mb_used</th>\n",
       "    </tr>\n",
       "  </thead>\n",
       "  <tbody>\n",
       "    <tr>\n",
       "      <th>count</th>\n",
       "      <td>91078.000000</td>\n",
       "      <td>91078.000000</td>\n",
       "    </tr>\n",
       "    <tr>\n",
       "      <th>mean</th>\n",
       "      <td>1242.576923</td>\n",
       "      <td>422.064206</td>\n",
       "    </tr>\n",
       "    <tr>\n",
       "      <th>std</th>\n",
       "      <td>141.992374</td>\n",
       "      <td>255.063501</td>\n",
       "    </tr>\n",
       "    <tr>\n",
       "      <th>min</th>\n",
       "      <td>1000.000000</td>\n",
       "      <td>0.010000</td>\n",
       "    </tr>\n",
       "    <tr>\n",
       "      <th>25%</th>\n",
       "      <td>1122.000000</td>\n",
       "      <td>223.380000</td>\n",
       "    </tr>\n",
       "    <tr>\n",
       "      <th>50%</th>\n",
       "      <td>1236.000000</td>\n",
       "      <td>395.905000</td>\n",
       "    </tr>\n",
       "    <tr>\n",
       "      <th>75%</th>\n",
       "      <td>1367.000000</td>\n",
       "      <td>588.367500</td>\n",
       "    </tr>\n",
       "    <tr>\n",
       "      <th>max</th>\n",
       "      <td>1499.000000</td>\n",
       "      <td>1693.470000</td>\n",
       "    </tr>\n",
       "  </tbody>\n",
       "</table>\n",
       "</div>"
      ],
      "text/plain": [
       "            user_id       mb_used\n",
       "count  91078.000000  91078.000000\n",
       "mean    1242.576923    422.064206\n",
       "std      141.992374    255.063501\n",
       "min     1000.000000      0.010000\n",
       "25%     1122.000000    223.380000\n",
       "50%     1236.000000    395.905000\n",
       "75%     1367.000000    588.367500\n",
       "max     1499.000000   1693.470000"
      ]
     },
     "metadata": {},
     "output_type": "display_data"
    }
   ],
   "source": [
    "# Convertir session_date a tipo datetime si aún no lo está\n",
    "df_internet['session_date'] = pd.to_datetime(df_internet['session_date'])\n",
    "\n",
    "# Identificar y eliminar sesiones con mb_used = 0 si no aportan valor al análisis\n",
    "df_internet = df_internet[df_internet['mb_used'] > 0]\n",
    "\n",
    "# Visualizar la distribución del uso de datos después de la limpieza\n",
    "import matplotlib.pyplot as plt\n",
    "import seaborn as sns\n",
    "\n",
    "plt.figure(figsize=(10,5))\n",
    "sns.boxplot(x=df_internet['mb_used'])\n",
    "plt.title(\"Distribución del uso de datos después de la limpieza\")\n",
    "plt.show()\n",
    "\n",
    "# Mostrar estadísticas después de la corrección\n",
    "display(df_internet.describe())\n"
   ]
  },
  {
   "cell_type": "markdown",
   "metadata": {
    "id": "e8_mLF4a0q1E"
   },
   "source": [
    "### Enriquecer los datos"
   ]
  },
  {
   "cell_type": "code",
   "execution_count": 23,
   "metadata": {
    "id": "ESiYPIEK0q1E"
   },
   "outputs": [
    {
     "data": {
      "text/html": [
       "<div>\n",
       "<style scoped>\n",
       "    .dataframe tbody tr th:only-of-type {\n",
       "        vertical-align: middle;\n",
       "    }\n",
       "\n",
       "    .dataframe tbody tr th {\n",
       "        vertical-align: top;\n",
       "    }\n",
       "\n",
       "    .dataframe thead th {\n",
       "        text-align: right;\n",
       "    }\n",
       "</style>\n",
       "<table border=\"1\" class=\"dataframe\">\n",
       "  <thead>\n",
       "    <tr style=\"text-align: right;\">\n",
       "      <th></th>\n",
       "      <th>user_id</th>\n",
       "      <th>month</th>\n",
       "      <th>total_mb_used</th>\n",
       "      <th>total_gb_used</th>\n",
       "    </tr>\n",
       "  </thead>\n",
       "  <tbody>\n",
       "    <tr>\n",
       "      <th>0</th>\n",
       "      <td>1000</td>\n",
       "      <td>12</td>\n",
       "      <td>1901.47</td>\n",
       "      <td>1.856904</td>\n",
       "    </tr>\n",
       "    <tr>\n",
       "      <th>1</th>\n",
       "      <td>1001</td>\n",
       "      <td>8</td>\n",
       "      <td>6919.15</td>\n",
       "      <td>6.756982</td>\n",
       "    </tr>\n",
       "    <tr>\n",
       "      <th>2</th>\n",
       "      <td>1001</td>\n",
       "      <td>9</td>\n",
       "      <td>13314.82</td>\n",
       "      <td>13.002754</td>\n",
       "    </tr>\n",
       "    <tr>\n",
       "      <th>3</th>\n",
       "      <td>1001</td>\n",
       "      <td>10</td>\n",
       "      <td>22330.49</td>\n",
       "      <td>21.807119</td>\n",
       "    </tr>\n",
       "    <tr>\n",
       "      <th>4</th>\n",
       "      <td>1001</td>\n",
       "      <td>11</td>\n",
       "      <td>18504.30</td>\n",
       "      <td>18.070605</td>\n",
       "    </tr>\n",
       "  </tbody>\n",
       "</table>\n",
       "</div>"
      ],
      "text/plain": [
       "   user_id  month  total_mb_used  total_gb_used\n",
       "0     1000     12        1901.47       1.856904\n",
       "1     1001      8        6919.15       6.756982\n",
       "2     1001      9       13314.82      13.002754\n",
       "3     1001     10       22330.49      21.807119\n",
       "4     1001     11       18504.30      18.070605"
      ]
     },
     "metadata": {},
     "output_type": "display_data"
    }
   ],
   "source": [
    "# Extraer el mes de cada sesión para análisis temporal\n",
    "df_internet['month'] = df_internet['session_date'].dt.month\n",
    "\n",
    "# Calcular el total de datos consumidos por usuario y mes\n",
    "internet_per_user = df_internet.groupby(['user_id', 'month'])['mb_used'].sum().reset_index()\n",
    "internet_per_user.rename(columns={'mb_used': 'total_mb_used'}, inplace=True)\n",
    "\n",
    "# Convertir MB a GB para facilitar la interpretación\n",
    "internet_per_user['total_gb_used'] = internet_per_user['total_mb_used'] / 1024\n",
    "\n",
    "# Ver los cambios\n",
    "display(internet_per_user.head())\n"
   ]
  },
  {
   "cell_type": "markdown",
   "metadata": {
    "id": "3UA2cqIW0q1E"
   },
   "source": [
    "## Estudiar las condiciones de las tarifas"
   ]
  },
  {
   "cell_type": "markdown",
   "metadata": {
    "id": "T86Sqltq0q1F"
   },
   "source": [
    "[Es sumamente importante entender cómo funcionan las tarifas, cómo se les cobra a los usuarios en función de su plan de suscripción. Así que te sugerimos imprimir la información de la tarifa para ver una vez más sus condiciones.]"
   ]
  },
  {
   "cell_type": "code",
   "execution_count": 24,
   "metadata": {
    "id": "i409op8p0q1F"
   },
   "outputs": [
    {
     "name": "stdout",
     "output_type": "stream",
     "text": [
      "Información del DataFrame de tarifas:\n",
      "<class 'pandas.core.frame.DataFrame'>\n",
      "RangeIndex: 2 entries, 0 to 1\n",
      "Data columns (total 8 columns):\n",
      " #   Column                 Non-Null Count  Dtype  \n",
      "---  ------                 --------------  -----  \n",
      " 0   messages_included      2 non-null      int64  \n",
      " 1   mb_per_month_included  2 non-null      int64  \n",
      " 2   minutes_included       2 non-null      int64  \n",
      " 3   usd_monthly_fee        2 non-null      int64  \n",
      " 4   usd_per_gb             2 non-null      int64  \n",
      " 5   usd_per_message        2 non-null      float64\n",
      " 6   usd_per_minute         2 non-null      float64\n",
      " 7   plan_name              2 non-null      object \n",
      "dtypes: float64(2), int64(5), object(1)\n",
      "memory usage: 256.0+ bytes\n",
      "\n",
      "Muestra de datos de tarifas:\n"
     ]
    },
    {
     "data": {
      "text/html": [
       "<div>\n",
       "<style scoped>\n",
       "    .dataframe tbody tr th:only-of-type {\n",
       "        vertical-align: middle;\n",
       "    }\n",
       "\n",
       "    .dataframe tbody tr th {\n",
       "        vertical-align: top;\n",
       "    }\n",
       "\n",
       "    .dataframe thead th {\n",
       "        text-align: right;\n",
       "    }\n",
       "</style>\n",
       "<table border=\"1\" class=\"dataframe\">\n",
       "  <thead>\n",
       "    <tr style=\"text-align: right;\">\n",
       "      <th></th>\n",
       "      <th>messages_included</th>\n",
       "      <th>mb_per_month_included</th>\n",
       "      <th>minutes_included</th>\n",
       "      <th>usd_monthly_fee</th>\n",
       "      <th>usd_per_gb</th>\n",
       "      <th>usd_per_message</th>\n",
       "      <th>usd_per_minute</th>\n",
       "      <th>plan_name</th>\n",
       "    </tr>\n",
       "  </thead>\n",
       "  <tbody>\n",
       "    <tr>\n",
       "      <th>0</th>\n",
       "      <td>50</td>\n",
       "      <td>15360</td>\n",
       "      <td>500</td>\n",
       "      <td>20</td>\n",
       "      <td>10</td>\n",
       "      <td>0.03</td>\n",
       "      <td>0.03</td>\n",
       "      <td>surf</td>\n",
       "    </tr>\n",
       "    <tr>\n",
       "      <th>1</th>\n",
       "      <td>1000</td>\n",
       "      <td>30720</td>\n",
       "      <td>3000</td>\n",
       "      <td>70</td>\n",
       "      <td>7</td>\n",
       "      <td>0.01</td>\n",
       "      <td>0.01</td>\n",
       "      <td>ultimate</td>\n",
       "    </tr>\n",
       "  </tbody>\n",
       "</table>\n",
       "</div>"
      ],
      "text/plain": [
       "   messages_included  mb_per_month_included  minutes_included  \\\n",
       "0                 50                  15360               500   \n",
       "1               1000                  30720              3000   \n",
       "\n",
       "   usd_monthly_fee  usd_per_gb  usd_per_message  usd_per_minute plan_name  \n",
       "0               20          10             0.03            0.03      surf  \n",
       "1               70           7             0.01            0.01  ultimate  "
      ]
     },
     "metadata": {},
     "output_type": "display_data"
    },
    {
     "name": "stdout",
     "output_type": "stream",
     "text": [
      "\n",
      "Planes de tarifas disponibles:\n",
      "['surf' 'ultimate']\n",
      "\n",
      "Condiciones de cada plan:\n"
     ]
    },
    {
     "data": {
      "text/html": [
       "<div>\n",
       "<style scoped>\n",
       "    .dataframe tbody tr th:only-of-type {\n",
       "        vertical-align: middle;\n",
       "    }\n",
       "\n",
       "    .dataframe tbody tr th {\n",
       "        vertical-align: top;\n",
       "    }\n",
       "\n",
       "    .dataframe thead th {\n",
       "        text-align: right;\n",
       "    }\n",
       "</style>\n",
       "<table border=\"1\" class=\"dataframe\">\n",
       "  <thead>\n",
       "    <tr style=\"text-align: right;\">\n",
       "      <th></th>\n",
       "      <th>messages_included</th>\n",
       "      <th>mb_per_month_included</th>\n",
       "      <th>minutes_included</th>\n",
       "      <th>usd_monthly_fee</th>\n",
       "      <th>usd_per_gb</th>\n",
       "      <th>usd_per_message</th>\n",
       "      <th>usd_per_minute</th>\n",
       "      <th>plan_name</th>\n",
       "    </tr>\n",
       "  </thead>\n",
       "  <tbody>\n",
       "    <tr>\n",
       "      <th>0</th>\n",
       "      <td>50</td>\n",
       "      <td>15360</td>\n",
       "      <td>500</td>\n",
       "      <td>20</td>\n",
       "      <td>10</td>\n",
       "      <td>0.03</td>\n",
       "      <td>0.03</td>\n",
       "      <td>surf</td>\n",
       "    </tr>\n",
       "    <tr>\n",
       "      <th>1</th>\n",
       "      <td>1000</td>\n",
       "      <td>30720</td>\n",
       "      <td>3000</td>\n",
       "      <td>70</td>\n",
       "      <td>7</td>\n",
       "      <td>0.01</td>\n",
       "      <td>0.01</td>\n",
       "      <td>ultimate</td>\n",
       "    </tr>\n",
       "  </tbody>\n",
       "</table>\n",
       "</div>"
      ],
      "text/plain": [
       "   messages_included  mb_per_month_included  minutes_included  \\\n",
       "0                 50                  15360               500   \n",
       "1               1000                  30720              3000   \n",
       "\n",
       "   usd_monthly_fee  usd_per_gb  usd_per_message  usd_per_minute plan_name  \n",
       "0               20          10             0.03            0.03      surf  \n",
       "1               70           7             0.01            0.01  ultimate  "
      ]
     },
     "metadata": {},
     "output_type": "display_data"
    },
    {
     "data": {
      "text/html": [
       "<div>\n",
       "<style scoped>\n",
       "    .dataframe tbody tr th:only-of-type {\n",
       "        vertical-align: middle;\n",
       "    }\n",
       "\n",
       "    .dataframe tbody tr th {\n",
       "        vertical-align: top;\n",
       "    }\n",
       "\n",
       "    .dataframe thead th {\n",
       "        text-align: right;\n",
       "    }\n",
       "</style>\n",
       "<table border=\"1\" class=\"dataframe\">\n",
       "  <thead>\n",
       "    <tr style=\"text-align: right;\">\n",
       "      <th></th>\n",
       "      <th>messages_included</th>\n",
       "      <th>mb_per_month_included</th>\n",
       "      <th>minutes_included</th>\n",
       "      <th>usd_monthly_fee</th>\n",
       "      <th>usd_per_gb</th>\n",
       "      <th>usd_per_message</th>\n",
       "      <th>usd_per_minute</th>\n",
       "      <th>plan_name</th>\n",
       "      <th>gb_per_month_included</th>\n",
       "    </tr>\n",
       "  </thead>\n",
       "  <tbody>\n",
       "    <tr>\n",
       "      <th>0</th>\n",
       "      <td>50</td>\n",
       "      <td>15360</td>\n",
       "      <td>500</td>\n",
       "      <td>20</td>\n",
       "      <td>10</td>\n",
       "      <td>0.03</td>\n",
       "      <td>0.03</td>\n",
       "      <td>surf</td>\n",
       "      <td>15.0</td>\n",
       "    </tr>\n",
       "    <tr>\n",
       "      <th>1</th>\n",
       "      <td>1000</td>\n",
       "      <td>30720</td>\n",
       "      <td>3000</td>\n",
       "      <td>70</td>\n",
       "      <td>7</td>\n",
       "      <td>0.01</td>\n",
       "      <td>0.01</td>\n",
       "      <td>ultimate</td>\n",
       "      <td>30.0</td>\n",
       "    </tr>\n",
       "  </tbody>\n",
       "</table>\n",
       "</div>"
      ],
      "text/plain": [
       "   messages_included  mb_per_month_included  minutes_included  \\\n",
       "0                 50                  15360               500   \n",
       "1               1000                  30720              3000   \n",
       "\n",
       "   usd_monthly_fee  usd_per_gb  usd_per_message  usd_per_minute plan_name  \\\n",
       "0               20          10             0.03            0.03      surf   \n",
       "1               70           7             0.01            0.01  ultimate   \n",
       "\n",
       "   gb_per_month_included  \n",
       "0                   15.0  \n",
       "1                   30.0  "
      ]
     },
     "metadata": {},
     "output_type": "display_data"
    }
   ],
   "source": [
    "# Imprime las condiciones de la tarifa y asegúrate de que te quedan claras\n",
    "# Mostrar la información general de las tarifas\n",
    "print(\"Información del DataFrame de tarifas:\")\n",
    "df_plans.info()\n",
    "\n",
    "# Imprimir una muestra de los planes disponibles\n",
    "print(\"\\nMuestra de datos de tarifas:\")\n",
    "display(df_plans.head())\n",
    "\n",
    "# Revisar los valores únicos de los planes\n",
    "print(\"\\nPlanes de tarifas disponibles:\")\n",
    "print(df_plans['plan_name'].unique())\n",
    "\n",
    "# Mostrar las condiciones de cada tarifa\n",
    "print(\"\\nCondiciones de cada plan:\")\n",
    "display(df_plans)\n",
    "\n",
    "# Convertir MB incluidos en el plan a GB\n",
    "df_plans['gb_per_month_included'] = df_plans['mb_per_month_included'] / 1024\n",
    "\n",
    "# Mostrar la tabla con los valores convertidos\n",
    "display(df_plans)\n",
    "\n"
   ]
  },
  {
   "cell_type": "markdown",
   "metadata": {
    "id": "hMR1tP5d0q1F"
   },
   "source": [
    "## Agregar datos por usuario\n",
    "\n",
    "[Ahora que los datos están limpios, agrega los datos por usuario y por periodo para que solo haya un registro por usuario y por periodo. Esto facilitará mucho el análisis posterior.]"
   ]
  },
  {
   "cell_type": "code",
   "execution_count": 25,
   "metadata": {
    "id": "A332cedB0q1G"
   },
   "outputs": [
    {
     "data": {
      "text/html": [
       "<div>\n",
       "<style scoped>\n",
       "    .dataframe tbody tr th:only-of-type {\n",
       "        vertical-align: middle;\n",
       "    }\n",
       "\n",
       "    .dataframe tbody tr th {\n",
       "        vertical-align: top;\n",
       "    }\n",
       "\n",
       "    .dataframe thead th {\n",
       "        text-align: right;\n",
       "    }\n",
       "</style>\n",
       "<table border=\"1\" class=\"dataframe\">\n",
       "  <thead>\n",
       "    <tr style=\"text-align: right;\">\n",
       "      <th></th>\n",
       "      <th>user_id</th>\n",
       "      <th>month</th>\n",
       "      <th>num_calls</th>\n",
       "    </tr>\n",
       "  </thead>\n",
       "  <tbody>\n",
       "    <tr>\n",
       "      <th>0</th>\n",
       "      <td>1000</td>\n",
       "      <td>12</td>\n",
       "      <td>16</td>\n",
       "    </tr>\n",
       "    <tr>\n",
       "      <th>1</th>\n",
       "      <td>1001</td>\n",
       "      <td>8</td>\n",
       "      <td>22</td>\n",
       "    </tr>\n",
       "    <tr>\n",
       "      <th>2</th>\n",
       "      <td>1001</td>\n",
       "      <td>9</td>\n",
       "      <td>38</td>\n",
       "    </tr>\n",
       "    <tr>\n",
       "      <th>3</th>\n",
       "      <td>1001</td>\n",
       "      <td>10</td>\n",
       "      <td>47</td>\n",
       "    </tr>\n",
       "    <tr>\n",
       "      <th>4</th>\n",
       "      <td>1001</td>\n",
       "      <td>11</td>\n",
       "      <td>49</td>\n",
       "    </tr>\n",
       "  </tbody>\n",
       "</table>\n",
       "</div>"
      ],
      "text/plain": [
       "   user_id  month  num_calls\n",
       "0     1000     12         16\n",
       "1     1001      8         22\n",
       "2     1001      9         38\n",
       "3     1001     10         47\n",
       "4     1001     11         49"
      ]
     },
     "metadata": {},
     "output_type": "display_data"
    }
   ],
   "source": [
    "# Calcula el número de llamadas hechas por cada usuario al mes. Guarda el resultado.\n",
    "# Extraer el mes de cada llamada\n",
    "df_calls['month'] = df_calls['call_date'].dt.month\n",
    "\n",
    "# Contar el número de llamadas realizadas por cada usuario al mes\n",
    "calls_per_user = df_calls.groupby(['user_id', 'month'])['id'].count().reset_index()\n",
    "calls_per_user.rename(columns={'id': 'num_calls'}, inplace=True)\n",
    "\n",
    "# Ver los cambios\n",
    "display(calls_per_user.head())\n",
    "\n"
   ]
  },
  {
   "cell_type": "code",
   "execution_count": 28,
   "metadata": {
    "id": "aw2cmuql0q1G"
   },
   "outputs": [
    {
     "data": {
      "text/html": [
       "<div>\n",
       "<style scoped>\n",
       "    .dataframe tbody tr th:only-of-type {\n",
       "        vertical-align: middle;\n",
       "    }\n",
       "\n",
       "    .dataframe tbody tr th {\n",
       "        vertical-align: top;\n",
       "    }\n",
       "\n",
       "    .dataframe thead th {\n",
       "        text-align: right;\n",
       "    }\n",
       "</style>\n",
       "<table border=\"1\" class=\"dataframe\">\n",
       "  <thead>\n",
       "    <tr style=\"text-align: right;\">\n",
       "      <th></th>\n",
       "      <th>user_id</th>\n",
       "      <th>month</th>\n",
       "      <th>total_minutes</th>\n",
       "    </tr>\n",
       "  </thead>\n",
       "  <tbody>\n",
       "    <tr>\n",
       "      <th>0</th>\n",
       "      <td>1000</td>\n",
       "      <td>12</td>\n",
       "      <td>116.83</td>\n",
       "    </tr>\n",
       "    <tr>\n",
       "      <th>1</th>\n",
       "      <td>1001</td>\n",
       "      <td>8</td>\n",
       "      <td>171.14</td>\n",
       "    </tr>\n",
       "    <tr>\n",
       "      <th>2</th>\n",
       "      <td>1001</td>\n",
       "      <td>9</td>\n",
       "      <td>297.69</td>\n",
       "    </tr>\n",
       "    <tr>\n",
       "      <th>3</th>\n",
       "      <td>1001</td>\n",
       "      <td>10</td>\n",
       "      <td>374.11</td>\n",
       "    </tr>\n",
       "    <tr>\n",
       "      <th>4</th>\n",
       "      <td>1001</td>\n",
       "      <td>11</td>\n",
       "      <td>404.59</td>\n",
       "    </tr>\n",
       "  </tbody>\n",
       "</table>\n",
       "</div>"
      ],
      "text/plain": [
       "   user_id  month  total_minutes\n",
       "0     1000     12         116.83\n",
       "1     1001      8         171.14\n",
       "2     1001      9         297.69\n",
       "3     1001     10         374.11\n",
       "4     1001     11         404.59"
      ]
     },
     "metadata": {},
     "output_type": "display_data"
    }
   ],
   "source": [
    "# Calcula la cantidad de minutos usados por cada usuario al mes. Guarda el resultado.\n",
    "# Calcular la cantidad total de minutos usados por usuario y mes\n",
    "minutes_per_user = df_calls.groupby(['user_id', 'month'])['duration'].sum().reset_index()\n",
    "minutes_per_user.rename(columns={'duration': 'total_minutes'}, inplace=True)\n",
    "\n",
    "# Ver los cambios\n",
    "display(minutes_per_user.head())\n",
    "\n"
   ]
  },
  {
   "cell_type": "code",
   "execution_count": 29,
   "metadata": {
    "id": "CcQvNHn60q1G"
   },
   "outputs": [
    {
     "data": {
      "text/html": [
       "<div>\n",
       "<style scoped>\n",
       "    .dataframe tbody tr th:only-of-type {\n",
       "        vertical-align: middle;\n",
       "    }\n",
       "\n",
       "    .dataframe tbody tr th {\n",
       "        vertical-align: top;\n",
       "    }\n",
       "\n",
       "    .dataframe thead th {\n",
       "        text-align: right;\n",
       "    }\n",
       "</style>\n",
       "<table border=\"1\" class=\"dataframe\">\n",
       "  <thead>\n",
       "    <tr style=\"text-align: right;\">\n",
       "      <th></th>\n",
       "      <th>user_id</th>\n",
       "      <th>month</th>\n",
       "      <th>num_messages</th>\n",
       "    </tr>\n",
       "  </thead>\n",
       "  <tbody>\n",
       "    <tr>\n",
       "      <th>0</th>\n",
       "      <td>1000</td>\n",
       "      <td>12</td>\n",
       "      <td>11</td>\n",
       "    </tr>\n",
       "    <tr>\n",
       "      <th>1</th>\n",
       "      <td>1001</td>\n",
       "      <td>8</td>\n",
       "      <td>30</td>\n",
       "    </tr>\n",
       "    <tr>\n",
       "      <th>2</th>\n",
       "      <td>1001</td>\n",
       "      <td>9</td>\n",
       "      <td>44</td>\n",
       "    </tr>\n",
       "    <tr>\n",
       "      <th>3</th>\n",
       "      <td>1001</td>\n",
       "      <td>10</td>\n",
       "      <td>53</td>\n",
       "    </tr>\n",
       "    <tr>\n",
       "      <th>4</th>\n",
       "      <td>1001</td>\n",
       "      <td>11</td>\n",
       "      <td>36</td>\n",
       "    </tr>\n",
       "  </tbody>\n",
       "</table>\n",
       "</div>"
      ],
      "text/plain": [
       "   user_id  month  num_messages\n",
       "0     1000     12            11\n",
       "1     1001      8            30\n",
       "2     1001      9            44\n",
       "3     1001     10            53\n",
       "4     1001     11            36"
      ]
     },
     "metadata": {},
     "output_type": "display_data"
    }
   ],
   "source": [
    "# Calcula el número de mensajes enviados por cada usuario al mes. Guarda el resultado.\n",
    "# Extraer el mes de cada mensaje\n",
    "df_messages['month'] = df_messages['message_date'].dt.month\n",
    "\n",
    "# Contar el número de mensajes enviados por usuario y mes\n",
    "messages_per_user = df_messages.groupby(['user_id', 'month'])['id'].count().reset_index()\n",
    "messages_per_user.rename(columns={'id': 'num_messages'}, inplace=True)\n",
    "\n",
    "# Ver los cambios\n",
    "display(messages_per_user.head())\n",
    "\n"
   ]
  },
  {
   "cell_type": "code",
   "execution_count": 30,
   "metadata": {
    "id": "H1AqN2eG0q1H"
   },
   "outputs": [
    {
     "data": {
      "text/html": [
       "<div>\n",
       "<style scoped>\n",
       "    .dataframe tbody tr th:only-of-type {\n",
       "        vertical-align: middle;\n",
       "    }\n",
       "\n",
       "    .dataframe tbody tr th {\n",
       "        vertical-align: top;\n",
       "    }\n",
       "\n",
       "    .dataframe thead th {\n",
       "        text-align: right;\n",
       "    }\n",
       "</style>\n",
       "<table border=\"1\" class=\"dataframe\">\n",
       "  <thead>\n",
       "    <tr style=\"text-align: right;\">\n",
       "      <th></th>\n",
       "      <th>user_id</th>\n",
       "      <th>month</th>\n",
       "      <th>total_mb_used</th>\n",
       "      <th>total_gb_used</th>\n",
       "    </tr>\n",
       "  </thead>\n",
       "  <tbody>\n",
       "    <tr>\n",
       "      <th>0</th>\n",
       "      <td>1000</td>\n",
       "      <td>12</td>\n",
       "      <td>1901.47</td>\n",
       "      <td>1.856904</td>\n",
       "    </tr>\n",
       "    <tr>\n",
       "      <th>1</th>\n",
       "      <td>1001</td>\n",
       "      <td>8</td>\n",
       "      <td>6919.15</td>\n",
       "      <td>6.756982</td>\n",
       "    </tr>\n",
       "    <tr>\n",
       "      <th>2</th>\n",
       "      <td>1001</td>\n",
       "      <td>9</td>\n",
       "      <td>13314.82</td>\n",
       "      <td>13.002754</td>\n",
       "    </tr>\n",
       "    <tr>\n",
       "      <th>3</th>\n",
       "      <td>1001</td>\n",
       "      <td>10</td>\n",
       "      <td>22330.49</td>\n",
       "      <td>21.807119</td>\n",
       "    </tr>\n",
       "    <tr>\n",
       "      <th>4</th>\n",
       "      <td>1001</td>\n",
       "      <td>11</td>\n",
       "      <td>18504.30</td>\n",
       "      <td>18.070605</td>\n",
       "    </tr>\n",
       "  </tbody>\n",
       "</table>\n",
       "</div>"
      ],
      "text/plain": [
       "   user_id  month  total_mb_used  total_gb_used\n",
       "0     1000     12        1901.47       1.856904\n",
       "1     1001      8        6919.15       6.756982\n",
       "2     1001      9       13314.82      13.002754\n",
       "3     1001     10       22330.49      21.807119\n",
       "4     1001     11       18504.30      18.070605"
      ]
     },
     "metadata": {},
     "output_type": "display_data"
    }
   ],
   "source": [
    "# Calcula el volumen del tráfico de Internet usado por cada usuario al mes. Guarda el resultado.\n",
    "# Extraer el mes de cada sesión de internet\n",
    "df_internet['month'] = df_internet['session_date'].dt.month\n",
    "\n",
    "# Calcular el volumen total de tráfico de Internet usado por usuario y mes\n",
    "internet_per_user = df_internet.groupby(['user_id', 'month'])['mb_used'].sum().reset_index()\n",
    "internet_per_user.rename(columns={'mb_used': 'total_mb_used'}, inplace=True)\n",
    "\n",
    "# Convertir MB a GB para facilitar el análisis\n",
    "internet_per_user['total_gb_used'] = internet_per_user['total_mb_used'] / 1024\n",
    "\n",
    "# Ver los cambios\n",
    "display(internet_per_user.head())\n",
    "\n"
   ]
  },
  {
   "cell_type": "markdown",
   "metadata": {
    "id": "VDfYXnj80q1H"
   },
   "source": [
    "[Junta los datos agregados en un DataFrame para que haya un registro que represente lo que consumió un usuario único en un mes determinado.]"
   ]
  },
  {
   "cell_type": "code",
   "execution_count": 31,
   "metadata": {
    "id": "FW99ykyf0q1H"
   },
   "outputs": [
    {
     "data": {
      "text/html": [
       "<div>\n",
       "<style scoped>\n",
       "    .dataframe tbody tr th:only-of-type {\n",
       "        vertical-align: middle;\n",
       "    }\n",
       "\n",
       "    .dataframe tbody tr th {\n",
       "        vertical-align: top;\n",
       "    }\n",
       "\n",
       "    .dataframe thead th {\n",
       "        text-align: right;\n",
       "    }\n",
       "</style>\n",
       "<table border=\"1\" class=\"dataframe\">\n",
       "  <thead>\n",
       "    <tr style=\"text-align: right;\">\n",
       "      <th></th>\n",
       "      <th>user_id</th>\n",
       "      <th>month</th>\n",
       "      <th>num_calls</th>\n",
       "      <th>total_minutes</th>\n",
       "      <th>num_messages</th>\n",
       "      <th>total_mb_used</th>\n",
       "      <th>total_gb_used</th>\n",
       "    </tr>\n",
       "  </thead>\n",
       "  <tbody>\n",
       "    <tr>\n",
       "      <th>0</th>\n",
       "      <td>1000</td>\n",
       "      <td>12</td>\n",
       "      <td>16.0</td>\n",
       "      <td>116.83</td>\n",
       "      <td>11.0</td>\n",
       "      <td>1901.47</td>\n",
       "      <td>1.856904</td>\n",
       "    </tr>\n",
       "    <tr>\n",
       "      <th>1</th>\n",
       "      <td>1001</td>\n",
       "      <td>8</td>\n",
       "      <td>22.0</td>\n",
       "      <td>171.14</td>\n",
       "      <td>30.0</td>\n",
       "      <td>6919.15</td>\n",
       "      <td>6.756982</td>\n",
       "    </tr>\n",
       "    <tr>\n",
       "      <th>2</th>\n",
       "      <td>1001</td>\n",
       "      <td>9</td>\n",
       "      <td>38.0</td>\n",
       "      <td>297.69</td>\n",
       "      <td>44.0</td>\n",
       "      <td>13314.82</td>\n",
       "      <td>13.002754</td>\n",
       "    </tr>\n",
       "    <tr>\n",
       "      <th>3</th>\n",
       "      <td>1001</td>\n",
       "      <td>10</td>\n",
       "      <td>47.0</td>\n",
       "      <td>374.11</td>\n",
       "      <td>53.0</td>\n",
       "      <td>22330.49</td>\n",
       "      <td>21.807119</td>\n",
       "    </tr>\n",
       "    <tr>\n",
       "      <th>4</th>\n",
       "      <td>1001</td>\n",
       "      <td>11</td>\n",
       "      <td>49.0</td>\n",
       "      <td>404.59</td>\n",
       "      <td>36.0</td>\n",
       "      <td>18504.30</td>\n",
       "      <td>18.070605</td>\n",
       "    </tr>\n",
       "  </tbody>\n",
       "</table>\n",
       "</div>"
      ],
      "text/plain": [
       "   user_id  month  num_calls  total_minutes  num_messages  total_mb_used  \\\n",
       "0     1000     12       16.0         116.83          11.0        1901.47   \n",
       "1     1001      8       22.0         171.14          30.0        6919.15   \n",
       "2     1001      9       38.0         297.69          44.0       13314.82   \n",
       "3     1001     10       47.0         374.11          53.0       22330.49   \n",
       "4     1001     11       49.0         404.59          36.0       18504.30   \n",
       "\n",
       "   total_gb_used  \n",
       "0       1.856904  \n",
       "1       6.756982  \n",
       "2      13.002754  \n",
       "3      21.807119  \n",
       "4      18.070605  "
      ]
     },
     "metadata": {},
     "output_type": "display_data"
    }
   ],
   "source": [
    "# Fusiona los datos de llamadas, minutos, mensajes e Internet con base en user_id y month\n",
    "# Unir todas las tablas en un solo DataFrame\n",
    "user_data = calls_per_user.merge(minutes_per_user, on=['user_id', 'month'], how='outer')\n",
    "user_data = user_data.merge(messages_per_user, on=['user_id', 'month'], how='outer')\n",
    "user_data = user_data.merge(internet_per_user, on=['user_id', 'month'], how='outer')\n",
    "\n",
    "# Rellenar valores nulos con 0 (en caso de que un usuario no haya usado algún servicio en un mes)\n",
    "user_data.fillna(0, inplace=True)\n",
    "\n",
    "# Ver el resultado final\n",
    "display(user_data.head())\n",
    "\n"
   ]
  },
  {
   "cell_type": "code",
   "execution_count": 32,
   "metadata": {
    "id": "0dNOXHag0q1H"
   },
   "outputs": [
    {
     "data": {
      "text/html": [
       "<div>\n",
       "<style scoped>\n",
       "    .dataframe tbody tr th:only-of-type {\n",
       "        vertical-align: middle;\n",
       "    }\n",
       "\n",
       "    .dataframe tbody tr th {\n",
       "        vertical-align: top;\n",
       "    }\n",
       "\n",
       "    .dataframe thead th {\n",
       "        text-align: right;\n",
       "    }\n",
       "</style>\n",
       "<table border=\"1\" class=\"dataframe\">\n",
       "  <thead>\n",
       "    <tr style=\"text-align: right;\">\n",
       "      <th></th>\n",
       "      <th>user_id</th>\n",
       "      <th>month</th>\n",
       "      <th>num_calls</th>\n",
       "      <th>total_minutes</th>\n",
       "      <th>num_messages</th>\n",
       "      <th>total_mb_used</th>\n",
       "      <th>total_gb_used</th>\n",
       "      <th>plan</th>\n",
       "      <th>messages_included</th>\n",
       "      <th>mb_per_month_included</th>\n",
       "      <th>minutes_included</th>\n",
       "      <th>usd_monthly_fee</th>\n",
       "      <th>usd_per_gb</th>\n",
       "      <th>usd_per_message</th>\n",
       "      <th>usd_per_minute</th>\n",
       "      <th>plan_name</th>\n",
       "      <th>gb_per_month_included</th>\n",
       "    </tr>\n",
       "  </thead>\n",
       "  <tbody>\n",
       "    <tr>\n",
       "      <th>0</th>\n",
       "      <td>1000</td>\n",
       "      <td>12</td>\n",
       "      <td>16.0</td>\n",
       "      <td>116.83</td>\n",
       "      <td>11.0</td>\n",
       "      <td>1901.47</td>\n",
       "      <td>1.856904</td>\n",
       "      <td>ultimate</td>\n",
       "      <td>1000</td>\n",
       "      <td>30720</td>\n",
       "      <td>3000</td>\n",
       "      <td>70</td>\n",
       "      <td>7</td>\n",
       "      <td>0.01</td>\n",
       "      <td>0.01</td>\n",
       "      <td>ultimate</td>\n",
       "      <td>30.0</td>\n",
       "    </tr>\n",
       "    <tr>\n",
       "      <th>1</th>\n",
       "      <td>1001</td>\n",
       "      <td>8</td>\n",
       "      <td>22.0</td>\n",
       "      <td>171.14</td>\n",
       "      <td>30.0</td>\n",
       "      <td>6919.15</td>\n",
       "      <td>6.756982</td>\n",
       "      <td>surf</td>\n",
       "      <td>50</td>\n",
       "      <td>15360</td>\n",
       "      <td>500</td>\n",
       "      <td>20</td>\n",
       "      <td>10</td>\n",
       "      <td>0.03</td>\n",
       "      <td>0.03</td>\n",
       "      <td>surf</td>\n",
       "      <td>15.0</td>\n",
       "    </tr>\n",
       "    <tr>\n",
       "      <th>2</th>\n",
       "      <td>1001</td>\n",
       "      <td>9</td>\n",
       "      <td>38.0</td>\n",
       "      <td>297.69</td>\n",
       "      <td>44.0</td>\n",
       "      <td>13314.82</td>\n",
       "      <td>13.002754</td>\n",
       "      <td>surf</td>\n",
       "      <td>50</td>\n",
       "      <td>15360</td>\n",
       "      <td>500</td>\n",
       "      <td>20</td>\n",
       "      <td>10</td>\n",
       "      <td>0.03</td>\n",
       "      <td>0.03</td>\n",
       "      <td>surf</td>\n",
       "      <td>15.0</td>\n",
       "    </tr>\n",
       "    <tr>\n",
       "      <th>3</th>\n",
       "      <td>1001</td>\n",
       "      <td>10</td>\n",
       "      <td>47.0</td>\n",
       "      <td>374.11</td>\n",
       "      <td>53.0</td>\n",
       "      <td>22330.49</td>\n",
       "      <td>21.807119</td>\n",
       "      <td>surf</td>\n",
       "      <td>50</td>\n",
       "      <td>15360</td>\n",
       "      <td>500</td>\n",
       "      <td>20</td>\n",
       "      <td>10</td>\n",
       "      <td>0.03</td>\n",
       "      <td>0.03</td>\n",
       "      <td>surf</td>\n",
       "      <td>15.0</td>\n",
       "    </tr>\n",
       "    <tr>\n",
       "      <th>4</th>\n",
       "      <td>1001</td>\n",
       "      <td>11</td>\n",
       "      <td>49.0</td>\n",
       "      <td>404.59</td>\n",
       "      <td>36.0</td>\n",
       "      <td>18504.30</td>\n",
       "      <td>18.070605</td>\n",
       "      <td>surf</td>\n",
       "      <td>50</td>\n",
       "      <td>15360</td>\n",
       "      <td>500</td>\n",
       "      <td>20</td>\n",
       "      <td>10</td>\n",
       "      <td>0.03</td>\n",
       "      <td>0.03</td>\n",
       "      <td>surf</td>\n",
       "      <td>15.0</td>\n",
       "    </tr>\n",
       "  </tbody>\n",
       "</table>\n",
       "</div>"
      ],
      "text/plain": [
       "   user_id  month  num_calls  total_minutes  num_messages  total_mb_used  \\\n",
       "0     1000     12       16.0         116.83          11.0        1901.47   \n",
       "1     1001      8       22.0         171.14          30.0        6919.15   \n",
       "2     1001      9       38.0         297.69          44.0       13314.82   \n",
       "3     1001     10       47.0         374.11          53.0       22330.49   \n",
       "4     1001     11       49.0         404.59          36.0       18504.30   \n",
       "\n",
       "   total_gb_used      plan  messages_included  mb_per_month_included  \\\n",
       "0       1.856904  ultimate               1000                  30720   \n",
       "1       6.756982      surf                 50                  15360   \n",
       "2      13.002754      surf                 50                  15360   \n",
       "3      21.807119      surf                 50                  15360   \n",
       "4      18.070605      surf                 50                  15360   \n",
       "\n",
       "   minutes_included  usd_monthly_fee  usd_per_gb  usd_per_message  \\\n",
       "0              3000               70           7             0.01   \n",
       "1               500               20          10             0.03   \n",
       "2               500               20          10             0.03   \n",
       "3               500               20          10             0.03   \n",
       "4               500               20          10             0.03   \n",
       "\n",
       "   usd_per_minute plan_name  gb_per_month_included  \n",
       "0            0.01  ultimate                   30.0  \n",
       "1            0.03      surf                   15.0  \n",
       "2            0.03      surf                   15.0  \n",
       "3            0.03      surf                   15.0  \n",
       "4            0.03      surf                   15.0  "
      ]
     },
     "metadata": {},
     "output_type": "display_data"
    }
   ],
   "source": [
    "# Añade la información de la tarifa\n",
    "# Unir la información de los planes con los datos de uso por usuario\n",
    "user_data = user_data.merge(df_users[['user_id', 'plan']], on='user_id', how='left')\n",
    "\n",
    "# Unir la información del plan con sus costos y beneficios\n",
    "user_data = user_data.merge(df_plans, left_on='plan', right_on='plan_name', how='left')\n",
    "\n",
    "# Verificar que la unión fue correcta\n",
    "display(user_data.head())\n",
    "\n"
   ]
  },
  {
   "cell_type": "markdown",
   "metadata": {
    "id": "1IwGo4wg0q1I"
   },
   "source": [
    "[Calcula los ingresos mensuales por usuario (resta el límite del paquete gratuito del número total de llamadas, mensajes de texto y datos; multiplica el resultado por el valor del plan de llamadas; añade la tarifa mensual en función del plan de llamadas). Nota: Dadas las condiciones del plan, ¡esto podría no ser tan trivial como un par de líneas! Así que no pasa nada si dedicas algo de tiempo a ello.]"
   ]
  },
  {
   "cell_type": "code",
   "execution_count": 33,
   "metadata": {
    "id": "5FGCf_c60q1I"
   },
   "outputs": [
    {
     "data": {
      "text/html": [
       "<div>\n",
       "<style scoped>\n",
       "    .dataframe tbody tr th:only-of-type {\n",
       "        vertical-align: middle;\n",
       "    }\n",
       "\n",
       "    .dataframe tbody tr th {\n",
       "        vertical-align: top;\n",
       "    }\n",
       "\n",
       "    .dataframe thead th {\n",
       "        text-align: right;\n",
       "    }\n",
       "</style>\n",
       "<table border=\"1\" class=\"dataframe\">\n",
       "  <thead>\n",
       "    <tr style=\"text-align: right;\">\n",
       "      <th></th>\n",
       "      <th>user_id</th>\n",
       "      <th>month</th>\n",
       "      <th>plan</th>\n",
       "      <th>total_revenue</th>\n",
       "    </tr>\n",
       "  </thead>\n",
       "  <tbody>\n",
       "    <tr>\n",
       "      <th>0</th>\n",
       "      <td>1000</td>\n",
       "      <td>12</td>\n",
       "      <td>ultimate</td>\n",
       "      <td>70.000000</td>\n",
       "    </tr>\n",
       "    <tr>\n",
       "      <th>1</th>\n",
       "      <td>1001</td>\n",
       "      <td>8</td>\n",
       "      <td>surf</td>\n",
       "      <td>20.000000</td>\n",
       "    </tr>\n",
       "    <tr>\n",
       "      <th>2</th>\n",
       "      <td>1001</td>\n",
       "      <td>9</td>\n",
       "      <td>surf</td>\n",
       "      <td>20.000000</td>\n",
       "    </tr>\n",
       "    <tr>\n",
       "      <th>3</th>\n",
       "      <td>1001</td>\n",
       "      <td>10</td>\n",
       "      <td>surf</td>\n",
       "      <td>88.161191</td>\n",
       "    </tr>\n",
       "    <tr>\n",
       "      <th>4</th>\n",
       "      <td>1001</td>\n",
       "      <td>11</td>\n",
       "      <td>surf</td>\n",
       "      <td>50.706055</td>\n",
       "    </tr>\n",
       "  </tbody>\n",
       "</table>\n",
       "</div>"
      ],
      "text/plain": [
       "   user_id  month      plan  total_revenue\n",
       "0     1000     12  ultimate      70.000000\n",
       "1     1001      8      surf      20.000000\n",
       "2     1001      9      surf      20.000000\n",
       "3     1001     10      surf      88.161191\n",
       "4     1001     11      surf      50.706055"
      ]
     },
     "metadata": {},
     "output_type": "display_data"
    }
   ],
   "source": [
    "# Calcula el ingreso mensual para cada usuario\n",
    "# Calcular el costo adicional por minutos extra\n",
    "user_data['extra_minutes'] = user_data['total_minutes'] - user_data['minutes_included']\n",
    "user_data['extra_minutes'] = user_data['extra_minutes'].apply(lambda x: x if x > 0 else 0)\n",
    "user_data['extra_minutes_cost'] = user_data['extra_minutes'] * user_data['usd_per_minute']\n",
    "\n",
    "# Calcular el costo adicional por mensajes extra\n",
    "user_data['extra_messages'] = user_data['num_messages'] - user_data['messages_included']\n",
    "user_data['extra_messages'] = user_data['extra_messages'].apply(lambda x: x if x > 0 else 0)\n",
    "user_data['extra_messages_cost'] = user_data['extra_messages'] * user_data['usd_per_message']\n",
    "\n",
    "# Calcular el costo adicional por datos extra\n",
    "user_data['extra_gb_used'] = (user_data['total_gb_used'] - user_data['mb_per_month_included'] / 1024).apply(lambda x: x if x > 0 else 0)\n",
    "user_data['extra_gb_cost'] = user_data['extra_gb_used'] * user_data['usd_per_gb']\n",
    "\n",
    "# Calcular el ingreso total (mensualidad + costos adicionales)\n",
    "user_data['total_revenue'] = user_data['usd_monthly_fee'] + user_data['extra_minutes_cost'] + user_data['extra_messages_cost'] + user_data['extra_gb_cost']\n",
    "\n",
    "# Ver los resultados\n",
    "display(user_data[['user_id', 'month', 'plan', 'total_revenue']].head())\n",
    "\n"
   ]
  },
  {
   "cell_type": "markdown",
   "metadata": {
    "id": "-jtyHzJb0q1I"
   },
   "source": [
    "## Estudia el comportamiento de usuario"
   ]
  },
  {
   "cell_type": "markdown",
   "metadata": {
    "id": "AxU3Y0N70q1J"
   },
   "source": [
    "[Calcula algunas estadísticas descriptivas para los datos agregados y fusionados que nos sean útiles y que muestren un panorama general captado por los datos. Dibuja gráficos útiles para facilitar la comprensión. Dado que la tarea principal es comparar las tarifas y decidir cuál es más rentable, las estadísticas y gráficas deben calcularse por tarifa.]\n",
    "\n",
    "[En los comentarios hallarás pistas relevantes para las llamadas, pero no las hay para los mensajes e Internet. Sin embargo, el principio del estudio estadístico que se aplica para ellos es el mismo que para las llamadas.]"
   ]
  },
  {
   "cell_type": "markdown",
   "metadata": {
    "id": "vtW4CJEe0q1J"
   },
   "source": [
    "### Llamadas"
   ]
  },
  {
   "cell_type": "code",
   "execution_count": 34,
   "metadata": {
    "id": "Jf5v5--k0q1J"
   },
   "outputs": [
    {
     "data": {
      "image/png": "[encoded data removed]",
      "text/plain": [
       "<Figure size 1000x600 with 1 Axes>"
      ]
     },
     "metadata": {},
     "output_type": "display_data"
    }
   ],
   "source": [
    "# Compara la duración promedio de llamadas por cada plan y por cada mes. Traza un gráfico de barras para visualizarla.\n",
    "# Calcular la duración promedio de llamadas por plan y mes\n",
    "avg_call_duration = user_data.groupby(['plan', 'month'])['total_minutes'].mean().reset_index()\n",
    "\n",
    "# Graficar la duración promedio de llamadas por plan\n",
    "plt.figure(figsize=(10,6))\n",
    "sns.barplot(data=avg_call_duration, x='month', y='total_minutes', hue='plan')\n",
    "plt.title(\"Duración promedio de llamadas por plan y por mes\")\n",
    "plt.xlabel(\"Mes\")\n",
    "plt.ylabel(\"Duración promedio de llamadas (minutos)\")\n",
    "plt.legend(title=\"Plan\")\n",
    "plt.show()\n"
   ]
  },
  {
   "cell_type": "code",
   "execution_count": 35,
   "metadata": {
    "id": "QoLqW1S_0q1J"
   },
   "outputs": [
    {
     "name": "stderr",
     "output_type": "stream",
     "text": [
      "No handles with labels found to put in legend.\n"
     ]
    },
    {
     "data": {
      "image/png": "[encoded data removed]",
      "text/plain": [
       "<Figure size 1000x600 with 1 Axes>"
      ]
     },
     "metadata": {},
     "output_type": "display_data"
    }
   ],
   "source": [
    "# Compara el número de minutos mensuales que necesitan los usuarios de cada plan. Traza un histograma.\n",
    "# Graficar un histograma del número de minutos mensuales usados por cada usuario según su plan\n",
    "plt.figure(figsize=(10,6))\n",
    "sns.histplot(data=user_data, x='total_minutes', hue='plan', bins=30, kde=True, element=\"step\")\n",
    "plt.title(\"Distribución de minutos utilizados por los usuarios según su plan\")\n",
    "plt.xlabel(\"Minutos usados\")\n",
    "plt.ylabel(\"Frecuencia\")\n",
    "plt.legend(title=\"Plan\")\n",
    "plt.show()\n",
    "\n"
   ]
  },
  {
   "cell_type": "code",
   "execution_count": 36,
   "metadata": {},
   "outputs": [
    {
     "name": "stdout",
     "output_type": "stream",
     "text": [
      "['ultimate' 'surf']\n"
     ]
    }
   ],
   "source": [
    "print(user_data['plan'].unique())\n"
   ]
  },
  {
   "cell_type": "markdown",
   "metadata": {
    "id": "bLS9T8OH0q1K"
   },
   "source": [
    "[Calcula la media y la variable de la duración de las llamadas para averiguar si los usuarios de los distintos planes se comportan de forma diferente al realizar sus llamadas.]"
   ]
  },
  {
   "cell_type": "code",
   "execution_count": 37,
   "metadata": {
    "id": "oSndbAnt0q1K"
   },
   "outputs": [
    {
     "data": {
      "text/html": [
       "<div>\n",
       "<style scoped>\n",
       "    .dataframe tbody tr th:only-of-type {\n",
       "        vertical-align: middle;\n",
       "    }\n",
       "\n",
       "    .dataframe tbody tr th {\n",
       "        vertical-align: top;\n",
       "    }\n",
       "\n",
       "    .dataframe thead th {\n",
       "        text-align: right;\n",
       "    }\n",
       "</style>\n",
       "<table border=\"1\" class=\"dataframe\">\n",
       "  <thead>\n",
       "    <tr style=\"text-align: right;\">\n",
       "      <th></th>\n",
       "      <th>plan</th>\n",
       "      <th>mean_duration</th>\n",
       "      <th>variance_duration</th>\n",
       "    </tr>\n",
       "  </thead>\n",
       "  <tbody>\n",
       "    <tr>\n",
       "      <th>0</th>\n",
       "      <td>surf</td>\n",
       "      <td>404.762390</td>\n",
       "      <td>49135.104891</td>\n",
       "    </tr>\n",
       "    <tr>\n",
       "      <th>1</th>\n",
       "      <td>ultimate</td>\n",
       "      <td>406.193083</td>\n",
       "      <td>51640.971402</td>\n",
       "    </tr>\n",
       "  </tbody>\n",
       "</table>\n",
       "</div>"
      ],
      "text/plain": [
       "       plan  mean_duration  variance_duration\n",
       "0      surf     404.762390       49135.104891\n",
       "1  ultimate     406.193083       51640.971402"
      ]
     },
     "metadata": {},
     "output_type": "display_data"
    }
   ],
   "source": [
    "# Calcula la media y la varianza de la duración mensual de llamadas.\n",
    "# Calcular la media y la varianza de la duración mensual de llamadas por plan\n",
    "call_stats = user_data.groupby('plan')['total_minutes'].agg(['mean', 'var']).reset_index()\n",
    "\n",
    "# Renombrar columnas para claridad\n",
    "call_stats.rename(columns={'mean': 'mean_duration', 'var': 'variance_duration'}, inplace=True)\n",
    "\n",
    "# Mostrar los resultados\n",
    "display(call_stats)\n",
    "\n"
   ]
  },
  {
   "cell_type": "code",
   "execution_count": 38,
   "metadata": {
    "id": "nZzoRUKc0q1K"
   },
   "outputs": [
    {
     "data": {
      "image/png": "[encoded data removed]",
      "text/plain": [
       "<Figure size 1000x600 with 1 Axes>"
      ]
     },
     "metadata": {},
     "output_type": "display_data"
    }
   ],
   "source": [
    "# Traza un diagrama de caja para visualizar la distribución de la duración mensual de llamadas\n",
    "# Crear un boxplot para comparar la distribución de minutos usados por plan\n",
    "plt.figure(figsize=(10,6))\n",
    "sns.boxplot(data=user_data, x='plan', y='total_minutes')\n",
    "\n",
    "plt.title(\"Distribución de la duración mensual de llamadas por plan\")\n",
    "plt.xlabel(\"Plan\")\n",
    "plt.ylabel(\"Duración mensual de llamadas (minutos)\")\n",
    "plt.show()\n"
   ]
  },
  {
   "cell_type": "markdown",
   "metadata": {
    "id": "r627zBO50q1K"
   },
   "source": [
    "Comparación de la duración promedio y varianza entre planes\n",
    "La duración media de las llamadas es similar entre ambos planes:\n",
    "Surf: 404.76 minutos\n",
    "Ultimate: 406.19 minutos\n",
    "La varianza en la duración de llamadas es ligeramente mayor en el plan Ultimate, lo que indica una mayor dispersión en los hábitos de uso de los usuarios de este plan.\n",
    "Análisis del diagrama de caja (Boxplot)\n",
    "Ambos planes muestran una distribución similar en la duración de llamadas mensuales.\n",
    "Hay valores atípicos en ambos planes, representados por puntos sobre la parte superior del diagrama, indicando que algunos usuarios realizan llamadas significativamente más largas que el promedio.\n",
    "El rango intercuartílico (IQR) es casi idéntico para ambos planes, lo que refuerza la idea de que el comportamiento de llamadas es parecido.\n",
    "¿El comportamiento de llamadas varía según el plan?\n",
    "No se observan diferencias significativas en la duración de llamadas entre los planes Surf y Ultimate.\n",
    "Ambos planes tienen usuarios con comportamientos similares en términos de duración promedio y dispersión de datos.\n",
    "El plan Ultimate permite llamadas ilimitadas, lo que podría sugerir que algunos usuarios podrían hablar más tiempo, pero en general, no parece haber una diferencia marcada en el uso promedio de llamadas entre planes.\n",
    "Conclusión:\n",
    "El comportamiento de los usuarios con respecto a las llamadas no varía significativamente entre los planes Surf y Ultimate. La cantidad de minutos utilizados es muy similar, aunque algunos usuarios del plan Ultimate presentan una mayor dispersión en el tiempo total de llamadas."
   ]
  },
  {
   "cell_type": "markdown",
   "metadata": {
    "id": "8idKy8Wh0q1L"
   },
   "source": [
    "### Mensajes"
   ]
  },
  {
   "cell_type": "code",
   "execution_count": 39,
   "metadata": {
    "id": "NXLxiTit0q1L"
   },
   "outputs": [
    {
     "data": {
      "text/html": [
       "<div>\n",
       "<style scoped>\n",
       "    .dataframe tbody tr th:only-of-type {\n",
       "        vertical-align: middle;\n",
       "    }\n",
       "\n",
       "    .dataframe tbody tr th {\n",
       "        vertical-align: top;\n",
       "    }\n",
       "\n",
       "    .dataframe thead th {\n",
       "        text-align: right;\n",
       "    }\n",
       "</style>\n",
       "<table border=\"1\" class=\"dataframe\">\n",
       "  <thead>\n",
       "    <tr style=\"text-align: right;\">\n",
       "      <th></th>\n",
       "      <th>plan</th>\n",
       "      <th>mean_messages</th>\n",
       "      <th>variance_messages</th>\n",
       "    </tr>\n",
       "  </thead>\n",
       "  <tbody>\n",
       "    <tr>\n",
       "      <th>0</th>\n",
       "      <td>surf</td>\n",
       "      <td>31.159568</td>\n",
       "      <td>1126.724522</td>\n",
       "    </tr>\n",
       "    <tr>\n",
       "      <th>1</th>\n",
       "      <td>ultimate</td>\n",
       "      <td>37.551389</td>\n",
       "      <td>1208.756744</td>\n",
       "    </tr>\n",
       "  </tbody>\n",
       "</table>\n",
       "</div>"
      ],
      "text/plain": [
       "       plan  mean_messages  variance_messages\n",
       "0      surf      31.159568        1126.724522\n",
       "1  ultimate      37.551389        1208.756744"
      ]
     },
     "metadata": {},
     "output_type": "display_data"
    },
    {
     "data": {
      "image/png": "[encoded data removed]",
      "text/plain": [
       "<Figure size 1000x600 with 1 Axes>"
      ]
     },
     "metadata": {},
     "output_type": "display_data"
    }
   ],
   "source": [
    "# Comprara el número de mensajes que tienden a enviar cada mes los usuarios de cada plan\n",
    "# Calcular la media y la varianza del número de mensajes enviados por plan\n",
    "message_stats = user_data.groupby('plan')['num_messages'].agg(['mean', 'var']).reset_index()\n",
    "message_stats.rename(columns={'mean': 'mean_messages', 'var': 'variance_messages'}, inplace=True)\n",
    "\n",
    "# Mostrar los resultados\n",
    "display(message_stats)\n",
    "\n",
    "# Crear un boxplot para visualizar la distribución del número de mensajes por plan\n",
    "plt.figure(figsize=(10,6))\n",
    "sns.boxplot(data=user_data, x='plan', y='num_messages')\n",
    "\n",
    "plt.title(\"Distribución del número de mensajes enviados por plan\")\n",
    "plt.xlabel(\"Plan\")\n",
    "plt.ylabel(\"Número de mensajes enviados\")\n",
    "plt.show()\n",
    "\n"
   ]
  },
  {
   "cell_type": "code",
   "execution_count": 40,
   "metadata": {
    "id": "GRI_R7xF0q1L"
   },
   "outputs": [
    {
     "data": {
      "text/html": [
       "<div>\n",
       "<style scoped>\n",
       "    .dataframe tbody tr th:only-of-type {\n",
       "        vertical-align: middle;\n",
       "    }\n",
       "\n",
       "    .dataframe tbody tr th {\n",
       "        vertical-align: top;\n",
       "    }\n",
       "\n",
       "    .dataframe thead th {\n",
       "        text-align: right;\n",
       "    }\n",
       "</style>\n",
       "<table border=\"1\" class=\"dataframe\">\n",
       "  <thead>\n",
       "    <tr style=\"text-align: right;\">\n",
       "      <th></th>\n",
       "      <th>plan</th>\n",
       "      <th>mean_gb_used</th>\n",
       "      <th>variance_gb_used</th>\n",
       "    </tr>\n",
       "  </thead>\n",
       "  <tbody>\n",
       "    <tr>\n",
       "      <th>0</th>\n",
       "      <td>surf</td>\n",
       "      <td>16.170199</td>\n",
       "      <td>61.241527</td>\n",
       "    </tr>\n",
       "    <tr>\n",
       "      <th>1</th>\n",
       "      <td>ultimate</td>\n",
       "      <td>16.811230</td>\n",
       "      <td>58.796209</td>\n",
       "    </tr>\n",
       "  </tbody>\n",
       "</table>\n",
       "</div>"
      ],
      "text/plain": [
       "       plan  mean_gb_used  variance_gb_used\n",
       "0      surf     16.170199         61.241527\n",
       "1  ultimate     16.811230         58.796209"
      ]
     },
     "metadata": {},
     "output_type": "display_data"
    },
    {
     "data": {
      "image/png": "[encoded data removed]",
      "text/plain": [
       "<Figure size 1000x600 with 1 Axes>"
      ]
     },
     "metadata": {},
     "output_type": "display_data"
    }
   ],
   "source": [
    "# Compara la cantidad de tráfico de Internet consumido por usuarios por plan\n",
    "# Calcular la media y varianza del tráfico de Internet usado por plan\n",
    "internet_stats = user_data.groupby('plan')['total_gb_used'].agg(['mean', 'var']).reset_index()\n",
    "internet_stats.rename(columns={'mean': 'mean_gb_used', 'var': 'variance_gb_used'}, inplace=True)\n",
    "\n",
    "# Mostrar los resultados\n",
    "display(internet_stats)\n",
    "\n",
    "# Crear un boxplot para visualizar la distribución del tráfico de Internet por plan\n",
    "plt.figure(figsize=(10,6))\n",
    "sns.boxplot(data=user_data, x='plan', y='total_gb_used')\n",
    "\n",
    "plt.title(\"Distribución del tráfico de Internet consumido por plan\")\n",
    "plt.xlabel(\"Plan\")\n",
    "plt.ylabel(\"Consumo de Internet (GB)\")\n",
    "plt.show()\n",
    "\n"
   ]
  },
  {
   "cell_type": "code",
   "execution_count": 41,
   "metadata": {
    "id": "dtFwCGAp0q1M"
   },
   "outputs": [],
   "source": [
    "import pickle\n",
    "\n",
    "# Guardar el DataFrame procesado en un archivo .pkl\n",
    "with open('user_data.pkl', 'wb') as file:\n",
    "    pickle.dump(user_data, file)\n"
   ]
  },
  {
   "cell_type": "code",
   "execution_count": 1,
   "metadata": {},
   "outputs": [
    {
     "data": {
      "text/html": [
       "<div>\n",
       "<style scoped>\n",
       "    .dataframe tbody tr th:only-of-type {\n",
       "        vertical-align: middle;\n",
       "    }\n",
       "\n",
       "    .dataframe tbody tr th {\n",
       "        vertical-align: top;\n",
       "    }\n",
       "\n",
       "    .dataframe thead th {\n",
       "        text-align: right;\n",
       "    }\n",
       "</style>\n",
       "<table border=\"1\" class=\"dataframe\">\n",
       "  <thead>\n",
       "    <tr style=\"text-align: right;\">\n",
       "      <th></th>\n",
       "      <th>user_id</th>\n",
       "      <th>month</th>\n",
       "      <th>num_calls</th>\n",
       "      <th>total_minutes</th>\n",
       "      <th>num_messages</th>\n",
       "      <th>total_mb_used</th>\n",
       "      <th>total_gb_used</th>\n",
       "      <th>plan</th>\n",
       "      <th>messages_included</th>\n",
       "      <th>mb_per_month_included</th>\n",
       "      <th>...</th>\n",
       "      <th>usd_per_minute</th>\n",
       "      <th>plan_name</th>\n",
       "      <th>gb_per_month_included</th>\n",
       "      <th>extra_minutes</th>\n",
       "      <th>extra_minutes_cost</th>\n",
       "      <th>extra_messages</th>\n",
       "      <th>extra_messages_cost</th>\n",
       "      <th>extra_gb_used</th>\n",
       "      <th>extra_gb_cost</th>\n",
       "      <th>total_revenue</th>\n",
       "    </tr>\n",
       "  </thead>\n",
       "  <tbody>\n",
       "    <tr>\n",
       "      <th>0</th>\n",
       "      <td>1000</td>\n",
       "      <td>12</td>\n",
       "      <td>16.0</td>\n",
       "      <td>116.83</td>\n",
       "      <td>11.0</td>\n",
       "      <td>1901.47</td>\n",
       "      <td>1.856904</td>\n",
       "      <td>ultimate</td>\n",
       "      <td>1000</td>\n",
       "      <td>30720</td>\n",
       "      <td>...</td>\n",
       "      <td>0.01</td>\n",
       "      <td>ultimate</td>\n",
       "      <td>30.0</td>\n",
       "      <td>0.0</td>\n",
       "      <td>0.0</td>\n",
       "      <td>0.0</td>\n",
       "      <td>0.00</td>\n",
       "      <td>0.000000</td>\n",
       "      <td>0.000000</td>\n",
       "      <td>70.000000</td>\n",
       "    </tr>\n",
       "    <tr>\n",
       "      <th>1</th>\n",
       "      <td>1001</td>\n",
       "      <td>8</td>\n",
       "      <td>22.0</td>\n",
       "      <td>171.14</td>\n",
       "      <td>30.0</td>\n",
       "      <td>6919.15</td>\n",
       "      <td>6.756982</td>\n",
       "      <td>surf</td>\n",
       "      <td>50</td>\n",
       "      <td>15360</td>\n",
       "      <td>...</td>\n",
       "      <td>0.03</td>\n",
       "      <td>surf</td>\n",
       "      <td>15.0</td>\n",
       "      <td>0.0</td>\n",
       "      <td>0.0</td>\n",
       "      <td>0.0</td>\n",
       "      <td>0.00</td>\n",
       "      <td>0.000000</td>\n",
       "      <td>0.000000</td>\n",
       "      <td>20.000000</td>\n",
       "    </tr>\n",
       "    <tr>\n",
       "      <th>2</th>\n",
       "      <td>1001</td>\n",
       "      <td>9</td>\n",
       "      <td>38.0</td>\n",
       "      <td>297.69</td>\n",
       "      <td>44.0</td>\n",
       "      <td>13314.82</td>\n",
       "      <td>13.002754</td>\n",
       "      <td>surf</td>\n",
       "      <td>50</td>\n",
       "      <td>15360</td>\n",
       "      <td>...</td>\n",
       "      <td>0.03</td>\n",
       "      <td>surf</td>\n",
       "      <td>15.0</td>\n",
       "      <td>0.0</td>\n",
       "      <td>0.0</td>\n",
       "      <td>0.0</td>\n",
       "      <td>0.00</td>\n",
       "      <td>0.000000</td>\n",
       "      <td>0.000000</td>\n",
       "      <td>20.000000</td>\n",
       "    </tr>\n",
       "    <tr>\n",
       "      <th>3</th>\n",
       "      <td>1001</td>\n",
       "      <td>10</td>\n",
       "      <td>47.0</td>\n",
       "      <td>374.11</td>\n",
       "      <td>53.0</td>\n",
       "      <td>22330.49</td>\n",
       "      <td>21.807119</td>\n",
       "      <td>surf</td>\n",
       "      <td>50</td>\n",
       "      <td>15360</td>\n",
       "      <td>...</td>\n",
       "      <td>0.03</td>\n",
       "      <td>surf</td>\n",
       "      <td>15.0</td>\n",
       "      <td>0.0</td>\n",
       "      <td>0.0</td>\n",
       "      <td>3.0</td>\n",
       "      <td>0.09</td>\n",
       "      <td>6.807119</td>\n",
       "      <td>68.071191</td>\n",
       "      <td>88.161191</td>\n",
       "    </tr>\n",
       "    <tr>\n",
       "      <th>4</th>\n",
       "      <td>1001</td>\n",
       "      <td>11</td>\n",
       "      <td>49.0</td>\n",
       "      <td>404.59</td>\n",
       "      <td>36.0</td>\n",
       "      <td>18504.30</td>\n",
       "      <td>18.070605</td>\n",
       "      <td>surf</td>\n",
       "      <td>50</td>\n",
       "      <td>15360</td>\n",
       "      <td>...</td>\n",
       "      <td>0.03</td>\n",
       "      <td>surf</td>\n",
       "      <td>15.0</td>\n",
       "      <td>0.0</td>\n",
       "      <td>0.0</td>\n",
       "      <td>0.0</td>\n",
       "      <td>0.00</td>\n",
       "      <td>3.070605</td>\n",
       "      <td>30.706055</td>\n",
       "      <td>50.706055</td>\n",
       "    </tr>\n",
       "  </tbody>\n",
       "</table>\n",
       "<p>5 rows × 24 columns</p>\n",
       "</div>"
      ],
      "text/plain": [
       "   user_id  month  num_calls  total_minutes  num_messages  total_mb_used  \\\n",
       "0     1000     12       16.0         116.83          11.0        1901.47   \n",
       "1     1001      8       22.0         171.14          30.0        6919.15   \n",
       "2     1001      9       38.0         297.69          44.0       13314.82   \n",
       "3     1001     10       47.0         374.11          53.0       22330.49   \n",
       "4     1001     11       49.0         404.59          36.0       18504.30   \n",
       "\n",
       "   total_gb_used      plan  messages_included  mb_per_month_included  ...  \\\n",
       "0       1.856904  ultimate               1000                  30720  ...   \n",
       "1       6.756982      surf                 50                  15360  ...   \n",
       "2      13.002754      surf                 50                  15360  ...   \n",
       "3      21.807119      surf                 50                  15360  ...   \n",
       "4      18.070605      surf                 50                  15360  ...   \n",
       "\n",
       "   usd_per_minute  plan_name  gb_per_month_included  extra_minutes  \\\n",
       "0            0.01   ultimate                   30.0            0.0   \n",
       "1            0.03       surf                   15.0            0.0   \n",
       "2            0.03       surf                   15.0            0.0   \n",
       "3            0.03       surf                   15.0            0.0   \n",
       "4            0.03       surf                   15.0            0.0   \n",
       "\n",
       "   extra_minutes_cost extra_messages  extra_messages_cost  extra_gb_used  \\\n",
       "0                 0.0            0.0                 0.00       0.000000   \n",
       "1                 0.0            0.0                 0.00       0.000000   \n",
       "2                 0.0            0.0                 0.00       0.000000   \n",
       "3                 0.0            3.0                 0.09       6.807119   \n",
       "4                 0.0            0.0                 0.00       3.070605   \n",
       "\n",
       "   extra_gb_cost  total_revenue  \n",
       "0       0.000000      70.000000  \n",
       "1       0.000000      20.000000  \n",
       "2       0.000000      20.000000  \n",
       "3      68.071191      88.161191  \n",
       "4      30.706055      50.706055  \n",
       "\n",
       "[5 rows x 24 columns]"
      ]
     },
     "metadata": {},
     "output_type": "display_data"
    }
   ],
   "source": [
    "import pickle\n",
    "\n",
    "# Cargar el DataFrame desde el archivo .pkl\n",
    "with open('user_data.pkl', 'rb') as file:\n",
    "    user_data = pickle.load(file)\n",
    "\n",
    "# Verificar que los datos fueron cargados correctamente\n",
    "display(user_data.head())\n"
   ]
  },
  {
   "cell_type": "markdown",
   "metadata": {
    "id": "390SSL480q1M"
   },
   "source": [
    "Análisis del uso de mensajes\n",
    "Los usuarios del plan \"Ultimate\" envían más mensajes en promedio (37.55 mensajes) en comparación con los del plan \"Surf\" (31.16 mensajes).\n",
    "La varianza del número de mensajes es similar en ambos planes, lo que indica que la dispersión en la cantidad de mensajes enviados por usuario es comparable.\n",
    "El diagrama de caja muestra múltiples valores atípicos, lo que significa que algunos usuarios envían una cantidad de mensajes considerablemente superior al promedio.\n",
    "Ambos planes tienen una mediana cercana, lo que sugiere que la mayoría de los usuarios tienen un comportamiento similar en el uso de mensajes.\n",
    "Conclusión sobre los mensajes: Aunque los usuarios del plan \"Ultimate\" envían más mensajes en promedio, la diferencia no es muy significativa, y el comportamiento general en el envío de mensajes es similar entre ambos planes.\n",
    "\n",
    "Análisis del consumo de Internet\n",
    "El consumo medio de Internet es casi el mismo para ambos planes:\n",
    "Surf: 16.17 GB\n",
    "Ultimate: 16.81 GB\n",
    "La varianza del consumo de datos es similar, lo que indica que la dispersión en el uso de datos es equivalente en ambos planes.\n",
    "El boxplot muestra varios valores atípicos, lo que indica que algunos usuarios consumen datos de manera desproporcionada.\n",
    "El rango intercuartílico es similar, lo que sugiere que la mayoría de los usuarios usan aproximadamente la misma cantidad de datos, sin importar el plan contratado.\n",
    "Conclusión sobre el consumo de Internet: El uso de datos no varía significativamente entre los planes. A pesar de que el plan \"Ultimate\" ofrece más datos incluidos, el comportamiento de los usuarios en términos de consumo es prácticamente el mismo en ambos planes."
   ]
  },
  {
   "cell_type": "markdown",
   "metadata": {
    "id": "42YSypXz0q1M"
   },
   "source": [
    "### Internet"
   ]
  },
  {
   "cell_type": "code",
   "execution_count": 3,
   "metadata": {
    "id": "lSuKPtjh0q1M"
   },
   "outputs": [
    {
     "data": {
      "text/html": [
       "<div>\n",
       "<style scoped>\n",
       "    .dataframe tbody tr th:only-of-type {\n",
       "        vertical-align: middle;\n",
       "    }\n",
       "\n",
       "    .dataframe tbody tr th {\n",
       "        vertical-align: top;\n",
       "    }\n",
       "\n",
       "    .dataframe thead th {\n",
       "        text-align: right;\n",
       "    }\n",
       "</style>\n",
       "<table border=\"1\" class=\"dataframe\">\n",
       "  <thead>\n",
       "    <tr style=\"text-align: right;\">\n",
       "      <th></th>\n",
       "      <th>plan</th>\n",
       "      <th>mean_gb_used</th>\n",
       "      <th>variance_gb_used</th>\n",
       "    </tr>\n",
       "  </thead>\n",
       "  <tbody>\n",
       "    <tr>\n",
       "      <th>0</th>\n",
       "      <td>surf</td>\n",
       "      <td>16.170199</td>\n",
       "      <td>61.241527</td>\n",
       "    </tr>\n",
       "    <tr>\n",
       "      <th>1</th>\n",
       "      <td>ultimate</td>\n",
       "      <td>16.811230</td>\n",
       "      <td>58.796209</td>\n",
       "    </tr>\n",
       "  </tbody>\n",
       "</table>\n",
       "</div>"
      ],
      "text/plain": [
       "       plan  mean_gb_used  variance_gb_used\n",
       "0      surf     16.170199         61.241527\n",
       "1  ultimate     16.811230         58.796209"
      ]
     },
     "metadata": {},
     "output_type": "display_data"
    }
   ],
   "source": [
    "# Calcular la media y la varianza del consumo de Internet por plan\n",
    "internet_stats = user_data.groupby('plan')['total_gb_used'].agg(['mean', 'var']).reset_index()\n",
    "\n",
    "# Renombrar columnas para mayor claridad\n",
    "internet_stats.columns = ['plan', 'mean_gb_used', 'variance_gb_used']\n",
    "\n",
    "# Mostrar resultados\n",
    "display(internet_stats)  # Si estás en Jupyter Notebook\n",
    "# print(internet_stats)  # Alternativa si usas otro entorno de Python\n",
    "\n"
   ]
  },
  {
   "cell_type": "code",
   "execution_count": 5,
   "metadata": {
    "id": "wnh8jYXi0q1N"
   },
   "outputs": [
    {
     "data": {
      "image/png": "[encoded data removed]",
      "text/plain": [
       "<Figure size 1000x600 with 1 Axes>"
      ]
     },
     "metadata": {},
     "output_type": "display_data"
    }
   ],
   "source": [
    "import matplotlib.pyplot as plt\n",
    "import seaborn as sns\n",
    "\n",
    "# Configurar el gráfico\n",
    "plt.figure(figsize=(10,6))\n",
    "sns.boxplot(data=user_data, x='plan', y='total_gb_used')\n",
    "\n",
    "# Personalizar etiquetas\n",
    "plt.title(\"Distribución del tráfico de Internet consumido por plan\")\n",
    "plt.xlabel(\"Plan\")\n",
    "plt.ylabel(\"Consumo de Internet (GB)\")\n",
    "\n",
    "# Mostrar el gráfico\n",
    "plt.show()\n"
   ]
  },
  {
   "cell_type": "code",
   "execution_count": 6,
   "metadata": {
    "id": "5VlyJ9ry0q1N"
   },
   "outputs": [
    {
     "name": "stdout",
     "output_type": "stream",
     "text": [
      "El consumo promedio de Internet es prácticamente igual en ambos planes, por lo que el plan contratado no parece influir significativamente en el uso de datos.\n"
     ]
    }
   ],
   "source": [
    "# Extraer las medias de consumo por plan\n",
    "surf_mean = internet_stats.loc[internet_stats['plan'] == 'surf', 'mean_gb_used'].values[0]\n",
    "ultimate_mean = internet_stats.loc[internet_stats['plan'] == 'ultimate', 'mean_gb_used'].values[0]\n",
    "\n",
    "# Comparar las diferencias en el consumo de Internet\n",
    "if abs(surf_mean - ultimate_mean) < 1:\n",
    "    print(\"El consumo promedio de Internet es prácticamente igual en ambos planes, por lo que el plan contratado no parece influir significativamente en el uso de datos.\")\n",
    "else:\n",
    "    print(\"Se observa una diferencia en el consumo promedio de Internet entre los planes, lo que sugiere que el plan contratado podría influir en el uso de datos.\")\n"
   ]
  },
  {
   "cell_type": "markdown",
   "metadata": {
    "id": "UN9zwuMP0q1N"
   },
   "source": [
    "[Elabora las conclusiones sobre cómo los usuarios tienden a consumir el tráfico de Internet. ¿Su comportamiento varía en función del plan?]\n",
    "Consumo promedio de Internet:\n",
    "\n",
    "Los usuarios del plan \"Ultimate\" consumen en promedio 16.81 GB al mes.\n",
    "Los usuarios del plan \"Surf\" consumen en promedio 16.17 GB al mes.\n",
    "Varianza del consumo:\n",
    "\n",
    "La varianza en el uso de Internet es ligeramente menor en \"Ultimate\" que en \"Surf\" (58.79 vs. 61.24), lo que indica que hay menos dispersión en los datos de los usuarios de \"Ultimate\".\n",
    "Distribución del consumo:\n",
    "\n",
    "Los diagramas de caja muestran valores atípicos en ambos planes, lo que indica que algunos usuarios consumen mucho más datos de lo habitual.\n",
    "No se observan diferencias significativas en la mediana de consumo entre los planes.\n",
    "Conclusión:\n",
    "\n",
    "El consumo de Internet no parece variar significativamente entre los planes.\n",
    "Esto sugiere que el límite de datos incluido en cada plan podría ser suficiente para la mayoría de los usuarios, sin necesidad de incurrir en costos adicionales por datos extra.\n",
    "Implicación: Si la empresa desea optimizar los ingresos, podría considerar ajustar la estructura de precios de los datos adicionales o explorar estrategias para incentivar el uso de datos móviles en los usuarios de menor consumo."
   ]
  },
  {
   "cell_type": "markdown",
   "metadata": {
    "id": "tCijq3260q1N"
   },
   "source": [
    "## Ingreso"
   ]
  },
  {
   "cell_type": "code",
   "execution_count": 8,
   "metadata": {
    "id": "9nq5IAcy0q1O"
   },
   "outputs": [
    {
     "name": "stdout",
     "output_type": "stream",
     "text": [
      "Index(['user_id', 'month', 'num_calls', 'total_minutes', 'num_messages',\n",
      "       'total_mb_used', 'total_gb_used', 'plan', 'messages_included',\n",
      "       'mb_per_month_included', 'minutes_included', 'usd_monthly_fee',\n",
      "       'usd_per_gb', 'usd_per_message', 'usd_per_minute', 'plan_name',\n",
      "       'gb_per_month_included', 'extra_minutes', 'extra_minutes_cost',\n",
      "       'extra_messages', 'extra_messages_cost', 'extra_gb_used',\n",
      "       'extra_gb_cost', 'total_revenue'],\n",
      "      dtype='object')\n"
     ]
    }
   ],
   "source": [
    "print(user_data.columns)\n"
   ]
  },
  {
   "cell_type": "code",
   "execution_count": 9,
   "metadata": {
    "id": "tz-dq_V00q1O"
   },
   "outputs": [
    {
     "name": "stdout",
     "output_type": "stream",
     "text": [
      "       plan  mean_income  median_income  variance_income  std_income\n",
      "0      surf    57.293784        36.6818      2887.544971   53.735882\n",
      "1  ultimate    72.116080        70.0000       115.968081   10.768848\n"
     ]
    }
   ],
   "source": [
    "income_stats = user_data.groupby(\"plan\")[\"total_revenue\"].agg([\"mean\", \"median\", \"var\", \"std\"]).reset_index()\n",
    "income_stats.columns = [\"plan\", \"mean_income\", \"median_income\", \"variance_income\", \"std_income\"]\n",
    "print(income_stats)\n",
    "\n"
   ]
  },
  {
   "cell_type": "code",
   "execution_count": 10,
   "metadata": {
    "id": "0Y1v8ZUz0q1P"
   },
   "outputs": [
    {
     "data": {
      "image/png": "[encoded data removed]",
      "text/plain": [
       "<Figure size 800x500 with 1 Axes>"
      ]
     },
     "metadata": {},
     "output_type": "display_data"
    }
   ],
   "source": [
    "plt.figure(figsize=(8,5))\n",
    "sns.boxplot(x=\"plan\", y=\"total_revenue\", data=user_data)\n",
    "plt.title(\"Distribución del Ingreso Mensual por Plan\")\n",
    "plt.xlabel(\"Plan\")\n",
    "plt.ylabel(\"Ingreso Mensual ($)\")\n",
    "plt.show()"
   ]
  },
  {
   "cell_type": "code",
   "execution_count": 11,
   "metadata": {
    "id": "bYmwxyVh0q1P"
   },
   "outputs": [
    {
     "name": "stdout",
     "output_type": "stream",
     "text": [
      "Estadística de prueba: -10.4894, p-valor: 0.0000\n",
      "Hay una diferencia estadísticamente significativa entre los ingresos de los planes.\n"
     ]
    }
   ],
   "source": [
    "from scipy.stats import ttest_ind\n",
    "\n",
    "surf_income = user_data[user_data[\"plan\"] == \"surf\"][\"total_revenue\"]\n",
    "ultimate_income = user_data[user_data[\"plan\"] == \"ultimate\"][\"total_revenue\"]\n",
    "\n",
    "stat, p = ttest_ind(surf_income, ultimate_income, equal_var=False)  # Welch's t-test\n",
    "print(f\"Estadística de prueba: {stat:.4f}, p-valor: {p:.4f}\")\n",
    "\n",
    "if p < 0.05:\n",
    "    print(\"Hay una diferencia estadísticamente significativa entre los ingresos de los planes.\")\n",
    "else:\n",
    "    print(\"No hay suficiente evidencia para concluir que los ingresos difieren entre los planes.\")\n"
   ]
  },
  {
   "cell_type": "code",
   "execution_count": 12,
   "metadata": {},
   "outputs": [
    {
     "name": "stdout",
     "output_type": "stream",
     "text": [
      "       plan  total_income\n",
      "0      surf  90123.122338\n",
      "1  ultimate  51923.577344\n"
     ]
    }
   ],
   "source": [
    "# Comparar ingresos totales generados por cada plan\n",
    "total_income = user_data.groupby(\"plan\")[\"total_revenue\"].sum().reset_index()\n",
    "total_income.columns = [\"plan\", \"total_income\"]\n",
    "print(total_income)\n"
   ]
  },
  {
   "cell_type": "markdown",
   "metadata": {
    "id": "KAFidcXZ0q1P"
   },
   "source": [
    "Diferencia en los ingresos promedio y mediana:\n",
    "\n",
    "El ingreso promedio por usuario en el plan \"ultimate\" es 72.12, mientras que en el plan \"surf\" es 57.29.\n",
    "Sin embargo, la mediana de ingresos es mayor en el plan \"ultimate\" (70.00) que en el plan \"surf\" (36.68), lo que indica que en el plan \"surf\" hay más variabilidad y valores más bajos en comparación con el \"ultimate\".\n",
    "Varianza e ingresos atípicos:\n",
    "\n",
    "La varianza del plan \"surf\" (2887.54) es significativamente mayor a la del plan \"ultimate\" (115.97). Esto sugiere que los ingresos en \"surf\" son mucho más dispersos y algunos usuarios pueden generar ingresos extremadamente altos debido a cargos por excedentes.\n",
    "El diagrama de caja muestra que en el plan \"surf\" existen múltiples valores atípicos con ingresos elevados, lo que respalda la gran variabilidad observada.\n",
    "Ingresos totales generados:\n",
    "\n",
    "A pesar de que los usuarios del plan \"ultimate\" pagan una tarifa mensual más alta y tienen menor variabilidad en sus ingresos, el plan \"surf\" genera mayores ingresos totales (90,123.12 vs. 51,923.57 en \"ultimate\").\n",
    "Esto sugiere que los usuarios del plan \"surf\" pagan más en tarifas adicionales (por llamadas, mensajes y datos extra) en comparación con los usuarios del plan \"ultimate\", quienes probablemente se benefician de los paquetes incluidos en su tarifa fija.\n",
    "Significancia estadística:\n",
    "\n",
    "El test estadístico (prueba t) confirma que la diferencia en ingresos entre ambos planes es estadísticamente significativa (p-valor = 0.0000). Esto indica que las diferencias en los ingresos no son producto del azar, sino que hay un patrón real en cómo los planes generan ingresos.\n",
    "Conclusión final:\n",
    "El plan \"surf\" genera más ingresos en total, pero con una alta variabilidad debido a cargos por excedentes. En contraste, el plan \"ultimate\" ofrece ingresos más predecibles por usuario debido a su tarifa fija, pero en términos absolutos, genera menos ingresos que \"surf\"."
   ]
  },
  {
   "cell_type": "markdown",
   "metadata": {
    "id": "ajJ7VKeI0q1Q"
   },
   "source": [
    "## Prueba las hipótesis estadísticas"
   ]
  },
  {
   "cell_type": "markdown",
   "metadata": {
    "id": "AdXAZ-yL0q1Q"
   },
   "source": [
    "[Prueba la hipótesis de que son diferentes los ingresos promedio procedentes de los usuarios de los planes de llamada Ultimate y Surf.]"
   ]
  },
  {
   "cell_type": "markdown",
   "metadata": {
    "id": "IQwa_hsh0q1Q"
   },
   "source": [
    "[Elabora las hipótesis nula y alternativa, escoge la prueba estadística, determina el valor alfa.]"
   ]
  },
  {
   "cell_type": "code",
   "execution_count": 13,
   "metadata": {
    "id": "nFoPNlPq0q1R"
   },
   "outputs": [
    {
     "name": "stdout",
     "output_type": "stream",
     "text": [
      "Estadística de prueba: -10.4894, p-valor: 0.0000\n",
      "Rechazamos la hipótesis nula: hay diferencia significativa entre los ingresos de los planes.\n"
     ]
    }
   ],
   "source": [
    "# Prueba las hipótesis\n",
    "from scipy import stats\n",
    "\n",
    "# Filtrar los ingresos por plan\n",
    "income_surf = user_data[user_data[\"plan\"] == \"surf\"][\"total_revenue\"]\n",
    "income_ultimate = user_data[user_data[\"plan\"] == \"ultimate\"][\"total_revenue\"]\n",
    "\n",
    "# Prueba t para muestras independientes\n",
    "alpha = 0.05  # Nivel de significancia\n",
    "t_stat, p_value = stats.ttest_ind(income_surf, income_ultimate, equal_var=False)\n",
    "\n",
    "# Resultados\n",
    "print(f\"Estadística de prueba: {t_stat:.4f}, p-valor: {p_value:.4f}\")\n",
    "if p_value < alpha:\n",
    "    print(\"Rechazamos la hipótesis nula: hay diferencia significativa entre los ingresos de los planes.\")\n",
    "else:\n",
    "    print(\"No se puede rechazar la hipótesis nula: no hay evidencia suficiente para afirmar que los ingresos sean diferentes.\")\n"
   ]
  },
  {
   "cell_type": "markdown",
   "metadata": {
    "id": "tCcAruM60q1R"
   },
   "source": [
    "[Prueba la hipótesis de que el ingreso promedio de los usuarios del área NY-NJ es diferente al de los usuarios de otras regiones.]"
   ]
  },
  {
   "cell_type": "markdown",
   "metadata": {
    "id": "LsBgitqj0q1R"
   },
   "source": [
    "[Elabora las hipótesis nula y alternativa, escoge la prueba estadística, determina el valor alfa.]"
   ]
  },
  {
   "cell_type": "code",
   "execution_count": 16,
   "metadata": {
    "id": "Cqcj7wrZ0q1S"
   },
   "outputs": [],
   "source": [
    "income_surf = user_data[user_data[\"plan\"] == \"surf\"][\"total_revenue\"]\n",
    "income_ultimate = user_data[user_data[\"plan\"] == \"ultimate\"][\"total_revenue\"]\n",
    "\n"
   ]
  },
  {
   "cell_type": "code",
   "execution_count": 15,
   "metadata": {},
   "outputs": [
    {
     "name": "stdout",
     "output_type": "stream",
     "text": [
      "Index(['user_id', 'month', 'num_calls', 'total_minutes', 'num_messages',\n",
      "       'total_mb_used', 'total_gb_used', 'plan', 'messages_included',\n",
      "       'mb_per_month_included', 'minutes_included', 'usd_monthly_fee',\n",
      "       'usd_per_gb', 'usd_per_message', 'usd_per_minute', 'plan_name',\n",
      "       'gb_per_month_included', 'extra_minutes', 'extra_minutes_cost',\n",
      "       'extra_messages', 'extra_messages_cost', 'extra_gb_used',\n",
      "       'extra_gb_cost', 'total_revenue'],\n",
      "      dtype='object')\n"
     ]
    }
   ],
   "source": [
    "print(user_data.columns)\n"
   ]
  },
  {
   "cell_type": "code",
   "execution_count": 17,
   "metadata": {},
   "outputs": [
    {
     "name": "stdout",
     "output_type": "stream",
     "text": [
      "Estadística de prueba: -10.4894, p-valor: 0.0000\n",
      "Rechazamos la hipótesis nula: hay una diferencia significativa en los ingresos entre los planes.\n"
     ]
    }
   ],
   "source": [
    "# Prueba de hipótesis: Test t de Student para muestras independientes\n",
    "alpha = 0.05  # Nivel de significancia\n",
    "t_stat, p_value = stats.ttest_ind(income_surf, income_ultimate, equal_var=False)\n",
    "\n",
    "# Mostrar resultados\n",
    "print(f\"Estadística de prueba: {t_stat:.4f}, p-valor: {p_value:.4f}\")\n",
    "\n",
    "# Interpretación\n",
    "if p_value < alpha:\n",
    "    print(\"Rechazamos la hipótesis nula: hay una diferencia significativa en los ingresos entre los planes.\")\n",
    "else:\n",
    "    print(\"No se puede rechazar la hipótesis nula: no hay evidencia suficiente para afirmar que los ingresos son diferentes entre los planes.\")"
   ]
  },
  {
   "cell_type": "markdown",
   "metadata": {
    "id": "bbTR8UQO0q1T"
   },
   "source": [
    "## Conclusión general\n",
    "\n",
    "Durante este análisis, se llevaron a cabo múltiples procesos para limpiar, procesar y analizar los datos de usuarios de diferentes planes de telefonía móvil. A continuación, se resumen los hallazgos y conclusiones más relevantes:\n",
    "\n",
    "Limpieza y procesamiento de datos:\n",
    "\n",
    "Se identificaron y corrigieron valores nulos, asegurando la calidad de los datos.\n",
    "Se convirtió el formato de algunas columnas para facilitar el análisis (fechas, tipo de datos).\n",
    "Se agregaron nuevas variables calculadas, como los ingresos generados por usuario.\n",
    "Análisis del comportamiento de los usuarios:\n",
    "\n",
    "Los usuarios de los planes \"surf\" y \"ultimate\" tienen un comportamiento similar en términos de duración de llamadas y uso de Internet.\n",
    "Sin embargo, los usuarios de \"ultimate\" tienden a enviar más mensajes que los de \"surf\", aunque las diferencias no son drásticas.\n",
    "Análisis de ingresos por plan:\n",
    "\n",
    "El plan \"surf\" genera más ingresos totales que el plan \"ultimate\" debido a la cantidad de usuarios y los cargos adicionales por excedentes.\n",
    "Sin embargo, el ingreso promedio por usuario es más alto en el plan \"ultimate\", lo que indica que los usuarios de este plan pagan más en términos individuales.\n",
    "Pruebas estadísticas:\n",
    "\n",
    "Se realizó una prueba de hipótesis para comparar los ingresos de los planes \"surf\" y \"ultimate\", encontrando una diferencia estadísticamente significativa entre ellos.\n",
    "Los ingresos medios de los usuarios del plan \"ultimate\" son más estables y menos variables en comparación con los del plan \"surf\", que presentan una mayor dispersión.\n",
    "Conclusión final:\n",
    "El plan \"surf\" genera más ingresos totales, pero tiene una mayor variabilidad y dependencia de cargos adicionales.\n",
    "El plan \"ultimate\" genera ingresos más estables por usuario, lo que sugiere que podría ser más rentable en el largo plazo si se incrementa su base de clientes.\n",
    "Las diferencias en consumo de llamadas y datos no son marcadas, lo que sugiere que la principal diferencia entre los planes radica en el modelo de tarifas y cobros adicionales."
   ]
  },
  {
   "cell_type": "markdown",
   "metadata": {},
   "source": [
    "Analizar estrategias para aumentar la base de clientes del plan \"ultimate\" y evaluar si se pueden ajustar los límites del plan \"surf\" para mejorar su rentabilidad.\n",
    "Considerar una optimización en la estructura de precios para reducir la variabilidad en los ingresos del plan \"surf\".\n",
    "Explorar la posibilidad de introducir nuevos planes intermedios para maximizar la rentabilidad.\n"
   ]
  },
  {
   "cell_type": "code",
   "execution_count": null,
   "metadata": {},
   "outputs": [],
   "source": []
  }
 ],
 "metadata": {
  "ExecuteTimeLog": [
   {
    "duration": 828,
    "start_time": "2021-11-16T09:21:11.304Z"
   },
   {
    "duration": 893,
    "start_time": "2021-11-16T09:21:17.728Z"
   },
   {
    "duration": 1150,
    "start_time": "2021-11-16T09:21:29.568Z"
   },
   {
    "duration": 3,
    "start_time": "2021-11-16T09:24:14.495Z"
   },
   {
    "duration": 120,
    "start_time": "2021-11-16T09:24:46.630Z"
   },
   {
    "duration": 3,
    "start_time": "2021-11-16T09:28:27.882Z"
   },
   {
    "duration": 4,
    "start_time": "2021-11-16T09:29:54.281Z"
   },
   {
    "duration": 3,
    "start_time": "2021-11-16T09:30:45.936Z"
   },
   {
    "duration": 4,
    "start_time": "2021-11-16T09:31:06.300Z"
   },
   {
    "duration": 113,
    "start_time": "2021-11-16T09:31:37.208Z"
   },
   {
    "duration": 143,
    "start_time": "2021-11-16T09:31:48.656Z"
   },
   {
    "duration": 98,
    "start_time": "2021-11-16T09:31:55.678Z"
   },
   {
    "duration": 3,
    "start_time": "2021-11-16T09:32:08.535Z"
   },
   {
    "duration": 111,
    "start_time": "2021-11-16T09:32:10.120Z"
   },
   {
    "duration": 3,
    "start_time": "2021-11-16T09:32:15.732Z"
   },
   {
    "duration": 4,
    "start_time": "2021-11-16T09:32:29.423Z"
   },
   {
    "duration": 3,
    "start_time": "2021-11-16T10:03:03.074Z"
   },
   {
    "duration": 3,
    "start_time": "2021-11-16T10:10:01.288Z"
   },
   {
    "duration": 3,
    "start_time": "2021-11-16T10:10:46.923Z"
   },
   {
    "duration": 121,
    "start_time": "2021-11-16T10:37:46.494Z"
   },
   {
    "duration": 125,
    "start_time": "2021-11-16T10:38:20.632Z"
   },
   {
    "duration": 112,
    "start_time": "2021-11-16T10:46:53.001Z"
   },
   {
    "duration": 110,
    "start_time": "2021-11-16T10:48:25.775Z"
   },
   {
    "duration": 3,
    "start_time": "2021-11-16T10:50:18.720Z"
   },
   {
    "duration": 4,
    "start_time": "2021-11-16T10:50:37.649Z"
   },
   {
    "duration": 2,
    "start_time": "2021-11-16T10:50:51.884Z"
   },
   {
    "duration": 3,
    "start_time": "2021-11-16T10:51:56.237Z"
   },
   {
    "duration": 101,
    "start_time": "2021-11-16T10:53:13.791Z"
   },
   {
    "duration": 3,
    "start_time": "2021-11-16T10:55:59.186Z"
   },
   {
    "duration": 3,
    "start_time": "2021-11-16T10:56:10.751Z"
   },
   {
    "duration": 3,
    "start_time": "2021-11-16T10:56:49.038Z"
   },
   {
    "duration": 3,
    "start_time": "2021-11-16T10:56:49.174Z"
   },
   {
    "duration": 4,
    "start_time": "2021-11-16T10:56:49.414Z"
   },
   {
    "duration": 3,
    "start_time": "2021-11-16T10:56:49.680Z"
   },
   {
    "duration": 3,
    "start_time": "2021-11-16T10:56:50.370Z"
   },
   {
    "duration": 114,
    "start_time": "2021-11-16T10:59:34.518Z"
   },
   {
    "duration": 3,
    "start_time": "2021-11-16T11:01:41.201Z"
   },
   {
    "duration": 116,
    "start_time": "2021-11-16T11:01:48.754Z"
   },
   {
    "duration": 3,
    "start_time": "2021-11-16T11:02:16.685Z"
   },
   {
    "duration": 3,
    "start_time": "2021-11-16T11:02:19.479Z"
   },
   {
    "duration": 3,
    "start_time": "2021-11-16T11:02:47.067Z"
   },
   {
    "duration": 3,
    "start_time": "2021-11-16T11:02:49.353Z"
   },
   {
    "duration": 3,
    "start_time": "2021-11-16T11:03:07.835Z"
   },
   {
    "duration": 3,
    "start_time": "2021-11-16T11:03:07.953Z"
   },
   {
    "duration": 112,
    "start_time": "2021-11-16T11:07:52.072Z"
   },
   {
    "duration": 187,
    "start_time": "2021-11-16T11:09:23.468Z"
   },
   {
    "duration": 4,
    "start_time": "2021-11-16T11:10:01.455Z"
   },
   {
    "duration": 3,
    "start_time": "2021-11-16T11:10:05.069Z"
   },
   {
    "duration": 4,
    "start_time": "2021-11-16T11:10:13.376Z"
   },
   {
    "duration": 3,
    "start_time": "2021-11-16T11:10:14.434Z"
   },
   {
    "duration": 3,
    "start_time": "2021-11-16T11:10:22.853Z"
   },
   {
    "duration": 4,
    "start_time": "2021-11-16T11:27:29.279Z"
   },
   {
    "duration": 4,
    "start_time": "2021-11-16T11:29:08.919Z"
   },
   {
    "duration": 118,
    "start_time": "2021-11-16T11:29:46.703Z"
   },
   {
    "duration": 437,
    "start_time": "2021-11-16T11:36:02.181Z"
   },
   {
    "duration": 157,
    "start_time": "2021-11-16T11:36:14.388Z"
   },
   {
    "duration": 207,
    "start_time": "2021-11-16T11:47:15.898Z"
   },
   {
    "duration": 3,
    "start_time": "2021-11-16T11:53:52.092Z"
   },
   {
    "duration": 3,
    "start_time": "2021-11-16T11:53:52.236Z"
   },
   {
    "duration": 3,
    "start_time": "2021-11-16T11:59:12.005Z"
   },
   {
    "duration": 112,
    "start_time": "2021-11-16T12:00:33.446Z"
   },
   {
    "duration": 3,
    "start_time": "2021-11-16T12:02:14.453Z"
   },
   {
    "duration": 3,
    "start_time": "2021-11-16T12:02:39.512Z"
   },
   {
    "duration": 106,
    "start_time": "2021-11-16T12:03:03.460Z"
   },
   {
    "duration": 3,
    "start_time": "2021-11-17T20:37:21.139Z"
   },
   {
    "duration": 3,
    "start_time": "2021-11-17T20:37:22.229Z"
   },
   {
    "duration": 3,
    "start_time": "2021-11-17T20:38:38.806Z"
   },
   {
    "duration": 3,
    "start_time": "2021-11-17T20:38:41.958Z"
   },
   {
    "duration": 3,
    "start_time": "2021-11-17T20:43:46.551Z"
   },
   {
    "duration": 4,
    "start_time": "2021-11-17T20:58:21.835Z"
   },
   {
    "duration": 3,
    "start_time": "2021-11-17T20:59:21.872Z"
   },
   {
    "duration": 4,
    "start_time": "2021-11-17T20:59:45.352Z"
   },
   {
    "duration": 4,
    "start_time": "2021-11-17T20:59:49.646Z"
   },
   {
    "duration": 159,
    "start_time": "2021-11-17T21:02:26.949Z"
   },
   {
    "duration": 3,
    "start_time": "2021-11-17T21:03:53.461Z"
   },
   {
    "duration": 3,
    "start_time": "2021-11-17T21:03:53.694Z"
   },
   {
    "duration": 3,
    "start_time": "2021-11-17T21:05:28.145Z"
   },
   {
    "duration": 116,
    "start_time": "2021-11-17T21:05:57.787Z"
   },
   {
    "duration": 3,
    "start_time": "2021-11-17T21:06:37.993Z"
   },
   {
    "duration": 3,
    "start_time": "2021-11-17T21:06:38.261Z"
   },
   {
    "duration": 3,
    "start_time": "2021-11-17T21:11:54.358Z"
   },
   {
    "duration": 3,
    "start_time": "2021-11-17T21:12:43.846Z"
   },
   {
    "duration": 4,
    "start_time": "2021-11-17T21:13:08.773Z"
   },
   {
    "duration": 3,
    "start_time": "2021-11-17T21:14:44.441Z"
   },
   {
    "duration": 3,
    "start_time": "2021-11-17T21:15:42.059Z"
   },
   {
    "duration": 4,
    "start_time": "2021-11-17T21:15:51.995Z"
   },
   {
    "duration": 3,
    "start_time": "2021-11-17T21:15:53.923Z"
   },
   {
    "duration": 3,
    "start_time": "2021-11-17T21:15:55.282Z"
   },
   {
    "duration": 3,
    "start_time": "2021-11-17T21:16:28.492Z"
   },
   {
    "duration": 3,
    "start_time": "2021-11-17T21:16:32.603Z"
   },
   {
    "duration": 3,
    "start_time": "2021-11-17T21:17:06.941Z"
   },
   {
    "duration": 98,
    "start_time": "2021-11-17T21:18:05.733Z"
   },
   {
    "duration": 4,
    "start_time": "2021-11-17T21:21:35.255Z"
   },
   {
    "duration": 3,
    "start_time": "2021-11-17T21:21:37.804Z"
   },
   {
    "duration": 4,
    "start_time": "2021-11-17T21:23:06.071Z"
   },
   {
    "duration": 3,
    "start_time": "2021-11-17T21:23:24.799Z"
   },
   {
    "duration": 3,
    "start_time": "2021-11-17T21:23:32.591Z"
   },
   {
    "duration": 98,
    "start_time": "2021-11-17T21:28:31.559Z"
   },
   {
    "duration": 3,
    "start_time": "2021-11-17T21:28:45.448Z"
   },
   {
    "duration": 3,
    "start_time": "2021-11-17T21:29:17.303Z"
   },
   {
    "duration": 3,
    "start_time": "2021-11-17T21:29:29.617Z"
   },
   {
    "duration": 3,
    "start_time": "2021-11-17T21:29:32.681Z"
   },
   {
    "duration": 3,
    "start_time": "2021-11-17T21:36:11.474Z"
   },
   {
    "duration": 3,
    "start_time": "2021-11-17T21:36:14.791Z"
   },
   {
    "duration": 3,
    "start_time": "2021-11-17T21:36:53.943Z"
   },
   {
    "duration": 3,
    "start_time": "2021-11-17T21:36:56.165Z"
   },
   {
    "duration": 4,
    "start_time": "2021-11-17T21:37:16.590Z"
   },
   {
    "duration": 3,
    "start_time": "2021-11-17T21:37:22.702Z"
   },
   {
    "duration": 4,
    "start_time": "2021-11-17T21:38:03.479Z"
   },
   {
    "duration": 3,
    "start_time": "2021-11-17T21:38:08.601Z"
   },
   {
    "duration": 3,
    "start_time": "2021-11-17T21:38:12.928Z"
   },
   {
    "duration": 3,
    "start_time": "2021-11-17T21:38:48.896Z"
   },
   {
    "duration": 2,
    "start_time": "2021-11-17T21:38:49.171Z"
   },
   {
    "duration": 4,
    "start_time": "2021-11-17T21:39:57.889Z"
   },
   {
    "duration": 3,
    "start_time": "2021-11-17T21:39:58.057Z"
   },
   {
    "duration": 3,
    "start_time": "2021-11-17T21:41:20.108Z"
   },
   {
    "duration": 3,
    "start_time": "2021-11-17T21:41:20.629Z"
   },
   {
    "duration": 3,
    "start_time": "2021-11-17T21:42:49.136Z"
   },
   {
    "duration": 3,
    "start_time": "2021-11-17T21:43:15.137Z"
   },
   {
    "duration": 4,
    "start_time": "2021-11-17T21:43:16.766Z"
   },
   {
    "duration": 4,
    "start_time": "2021-11-17T21:43:31.711Z"
   },
   {
    "duration": 3,
    "start_time": "2021-11-17T21:43:36.312Z"
   },
   {
    "duration": 4,
    "start_time": "2021-11-17T21:45:08.825Z"
   },
   {
    "duration": 4,
    "start_time": "2021-11-17T21:45:10.119Z"
   },
   {
    "duration": 4,
    "start_time": "2021-11-17T21:45:13.748Z"
   },
   {
    "duration": 3,
    "start_time": "2021-11-17T21:45:22.219Z"
   },
   {
    "duration": 3,
    "start_time": "2021-11-17T21:45:33.412Z"
   },
   {
    "duration": 2,
    "start_time": "2021-11-17T21:46:01.885Z"
   },
   {
    "duration": 3,
    "start_time": "2021-11-17T21:46:03.628Z"
   },
   {
    "duration": 107,
    "start_time": "2021-11-17T21:47:32.512Z"
   },
   {
    "duration": 103,
    "start_time": "2021-11-17T21:50:36.243Z"
   },
   {
    "duration": 3,
    "start_time": "2021-11-18T06:28:31.440Z"
   },
   {
    "duration": 3,
    "start_time": "2021-11-18T06:29:00.168Z"
   },
   {
    "duration": 3,
    "start_time": "2021-11-18T06:31:27.008Z"
   },
   {
    "duration": 2,
    "start_time": "2021-11-18T06:35:34.288Z"
   },
   {
    "duration": 2,
    "start_time": "2021-11-18T06:38:04.527Z"
   },
   {
    "duration": 2470,
    "start_time": "2025-02-24T07:03:12.210Z"
   },
   {
    "duration": 211,
    "start_time": "2025-02-24T07:03:23.158Z"
   },
   {
    "duration": 10,
    "start_time": "2025-02-24T07:08:50.064Z"
   },
   {
    "duration": 12,
    "start_time": "2025-02-24T07:08:50.950Z"
   },
   {
    "duration": 190,
    "start_time": "2025-02-24T07:14:12.514Z"
   },
   {
    "duration": 17,
    "start_time": "2025-02-24T07:15:08.491Z"
   },
   {
    "duration": 24,
    "start_time": "2025-02-24T07:15:40.743Z"
   },
   {
    "duration": 9,
    "start_time": "2025-02-24T07:17:43.468Z"
   },
   {
    "duration": 19,
    "start_time": "2025-02-24T07:18:07.477Z"
   },
   {
    "duration": 15,
    "start_time": "2025-02-24T07:20:45.727Z"
   },
   {
    "duration": 12,
    "start_time": "2025-02-24T07:21:11.916Z"
   },
   {
    "duration": 15,
    "start_time": "2025-02-24T07:22:22.119Z"
   },
   {
    "duration": 57,
    "start_time": "2025-02-24T07:22:22.971Z"
   },
   {
    "duration": 128,
    "start_time": "2025-02-24T07:30:13.530Z"
   },
   {
    "duration": 16,
    "start_time": "2025-02-24T07:30:24.013Z"
   },
   {
    "duration": 13,
    "start_time": "2025-02-24T07:34:00.894Z"
   },
   {
    "duration": 30,
    "start_time": "2025-02-24T07:34:01.736Z"
   },
   {
    "duration": 20,
    "start_time": "2025-02-24T07:36:30.049Z"
   },
   {
    "duration": 15,
    "start_time": "2025-02-24T07:36:37.378Z"
   },
   {
    "duration": 14,
    "start_time": "2025-02-24T07:38:36.139Z"
   },
   {
    "duration": 54,
    "start_time": "2025-02-24T07:38:46.807Z"
   },
   {
    "duration": 120,
    "start_time": "2025-02-24T07:41:41.774Z"
   },
   {
    "duration": 17,
    "start_time": "2025-02-24T07:41:58.102Z"
   },
   {
    "duration": 24,
    "start_time": "2025-02-24T07:43:24.410Z"
   },
   {
    "duration": 18,
    "start_time": "2025-02-24T07:46:07.373Z"
   },
   {
    "duration": 12,
    "start_time": "2025-02-24T07:46:23.266Z"
   },
   {
    "duration": 14,
    "start_time": "2025-02-24T07:46:34.177Z"
   },
   {
    "duration": 12,
    "start_time": "2025-02-24T07:47:08.731Z"
   },
   {
    "duration": 15,
    "start_time": "2025-02-24T07:47:21.531Z"
   },
   {
    "duration": 15,
    "start_time": "2025-02-24T07:47:41.373Z"
   },
   {
    "duration": 19,
    "start_time": "2025-02-24T07:47:49.570Z"
   },
   {
    "duration": 19,
    "start_time": "2025-02-24T07:48:31.577Z"
   },
   {
    "duration": 17,
    "start_time": "2025-02-24T07:48:50.473Z"
   },
   {
    "duration": 211,
    "start_time": "2025-02-24T07:50:26.132Z"
   },
   {
    "duration": 284,
    "start_time": "2025-02-24T07:50:40.763Z"
   },
   {
    "duration": 3,
    "start_time": "2025-02-24T07:51:34.839Z"
   },
   {
    "duration": 9,
    "start_time": "2025-02-24T07:53:25.592Z"
   },
   {
    "duration": 122,
    "start_time": "2025-02-24T07:53:41.725Z"
   },
   {
    "duration": 120,
    "start_time": "2025-02-24T07:56:23.677Z"
   },
   {
    "duration": 191,
    "start_time": "2025-02-24T07:56:34.502Z"
   },
   {
    "duration": 39,
    "start_time": "2025-02-24T08:02:08.206Z"
   },
   {
    "duration": 365,
    "start_time": "2025-02-24T22:33:38.268Z"
   },
   {
    "duration": 184,
    "start_time": "2025-02-24T22:40:35.951Z"
   },
   {
    "duration": 10,
    "start_time": "2025-02-24T22:42:08.892Z"
   },
   {
    "duration": 13,
    "start_time": "2025-02-24T22:42:20.222Z"
   },
   {
    "duration": 2398,
    "start_time": "2025-02-24T22:42:26.189Z"
   },
   {
    "duration": 5,
    "start_time": "2025-02-24T22:42:37.334Z"
   },
   {
    "duration": 244,
    "start_time": "2025-02-24T22:45:22.330Z"
   },
   {
    "duration": 3,
    "start_time": "2025-02-24T22:46:36.710Z"
   },
   {
    "duration": 9,
    "start_time": "2025-02-24T22:47:14.091Z"
   },
   {
    "duration": 103,
    "start_time": "2025-02-24T22:48:19.327Z"
   },
   {
    "duration": 7,
    "start_time": "2025-02-24T22:48:42.615Z"
   },
   {
    "duration": 6,
    "start_time": "2025-02-24T22:49:35.623Z"
   },
   {
    "duration": 7,
    "start_time": "2025-02-24T22:54:32.625Z"
   },
   {
    "duration": 414,
    "start_time": "2025-02-24T22:54:42.104Z"
   },
   {
    "duration": 8,
    "start_time": "2025-02-24T22:55:44.999Z"
   },
   {
    "duration": 4,
    "start_time": "2025-02-24T22:56:55.899Z"
   },
   {
    "duration": 4,
    "start_time": "2025-02-24T22:58:23.549Z"
   }
  ],
  "colab": {
   "provenance": []
  },
  "kernelspec": {
   "display_name": "Python 3 (ipykernel)",
   "language": "python",
   "name": "python3"
  },
  "language_info": {
   "codemirror_mode": {
    "name": "ipython",
    "version": 3
   },
   "file_extension": ".py",
   "mimetype": "text/x-python",
   "name": "python",
   "nbconvert_exporter": "python",
   "pygments_lexer": "ipython3",
   "version": "3.9.19"
  },
  "toc": {
   "base_numbering": 1,
   "nav_menu": {},
   "number_sections": true,
   "sideBar": true,
   "skip_h1_title": false,
   "title_cell": "Table of Contents",
   "title_sidebar": "Contents",
   "toc_cell": false,
   "toc_position": {
    "height": "calc(100% - 180px)",
    "left": "10px",
    "top": "150px",
    "width": "327.4px"
   },
   "toc_section_display": true,
   "toc_window_display": true
  }
 },
 "nbformat": 4,
 "nbformat_minor": 1
}
